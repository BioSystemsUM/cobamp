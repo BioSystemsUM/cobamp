{
 "cells": [
  {
   "cell_type": "markdown",
   "metadata": {},
   "source": [
    "# MCS enumeration in the ecoli_core_model\n",
    "\n",
    "This notebook provides an example on how to use *metaconvexpy* to calculate minimal cut sets coupled with the model reading and flux analysis capabilities of the *COBRApy* package."
   ]
  },
  {
   "cell_type": "markdown",
   "metadata": {},
   "source": [
    "## Model reading and setup"
   ]
  },
  {
   "cell_type": "markdown",
   "metadata": {},
   "source": [
    "Download the model in SBML format from the BiGG models repository. In this example we use the central carbon metabolic model of *Escherichia coli*, downloaded and stored in a temporary folder/path stored as *model_path*"
   ]
  },
  {
   "cell_type": "code",
   "execution_count": 1,
   "metadata": {},
   "outputs": [],
   "source": [
    "import urllib\n",
    "\n",
    "model_url = \"http://bigg.ucsd.edu/static/models/e_coli_core.xml\"\n",
    "model_path, model_content = urllib.request.urlretrieve(model_url)"
   ]
  },
  {
   "cell_type": "markdown",
   "metadata": {},
   "source": [
    "Read the SBML temporary file generated from the HTTP request content and generate a COBRA Model object from it. Two functions are defined to assist in further analyses:\n",
    "* *revert_bounds* - restores all reaction bounds to their original values\n",
    "* *apply_kos(**kos**)* - knockout reactions contained in *kos* (any iterable containing reaction IDs)"
   ]
  },
  {
   "cell_type": "code",
   "execution_count": 2,
   "metadata": {
    "scrolled": false
   },
   "outputs": [
    {
     "data": {
      "text/html": [
       "\n",
       "        <table>\n",
       "            <tr>\n",
       "                <td><strong>Name</strong></td>\n",
       "                <td>e_coli_core</td>\n",
       "            </tr><tr>\n",
       "                <td><strong>Memory address</strong></td>\n",
       "                <td>0x07f23d7fd1198</td>\n",
       "            </tr><tr>\n",
       "                <td><strong>Number of metabolites</strong></td>\n",
       "                <td>72</td>\n",
       "            </tr><tr>\n",
       "                <td><strong>Number of reactions</strong></td>\n",
       "                <td>95</td>\n",
       "            </tr><tr>\n",
       "                <td><strong>Objective expression</strong></td>\n",
       "                <td>-1.0*BIOMASS_Ecoli_core_w_GAM_reverse_712e5 + 1.0*BIOMASS_Ecoli_core_w_GAM</td>\n",
       "            </tr><tr>\n",
       "                <td><strong>Compartments</strong></td>\n",
       "                <td>cytosol, extracellular space</td>\n",
       "            </tr>\n",
       "          </table>"
      ],
      "text/plain": [
       "<Model e_coli_core at 0x7f23d7fd1198>"
      ]
     },
     "execution_count": 2,
     "metadata": {},
     "output_type": "execute_result"
    }
   ],
   "source": [
    "import cobra\n",
    "\n",
    "model = cobra.io.sbml3.read_sbml_model(model_path)\n",
    "model_bounds = {r.id:(r.lower_bound, r.upper_bound) for r in model.reactions}\n",
    "\n",
    "def revert_bounds():\n",
    "    for r in model.reactions:\n",
    "        r.lower_bound, r.upper_bound = model_bounds[r.id]\n",
    "\n",
    "def apply_kos(kos):\n",
    "    for ko in kos:\n",
    "        model.reactions.get_by_id(ko).knock_out()\n",
    "        \n",
    "model"
   ]
  },
  {
   "cell_type": "markdown",
   "metadata": {},
   "source": [
    "Extracting environmental conditions from the model, assuming the maximum capacity constant $N$ ($N=1000$). This assumed the media is defined when a lower or upper bound is different than 0, $N$ or $-N$.\n",
    "\n",
    "This will be needed some steps further for the MCSEnumerator approach."
   ]
  },
  {
   "cell_type": "code",
   "execution_count": 3,
   "metadata": {
    "scrolled": true
   },
   "outputs": [
    {
     "data": {
      "text/plain": [
       "{'ATPM': (8.39, 1000.0), 'EX_glc__D_e': (-10.0, 1000.0)}"
      ]
     },
     "execution_count": 3,
     "metadata": {},
     "output_type": "execute_result"
    }
   ],
   "source": [
    "{r.id:(r.lower_bound, r.upper_bound) \n",
    " for r in model.reactions \n",
    " if (r.lower_bound not in [-1000, 0]) or (r.upper_bound not in [0, 1000])}"
   ]
  },
  {
   "cell_type": "markdown",
   "metadata": {},
   "source": [
    "## Import *metaconvexpy* and enumerate minimal cut sets"
   ]
  },
  {
   "cell_type": "markdown",
   "metadata": {},
   "source": [
    "Import the MCSEnumerator wrapper class (KShortestMCSEnumeratorWrapper) that works with COBRA models. *KShortestMCSEnumeratorWrapper* provides a simple interface to enumerate minimal cut sets (MCSs) using the K-shortest algorithm (commonly referred to as the MCSEnumerator approach).\n",
    "\n",
    "MCSs are sets of reactions that disable a certain phenotype in a model. This phenotype is defined as a set of flux or yield constraints. In this example, we will enumerate some MCSs."
   ]
  },
  {
   "cell_type": "code",
   "execution_count": 4,
   "metadata": {},
   "outputs": [],
   "source": [
    "from src.metaconvexpy.utilities.external_wrappers import KShortestMCSEnumeratorWrapper"
   ]
  },
  {
   "cell_type": "markdown",
   "metadata": {},
   "source": [
    "Define the region of the flux space that the MCSs are supposed to block. In this scenario, we are attempting to improve succinate production using glucose as a carbon source. The following IDs are required:\n",
    "* Succinate exchange : 'EX_succ_e'\n",
    "* Glucose exchange: 'EX_glc__D_e'\n",
    "* Maintenance ATP: 'ATPM'\n",
    "\n",
    "As such, we wish to block low production phenotypes by adding a lower bound on the yield between succinate and glucose. Since the latter is only consumed, we assume its flux value is always negative. Thus, we want yields to be as low as possible, hence the lower bound definition."
   ]
  },
  {
   "cell_type": "code",
   "execution_count": 5,
   "metadata": {},
   "outputs": [],
   "source": [
    "yield_space = {\n",
    "   #('product_id'),('substrate_id'):(lower_bound, upper_bound, deviation - set to zero for most cases)\n",
    "    ('EX_succ_e','EX_glc__D_e'):(-0.001, None, 0), \n",
    "}\n",
    "\n",
    "flux_space = {\n",
    "   # flux id     : (lower_bound, upper_bound)\n",
    "    'EX_glc__D_e': (-10, None),\n",
    "    'ATPM' : (8.39, None)\n",
    "}"
   ]
  },
  {
   "cell_type": "markdown",
   "metadata": {},
   "source": [
    "Having defined the flux space, we can now start the algorithm. The wrapper for MCSEnumerator requires the following parameters:\n",
    "* *model*: A model instance from COBRA, framed or any other framework if a ModelReader subclass is implemented for it and added to the list of readers\n",
    "* *target_flux_space_dict*: A dictionary (str -> tuple(float, float)) mapping reaction identifiers to flux bounds representing the target flux space for minimal cut sets.\n",
    "* *target_yield_space_dict*: A dictionary ((str, str) -> tuple(float, float, float)) mapping product/substrate pairs to a lower and upper bound for the yield constraint between both fluxes and a deviation value for the constraint.\n",
    "* *algorithm_type*: Can be one of two values:\n",
    "    * Enumerate one size at a time: *KShortestMCSEnumeratorWrapper.ALGORITHM_TYPE_POPULATE*\n",
    "    * Enumerate one solution at a time: *KShortestMCSEnumeratorWrapper.ALGORITHM_TYPE_ITERATIVE*\n",
    "* *stop_criteria*: An integer defining the maximum number of iterations. If the POPULATE routine is used, the algorithm will yield all solutions that have size <stop_criteria> and below. On the other hand, if ITERATIVE is used, the algorithm will yield the <stop_criteria>-shortest solutions."
   ]
  },
  {
   "cell_type": "code",
   "execution_count": 6,
   "metadata": {},
   "outputs": [],
   "source": [
    "ksefm = KShortestMCSEnumeratorWrapper(\n",
    "    model=model,\n",
    "    target_flux_space_dict=flux_space, \n",
    "    target_yield_space_dict=yield_space, \n",
    "    algorithm_type=KShortestMCSEnumeratorWrapper.ALGORITHM_TYPE_POPULATE, \n",
    "    stop_criteria=5)"
   ]
  },
  {
   "cell_type": "markdown",
   "metadata": {},
   "source": [
    "The MILP problems aren't actually run once the KShortestMCSEnumeratorWrapper instance is created. To obtain the solutions, the .get_enumerator() method must be called. This method returns a generator that can be called in several ways."
   ]
  },
  {
   "cell_type": "code",
   "execution_count": 7,
   "metadata": {},
   "outputs": [],
   "source": [
    "enumerator = ksefm.get_enumerator()"
   ]
  },
  {
   "cell_type": "markdown",
   "metadata": {},
   "source": [
    "Depending on time constraints, one can interactively call the *next* function on the enumerator so it iterates just once. This is useful when the problem is large or when exploring new constraints."
   ]
  },
  {
   "cell_type": "code",
   "execution_count": 8,
   "metadata": {
    "scrolled": false
   },
   "outputs": [
    {
     "name": "stdout",
     "output_type": "stream",
     "text": [
      "Starting size 1\n"
     ]
    }
   ],
   "source": [
    "solutions = next(enumerator)"
   ]
  },
  {
   "cell_type": "markdown",
   "metadata": {},
   "source": [
    "Solutions are always lists of dictionaries mapping fluxes with values for all active fluxes. For MCSs, one simply has to obtain the dictionary keys for all elements of the list"
   ]
  },
  {
   "cell_type": "code",
   "execution_count": 9,
   "metadata": {
    "scrolled": false
   },
   "outputs": [
    {
     "data": {
      "text/plain": [
       "[{'ATPM'},\n",
       " {'GLCpts'},\n",
       " {'EX_glc__D_e'},\n",
       " {'GAPD'},\n",
       " {'PGK'},\n",
       " {'ENO'},\n",
       " {'PGM'},\n",
       " {'EX_h2o_e'},\n",
       " {'GLUSy', 'H2Ot'},\n",
       " {'EX_succ_e'},\n",
       " {'SUCCt3'},\n",
       " {'EX_h_e'},\n",
       " {'NADH16'}]"
      ]
     },
     "execution_count": 9,
     "metadata": {},
     "output_type": "execute_result"
    }
   ],
   "source": [
    "mcs = [set(d.keys()) for d in solutions]\n",
    "mcs"
   ]
  },
  {
   "cell_type": "markdown",
   "metadata": {},
   "source": [
    "Unlike the previous approach, we can try and extensively enumerate all MCSs. We must redefine the enumerator as it already iterated once. We can import the *chain* function and use it to get a list of solutions until the stop criteria is reached."
   ]
  },
  {
   "cell_type": "code",
   "execution_count": 10,
   "metadata": {},
   "outputs": [],
   "source": [
    "enumerator = ksefm.get_enumerator()"
   ]
  },
  {
   "cell_type": "code",
   "execution_count": 11,
   "metadata": {},
   "outputs": [
    {
     "name": "stdout",
     "output_type": "stream",
     "text": [
      "Starting size 1\n",
      "Starting size 2\n",
      "Starting size 3\n",
      "Starting size 4\n",
      "Starting size 5\n"
     ]
    }
   ],
   "source": [
    "from itertools import chain\n",
    "solutions = list(chain(*ksefm.get_enumerator()))"
   ]
  },
  {
   "cell_type": "code",
   "execution_count": 12,
   "metadata": {
    "scrolled": true
   },
   "outputs": [
    {
     "data": {
      "text/plain": [
       "[{'GLCpts'},\n",
       " {'EX_glc__D_e'},\n",
       " {'GAPD'},\n",
       " {'PGK'},\n",
       " {'ENO'},\n",
       " {'PGM'},\n",
       " {'EX_h2o_e'},\n",
       " {'GLUSy', 'H2Ot'},\n",
       " {'EX_succ_e'}]"
      ]
     },
     "execution_count": 12,
     "metadata": {},
     "output_type": "execute_result"
    }
   ],
   "source": [
    "mcs = [set(e.keys()) for e in solutions]\n",
    "mcs[1:10]"
   ]
  },
  {
   "cell_type": "markdown",
   "metadata": {},
   "source": [
    "## Constraint-based analysis of mutant phenotypes"
   ]
  },
  {
   "cell_type": "markdown",
   "metadata": {},
   "source": [
    "In this format, we can easily use COBRA to analyse these knockouts. In this snippet, a dictionary is created to store various simulation values obtained after applying the reaction knockouts suggested by the MCSs. These are:\n",
    "* *product_minimum* and *product_maximum* - Flux range for succinate production\n",
    "* *max_growth* - Maximum growth rate\n",
    "* *product_at_max_growth* - Predicted production rate at maximum growth\n",
    "* *glucose_consumption* - Glucose consumption rate at maximum growth"
   ]
  },
  {
   "cell_type": "code",
   "execution_count": 13,
   "metadata": {},
   "outputs": [],
   "source": [
    "def analyse(kos):\n",
    "    apply_kos(kos)\n",
    "    try:\n",
    "        sol = model.optimize()\n",
    "\n",
    "        biomass = sol.fluxes.BIOMASS_Ecoli_core_w_GAM\n",
    "        product = sol.fluxes.EX_succ_e\n",
    "        substrate = sol.fluxes.EX_glc__D_e\n",
    "        fva = cobra.flux_analysis.variability.flux_variability_analysis(model, reaction_list=['EX_succ_e']).loc['EX_succ_e',:]\n",
    "        \n",
    "        return {\n",
    "        'product_maximum': fva['maximum'],\n",
    "        'product_minimum': fva['minimum'],\n",
    "        'max_growth': biomass,\n",
    "        'product_at_max_growth':product,\n",
    "        'glucose_consumption': substrate\n",
    "        }\n",
    "    \n",
    "    except:\n",
    "        pass\n",
    "    finally:\n",
    "        revert_bounds()\n",
    "    return "
   ]
  },
  {
   "cell_type": "markdown",
   "metadata": {},
   "source": [
    "*pandas* can be used to store these values as a dataframe for easier manipulation and analysis "
   ]
  },
  {
   "cell_type": "code",
   "execution_count": 14,
   "metadata": {},
   "outputs": [
    {
     "name": "stderr",
     "output_type": "stream",
     "text": [
      "cobra/util/solver.py:408 \u001b[1;31mUserWarning\u001b[0m: solver status is 'infeasible'\n"
     ]
    }
   ],
   "source": [
    "import pandas as pd\n",
    "\n",
    "df = pd.DataFrame({frozenset(ko): analyse(ko) for ko in mcs}).T"
   ]
  },
  {
   "cell_type": "markdown",
   "metadata": {},
   "source": [
    "Solutions with null or very low growth, as well as solutions with very low production rates are filtered out. This way, only the best candidates are displayed"
   ]
  },
  {
   "cell_type": "code",
   "execution_count": 15,
   "metadata": {},
   "outputs": [
    {
     "data": {
      "text/html": [
       "<div>\n",
       "<style scoped>\n",
       "    .dataframe tbody tr th:only-of-type {\n",
       "        vertical-align: middle;\n",
       "    }\n",
       "\n",
       "    .dataframe tbody tr th {\n",
       "        vertical-align: top;\n",
       "    }\n",
       "\n",
       "    .dataframe thead th {\n",
       "        text-align: right;\n",
       "    }\n",
       "</style>\n",
       "<table border=\"1\" class=\"dataframe\">\n",
       "  <thead>\n",
       "    <tr style=\"text-align: right;\">\n",
       "      <th></th>\n",
       "      <th>glucose_consumption</th>\n",
       "      <th>max_growth</th>\n",
       "      <th>product_at_max_growth</th>\n",
       "      <th>product_maximum</th>\n",
       "      <th>product_minimum</th>\n",
       "    </tr>\n",
       "  </thead>\n",
       "  <tbody>\n",
       "    <tr>\n",
       "      <th>(O2t, PPS, D_LACt2, PYRt2, ACALD)</th>\n",
       "      <td>-10</td>\n",
       "      <td>0.110886</td>\n",
       "      <td>9.09864</td>\n",
       "      <td>9.09864</td>\n",
       "      <td>9.09864</td>\n",
       "    </tr>\n",
       "    <tr>\n",
       "      <th>(ADK1, EX_pyr_e, EX_lac__D_e, O2t, ACALD)</th>\n",
       "      <td>-10</td>\n",
       "      <td>0.110886</td>\n",
       "      <td>9.09864</td>\n",
       "      <td>9.09864</td>\n",
       "      <td>9.09864</td>\n",
       "    </tr>\n",
       "    <tr>\n",
       "      <th>(ADK1, EX_pyr_e, CYTBD, LDH_D, ACALD)</th>\n",
       "      <td>-10</td>\n",
       "      <td>0.110886</td>\n",
       "      <td>9.09864</td>\n",
       "      <td>9.09864</td>\n",
       "      <td>9.09864</td>\n",
       "    </tr>\n",
       "    <tr>\n",
       "      <th>(EX_pyr_e, EX_lac__D_e, PPS, EX_o2_e, ACALD)</th>\n",
       "      <td>-10</td>\n",
       "      <td>0.110886</td>\n",
       "      <td>9.09864</td>\n",
       "      <td>9.09864</td>\n",
       "      <td>9.09864</td>\n",
       "    </tr>\n",
       "    <tr>\n",
       "      <th>(EX_pyr_e, ACALD, PPS, EX_o2_e, D_LACt2)</th>\n",
       "      <td>-10</td>\n",
       "      <td>0.110886</td>\n",
       "      <td>9.09864</td>\n",
       "      <td>9.09864</td>\n",
       "      <td>9.09864</td>\n",
       "    </tr>\n",
       "    <tr>\n",
       "      <th>(ADK1, CYTBD, D_LACt2, PYRt2, ACALD)</th>\n",
       "      <td>-10</td>\n",
       "      <td>0.110886</td>\n",
       "      <td>9.09864</td>\n",
       "      <td>9.09864</td>\n",
       "      <td>9.09864</td>\n",
       "    </tr>\n",
       "    <tr>\n",
       "      <th>(ADK1, EX_lac__D_e, CYTBD, PYRt2, ACALD)</th>\n",
       "      <td>-10</td>\n",
       "      <td>0.110886</td>\n",
       "      <td>9.09864</td>\n",
       "      <td>9.09864</td>\n",
       "      <td>9.09864</td>\n",
       "    </tr>\n",
       "    <tr>\n",
       "      <th>(ADK1, O2t, LDH_D, PYRt2, ACALD)</th>\n",
       "      <td>-10</td>\n",
       "      <td>0.110886</td>\n",
       "      <td>9.09864</td>\n",
       "      <td>9.09864</td>\n",
       "      <td>9.09864</td>\n",
       "    </tr>\n",
       "    <tr>\n",
       "      <th>(ADK1, O2t, EX_lac__D_e, PYRt2, ACALD)</th>\n",
       "      <td>-10</td>\n",
       "      <td>0.110886</td>\n",
       "      <td>9.09864</td>\n",
       "      <td>9.09864</td>\n",
       "      <td>9.09864</td>\n",
       "    </tr>\n",
       "    <tr>\n",
       "      <th>(ADK1, EX_pyr_e, O2t, D_LACt2, ACALD)</th>\n",
       "      <td>-10</td>\n",
       "      <td>0.110886</td>\n",
       "      <td>9.09864</td>\n",
       "      <td>9.09864</td>\n",
       "      <td>9.09864</td>\n",
       "    </tr>\n",
       "    <tr>\n",
       "      <th>(ADK1, EX_pyr_e, D_LACt2, CYTBD, ACALD)</th>\n",
       "      <td>-10</td>\n",
       "      <td>0.110886</td>\n",
       "      <td>9.09864</td>\n",
       "      <td>9.09864</td>\n",
       "      <td>9.09864</td>\n",
       "    </tr>\n",
       "    <tr>\n",
       "      <th>(ADK1, CYTBD, LDH_D, PYRt2, ACALD)</th>\n",
       "      <td>-10</td>\n",
       "      <td>0.110886</td>\n",
       "      <td>9.09864</td>\n",
       "      <td>9.09864</td>\n",
       "      <td>9.09864</td>\n",
       "    </tr>\n",
       "    <tr>\n",
       "      <th>(ADK1, O2t, D_LACt2, PYRt2, ACALD)</th>\n",
       "      <td>-10</td>\n",
       "      <td>0.110886</td>\n",
       "      <td>9.09864</td>\n",
       "      <td>9.09864</td>\n",
       "      <td>9.09864</td>\n",
       "    </tr>\n",
       "    <tr>\n",
       "      <th>(ADK1, EX_o2_e, EX_lac__D_e, PYRt2, ACALD)</th>\n",
       "      <td>-10</td>\n",
       "      <td>0.110886</td>\n",
       "      <td>9.09864</td>\n",
       "      <td>9.09864</td>\n",
       "      <td>9.09864</td>\n",
       "    </tr>\n",
       "    <tr>\n",
       "      <th>(O2t, EX_lac__D_e, PPS, PYRt2, ACALD)</th>\n",
       "      <td>-10</td>\n",
       "      <td>0.110886</td>\n",
       "      <td>9.09864</td>\n",
       "      <td>9.09864</td>\n",
       "      <td>9.09864</td>\n",
       "    </tr>\n",
       "    <tr>\n",
       "      <th>(ADK1, EX_o2_e, LDH_D, PYRt2, ACALD)</th>\n",
       "      <td>-10</td>\n",
       "      <td>0.110886</td>\n",
       "      <td>9.09864</td>\n",
       "      <td>9.09864</td>\n",
       "      <td>9.09864</td>\n",
       "    </tr>\n",
       "    <tr>\n",
       "      <th>(ADK1, EX_o2_e, D_LACt2, PYRt2, ACALD)</th>\n",
       "      <td>-10</td>\n",
       "      <td>0.110886</td>\n",
       "      <td>9.09864</td>\n",
       "      <td>9.09864</td>\n",
       "      <td>9.09864</td>\n",
       "    </tr>\n",
       "    <tr>\n",
       "      <th>(EX_lac__D_e, CYTBD, PPS, PYRt2, ACALD)</th>\n",
       "      <td>-10</td>\n",
       "      <td>0.110886</td>\n",
       "      <td>9.09864</td>\n",
       "      <td>9.09864</td>\n",
       "      <td>9.09864</td>\n",
       "    </tr>\n",
       "    <tr>\n",
       "      <th>(EX_pyr_e, PPS, EX_o2_e, LDH_D, ACALD)</th>\n",
       "      <td>-10</td>\n",
       "      <td>0.110886</td>\n",
       "      <td>9.09864</td>\n",
       "      <td>9.09864</td>\n",
       "      <td>9.09864</td>\n",
       "    </tr>\n",
       "  </tbody>\n",
       "</table>\n",
       "</div>"
      ],
      "text/plain": [
       "                                             glucose_consumption max_growth  \\\n",
       "(O2t, PPS, D_LACt2, PYRt2, ACALD)                            -10   0.110886   \n",
       "(ADK1, EX_pyr_e, EX_lac__D_e, O2t, ACALD)                    -10   0.110886   \n",
       "(ADK1, EX_pyr_e, CYTBD, LDH_D, ACALD)                        -10   0.110886   \n",
       "(EX_pyr_e, EX_lac__D_e, PPS, EX_o2_e, ACALD)                 -10   0.110886   \n",
       "(EX_pyr_e, ACALD, PPS, EX_o2_e, D_LACt2)                     -10   0.110886   \n",
       "(ADK1, CYTBD, D_LACt2, PYRt2, ACALD)                         -10   0.110886   \n",
       "(ADK1, EX_lac__D_e, CYTBD, PYRt2, ACALD)                     -10   0.110886   \n",
       "(ADK1, O2t, LDH_D, PYRt2, ACALD)                             -10   0.110886   \n",
       "(ADK1, O2t, EX_lac__D_e, PYRt2, ACALD)                       -10   0.110886   \n",
       "(ADK1, EX_pyr_e, O2t, D_LACt2, ACALD)                        -10   0.110886   \n",
       "(ADK1, EX_pyr_e, D_LACt2, CYTBD, ACALD)                      -10   0.110886   \n",
       "(ADK1, CYTBD, LDH_D, PYRt2, ACALD)                           -10   0.110886   \n",
       "(ADK1, O2t, D_LACt2, PYRt2, ACALD)                           -10   0.110886   \n",
       "(ADK1, EX_o2_e, EX_lac__D_e, PYRt2, ACALD)                   -10   0.110886   \n",
       "(O2t, EX_lac__D_e, PPS, PYRt2, ACALD)                        -10   0.110886   \n",
       "(ADK1, EX_o2_e, LDH_D, PYRt2, ACALD)                         -10   0.110886   \n",
       "(ADK1, EX_o2_e, D_LACt2, PYRt2, ACALD)                       -10   0.110886   \n",
       "(EX_lac__D_e, CYTBD, PPS, PYRt2, ACALD)                      -10   0.110886   \n",
       "(EX_pyr_e, PPS, EX_o2_e, LDH_D, ACALD)                       -10   0.110886   \n",
       "\n",
       "                                             product_at_max_growth  \\\n",
       "(O2t, PPS, D_LACt2, PYRt2, ACALD)                          9.09864   \n",
       "(ADK1, EX_pyr_e, EX_lac__D_e, O2t, ACALD)                  9.09864   \n",
       "(ADK1, EX_pyr_e, CYTBD, LDH_D, ACALD)                      9.09864   \n",
       "(EX_pyr_e, EX_lac__D_e, PPS, EX_o2_e, ACALD)               9.09864   \n",
       "(EX_pyr_e, ACALD, PPS, EX_o2_e, D_LACt2)                   9.09864   \n",
       "(ADK1, CYTBD, D_LACt2, PYRt2, ACALD)                       9.09864   \n",
       "(ADK1, EX_lac__D_e, CYTBD, PYRt2, ACALD)                   9.09864   \n",
       "(ADK1, O2t, LDH_D, PYRt2, ACALD)                           9.09864   \n",
       "(ADK1, O2t, EX_lac__D_e, PYRt2, ACALD)                     9.09864   \n",
       "(ADK1, EX_pyr_e, O2t, D_LACt2, ACALD)                      9.09864   \n",
       "(ADK1, EX_pyr_e, D_LACt2, CYTBD, ACALD)                    9.09864   \n",
       "(ADK1, CYTBD, LDH_D, PYRt2, ACALD)                         9.09864   \n",
       "(ADK1, O2t, D_LACt2, PYRt2, ACALD)                         9.09864   \n",
       "(ADK1, EX_o2_e, EX_lac__D_e, PYRt2, ACALD)                 9.09864   \n",
       "(O2t, EX_lac__D_e, PPS, PYRt2, ACALD)                      9.09864   \n",
       "(ADK1, EX_o2_e, LDH_D, PYRt2, ACALD)                       9.09864   \n",
       "(ADK1, EX_o2_e, D_LACt2, PYRt2, ACALD)                     9.09864   \n",
       "(EX_lac__D_e, CYTBD, PPS, PYRt2, ACALD)                    9.09864   \n",
       "(EX_pyr_e, PPS, EX_o2_e, LDH_D, ACALD)                     9.09864   \n",
       "\n",
       "                                             product_maximum product_minimum  \n",
       "(O2t, PPS, D_LACt2, PYRt2, ACALD)                    9.09864         9.09864  \n",
       "(ADK1, EX_pyr_e, EX_lac__D_e, O2t, ACALD)            9.09864         9.09864  \n",
       "(ADK1, EX_pyr_e, CYTBD, LDH_D, ACALD)                9.09864         9.09864  \n",
       "(EX_pyr_e, EX_lac__D_e, PPS, EX_o2_e, ACALD)         9.09864         9.09864  \n",
       "(EX_pyr_e, ACALD, PPS, EX_o2_e, D_LACt2)             9.09864         9.09864  \n",
       "(ADK1, CYTBD, D_LACt2, PYRt2, ACALD)                 9.09864         9.09864  \n",
       "(ADK1, EX_lac__D_e, CYTBD, PYRt2, ACALD)             9.09864         9.09864  \n",
       "(ADK1, O2t, LDH_D, PYRt2, ACALD)                     9.09864         9.09864  \n",
       "(ADK1, O2t, EX_lac__D_e, PYRt2, ACALD)               9.09864         9.09864  \n",
       "(ADK1, EX_pyr_e, O2t, D_LACt2, ACALD)                9.09864         9.09864  \n",
       "(ADK1, EX_pyr_e, D_LACt2, CYTBD, ACALD)              9.09864         9.09864  \n",
       "(ADK1, CYTBD, LDH_D, PYRt2, ACALD)                   9.09864         9.09864  \n",
       "(ADK1, O2t, D_LACt2, PYRt2, ACALD)                   9.09864         9.09864  \n",
       "(ADK1, EX_o2_e, EX_lac__D_e, PYRt2, ACALD)           9.09864         9.09864  \n",
       "(O2t, EX_lac__D_e, PPS, PYRt2, ACALD)                9.09864         9.09864  \n",
       "(ADK1, EX_o2_e, LDH_D, PYRt2, ACALD)                 9.09864         9.09864  \n",
       "(ADK1, EX_o2_e, D_LACt2, PYRt2, ACALD)               9.09864         9.09864  \n",
       "(EX_lac__D_e, CYTBD, PPS, PYRt2, ACALD)              9.09864         9.09864  \n",
       "(EX_pyr_e, PPS, EX_o2_e, LDH_D, ACALD)               9.09864         9.09864  "
      ]
     },
     "execution_count": 15,
     "metadata": {},
     "output_type": "execute_result"
    }
   ],
   "source": [
    "null_growth = df.max_growth.isnull()\n",
    "zero_growth = df.max_growth <= 1e-10\n",
    "no_product = df.product_at_max_growth <= 1e-5\n",
    "\n",
    "df[~ (zero_growth | null_growth | no_product)].sort_values(by='max_growth', ascending=False).iloc[1:20,:]"
   ]
  }
 ],
 "metadata": {
  "kernelspec": {
   "display_name": "Python 3",
   "language": "python",
   "name": "python3"
  },
  "language_info": {
   "codemirror_mode": {
    "name": "ipython",
    "version": 3
   },
   "file_extension": ".py",
   "mimetype": "text/x-python",
   "name": "python",
   "nbconvert_exporter": "python",
   "pygments_lexer": "ipython3",
   "version": "3.5.5"
  }
 },
 "nbformat": 4,
 "nbformat_minor": 2
}
