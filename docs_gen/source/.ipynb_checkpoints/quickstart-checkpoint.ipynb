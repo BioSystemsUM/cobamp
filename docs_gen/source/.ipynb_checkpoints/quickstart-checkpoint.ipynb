{
 "cells": [
  {
   "cell_type": "markdown",
   "metadata": {},
   "source": [
    "# Quick start\n",
    "\n",
    "This notebook provides an example on how to use *cobamp* to easily calculate elementary flux modes (EFMs) and minimal cut sets (MCSs) coupled with the model reading and flux analysis capabilities of the *COBRApy* package."
   ]
  },
  {
   "cell_type": "markdown",
   "metadata": {},
   "source": [
    "## Model reading and setup"
   ]
  },
  {
   "cell_type": "markdown",
   "metadata": {},
   "source": [
    "Download the model in SBML format from the BiGG models repository. In this example we use the central carbon metabolic model of *Escherichia coli*, downloaded and stored in a temporary folder/path stored as *model_path*."
   ]
  },
  {
   "cell_type": "code",
   "execution_count": 1,
   "metadata": {},
   "outputs": [],
   "source": [
    "import urllib\n",
    "\n",
    "model_url = \"http://bigg.ucsd.edu/static/models/e_coli_core.xml\"\n",
    "model_path, model_content = urllib.request.urlretrieve(model_url)"
   ]
  },
  {
   "cell_type": "markdown",
   "metadata": {},
   "source": [
    "Read the SBML temporary file generated from the HTTP request content and generate a COBRA Model object from it. Two functions are defined to assist in further analyses:\n",
    "* *restore_bounds()* - restores all reaction bounds to their original values\n",
    "* *apply_kos(**kos**)* - knockout reactions contained in *kos* (any iterable containing reaction IDs)"
   ]
  },
  {
   "cell_type": "code",
   "execution_count": 2,
   "metadata": {
    "scrolled": false
   },
   "outputs": [
    {
     "data": {
      "text/html": [
       "\n",
       "        <table>\n",
       "            <tr>\n",
       "                <td><strong>Name</strong></td>\n",
       "                <td>e_coli_core</td>\n",
       "            </tr><tr>\n",
       "                <td><strong>Memory address</strong></td>\n",
       "                <td>0x07fbfee5c1748</td>\n",
       "            </tr><tr>\n",
       "                <td><strong>Number of metabolites</strong></td>\n",
       "                <td>72</td>\n",
       "            </tr><tr>\n",
       "                <td><strong>Number of reactions</strong></td>\n",
       "                <td>95</td>\n",
       "            </tr><tr>\n",
       "                <td><strong>Objective expression</strong></td>\n",
       "                <td>-1.0*BIOMASS_Ecoli_core_w_GAM_reverse_712e5 + 1.0*BIOMASS_Ecoli_core_w_GAM</td>\n",
       "            </tr><tr>\n",
       "                <td><strong>Compartments</strong></td>\n",
       "                <td>cytosol, extracellular space</td>\n",
       "            </tr>\n",
       "          </table>"
      ],
      "text/plain": [
       "<Model e_coli_core at 0x7fbfee5c1748>"
      ]
     },
     "execution_count": 2,
     "metadata": {},
     "output_type": "execute_result"
    }
   ],
   "source": [
    "import cobra\n",
    "\n",
    "model = cobra.io.sbml3.read_sbml_model(model_path)\n",
    "model_bounds = {r.id:(r.lower_bound, r.upper_bound) for r in model.reactions}\n",
    "\n",
    "# >>> model_bounds\n",
    "# ... {'ACALD': (-1000.0, 1000.0),\n",
    "# ... 'ACALDt': (-1000.0, 1000.0),\n",
    "# ... 'ACKr': (-1000.0, 1000.0),\n",
    "# ... 'ACONTa': (-1000.0, 1000.0),\n",
    "# ... 'ACONTb': (-1000.0, 1000.0), ...\n",
    "\n",
    "def restore_bounds():\n",
    "    for r in model.reactions:\n",
    "        r.lower_bound, r.upper_bound = model_bounds[r.id]\n",
    "\n",
    "def apply_kos(kos):\n",
    "    for ko in kos:\n",
    "        model.reactions.get_by_id(ko).knock_out()\n",
    "        \n",
    "model"
   ]
  },
  {
   "cell_type": "markdown",
   "metadata": {},
   "source": [
    "Extracting environmental conditions from this particular model, assuming the maximum capacity constant $N$ ($N=1000$). This assumes the media is defined when a lower or upper bound is different than 0, $N$ or $-N$.\n",
    "\n",
    "This will be needed some steps further for the MCSEnumerator approach."
   ]
  },
  {
   "cell_type": "code",
   "execution_count": 3,
   "metadata": {
    "scrolled": true
   },
   "outputs": [
    {
     "data": {
      "text/plain": [
       "{'ATPM': (8.39, 1000.0), 'EX_glc__D_e': (-10.0, 1000.0)}"
      ]
     },
     "execution_count": 3,
     "metadata": {},
     "output_type": "execute_result"
    }
   ],
   "source": [
    "env_conditions = {r.id:(r.lower_bound, r.upper_bound) \n",
    " for r in model.reactions \n",
    " if (r.lower_bound not in [-1000, 0]) or (r.upper_bound not in [0, 1000])}\n",
    "\n",
    "env_conditions"
   ]
  },
  {
   "cell_type": "markdown",
   "metadata": {},
   "source": [
    "## Enumerating minimal cut sets"
   ]
  },
  {
   "cell_type": "markdown",
   "metadata": {},
   "source": [
    "Import the MCSEnumerator wrapper class (*KShortestMCSEnumeratorWrapper*) that works with COBRA models. *KShortestMCSEnumeratorWrapper* provides a simple interface to enumerate minimal cut sets (MCSs) using the K-shortest algorithm (commonly referred to as the MCSEnumerator approach).\n",
    "\n",
    "MCSs are sets of reactions that disable a certain phenotype in a model. This phenotype is defined as a set of flux or yield constraints. In this example, we will enumerate some MCSs."
   ]
  },
  {
   "cell_type": "code",
   "execution_count": 6,
   "metadata": {},
   "outputs": [],
   "source": [
    "from cobamp.wrappers import KShortestMCSEnumeratorWrapper"
   ]
  },
  {
   "cell_type": "markdown",
   "metadata": {},
   "source": [
    "Define the region of the flux space that the MCSs are supposed to block. In this scenario, we are attempting to improve succinate production using glucose as a carbon source. The following reaction IDs are required:\n",
    "* Succinate exchange : 'EX_succ_e'\n",
    "* Glucose exchange: 'EX_glc__D_e'\n",
    "* Maintenance ATP: 'ATPM'\n",
    "\n",
    "As such, we wish to block low production phenotypes by adding a lower bound on the yield between succinate and glucose. Since the latter is only consumed, we assume its flux value is always negative. Thus, we want yields to be as low as possible, hence the lower bound definition.\n",
    "\n",
    "This yield constraint can be loosely represented as the following:\n",
    "\n",
    "$Y\\frac{succinate}{glucose} > -0.001$\n",
    "\n",
    "MCSs will block this phenotype and thus, we will obtain negative yields."
   ]
  },
  {
   "cell_type": "code",
   "execution_count": 7,
   "metadata": {},
   "outputs": [],
   "source": [
    "yield_space = {\n",
    "   #('product_id'),('substrate_id'):(lower_bound, upper_bound, deviation - set to zero for most cases)\n",
    "    ('EX_succ_e','EX_glc__D_e'):(-0.001, None, 0), \n",
    "}\n",
    "\n",
    "flux_space = {\n",
    "   # flux id     : (lower_bound, upper_bound)\n",
    "    'EX_glc__D_e': (-10, None),\n",
    "    'ATPM' : (8.39, None)\n",
    "}"
   ]
  },
  {
   "cell_type": "markdown",
   "metadata": {},
   "source": [
    "Having defined the flux space, we can now start the algorithm. The wrapper for MCSEnumerator requires the following parameters:\n",
    "* *model*: A model instance from *COBRA*, *framed* (or any other framework if a *ModelReader* subclass is implemented for it and added to the list of readers)\n",
    "* *target_flux_space_dict*: A dictionary (str -> tuple(float, float)) mapping reaction identifiers to flux bounds representing the target flux space for minimal cut sets.\n",
    "* *target_yield_space_dict*: A dictionary ((str, str) -> tuple(float, float, float)) mapping product/substrate pairs to a lower and upper bound for the yield constraint between both fluxes and a deviation value for the constraint.\n",
    "* *algorithm_type*: Can be one of two values:\n",
    "    * *KShortestMCSEnumeratorWrapper.ALGORITHM_TYPE_POPULATE*: Enumerate one size at a time\n",
    "    * *KShortestMCSEnumeratorWrapper.ALGORITHM_TYPE_ITERATIVE*: Enumerate one solution at a time\n",
    "* *stop_criteria*: An integer defining the maximum number of iterations. If the *POPULATE* routine is used, the algorithm will yield all solutions that have size *stop_criteria* and below. On the other hand, if *ITERATIVE* is used, the algorithm will yield the *stop_criteria*-shortest solutions."
   ]
  },
  {
   "cell_type": "code",
   "execution_count": 8,
   "metadata": {},
   "outputs": [
    {
     "ename": "NameError",
     "evalue": "name '_KShortestProperties__kshortest_mandatory_properties' is not defined",
     "output_type": "error",
     "traceback": [
      "\u001b[0;31m---------------------------------------------------------------------------\u001b[0m",
      "\u001b[0;31mNameError\u001b[0m                                 Traceback (most recent call last)",
      "\u001b[0;32m<ipython-input-8-91f6b56777f3>\u001b[0m in \u001b[0;36m<module>\u001b[0;34m\u001b[0m\n\u001b[1;32m      4\u001b[0m     \u001b[0mtarget_yield_space_dict\u001b[0m\u001b[0;34m=\u001b[0m\u001b[0myield_space\u001b[0m\u001b[0;34m,\u001b[0m\u001b[0;34m\u001b[0m\u001b[0m\n\u001b[1;32m      5\u001b[0m     \u001b[0malgorithm_type\u001b[0m\u001b[0;34m=\u001b[0m\u001b[0mKShortestMCSEnumeratorWrapper\u001b[0m\u001b[0;34m.\u001b[0m\u001b[0mALGORITHM_TYPE_POPULATE\u001b[0m\u001b[0;34m,\u001b[0m\u001b[0;34m\u001b[0m\u001b[0m\n\u001b[0;32m----> 6\u001b[0;31m     stop_criteria=5)\n\u001b[0m",
      "\u001b[0;32m~/miniconda3/envs/metaconvex_dist/lib/python3.5/site-packages/cobamp-0.0.2-py3.5.egg/cobamp/wrappers/method_wrappers.py\u001b[0m in \u001b[0;36m__init__\u001b[0;34m(self, model, target_flux_space_dict, target_yield_space_dict, **kwargs)\u001b[0m\n\u001b[1;32m    162\u001b[0m \u001b[0;34m\u001b[0m\u001b[0m\n\u001b[1;32m    163\u001b[0m         \u001b[0;32mdef\u001b[0m \u001b[0m__init__\u001b[0m\u001b[0;34m(\u001b[0m\u001b[0mself\u001b[0m\u001b[0;34m,\u001b[0m \u001b[0mmodel\u001b[0m\u001b[0;34m,\u001b[0m \u001b[0mtarget_flux_space_dict\u001b[0m\u001b[0;34m,\u001b[0m \u001b[0mtarget_yield_space_dict\u001b[0m\u001b[0;34m,\u001b[0m \u001b[0;34m**\u001b[0m\u001b[0mkwargs\u001b[0m\u001b[0;34m)\u001b[0m\u001b[0;34m:\u001b[0m\u001b[0;34m\u001b[0m\u001b[0m\n\u001b[0;32m--> 164\u001b[0;31m                 \u001b[0msuper\u001b[0m\u001b[0;34m(\u001b[0m\u001b[0;34m)\u001b[0m\u001b[0;34m.\u001b[0m\u001b[0m__init__\u001b[0m\u001b[0;34m(\u001b[0m\u001b[0mmodel\u001b[0m\u001b[0;34m,\u001b[0m \u001b[0;34m**\u001b[0m\u001b[0mkwargs\u001b[0m\u001b[0;34m)\u001b[0m\u001b[0;34m\u001b[0m\u001b[0m\n\u001b[0m\u001b[1;32m    165\u001b[0m \u001b[0;34m\u001b[0m\u001b[0m\n\u001b[1;32m    166\u001b[0m                 \u001b[0mtarget_flux_space\u001b[0m \u001b[0;34m=\u001b[0m \u001b[0;34m[\u001b[0m\u001b[0mtuple\u001b[0m\u001b[0;34m(\u001b[0m\u001b[0;34m[\u001b[0m\u001b[0mk\u001b[0m\u001b[0;34m]\u001b[0m\u001b[0;34m)\u001b[0m \u001b[0;34m+\u001b[0m \u001b[0mtuple\u001b[0m\u001b[0;34m(\u001b[0m\u001b[0mv\u001b[0m\u001b[0;34m)\u001b[0m \u001b[0;32mfor\u001b[0m \u001b[0mk\u001b[0m\u001b[0;34m,\u001b[0m \u001b[0mv\u001b[0m \u001b[0;32min\u001b[0m \u001b[0mtarget_flux_space_dict\u001b[0m\u001b[0;34m.\u001b[0m\u001b[0mitems\u001b[0m\u001b[0;34m(\u001b[0m\u001b[0;34m)\u001b[0m\u001b[0;34m]\u001b[0m\u001b[0;34m\u001b[0m\u001b[0m\n",
      "\u001b[0;32m~/miniconda3/envs/metaconvex_dist/lib/python3.5/site-packages/cobamp-0.0.2-py3.5.egg/cobamp/wrappers/method_wrappers.py\u001b[0m in \u001b[0;36m__init__\u001b[0;34m(self, model, algorithm_type, stop_criteria, forced_solutions, excluded_solutions)\u001b[0m\n\u001b[1;32m     59\u001b[0m \t\t\t\t\tlist(model_readers.keys())))\n\u001b[1;32m     60\u001b[0m \u001b[0;34m\u001b[0m\u001b[0m\n\u001b[0;32m---> 61\u001b[0;31m                 \u001b[0mself\u001b[0m\u001b[0;34m.\u001b[0m\u001b[0m__algo_properties\u001b[0m \u001b[0;34m=\u001b[0m \u001b[0mKShortestProperties\u001b[0m\u001b[0;34m(\u001b[0m\u001b[0;34m)\u001b[0m\u001b[0;34m\u001b[0m\u001b[0m\n\u001b[0m\u001b[1;32m     62\u001b[0m                 \u001b[0mself\u001b[0m\u001b[0;34m.\u001b[0m\u001b[0m__algo_properties\u001b[0m\u001b[0;34m[\u001b[0m\u001b[0mK_SHORTEST_MPROPERTY_METHOD\u001b[0m\u001b[0;34m]\u001b[0m \u001b[0;34m=\u001b[0m \u001b[0mself\u001b[0m\u001b[0;34m.\u001b[0m\u001b[0m__alg_to_alg_name\u001b[0m\u001b[0;34m[\u001b[0m\u001b[0malgorithm_type\u001b[0m\u001b[0;34m]\u001b[0m\u001b[0;34m\u001b[0m\u001b[0m\n\u001b[1;32m     63\u001b[0m                 \u001b[0mself\u001b[0m\u001b[0;34m.\u001b[0m\u001b[0m__algo_properties\u001b[0m\u001b[0;34m[\u001b[0m\u001b[0mself\u001b[0m\u001b[0;34m.\u001b[0m\u001b[0m__alg_to_prop_name\u001b[0m\u001b[0;34m[\u001b[0m\u001b[0malgorithm_type\u001b[0m\u001b[0;34m]\u001b[0m\u001b[0;34m]\u001b[0m \u001b[0;34m=\u001b[0m \u001b[0mstop_criteria\u001b[0m\u001b[0;34m\u001b[0m\u001b[0m\n",
      "\u001b[0;32m~/miniconda3/envs/metaconvex_dist/lib/python3.5/site-packages/cobamp-0.0.2-py3.5.egg/cobamp/algorithms/kshortest.py\u001b[0m in \u001b[0;36m__init__\u001b[0;34m(self)\u001b[0m\n\u001b[1;32m     60\u001b[0m \u001b[0;34m\u001b[0m\u001b[0m\n\u001b[1;32m     61\u001b[0m         \u001b[0;32mdef\u001b[0m \u001b[0m__init__\u001b[0m\u001b[0;34m(\u001b[0m\u001b[0mself\u001b[0m\u001b[0;34m)\u001b[0m\u001b[0;34m:\u001b[0m\u001b[0;34m\u001b[0m\u001b[0m\n\u001b[0;32m---> 62\u001b[0;31m                 \u001b[0msuper\u001b[0m\u001b[0;34m(\u001b[0m\u001b[0;34m)\u001b[0m\u001b[0;34m.\u001b[0m\u001b[0m__init__\u001b[0m\u001b[0;34m(\u001b[0m\u001b[0m__kshortest_mandatory_properties\u001b[0m\u001b[0;34m,\u001b[0m \u001b[0m__kshortest_optional_properties\u001b[0m\u001b[0;34m)\u001b[0m\u001b[0;34m\u001b[0m\u001b[0m\n\u001b[0m\u001b[1;32m     63\u001b[0m \u001b[0;34m\u001b[0m\u001b[0m\n\u001b[1;32m     64\u001b[0m \u001b[0;32mclass\u001b[0m \u001b[0mKShortestEnumerator\u001b[0m\u001b[0;34m(\u001b[0m\u001b[0mobject\u001b[0m\u001b[0;34m)\u001b[0m\u001b[0;34m:\u001b[0m\u001b[0;34m\u001b[0m\u001b[0m\n",
      "\u001b[0;31mNameError\u001b[0m: name '_KShortestProperties__kshortest_mandatory_properties' is not defined"
     ]
    }
   ],
   "source": [
    "ksefm = KShortestMCSEnumeratorWrapper(\n",
    "    model=model,\n",
    "    target_flux_space_dict=flux_space, \n",
    "    target_yield_space_dict=yield_space, \n",
    "    algorithm_type=KShortestMCSEnumeratorWrapper.ALGORITHM_TYPE_POPULATE, \n",
    "    stop_criteria=5)"
   ]
  },
  {
   "cell_type": "markdown",
   "metadata": {},
   "source": [
    "The MILP problems aren't actually run once the KShortestMCSEnumeratorWrapper instance is created. To obtain the solutions, the *get_enumerator()* method must be called. This method returns a generator that can be called in several ways."
   ]
  },
  {
   "cell_type": "code",
   "execution_count": 7,
   "metadata": {},
   "outputs": [],
   "source": [
    "enumerator = ksefm.get_enumerator()"
   ]
  },
  {
   "cell_type": "markdown",
   "metadata": {},
   "source": [
    "Depending on time constraints, one can interactively call the *next* function on the enumerator so it iterates just once. This is useful when the problem is large or when exploring new constraints."
   ]
  },
  {
   "cell_type": "code",
   "execution_count": 8,
   "metadata": {
    "scrolled": false
   },
   "outputs": [
    {
     "name": "stdout",
     "output_type": "stream",
     "text": [
      "Starting size 1\n"
     ]
    }
   ],
   "source": [
    "solutions = next(enumerator)"
   ]
  },
  {
   "cell_type": "markdown",
   "metadata": {},
   "source": [
    "Solutions are always lists of dictionaries mapping fluxes with values for all active fluxes. For MCSs, one simply has to obtain the dictionary keys for all dictionaries in the list."
   ]
  },
  {
   "cell_type": "code",
   "execution_count": 9,
   "metadata": {},
   "outputs": [
    {
     "data": {
      "text/plain": [
       "[{'ATPM': 10000.0},\n",
       " {'GLCpts': 2.0858164481525625},\n",
       " {'EX_glc__D_e': -2.0858164481525625},\n",
       " {'GAPD': 1548.5399284864632},\n",
       " {'PGK': -1548.5399284864632},\n",
       " {'ENO': 1548.5399284864632},\n",
       " {'PGM': -1667.8486293208023},\n",
       " {'EX_h2o_e': 595.7389749705328},\n",
       " {'GLUSy': 4.547473508864641e-13, 'H2Ot': -1072.1394517281767},\n",
       " {'EX_succ_e': 2084.833134684148},\n",
       " {'SUCCt3': 2084.624553039332},\n",
       " {'EX_h_e': 1042.312276520244},\n",
       " {'NADH16': 397.0500595947704}]"
      ]
     },
     "execution_count": 9,
     "metadata": {},
     "output_type": "execute_result"
    }
   ],
   "source": [
    "solutions"
   ]
  },
  {
   "cell_type": "code",
   "execution_count": 10,
   "metadata": {
    "scrolled": false
   },
   "outputs": [
    {
     "data": {
      "text/plain": [
       "[{'ATPM'},\n",
       " {'GLCpts'},\n",
       " {'EX_glc__D_e'},\n",
       " {'GAPD'},\n",
       " {'PGK'},\n",
       " {'ENO'},\n",
       " {'PGM'},\n",
       " {'EX_h2o_e'},\n",
       " {'GLUSy', 'H2Ot'},\n",
       " {'EX_succ_e'},\n",
       " {'SUCCt3'},\n",
       " {'EX_h_e'},\n",
       " {'NADH16'}]"
      ]
     },
     "execution_count": 10,
     "metadata": {},
     "output_type": "execute_result"
    }
   ],
   "source": [
    "mcs = [set(d.keys()) for d in solutions]\n",
    "mcs"
   ]
  },
  {
   "cell_type": "markdown",
   "metadata": {},
   "source": [
    "Unlike the previous approach, we can try and extensively enumerate all MCSs. We must redefine the enumerator as it already iterated once. We can import the *chain* function and use it to get a list of solutions until the stop criteria is reached."
   ]
  },
  {
   "cell_type": "code",
   "execution_count": 11,
   "metadata": {},
   "outputs": [],
   "source": [
    "enumerator = ksefm.get_enumerator()"
   ]
  },
  {
   "cell_type": "code",
   "execution_count": 12,
   "metadata": {},
   "outputs": [
    {
     "name": "stdout",
     "output_type": "stream",
     "text": [
      "Starting size 1\n",
      "Starting size 2\n",
      "Starting size 3\n",
      "Starting size 4\n",
      "Starting size 5\n"
     ]
    }
   ],
   "source": [
    "from itertools import chain\n",
    "solutions = list(chain(*ksefm.get_enumerator()))"
   ]
  },
  {
   "cell_type": "code",
   "execution_count": 13,
   "metadata": {
    "scrolled": true
   },
   "outputs": [
    {
     "data": {
      "text/plain": [
       "[{'GLCpts'},\n",
       " {'EX_glc__D_e'},\n",
       " {'GAPD'},\n",
       " {'PGK'},\n",
       " {'ENO'},\n",
       " {'PGM'},\n",
       " {'EX_h2o_e'},\n",
       " {'GLUSy', 'H2Ot'},\n",
       " {'EX_succ_e'}]"
      ]
     },
     "execution_count": 13,
     "metadata": {},
     "output_type": "execute_result"
    }
   ],
   "source": [
    "mcs = [set(e.keys()) for e in solutions]\n",
    "mcs[1:10]"
   ]
  },
  {
   "cell_type": "markdown",
   "metadata": {},
   "source": [
    "## Enumerating elementary flux modes"
   ]
  },
  {
   "cell_type": "markdown",
   "metadata": {},
   "source": [
    "We can import the *KShortestEFMEnumeratorWrapper* to enumerate elementary flux modes (EFMs) using the K-shortest EFM algorithm.\n",
    "\n",
    "EFMs can be considered as the smallest functional units in a metabolic model that can achieve a certain function and are useful in finding novel metabolic functions."
   ]
  },
  {
   "cell_type": "code",
   "execution_count": 14,
   "metadata": {},
   "outputs": [],
   "source": [
    "from cobamp.utilities.external_wrappers import KShortestEFMEnumeratorWrapper"
   ]
  },
  {
   "cell_type": "markdown",
   "metadata": {},
   "source": [
    "For this example, we will enumerate EFMs in the model we have previously loaded. Similarly to the example above, we intend to produce succinate with this organism. For that purpose, we will try to enumerate the smallest EFMs that allow the conversion of glucose into succinate and biomass (to ensure growth).\n",
    "\n",
    "To specify these metabolites, they have to be present in the model. First, we will create a metabolite to represent cell growth.\n",
    "We then add a reaction to represent the fictional secretion of this metabolite. Both components are added to a copy of the model to preserve the original version."
   ]
  },
  {
   "cell_type": "code",
   "execution_count": 15,
   "metadata": {},
   "outputs": [],
   "source": [
    "biomass_c = cobra.Metabolite(compartment='c', id='biomass_c', name='Biomass')\n",
    "biomass_production = cobra.Reaction(id='EX_biomass_e', name='Biomass production', lower_bound=0, upper_bound=1000)\n",
    "\n",
    "model_biomass = model.copy()\n",
    "model_biomass.add_metabolites([biomass_c])"
   ]
  },
  {
   "cell_type": "markdown",
   "metadata": {},
   "source": [
    "The biomass metabolite is added to the biomass reaction already present in the model as a product.\n",
    "On the new reaction, the same metabolite is added as a reactant, effectively creating a drain on the model."
   ]
  },
  {
   "cell_type": "code",
   "execution_count": 16,
   "metadata": {},
   "outputs": [],
   "source": [
    "model_biomass.reactions.BIOMASS_Ecoli_core_w_GAM.add_metabolites({biomass_c: 1})\n",
    "biomass_production.add_metabolites({biomass_c: -1})"
   ]
  },
  {
   "cell_type": "markdown",
   "metadata": {},
   "source": [
    "The K-shortest enumeration algorithm is then instantiated using mostly the same arguments as in the example above, with the addition of:\n",
    "* *consumed* : A list of metabolite IDs that are guaranteed to be consumed by the cell\n",
    "* *non_consumed*: A list of external metabolite IDs that cannot be consumed\n",
    "* *produced* : A list of external metabolite IDs that must be produced by the cell\n",
    "\n",
    "These parameters are used to narrow the space of possible EFMs to avoid unwanted metabolic functions and speed up the search."
   ]
  },
  {
   "cell_type": "code",
   "execution_count": 17,
   "metadata": {},
   "outputs": [],
   "source": [
    "ksefm = KShortestEFMEnumeratorWrapper(\n",
    "    model=model_biomass,\n",
    "    non_consumed=[],\n",
    "    consumed=['glc__D_e'],\n",
    "    produced=['biomass_c','succ_e'],\n",
    "    algorithm_type=KShortestEFMEnumeratorWrapper.ALGORITHM_TYPE_POPULATE,\n",
    "    stop_criteria=100\n",
    ")"
   ]
  },
  {
   "cell_type": "markdown",
   "metadata": {},
   "source": [
    "Having set a limit of 100 for the size of the EFMs, we will now attempt to enumerate them. In this example we will only obtain with the smallest. Once the algorithm reaches first iteration that yields at least one EFM, we will no longer call the *enumerator* instance."
   ]
  },
  {
   "cell_type": "code",
   "execution_count": 18,
   "metadata": {},
   "outputs": [
    {
     "name": "stdout",
     "output_type": "stream",
     "text": [
      "Starting size 1\n",
      "Starting size 2\n",
      "Starting size 3\n",
      "Starting size 4\n",
      "Starting size 5\n",
      "Starting size 6\n",
      "Starting size 7\n",
      "Starting size 8\n",
      "Starting size 9\n",
      "Starting size 10\n",
      "Starting size 11\n",
      "Starting size 12\n",
      "Starting size 13\n",
      "Starting size 14\n",
      "Starting size 15\n",
      "Starting size 16\n",
      "Starting size 17\n",
      "Starting size 18\n",
      "Starting size 19\n",
      "Starting size 20\n",
      "Starting size 21\n",
      "Starting size 22\n",
      "Starting size 23\n",
      "Starting size 24\n",
      "Starting size 25\n",
      "Starting size 26\n",
      "Starting size 27\n",
      "Starting size 28\n",
      "Starting size 29\n",
      "Starting size 30\n",
      "Starting size 31\n",
      "Starting size 32\n",
      "Starting size 33\n",
      "Starting size 34\n",
      "Starting size 35\n",
      "Starting size 36\n",
      "Starting size 37\n",
      "Starting size 38\n",
      "Starting size 39\n",
      "Starting size 40\n",
      "Starting size 41\n",
      "Starting size 42\n"
     ]
    }
   ],
   "source": [
    "enumerator = ksefm.get_enumerator()\n",
    "\n",
    "efm_list = []\n",
    "while len(efm_list) == 0:\n",
    "    efm_list += next(enumerator)"
   ]
  },
  {
   "cell_type": "markdown",
   "metadata": {},
   "source": [
    "The 17 smallest EFMs include 42 reactions"
   ]
  },
  {
   "cell_type": "code",
   "execution_count": 19,
   "metadata": {},
   "outputs": [
    {
     "data": {
      "text/plain": [
       "17"
      ]
     },
     "execution_count": 19,
     "metadata": {},
     "output_type": "execute_result"
    }
   ],
   "source": [
    "len(efm_list)"
   ]
  },
  {
   "cell_type": "markdown",
   "metadata": {},
   "source": [
    "## Analysis of elementary flux modes\n",
    "### Inspecting flux coefficients"
   ]
  },
  {
   "cell_type": "markdown",
   "metadata": {},
   "source": [
    "The EFMs can be displayed as a set of reactions with coefficients. Please note that the drains that correspond with the external metabolites defined as being consumed or produced will not show up as active reactions, even though they are part of the EFM. This occurs since the mass balance equation for these metabolites is changed from\n",
    "$\\sum^{n}_{j=1}{S_{ij}}v = 0$ to $\\sum^{n}_{j=1}{S_{ij}}v > 1$ or $\\sum^{n}_{j=1}{S_{ij}}v < -1$, assuming $v$ as the flux vector.\n",
    "\n",
    "The values for these fluxes can be calculated by replacing $v$ with the flux values from the EFM and obtaining the result from the left hand side of the inequation"
   ]
  },
  {
   "cell_type": "code",
   "execution_count": 20,
   "metadata": {},
   "outputs": [
    {
     "data": {
      "text/plain": [
       "{'ACONTa': 150.41281120331442,\n",
       " 'ACONTb': 150.41281120331442,\n",
       " 'AKGDH': 132.5057572614063,\n",
       " 'ATPS4r': 632.4125518671985,\n",
       " 'BIOMASS_Ecoli_core_w_GAM': 16.59751037344342,\n",
       " 'CO2t': -315.4679460580806,\n",
       " 'CS': 150.41281120331442,\n",
       " 'CYTBD': 725.0648858920915,\n",
       " 'ENO': 448.3177385891964,\n",
       " 'EX_co2_e': 315.4679460580806,\n",
       " 'EX_h2o_e': 568.876607883798,\n",
       " 'EX_h_e': 597.9575726140871,\n",
       " 'EX_nh4_e': -90.50290456431227,\n",
       " 'EX_o2_e': -362.53244294604576,\n",
       " 'EX_pi_e': -61.05726141078637,\n",
       " 'FBA': 242.12484439833202,\n",
       " 'GAPD': 473.14761410786775,\n",
       " 'GLCpts': 258.63438796679617,\n",
       " 'GLNS': 4.243983402489482,\n",
       " 'GLUDy': -86.2589211618228,\n",
       " 'H2Ot': -568.876607883798,\n",
       " 'ICDHyr': 150.41281120331442,\n",
       " 'NADH16': 725.0648858920915,\n",
       " 'NH4t': 90.50290456431227,\n",
       " 'O2t': 362.53244294604576,\n",
       " 'PDH': 212.61696058090567,\n",
       " 'PFK': 242.12484439833202,\n",
       " 'PGI': 255.23189834024026,\n",
       " 'PGK': -473.14761410786775,\n",
       " 'PGM': -448.3177385891964,\n",
       " 'PIt2r': 61.05726141078637,\n",
       " 'PPC': 180.06758298754576,\n",
       " 'PYK': 1.0,\n",
       " 'RPE': -11.93029045643113,\n",
       " 'RPI': -11.93029045643113,\n",
       " 'SUCCt3': 132.5057572614063,\n",
       " 'SUCOAS': -132.5057572614063,\n",
       " 'TALA': -2.9692946058090293,\n",
       " 'THD2': 152.0768153526919,\n",
       " 'TKT1': -2.9692946058090293,\n",
       " 'TKT2': -8.960995850622101,\n",
       " 'TPI': 242.12484439833202}"
      ]
     },
     "execution_count": 20,
     "metadata": {},
     "output_type": "execute_result"
    }
   ],
   "source": [
    "efm_list[0]"
   ]
  },
  {
   "cell_type": "code",
   "execution_count": 21,
   "metadata": {},
   "outputs": [
    {
     "data": {
      "text/plain": [
       "{<Reaction BIOMASS_Ecoli_core_w_GAM at 0x7fb57efcf1d0>: 16.59751037344342}"
      ]
     },
     "execution_count": 21,
     "metadata": {},
     "output_type": "execute_result"
    }
   ],
   "source": [
    "metabolite = model_biomass.metabolites.biomass_c\n",
    "cur_efm = efm_list[0]\n",
    "{r:cur_efm[r.id] for r in metabolite.reactions if r.id in cur_efm}"
   ]
  },
  {
   "cell_type": "markdown",
   "metadata": {},
   "source": [
    "### Visualizing EFMs in metabolic maps\n",
    "Alternatively, external packages can be used to provide a more interactive result. The *escher* package (https://escher.github.io/), once installed in your Python distribution, can be used to display metabolic maps. The snippet below shows how the EFMs from *cobamp* can be used directly as inputs for *escher* maps."
   ]
  },
  {
   "cell_type": "code",
   "execution_count": 22,
   "metadata": {
    "scrolled": false
   },
   "outputs": [
    {
     "data": {
      "text/html": [
       "\n",
       "\n",
       "\n",
       "  \n",
       "  \n",
       "\n",
       "  \n",
       "  \n",
       "    <link rel=\"stylesheet\" href=\"//unpkg.com/escher-vis@1.6.0/css/dist/builder.min.css\"/>\n",
       "  \n",
       "\n",
       "\n",
       "\n",
       "  <div style=\"height: 500px; width: 100%;\" id=\"ncfgkfgpba\"></div>\n",
       "\n",
       "  <script>\n",
       "   /* Closure to make sure data only applies to this map. */\n",
       "   (function() {\n",
       "       /* data from python */\n",
       "       var data = get_data();\n",
       "\n",
       "       function load_lib(url, callback) {\n",
       "           /** Dynamically load a JavaScript file */\n",
       "           var s = document.createElement('script');\n",
       "           s.src = url;\n",
       "           s.async = true;\n",
       "           s.onreadystatechange = s.onload = callback;\n",
       "           s.onerror = function() {\n",
       "               console.warn('Failed to load library ' + url);\n",
       "           };\n",
       "           document.getElementsByTagName('head')[0].appendChild(s);\n",
       "       }\n",
       "\n",
       "       function check_global_and_load(name, url, callback) {\n",
       "           /** Look for the name in the global scope. If it isn't present, then\n",
       "              load the library at url. Returns the object. */\n",
       "           if (window[name] !== undefined) {\n",
       "               callback(window[name]);\n",
       "           } else {\n",
       "               load_lib(url, function() {\n",
       "                   callback(window[name]);\n",
       "               });\n",
       "           }\n",
       "       }\n",
       "\n",
       "       function draw_escher(escher) {\n",
       "           /** Get data and draw */\n",
       "           var load = function(t_map_data, t_model_data, t_options) {\n",
       "               escher.Builder(t_map_data, t_model_data, data.builder_embed_css,\n",
       "                              escher.libs.d3_select('#' + data.id), t_options);\n",
       "           }\n",
       "\n",
       "           // for the static site, use the url attributes for the map and model\n",
       "           // information\n",
       "           if (data.static_site_index !== null) {\n",
       "               escher.static.load_map_model_from_url(data.map_download_url, data.model_download_url,\n",
       "                                                     data.static_site_index, data.options, load);\n",
       "           } else {\n",
       "               load(data.map_data, data.model_data, data.options);\n",
       "           }\n",
       "       }\n",
       "\n",
       "       // Load dependencies and draw\n",
       "       if (typeof define === 'function' && define.amd) {\n",
       "           // require.js is available: use it to load escher\n",
       "           require.config({\n",
       "             paths: {\n",
       "               escher: '//unpkg.com/escher-vis@1.6.0/js/dist/escher.min',\n",
       "             },\n",
       "             // Override urlArgs that adds ?v= to the end of the escher URL and\n",
       "             // messes up unpkg links. Honestly, I'm not sure if this will lead\n",
       "             // to downstream bugs in the notebook, but they really shouldn't be\n",
       "             // doing this cache-busting anyway.\n",
       "             urlArgs: null,\n",
       "           })\n",
       "           require([ 'escher' ], function(escher) {\n",
       "               draw_escher(escher);\n",
       "           })\n",
       "       } else {\n",
       "           // require.js not available: dynamically load escher\n",
       "           check_global_and_load('escher', '//unpkg.com/escher-vis@1.6.0/js/dist/escher.min.js', function(escher) {\n",
       "               draw_escher(escher);\n",
       "           })\n",
       "       }\n",
       "\n",
       "       // Put this at the end so Chrome doesn't cut off the code above.\n",
       "       function get_data() {\n",
       "           /** Return the data passed in by the Python module. */\n",
       "           return {\n",
       "               id: JSON.parse('\"ncfgkfgpba\"'),\n",
       "               map_download_url: JSON.parse('\"//escher.github.io/1-0-0/5/maps/\"'),\n",
       "               model_download_url: JSON.parse('\"//escher.github.io/1-0-0/5/models/\"'),\n",
       "               options: JSON.parse('{\"scroll_behavior\": \"none\", \"fill_screen\": false, \"metabolite_data\": null, \"reaction_scale\": [{\"type\": \"min\", \"size\": 10, \"color\": \"#0000ff\"}, {\"type\": \"mean\", \"size\": 20, \"color\": \"#551a8b\"}, {\"type\": \"max\", \"size\": 40, \"color\": \"#ff0000\"}], \"hide_secondary_metabolites\": true, \"gene_data\": null, \"never_ask_before_quit\": true, \"enable_keys\": false, \"reaction_data\": {\"GAPD\": 473.14761410786775, \"TKT2\": -8.960995850622101, \"THD2\": 152.0768153526919, \"CS\": 150.41281120331442, \"EX_o2_e\": -362.53244294604576, \"RPE\": -11.93029045643113, \"PPC\": 180.06758298754576, \"CYTBD\": 725.0648858920915, \"SUCOAS\": -132.5057572614063, \"EX_h2o_e\": 568.876607883798, \"TKT1\": -2.9692946058090293, \"TPI\": 242.12484439833202, \"H2Ot\": -568.876607883798, \"PGI\": 255.23189834024026, \"PDH\": 212.61696058090567, \"GLUDy\": -86.2589211618228, \"GLCpts\": 258.63438796679617, \"O2t\": 362.53244294604576, \"CO2t\": -315.4679460580806, \"ACONTb\": 150.41281120331442, \"AKGDH\": 132.5057572614063, \"EX_co2_e\": 315.4679460580806, \"ICDHyr\": 150.41281120331442, \"ATPS4r\": 632.4125518671985, \"SUCCt3\": 132.5057572614063, \"ACONTa\": 150.41281120331442, \"ENO\": 448.3177385891964, \"EX_h_e\": 597.9575726140871, \"EX_nh4_e\": -90.50290456431227, \"NH4t\": 90.50290456431227, \"PGK\": -473.14761410786775, \"PFK\": 242.12484439833202, \"EX_pi_e\": -61.05726141078637, \"BIOMASS_Ecoli_core_w_GAM\": 16.59751037344342, \"PGM\": -448.3177385891964, \"NADH16\": 725.0648858920915, \"GLNS\": 4.243983402489482, \"PIt2r\": 61.05726141078637, \"RPI\": -11.93029045643113, \"PYK\": 1.0, \"TALA\": -2.9692946058090293, \"FBA\": 242.12484439833202}, \"menu\": \"zoom\", \"enable_editing\": false, \"ignore_bootstrap\": true}'),\n",
       "               builder_embed_css: JSON.parse('null'),\n",
       "               map_data: JSON.parse('[{\"map_name\": \"e_coli_core.Core metabolism\", \"map_id\": \"0df3827fde8464e80f455a773a52c274\", \"map_description\": \"E. coli core metabolic network\\\\nLast Modified Fri Dec 05 2014 16:39:44 GMT-0800 (PST)\", \"homepage\": \"https://escher.github.io\", \"schema\": \"https://escher.github.io/escher/jsonschema/1-0-0#\"}, {\"reactions\": {\"1577514\": {\"name\": \"Formate transport in via proton symport\", \"bigg_id\": \"FORt2\", \"segments\": {\"11\": {\"to_node_id\": \"1577044\", \"from_node_id\": \"1576666\", \"b2\": {\"y\": 4749.209372712298, \"x\": 1360.0}, \"b1\": {\"y\": 4827.353507999329, \"x\": 1360.0}}, \"10\": {\"to_node_id\": \"1577046\", \"from_node_id\": \"1577045\", \"b2\": null, \"b1\": null}, \"13\": {\"to_node_id\": \"1576590\", \"from_node_id\": \"1577046\", \"b2\": {\"y\": 4275.94781629675, \"x\": 1360.0}, \"b1\": {\"y\": 4411.784344889025, \"x\": 1360.0}}, \"12\": {\"to_node_id\": \"1577044\", \"from_node_id\": \"1576833\", \"b2\": {\"y\": 4744.773286702694, \"x\": 1360.0}, \"b1\": {\"y\": 4779.244289008981, \"x\": 1360.0}}, \"14\": {\"to_node_id\": \"1576811\", \"from_node_id\": \"1577046\", \"b2\": {\"y\": 4422.5658350974745, \"x\": 1360.0}, \"b1\": {\"y\": 4455.769750529243, \"x\": 1360.0}}, \"9\": {\"to_node_id\": \"1577045\", \"from_node_id\": \"1577044\", \"b2\": null, \"b1\": null}}, \"genes\": [{\"bigg_id\": \"b2492\", \"name\": \"focB\"}, {\"bigg_id\": \"b0904\", \"name\": \"focA\"}], \"reversibility\": false, \"metabolites\": [{\"coefficient\": -1.0, \"bigg_id\": \"for_e\"}, {\"coefficient\": 1.0, \"bigg_id\": \"h_c\"}, {\"coefficient\": 1.0, \"bigg_id\": \"for_c\"}, {\"coefficient\": -1.0, \"bigg_id\": \"h_e\"}], \"label_x\": 1255.7530517578125, \"label_y\": 4574.13232421875, \"gene_reaction_rule\": \"b0904 or b2492\"}, \"1577518\": {\"name\": \"Formate transport via diffusion\", \"bigg_id\": \"FORti\", \"segments\": {\"15\": {\"to_node_id\": \"1577047\", \"from_node_id\": \"1576590\", \"b2\": {\"y\": 4263.5, \"x\": 1460.0}, \"b1\": {\"y\": 4145.55, \"x\": 1460.0}}, \"16\": {\"to_node_id\": \"1576666\", \"from_node_id\": \"1577047\", \"b2\": {\"y\": 4654.322265625, \"x\": 1460.0}, \"b1\": {\"y\": 4488.7, \"x\": 1460.0}}}, \"genes\": [{\"bigg_id\": \"b2492\", \"name\": \"focB\"}, {\"bigg_id\": \"b0904\", \"name\": \"focA\"}], \"reversibility\": false, \"metabolites\": [{\"coefficient\": 1.0, \"bigg_id\": \"for_e\"}, {\"coefficient\": -1.0, \"bigg_id\": \"for_c\"}], \"label_x\": 1479.5206298828125, \"label_y\": 4509.27197265625, \"gene_reaction_rule\": \"b0904 or b2492\"}, \"1576747\": {\"name\": \"D-lactate dehydrogenase\", \"bigg_id\": \"LDH_D\", \"segments\": {\"120\": {\"to_node_id\": \"1576957\", \"from_node_id\": \"1576956\", \"b2\": null, \"b1\": null}, \"121\": {\"to_node_id\": \"1576955\", \"from_node_id\": \"1576957\", \"b2\": null, \"b1\": null}, \"122\": {\"to_node_id\": \"1576956\", \"from_node_id\": \"1576633\", \"b2\": {\"y\": 4240.660459763366, \"x\": 1055.0}, \"b1\": {\"y\": 4277.201532544553, \"x\": 1055.0}}, \"123\": {\"to_node_id\": \"1576956\", \"from_node_id\": \"1576584\", \"b2\": {\"y\": 4243.0, \"x\": 1055.0}, \"b1\": {\"y\": 4285.0, \"x\": 1055.0}}, \"124\": {\"to_node_id\": \"1576634\", \"from_node_id\": \"1576955\", \"b2\": {\"y\": 4060.9687576256715, \"x\": 1055.0}, \"b1\": {\"y\": 4105.790627287702, \"x\": 1055.0}}, \"125\": {\"to_node_id\": \"1576511\", \"from_node_id\": \"1576955\", \"b2\": {\"y\": 4035.0, \"x\": 1055.0}, \"b1\": {\"y\": 4098.0, \"x\": 1055.0}}, \"126\": {\"to_node_id\": \"1576635\", \"from_node_id\": \"1576955\", \"b2\": {\"y\": 4072.7984674554473, \"x\": 1055.0}, \"b1\": {\"y\": 4109.339540236634, \"x\": 1055.0}}}, \"genes\": [{\"bigg_id\": \"b1380\", \"name\": \"ldhA\"}, {\"bigg_id\": \"b2133\", \"name\": \"dld\"}], \"reversibility\": true, \"metabolites\": [{\"coefficient\": 1.0, \"bigg_id\": \"pyr_c\"}, {\"coefficient\": 1.0, \"bigg_id\": \"h_c\"}, {\"coefficient\": -1.0, \"bigg_id\": \"lac__D_c\"}, {\"coefficient\": -1.0, \"bigg_id\": \"nad_c\"}, {\"coefficient\": 1.0, \"bigg_id\": \"nadh_c\"}], \"label_x\": 1065.0, \"label_y\": 4165.0, \"gene_reaction_rule\": \"b2133 or b1380\"}, \"1576746\": {\"name\": \"ATP maintenance requirement\", \"bigg_id\": \"ATPM\", \"segments\": {\"115\": {\"to_node_id\": \"1576952\", \"from_node_id\": \"1576534\", \"b2\": {\"y\": 1176.0, \"x\": 4215.0}, \"b1\": {\"y\": 1120.0, \"x\": 4215.0}}, \"114\": {\"to_node_id\": \"1576954\", \"from_node_id\": \"1576953\", \"b2\": null, \"b1\": null}, \"117\": {\"to_node_id\": \"1576631\", \"from_node_id\": \"1576954\", \"b2\": {\"y\": 1411.0327780786686, \"x\": 4215.0}, \"b1\": {\"y\": 1368.3098334236006, \"x\": 4215.0}}, \"116\": {\"to_node_id\": \"1576952\", \"from_node_id\": \"1576630\", \"b2\": {\"y\": 1187.2720779386423, \"x\": 4215.0}, \"b1\": {\"y\": 1157.5735931288073, \"x\": 4215.0}}, \"113\": {\"to_node_id\": \"1576953\", \"from_node_id\": \"1576952\", \"b2\": null, \"b1\": null}, \"119\": {\"to_node_id\": \"1576536\", \"from_node_id\": \"1576954\", \"b2\": {\"y\": 1430.0, \"x\": 4215.0}, \"b1\": {\"y\": 1374.0, \"x\": 4215.0}}, \"118\": {\"to_node_id\": \"1576632\", \"from_node_id\": \"1576954\", \"b2\": {\"y\": 1388.0788655293195, \"x\": 4215.0}, \"b1\": {\"y\": 1361.423659658796, \"x\": 4215.0}}}, \"genes\": [], \"reversibility\": false, \"metabolites\": [{\"coefficient\": 1.0, \"bigg_id\": \"adp_c\"}, {\"coefficient\": 1.0, \"bigg_id\": \"h_c\"}, {\"coefficient\": -1.0, \"bigg_id\": \"atp_c\"}, {\"coefficient\": -1.0, \"bigg_id\": \"h2o_c\"}, {\"coefficient\": 1.0, \"bigg_id\": \"pi_c\"}], \"label_x\": 4241.11474609375, \"label_y\": 1266.1151123046875, \"gene_reaction_rule\": \"\"}, \"1576745\": {\"name\": \"Glutaminase\", \"bigg_id\": \"GLUN\", \"segments\": {\"108\": {\"to_node_id\": \"1576949\", \"from_node_id\": \"1576951\", \"b2\": null, \"b1\": null}, \"109\": {\"to_node_id\": \"1576950\", \"from_node_id\": \"1576628\", \"b2\": {\"y\": 3888.700961498954, \"x\": 4247.0}, \"b1\": {\"y\": 3916.003204996513, \"x\": 4247.0}}, \"111\": {\"to_node_id\": \"1576629\", \"from_node_id\": \"1576949\", \"b2\": {\"y\": 3777.1681351239463, \"x\": 4247.0}, \"b1\": {\"y\": 3803.650440537184, \"x\": 4247.0}}, \"110\": {\"to_node_id\": \"1576950\", \"from_node_id\": \"1576578\", \"b2\": {\"y\": 3909.550345620285, \"x\": 4247.0}, \"b1\": {\"y\": 3985.501152067616, \"x\": 4247.0}}, \"112\": {\"to_node_id\": \"1576554\", \"from_node_id\": \"1576949\", \"b2\": {\"y\": 3723.4986338899794, \"x\": 4247.0}, \"b1\": {\"y\": 3787.5495901669938, \"x\": 4247.0}}, \"107\": {\"to_node_id\": \"1576951\", \"from_node_id\": \"1576950\", \"b2\": null, \"b1\": null}}, \"genes\": [{\"bigg_id\": \"b1524\", \"name\": \"glsB\"}, {\"bigg_id\": \"b0485\", \"name\": \"glsA\"}, {\"bigg_id\": \"b1812\", \"name\": \"pabB\"}], \"reversibility\": false, \"metabolites\": [{\"coefficient\": 1.0, \"bigg_id\": \"glu__L_c\"}, {\"coefficient\": -1.0, \"bigg_id\": \"gln__L_c\"}, {\"coefficient\": 1.0, \"bigg_id\": \"nh4_c\"}, {\"coefficient\": -1.0, \"bigg_id\": \"h2o_c\"}], \"label_x\": 4253.77685546875, \"label_y\": 3866.338134765625, \"gene_reaction_rule\": \"b1812 or b0485 or b1524\"}, \"1576744\": {\"name\": \"Acetate exchange\", \"bigg_id\": \"EX_ac_e\", \"segments\": {\"105\": {\"to_node_id\": \"1576947\", \"from_node_id\": \"1576627\", \"b2\": {\"y\": 4890.0, \"x\": 1715.0}, \"b1\": {\"y\": 4888.64794921875, \"x\": 1715.0}}}, \"genes\": [], \"reversibility\": false, \"metabolites\": [{\"coefficient\": -1.0, \"bigg_id\": \"ac_e\"}], \"label_x\": 1742.4544677734375, \"label_y\": 4917.06640625, \"gene_reaction_rule\": \"\"}, \"1576743\": {\"name\": \"Glucose 6-phosphate dehydrogenase\", \"bigg_id\": \"G6PDH2r\", \"segments\": {\"99\": {\"to_node_id\": \"1576944\", \"from_node_id\": \"1576945\", \"b2\": null, \"b1\": null}, \"98\": {\"to_node_id\": \"1576945\", \"from_node_id\": \"1576946\", \"b2\": null, \"b1\": null}, \"102\": {\"to_node_id\": \"1576624\", \"from_node_id\": \"1576944\", \"b2\": {\"y\": 1265.0, \"x\": 1393.0018939122203}, \"b1\": {\"y\": 1265.0, \"x\": 1346.800568173666}}, \"103\": {\"to_node_id\": \"1576625\", \"from_node_id\": \"1576944\", \"b2\": {\"y\": 1265.0, \"x\": 1381.6008241696038}, \"b1\": {\"y\": 1265.0, \"x\": 1343.3802472508812}}, \"100\": {\"to_node_id\": \"1576946\", \"from_node_id\": \"1576623\", \"b2\": {\"y\": 1265.0, \"x\": 1270.6197527491188}, \"b1\": {\"y\": 1265.0, \"x\": 1232.3991758303962}}, \"101\": {\"to_node_id\": \"1576946\", \"from_node_id\": \"1576524\", \"b2\": {\"y\": 1265.0, \"x\": 1252.2}, \"b1\": {\"y\": 1265.0, \"x\": 1171.0}}, \"104\": {\"to_node_id\": \"1576626\", \"from_node_id\": \"1576944\", \"b2\": {\"y\": 1265.0, \"x\": 1417.0}, \"b1\": {\"y\": 1265.0, \"x\": 1354.0}}}, \"genes\": [{\"bigg_id\": \"b1852\", \"name\": \"zwf\"}], \"reversibility\": true, \"metabolites\": [{\"coefficient\": -1.0, \"bigg_id\": \"g6p_c\"}, {\"coefficient\": 1.0, \"bigg_id\": \"h_c\"}, {\"coefficient\": -1.0, \"bigg_id\": \"nadp_c\"}, {\"coefficient\": 1.0, \"bigg_id\": \"nadph_c\"}, {\"coefficient\": 1.0, \"bigg_id\": \"6pgl_c\"}], \"label_x\": 1261.46337890625, \"label_y\": 1320.0572509765625, \"gene_reaction_rule\": \"b1852\"}, \"1576742\": {\"name\": \"Malic enzyme (NAD)\", \"bigg_id\": \"ME1\", \"segments\": {\"91\": {\"to_node_id\": \"1576942\", \"from_node_id\": \"1576941\", \"b2\": null, \"b1\": null}, \"93\": {\"to_node_id\": \"1576941\", \"from_node_id\": \"1576504\", \"b2\": {\"y\": 3307.175835174097, \"x\": 2355.6483296518063}, \"b1\": {\"y\": 3253.9194505803225, \"x\": 2462.161098839355}}, \"92\": {\"to_node_id\": \"1576943\", \"from_node_id\": \"1576942\", \"b2\": null, \"b1\": null}, \"95\": {\"to_node_id\": \"1576511\", \"from_node_id\": \"1576943\", \"b2\": {\"y\": 3870.856276574083, \"x\": 1117.2138384533964}, \"b1\": {\"y\": 3474.7533185191, \"x\": 2020.4933629618001}}, \"94\": {\"to_node_id\": \"1576941\", \"from_node_id\": \"1576620\", \"b2\": {\"y\": 3321.8944463483363, \"x\": 2326.2111073033275}, \"b1\": {\"y\": 3302.9814878277875, \"x\": 2364.0370243444254}}, \"97\": {\"to_node_id\": \"1576622\", \"from_node_id\": \"1576943\", \"b2\": {\"y\": 3415.0, \"x\": 2140.0}, \"b1\": {\"y\": 3397.5, \"x\": 2175.0}}, \"96\": {\"to_node_id\": \"1576621\", \"from_node_id\": \"1576943\", \"b2\": {\"y\": 3419.8328677803524, \"x\": 2130.3342644392947}, \"b1\": {\"y\": 3398.949860334106, \"x\": 2172.1002793317884}}}, \"genes\": [{\"bigg_id\": \"b1479\", \"name\": \"maeA\"}], \"reversibility\": false, \"metabolites\": [{\"coefficient\": -1.0, \"bigg_id\": \"mal__L_c\"}, {\"coefficient\": 1.0, \"bigg_id\": \"pyr_c\"}, {\"coefficient\": 1.0, \"bigg_id\": \"co2_c\"}, {\"coefficient\": -1.0, \"bigg_id\": \"nad_c\"}, {\"coefficient\": 1.0, \"bigg_id\": \"nadh_c\"}], \"label_x\": 2188.595703125, \"label_y\": 3321.438232421875, \"gene_reaction_rule\": \"b1479\"}, \"1576741\": {\"name\": \"GLNabc\", \"bigg_id\": \"GLNabc\", \"segments\": {\"88\": {\"to_node_id\": \"1576617\", \"from_node_id\": \"1576938\", \"b2\": {\"y\": 4158.0, \"x\": 4332.993902665717}, \"b1\": {\"y\": 4158.0, \"x\": 4390.398170799715}}, \"89\": {\"to_node_id\": \"1576618\", \"from_node_id\": \"1576938\", \"b2\": {\"y\": 4158.0, \"x\": 4362.798467455447}, \"b1\": {\"y\": 4158.0, \"x\": 4399.339540236634}}, \"90\": {\"to_node_id\": \"1576619\", \"from_node_id\": \"1576938\", \"b2\": {\"y\": 4158.0, \"x\": 4350.968757625671}, \"b1\": {\"y\": 4158.0, \"x\": 4395.790627287702}}, \"82\": {\"to_node_id\": \"1576939\", \"from_node_id\": \"1576940\", \"b2\": null, \"b1\": null}, \"83\": {\"to_node_id\": \"1576938\", \"from_node_id\": \"1576939\", \"b2\": null, \"b1\": null}, \"86\": {\"to_node_id\": \"1576940\", \"from_node_id\": \"1576616\", \"b2\": {\"y\": 4158.0, \"x\": 4470.660459763366}, \"b1\": {\"y\": 4158.0, \"x\": 4507.201532544553}}, \"87\": {\"to_node_id\": \"1576578\", \"from_node_id\": \"1576938\", \"b2\": {\"y\": 4158.0, \"x\": 4324.643760591755}, \"b1\": {\"y\": 4158.0, \"x\": 4387.893128177527}}, \"84\": {\"to_node_id\": \"1576940\", \"from_node_id\": \"1576537\", \"b2\": {\"y\": 4158.0, \"x\": 4519.05}, \"b1\": {\"y\": 4158.0, \"x\": 4668.5}}, \"85\": {\"to_node_id\": \"1576940\", \"from_node_id\": \"1576615\", \"b2\": {\"y\": 4158.0, \"x\": 4474.209372712298}, \"b1\": {\"y\": 4158.0, \"x\": 4519.031242374329}}}, \"genes\": [{\"bigg_id\": \"b0811\", \"name\": \"glnH\"}, {\"bigg_id\": \"b0810\", \"name\": \"glnP\"}, {\"bigg_id\": \"b0809\", \"name\": \"glnQ\"}], \"reversibility\": false, \"metabolites\": [{\"coefficient\": -1.0, \"bigg_id\": \"h2o_c\"}, {\"coefficient\": -1.0, \"bigg_id\": \"atp_c\"}, {\"coefficient\": -1.0, \"bigg_id\": \"gln__L_e\"}, {\"coefficient\": 1.0, \"bigg_id\": \"adp_c\"}, {\"coefficient\": 1.0, \"bigg_id\": \"h_c\"}, {\"coefficient\": 1.0, \"bigg_id\": \"pi_c\"}, {\"coefficient\": 1.0, \"bigg_id\": \"gln__L_c\"}], \"label_x\": 4535.24462890625, \"label_y\": 4133.49658203125, \"gene_reaction_rule\": \"b0811 and b0810 and b0809\"}, \"1577547\": {\"name\": \"Biomass Objective Function with GAM\", \"bigg_id\": \"BIOMASS_Ecoli_core_w_GAM\", \"segments\": {\"498\": {\"to_node_id\": \"1577090\", \"from_node_id\": \"1577076\", \"b2\": {\"y\": 4899.2412109375, \"x\": 5215.0458984375}, \"b1\": {\"y\": 4793.48193359375, \"x\": 5334.0517578125}}, \"499\": {\"to_node_id\": \"1577091\", \"from_node_id\": \"1577076\", \"b2\": {\"y\": 4977.43115234375, \"x\": 5353.5947265625}, \"b1\": {\"y\": 4789.48193359375, \"x\": 5334.0517578125}}, \"494\": {\"to_node_id\": \"1577086\", \"from_node_id\": \"1577074\", \"b2\": {\"y\": 4564.25048828125, \"x\": 5140.27099609375}, \"b1\": {\"y\": 4681.48193359375, \"x\": 5334.0517578125}}, \"495\": {\"to_node_id\": \"1577087\", \"from_node_id\": \"1577076\", \"b2\": {\"y\": 4938.26416015625, \"x\": 5273.55517578125}, \"b1\": {\"y\": 4793.48193359375, \"x\": 5334.0517578125}}, \"496\": {\"to_node_id\": \"1577088\", \"from_node_id\": \"1577074\", \"b2\": {\"y\": 4579.03759765625, \"x\": 5068.69580078125}, \"b1\": {\"y\": 4681.48193359375, \"x\": 5334.0517578125}}, \"497\": {\"to_node_id\": \"1577089\", \"from_node_id\": \"1577074\", \"b2\": {\"y\": 4594.88134765625, \"x\": 5023.52734375}, \"b1\": {\"y\": 4681.48193359375, \"x\": 5334.0517578125}}, \"490\": {\"to_node_id\": \"1577082\", \"from_node_id\": \"1577074\", \"b2\": {\"y\": 4413.09912109375, \"x\": 5307.541015625}, \"b1\": {\"y\": 4681.48193359375, \"x\": 5334.0517578125}}, \"491\": {\"to_node_id\": \"1577083\", \"from_node_id\": \"1577074\", \"b2\": {\"y\": 4523.05615234375, \"x\": 5316.9716796875}, \"b1\": {\"y\": 4681.48193359375, \"x\": 5334.0517578125}}, \"492\": {\"to_node_id\": \"1577084\", \"from_node_id\": \"1577074\", \"b2\": {\"y\": 4533.61865234375, \"x\": 5258.0712890625}, \"b1\": {\"y\": 4681.48193359375, \"x\": 5334.0517578125}}, \"493\": {\"to_node_id\": \"1577085\", \"from_node_id\": \"1577074\", \"b2\": {\"y\": 4544.18115234375, \"x\": 5197.05859375}, \"b1\": {\"y\": 4681.48193359375, \"x\": 5334.0517578125}}, \"506\": {\"to_node_id\": \"1577098\", \"from_node_id\": \"1577076\", \"b2\": {\"y\": 4820.185546875, \"x\": 5099.533203125}, \"b1\": {\"y\": 4793.48193359375, \"x\": 5334.0517578125}}, \"504\": {\"to_node_id\": \"1577096\", \"from_node_id\": \"1577076\", \"b2\": {\"y\": 4868.333984375, \"x\": 5114.79541015625}, \"b1\": {\"y\": 4793.48193359375, \"x\": 5334.0517578125}}, \"505\": {\"to_node_id\": \"1577097\", \"from_node_id\": \"1577074\", \"b2\": {\"y\": 4717.4072265625, \"x\": 4780.78271484375}, \"b1\": {\"y\": 4681.48193359375, \"x\": 5334.0517578125}}, \"502\": {\"to_node_id\": \"1577094\", \"from_node_id\": \"1577074\", \"b2\": {\"y\": 4664.59423828125, \"x\": 4851.0517578125}, \"b1\": {\"y\": 4681.48193359375, \"x\": 5334.0517578125}}, \"503\": {\"to_node_id\": \"1577095\", \"from_node_id\": \"1577074\", \"b2\": {\"y\": 4685.7197265625, \"x\": 4807.9951171875}, \"b1\": {\"y\": 4681.48193359375, \"x\": 5334.0517578125}}, \"500\": {\"to_node_id\": \"1577092\", \"from_node_id\": \"1577074\", \"b2\": {\"y\": 4611.78173828125, \"x\": 4962.51416015625}, \"b1\": {\"y\": 4681.48193359375, \"x\": 5334.0517578125}}, \"501\": {\"to_node_id\": \"1577093\", \"from_node_id\": \"1577074\", \"b2\": {\"y\": 4637.1318359375, \"x\": 4907.83935546875}, \"b1\": {\"y\": 4681.48193359375, \"x\": 5334.0517578125}}, \"489\": {\"to_node_id\": \"1577081\", \"from_node_id\": \"1577076\", \"b2\": {\"y\": 5001.37158203125, \"x\": 5337.27587890625}, \"b1\": {\"y\": 4793.48193359375, \"x\": 5334.0517578125}}, \"488\": {\"to_node_id\": \"1577080\", \"from_node_id\": \"1577074\", \"b2\": {\"y\": 4453.01611328125, \"x\": 5350.98828125}, \"b1\": {\"y\": 4681.48193359375, \"x\": 5334.0517578125}}, \"487\": {\"to_node_id\": \"1577079\", \"from_node_id\": \"1577074\", \"b2\": {\"y\": 4516.16943359375, \"x\": 5423.4208984375}, \"b1\": {\"y\": 4681.48193359375, \"x\": 5334.0517578125}}, \"486\": {\"to_node_id\": \"1577078\", \"from_node_id\": \"1577074\", \"b2\": {\"y\": 4630.19921875, \"x\": 5427.28515625}, \"b1\": {\"y\": 4681.48193359375, \"x\": 5334.0517578125}}, \"485\": {\"to_node_id\": \"1577077\", \"from_node_id\": \"1577076\", \"b2\": {\"y\": 4926.6220703125, \"x\": 5391.197265625}, \"b1\": {\"y\": 4793.48193359375, \"x\": 5334.0517578125}}, \"484\": {\"to_node_id\": \"1577073\", \"from_node_id\": \"1577074\", \"b2\": {\"y\": 4573.30322265625, \"x\": 5455.328125}, \"b1\": {\"y\": 4685.48193359375, \"x\": 5334.0517578125}}, \"483\": {\"to_node_id\": \"1577075\", \"from_node_id\": \"1577076\", \"b2\": null, \"b1\": null}, \"482\": {\"to_node_id\": \"1577075\", \"from_node_id\": \"1577074\", \"b2\": null, \"b1\": null}}, \"genes\": [], \"reversibility\": false, \"metabolites\": [{\"coefficient\": 3.7478, \"bigg_id\": \"coa_c\"}, {\"coefficient\": -0.8977, \"bigg_id\": \"r5p_c\"}, {\"coefficient\": -1.496, \"bigg_id\": \"3pg_c\"}, {\"coefficient\": -0.361, \"bigg_id\": \"e4p_c\"}, {\"coefficient\": -0.2557, \"bigg_id\": \"gln__L_c\"}, {\"coefficient\": 3.547, \"bigg_id\": \"nadh_c\"}, {\"coefficient\": -2.8328, \"bigg_id\": \"pyr_c\"}, {\"coefficient\": -0.0709, \"bigg_id\": \"f6p_c\"}, {\"coefficient\": -13.0279, \"bigg_id\": \"nadph_c\"}, {\"coefficient\": -3.7478, \"bigg_id\": \"accoa_c\"}, {\"coefficient\": -1.7867, \"bigg_id\": \"oaa_c\"}, {\"coefficient\": -0.129, \"bigg_id\": \"g3p_c\"}, {\"coefficient\": -3.547, \"bigg_id\": \"nad_c\"}, {\"coefficient\": 59.81, \"bigg_id\": \"pi_c\"}, {\"coefficient\": -0.205, \"bigg_id\": \"g6p_c\"}, {\"coefficient\": 4.1182, \"bigg_id\": \"akg_c\"}, {\"coefficient\": -0.5191, \"bigg_id\": \"pep_c\"}, {\"coefficient\": -4.9414, \"bigg_id\": \"glu__L_c\"}, {\"coefficient\": -59.81, \"bigg_id\": \"atp_c\"}, {\"coefficient\": 59.81, \"bigg_id\": \"adp_c\"}, {\"coefficient\": 59.81, \"bigg_id\": \"h_c\"}, {\"coefficient\": -59.81, \"bigg_id\": \"h2o_c\"}, {\"coefficient\": 13.0279, \"bigg_id\": \"nadp_c\"}], \"label_x\": 5392.94580078125, \"label_y\": 4746.6962890625, \"gene_reaction_rule\": \"\"}, \"1576749\": {\"name\": \"H2O transport via diffusion\", \"bigg_id\": \"H2Ot\", \"segments\": {\"135\": {\"to_node_id\": \"1576640\", \"from_node_id\": \"1576961\", \"b2\": {\"y\": 4524.0, \"x\": 3257.0}, \"b1\": {\"y\": 4587.0, \"x\": 3257.0}}, \"134\": {\"to_node_id\": \"1576961\", \"from_node_id\": \"1576639\", \"b2\": {\"y\": 4684.0, \"x\": 3257.0}, \"b1\": {\"y\": 4733.0, \"x\": 3257.0}}}, \"genes\": [{\"bigg_id\": \"s0001\", \"name\": \"None\"}, {\"bigg_id\": \"b0875\", \"name\": \"aqpZ\"}], \"reversibility\": true, \"metabolites\": [{\"coefficient\": 1.0, \"bigg_id\": \"h2o_c\"}, {\"coefficient\": -1.0, \"bigg_id\": \"h2o_e\"}], \"label_x\": 3267.0, \"label_y\": 4604.0, \"gene_reaction_rule\": \"b0875 or s0001\"}, \"1576748\": {\"name\": \"Malate dehydrogenase\", \"bigg_id\": \"MDH\", \"segments\": {\"133\": {\"to_node_id\": \"1576521\", \"from_node_id\": \"1576958\", \"b2\": {\"y\": 3595.960728582294, \"x\": 2580.6915524727365}, \"b1\": {\"y\": 3497.9882185746883, \"x\": 2578.807465741821}}, \"132\": {\"to_node_id\": \"1576638\", \"from_node_id\": \"1576958\", \"b2\": {\"y\": 3505.0826757349405, \"x\": 2578.9438976102874}, \"b1\": {\"y\": 3470.7248027204823, \"x\": 2578.2831692830864}}, \"131\": {\"to_node_id\": \"1576637\", \"from_node_id\": \"1576958\", \"b2\": {\"y\": 3538.2116199944217, \"x\": 2579.5809926922}, \"b1\": {\"y\": 3480.6634859983265, \"x\": 2578.47429780766}}, \"130\": {\"to_node_id\": \"1576960\", \"from_node_id\": \"1576636\", \"b2\": {\"y\": 3327.0487806839114, \"x\": 2583.107239628261}, \"b1\": {\"y\": 3294.4959356130375, \"x\": 2585.69079876087}}, \"127\": {\"to_node_id\": \"1576959\", \"from_node_id\": \"1576960\", \"b2\": null, \"b1\": null}, \"128\": {\"to_node_id\": \"1576958\", \"from_node_id\": \"1576959\", \"b2\": null, \"b1\": null}, \"129\": {\"to_node_id\": \"1576960\", \"from_node_id\": \"1576504\", \"b2\": {\"y\": 3317.969496697346, \"x\": 2583.827817722433}, \"b1\": {\"y\": 3264.23165565782, \"x\": 2588.092725741443}}}, \"genes\": [{\"bigg_id\": \"b3236\", \"name\": \"mdh\"}], \"reversibility\": true, \"metabolites\": [{\"coefficient\": -1.0, \"bigg_id\": \"mal__L_c\"}, {\"coefficient\": 1.0, \"bigg_id\": \"h_c\"}, {\"coefficient\": 1.0, \"bigg_id\": \"oaa_c\"}, {\"coefficient\": -1.0, \"bigg_id\": \"nad_c\"}, {\"coefficient\": 1.0, \"bigg_id\": \"nadh_c\"}], \"label_x\": 2587.0, \"label_y\": 3394.0, \"gene_reaction_rule\": \"b3236\"}, \"1577545\": {\"name\": \"Succinate dehydrogenase (irreversible)\", \"bigg_id\": \"SUCDi\", \"segments\": {\"48\": {\"to_node_id\": \"1577066\", \"from_node_id\": \"1577065\", \"b2\": null, \"b1\": null}, \"49\": {\"to_node_id\": \"1577064\", \"from_node_id\": \"1576814\", \"b2\": {\"y\": 2816.4590794794085, \"x\": 3193.7934732750823}, \"b1\": {\"y\": 2815.1969315980286, \"x\": 3225.9782442502737}}, \"47\": {\"to_node_id\": \"1577065\", \"from_node_id\": \"1577064\", \"b2\": null, \"b1\": null}, \"51\": {\"to_node_id\": \"1576503\", \"from_node_id\": \"1577066\", \"b2\": {\"y\": 2843.2084583195547, \"x\": 2952.624089386102}, \"b1\": {\"y\": 2831.162537495866, \"x\": 3040.3872268158307}}, \"50\": {\"to_node_id\": \"1577064\", \"from_node_id\": \"1576533\", \"b2\": {\"y\": 2815.5590310361767, \"x\": 3216.7447085774984}, \"b1\": {\"y\": 2812.1967701205886, \"x\": 3302.482361924995}}, \"52\": {\"to_node_id\": \"1576830\", \"from_node_id\": \"1577066\", \"b2\": {\"y\": 2833.0526323200284, \"x\": 3026.6165359540787}, \"b1\": {\"y\": 2828.1157896960085, \"x\": 3062.5849607862237}}}, \"genes\": [{\"bigg_id\": \"b0724\", \"name\": \"sdhB\"}, {\"bigg_id\": \"b0721\", \"name\": \"sdhC\"}, {\"bigg_id\": \"b0722\", \"name\": \"sdhD\"}, {\"bigg_id\": \"b0723\", \"name\": \"sdhA\"}], \"reversibility\": false, \"metabolites\": [{\"coefficient\": -1.0, \"bigg_id\": \"succ_c\"}, {\"coefficient\": 1.0, \"bigg_id\": \"fum_c\"}, {\"coefficient\": -1.0, \"bigg_id\": \"q8_c\"}, {\"coefficient\": 1.0, \"bigg_id\": \"q8h2_c\"}], \"label_x\": 3108.851318359375, \"label_y\": 2862.949951171875, \"gene_reaction_rule\": \"b0721 and b0722 and b0723 and b0724\"}, \"1577540\": {\"name\": \"NADH dehydrogenase (ubiquinone-8 & 3 protons)\", \"bigg_id\": \"NADH16\", \"segments\": {\"39\": {\"to_node_id\": \"1577062\", \"from_node_id\": \"1577061\", \"b2\": null, \"b1\": null}, \"46\": {\"to_node_id\": \"1576542\", \"from_node_id\": \"1577063\", \"b2\": {\"y\": 2507.151123046875, \"x\": 4630.938294107013}, \"b1\": {\"y\": 2571.611572265625, \"x\": 4800.053949169604}}, \"44\": {\"to_node_id\": \"1576808\", \"from_node_id\": \"1577063\", \"b2\": {\"y\": 2570.0, \"x\": 4780.0}, \"b1\": {\"y\": 2568.388427734375, \"x\": 4766.45361328125}}, \"45\": {\"to_node_id\": \"1576809\", \"from_node_id\": \"1577063\", \"b2\": {\"y\": 2655.409912109375, \"x\": 4928.099683314913}, \"b1\": {\"y\": 2570.000244140625, \"x\": 4798.6355690569735}}, \"42\": {\"to_node_id\": \"1577061\", \"from_node_id\": \"1576827\", \"b2\": {\"y\": 2570.0, \"x\": 4595.729021023612}, \"b1\": {\"y\": 2567.302001953125, \"x\": 4458.799047943291}}, \"43\": {\"to_node_id\": \"1577061\", \"from_node_id\": \"1576539\", \"b2\": {\"y\": 2570.0, \"x\": 4542.513923505967}, \"b1\": {\"y\": 2375.007080078125, \"x\": 4706.342147363639}}, \"40\": {\"to_node_id\": \"1577063\", \"from_node_id\": \"1577062\", \"b2\": null, \"b1\": null}, \"41\": {\"to_node_id\": \"1577061\", \"from_node_id\": \"1576820\", \"b2\": {\"y\": 2570.0, \"x\": 4582.0}, \"b1\": {\"y\": 2570.0, \"x\": 4470.0}}}, \"genes\": [{\"bigg_id\": \"b2284\", \"name\": \"nuoF\"}, {\"bigg_id\": \"b2279\", \"name\": \"nuoK\"}, {\"bigg_id\": \"b2287\", \"name\": \"nuoB\"}, {\"bigg_id\": \"b2286\", \"name\": \"nuoC\"}, {\"bigg_id\": \"b2288\", \"name\": \"nuoA\"}, {\"bigg_id\": \"b2283\", \"name\": \"nuoG\"}, {\"bigg_id\": \"b2277\", \"name\": \"nuoM\"}, {\"bigg_id\": \"b2281\", \"name\": \"nuoI\"}, {\"bigg_id\": \"b2280\", \"name\": \"nuoJ\"}, {\"bigg_id\": \"b2276\", \"name\": \"nuoN\"}, {\"bigg_id\": \"b2282\", \"name\": \"nuoH\"}, {\"bigg_id\": \"b2278\", \"name\": \"nuoL\"}, {\"bigg_id\": \"b2285\", \"name\": \"nuoE\"}], \"reversibility\": false, \"metabolites\": [{\"coefficient\": 3.0, \"bigg_id\": \"h_e\"}, {\"coefficient\": -1.0, \"bigg_id\": \"q8_c\"}, {\"coefficient\": -1.0, \"bigg_id\": \"nadh_c\"}, {\"coefficient\": 1.0, \"bigg_id\": \"q8h2_c\"}, {\"coefficient\": -4.0, \"bigg_id\": \"h_c\"}, {\"coefficient\": 1.0, \"bigg_id\": \"nad_c\"}], \"label_x\": 4589.75537109375, \"label_y\": 2624.46044921875, \"gene_reaction_rule\": \"b2276 and b2277 and b2278 and b2279 and b2280 and b2281 and b2282 and b2283 and b2284 and b2285 and b2286 and b2287 and b2288\"}, \"1577507\": {\"name\": \"Alcohol dehydrogenase (ethanol)\", \"bigg_id\": \"ALCD2x\", \"segments\": {\"3\": {\"to_node_id\": \"1577043\", \"from_node_id\": \"1577042\", \"b2\": null, \"b1\": null}, \"2\": {\"to_node_id\": \"1577042\", \"from_node_id\": \"1577041\", \"b2\": null, \"b1\": null}, \"5\": {\"to_node_id\": \"1577041\", \"from_node_id\": \"1576822\", \"b2\": {\"y\": 4111.911975251582, \"x\": 2383.7628306266947}, \"b1\": {\"y\": 4139.7065841719395, \"x\": 2413.5427687556494}}, \"4\": {\"to_node_id\": \"1577041\", \"from_node_id\": \"1576829\", \"b2\": {\"y\": 4118.6722220553565, \"x\": 2391.0059522021684}, \"b1\": {\"y\": 4162.240740184523, \"x\": 2437.6865073405606}}, \"7\": {\"to_node_id\": \"1576813\", \"from_node_id\": \"1577043\", \"b2\": {\"y\": 4033.046682944248, \"x\": 2306.576904081298}, \"b1\": {\"y\": 4059.6140048832744, \"x\": 2331.3730712243896}}, \"6\": {\"to_node_id\": \"1576817\", \"from_node_id\": \"1577043\", \"b2\": {\"y\": 4004.2974661013272, \"x\": 2279.744301694572}, \"b1\": {\"y\": 4050.989239830398, \"x\": 2323.3232905083714}}, \"8\": {\"to_node_id\": \"1576824\", \"from_node_id\": \"1577043\", \"b2\": {\"y\": 4021.1795086945217, \"x\": 2295.5008747815536}, \"b1\": {\"y\": 4056.0538526083565, \"x\": 2328.0502624344663}}}, \"genes\": [{\"bigg_id\": \"b1241\", \"name\": \"adhE\"}, {\"bigg_id\": \"b0356\", \"name\": \"frmA\"}, {\"bigg_id\": \"b1478\", \"name\": \"adhP\"}], \"reversibility\": true, \"metabolites\": [{\"coefficient\": 1.0, \"bigg_id\": \"acald_c\"}, {\"coefficient\": 1.0, \"bigg_id\": \"h_c\"}, {\"coefficient\": -1.0, \"bigg_id\": \"nad_c\"}, {\"coefficient\": 1.0, \"bigg_id\": \"nadh_c\"}, {\"coefficient\": -1.0, \"bigg_id\": \"etoh_c\"}], \"label_x\": 2356.4794921875, \"label_y\": 4047.4384765625, \"gene_reaction_rule\": \"b0356 or b1478 or b1241\"}, \"1576754\": {\"name\": \"Phosphoenolpyruvate synthase\", \"bigg_id\": \"PPS\", \"segments\": {\"151\": {\"to_node_id\": \"1576970\", \"from_node_id\": \"1576511\", \"b2\": {\"y\": 3844.115214431216, \"x\": 835.0}, \"b1\": {\"y\": 3935.384048104053, \"x\": 835.0}}, \"150\": {\"to_node_id\": \"1576970\", \"from_node_id\": \"1576642\", \"b2\": {\"y\": 3821.7705098312485, \"x\": 835.0}, \"b1\": {\"y\": 3860.9016994374947, \"x\": 835.0}}, \"153\": {\"to_node_id\": \"1576517\", \"from_node_id\": \"1576971\", \"b2\": {\"y\": 3391.8647304430565, \"x\": 835.0}, \"b1\": {\"y\": 3485.059419132917, \"x\": 835.0}}, \"152\": {\"to_node_id\": \"1576970\", \"from_node_id\": \"1576643\", \"b2\": {\"y\": 3820.0, \"x\": 835.0}, \"b1\": {\"y\": 3855.0, \"x\": 835.0}}, \"155\": {\"to_node_id\": \"1576645\", \"from_node_id\": \"1576971\", \"b2\": {\"y\": 3475.0, \"x\": 835.0}, \"b1\": {\"y\": 3510.0, \"x\": 835.0}}, \"154\": {\"to_node_id\": \"1576644\", \"from_node_id\": \"1576971\", \"b2\": {\"y\": 3469.0983005625053, \"x\": 835.0}, \"b1\": {\"y\": 3508.2294901687515, \"x\": 835.0}}, \"156\": {\"to_node_id\": \"1576646\", \"from_node_id\": \"1576971\", \"b2\": {\"y\": 3454.289321881345, \"x\": 835.0}, \"b1\": {\"y\": 3503.7867965644036, \"x\": 835.0}}, \"148\": {\"to_node_id\": \"1576972\", \"from_node_id\": \"1576970\", \"b2\": null, \"b1\": null}, \"149\": {\"to_node_id\": \"1576971\", \"from_node_id\": \"1576972\", \"b2\": null, \"b1\": null}}, \"genes\": [{\"bigg_id\": \"b1702\", \"name\": \"ppsA\"}], \"reversibility\": false, \"metabolites\": [{\"coefficient\": -1.0, \"bigg_id\": \"pyr_c\"}, {\"coefficient\": -1.0, \"bigg_id\": \"atp_c\"}, {\"coefficient\": 1.0, \"bigg_id\": \"amp_c\"}, {\"coefficient\": 1.0, \"bigg_id\": \"pep_c\"}, {\"coefficient\": 2.0, \"bigg_id\": \"h_c\"}, {\"coefficient\": 1.0, \"bigg_id\": \"pi_c\"}, {\"coefficient\": -1.0, \"bigg_id\": \"h2o_c\"}], \"label_x\": 741.8604125976562, \"label_y\": 3669.90869140625, \"gene_reaction_rule\": \"b1702\"}, \"1576755\": {\"name\": \"D-Glucose exchange\", \"bigg_id\": \"EX_glc__D_e\", \"segments\": {\"157\": {\"to_node_id\": \"1576974\", \"from_node_id\": \"1576647\", \"b2\": {\"y\": 623.4132690429688, \"x\": 1056.6529541015625}, \"b1\": {\"y\": 625.4632568359375, \"x\": 1055.066162109375}}}, \"genes\": [], \"reversibility\": true, \"metabolites\": [{\"coefficient\": -1.0, \"bigg_id\": \"glc__D_e\"}], \"label_x\": 1082.5206298828125, \"label_y\": 598.4705200195312, \"gene_reaction_rule\": \"\"}, \"1576756\": {\"name\": \"ETOHt2r\", \"bigg_id\": \"ETOHt2r\", \"segments\": {\"159\": {\"to_node_id\": \"1576976\", \"from_node_id\": \"1576977\", \"b2\": null, \"b1\": null}, \"164\": {\"to_node_id\": \"1576829\", \"from_node_id\": \"1576975\", \"b2\": {\"y\": 4328.998762383821, \"x\": 2500.0}, \"b1\": {\"y\": 4399.699628715146, \"x\": 2500.0}}, \"160\": {\"to_node_id\": \"1576975\", \"from_node_id\": \"1576976\", \"b2\": null, \"b1\": null}, \"161\": {\"to_node_id\": \"1576977\", \"from_node_id\": \"1576648\", \"b2\": {\"y\": 4745.660459763366, \"x\": 2500.0}, \"b1\": {\"y\": 4782.201532544553, \"x\": 2500.0}}, \"162\": {\"to_node_id\": \"1576977\", \"from_node_id\": \"1576649\", \"b2\": {\"y\": 4745.0, \"x\": 2500.0}, \"b1\": {\"y\": 4780.0, \"x\": 2500.0}}, \"163\": {\"to_node_id\": \"1576650\", \"from_node_id\": \"1576975\", \"b2\": {\"y\": 4377.798467455447, \"x\": 2500.0}, \"b1\": {\"y\": 4414.339540236634, \"x\": 2500.0}}}, \"genes\": [], \"reversibility\": true, \"metabolites\": [{\"coefficient\": -1.0, \"bigg_id\": \"h_e\"}, {\"coefficient\": 1.0, \"bigg_id\": \"etoh_c\"}, {\"coefficient\": -1.0, \"bigg_id\": \"etoh_e\"}, {\"coefficient\": 1.0, \"bigg_id\": \"h_c\"}], \"label_x\": 2530.6279296875, \"label_y\": 4611.404296875, \"gene_reaction_rule\": \"\"}, \"1576757\": {\"name\": \"Phosphoglycerate mutase\", \"bigg_id\": \"PGM\", \"segments\": {\"165\": {\"to_node_id\": \"1576978\", \"from_node_id\": \"1576522\", \"b2\": {\"y\": 3060.0, \"x\": 1055.0}, \"b1\": {\"y\": 3105.5, \"x\": 1055.0}}, \"166\": {\"to_node_id\": \"1576486\", \"from_node_id\": \"1576978\", \"b2\": {\"y\": 2935.0, \"x\": 1055.0}, \"b1\": {\"y\": 2977.0, \"x\": 1055.0}}}, \"genes\": [{\"bigg_id\": \"b3612\", \"name\": \"gpmM\"}, {\"bigg_id\": \"b4395\", \"name\": \"ytjC\"}, {\"bigg_id\": \"b0755\", \"name\": \"gpmA\"}], \"reversibility\": true, \"metabolites\": [{\"coefficient\": 1.0, \"bigg_id\": \"3pg_c\"}, {\"coefficient\": -1.0, \"bigg_id\": \"2pg_c\"}], \"label_x\": 1065.0, \"label_y\": 2985.0, \"gene_reaction_rule\": \"b3612 or b4395 or b0755\"}, \"1576750\": {\"name\": \"H2O exchange\", \"bigg_id\": \"EX_h2o_e\", \"segments\": {\"136\": {\"to_node_id\": \"1576962\", \"from_node_id\": \"1576639\", \"b2\": {\"y\": 4839.0, \"x\": 3257.0}, \"b1\": {\"y\": 4779.5, \"x\": 3257.0}}}, \"genes\": [], \"reversibility\": true, \"metabolites\": [{\"coefficient\": -1.0, \"bigg_id\": \"h2o_e\"}], \"label_x\": 3267.0, \"label_y\": 4914.0, \"gene_reaction_rule\": \"\"}, \"1576751\": {\"name\": \"Transketolase\", \"bigg_id\": \"TKT1\", \"segments\": {\"142\": {\"to_node_id\": \"1576546\", \"from_node_id\": \"1576966\", \"b2\": {\"y\": 1816.322080948729, \"x\": 2070.2734375}, \"b1\": {\"y\": 1823.819109636181, \"x\": 2173.413330078125}}, \"143\": {\"to_node_id\": \"1576545\", \"from_node_id\": \"1576966\", \"b2\": {\"y\": 1821.0824569252916, \"x\": 2297.1806640625}, \"b1\": {\"y\": 1822.232439714306, \"x\": 2175.0}}, \"140\": {\"to_node_id\": \"1576964\", \"from_node_id\": \"1576605\", \"b2\": {\"y\": 1605.9896167668144, \"x\": 2175.0}, \"b1\": {\"y\": 1557.80791851959, \"x\": 2171.826416015625}}, \"141\": {\"to_node_id\": \"1576964\", \"from_node_id\": \"1576558\", \"b2\": {\"y\": 1607.9527328943145, \"x\": 2175.0}, \"b1\": {\"y\": 1558.0047151164654, \"x\": 2171.82666015625}}, \"139\": {\"to_node_id\": \"1576966\", \"from_node_id\": \"1576965\", \"b2\": null, \"b1\": null}, \"138\": {\"to_node_id\": \"1576965\", \"from_node_id\": \"1576964\", \"b2\": null, \"b1\": null}}, \"genes\": [{\"bigg_id\": \"b2465\", \"name\": \"tktB\"}, {\"bigg_id\": \"b2935\", \"name\": \"tktA\"}], \"reversibility\": true, \"metabolites\": [{\"coefficient\": -1.0, \"bigg_id\": \"xu5p__D_c\"}, {\"coefficient\": -1.0, \"bigg_id\": \"r5p_c\"}, {\"coefficient\": 1.0, \"bigg_id\": \"g3p_c\"}, {\"coefficient\": 1.0, \"bigg_id\": \"s7p_c\"}], \"label_x\": 2185.0, \"label_y\": 1685.0, \"gene_reaction_rule\": \"b2935 or b2465\"}, \"1576752\": {\"name\": \"CO2 transporter via diffusion\", \"bigg_id\": \"CO2t\", \"segments\": {\"144\": {\"to_node_id\": \"1576967\", \"from_node_id\": \"1576544\", \"b2\": {\"y\": 4679.0, \"x\": 3621.0}, \"b1\": {\"y\": 4731.5, \"x\": 3621.0}}, \"145\": {\"to_node_id\": \"1576641\", \"from_node_id\": \"1576967\", \"b2\": {\"y\": 4519.0, \"x\": 3621.0}, \"b1\": {\"y\": 4578.5, \"x\": 3621.0}}}, \"genes\": [{\"bigg_id\": \"s0001\", \"name\": \"None\"}], \"reversibility\": true, \"metabolites\": [{\"coefficient\": -1.0, \"bigg_id\": \"co2_e\"}, {\"coefficient\": 1.0, \"bigg_id\": \"co2_c\"}], \"label_x\": 3631.0, \"label_y\": 4594.0, \"gene_reaction_rule\": \"s0001\"}, \"1576753\": {\"name\": \"2-Oxoglutarate exchange\", \"bigg_id\": \"EX_akg_e\", \"segments\": {\"146\": {\"to_node_id\": \"1576969\", \"from_node_id\": \"1576598\", \"b2\": {\"y\": 3228.0, \"x\": 4977.0}, \"b1\": {\"y\": 3228.0, \"x\": 4938.5}}}, \"genes\": [], \"reversibility\": false, \"metabolites\": [{\"coefficient\": -1.0, \"bigg_id\": \"akg_e\"}], \"label_x\": 5042.0, \"label_y\": 3218.0, \"gene_reaction_rule\": \"\"}, \"1576758\": {\"name\": \"Ethanol exchange\", \"bigg_id\": \"EX_etoh_e\", \"segments\": {\"167\": {\"to_node_id\": \"1576980\", \"from_node_id\": \"1576649\", \"b2\": {\"y\": 4887.93359375, \"x\": 2500.0}, \"b1\": {\"y\": 4875.1484375, \"x\": 2500.0}}}, \"genes\": [], \"reversibility\": false, \"metabolites\": [{\"coefficient\": -1.0, \"bigg_id\": \"etoh_e\"}], \"label_x\": 2519.520751953125, \"label_y\": 4934.28076171875, \"gene_reaction_rule\": \"\"}, \"1576759\": {\"name\": \"Acetate kinase\", \"bigg_id\": \"ACKr\", \"segments\": {\"169\": {\"to_node_id\": \"1576982\", \"from_node_id\": \"1576981\", \"b2\": null, \"b1\": null}, \"174\": {\"to_node_id\": \"1576613\", \"from_node_id\": \"1576983\", \"b2\": {\"y\": 4215.0, \"x\": 1715.0}, \"b1\": {\"y\": 4243.0, \"x\": 1715.0}}, \"173\": {\"to_node_id\": \"1576653\", \"from_node_id\": \"1576983\", \"b2\": {\"y\": 4202.798467455447, \"x\": 1715.0}, \"b1\": {\"y\": 4239.339540236634, \"x\": 1715.0}}, \"172\": {\"to_node_id\": \"1576981\", \"from_node_id\": \"1576652\", \"b2\": {\"y\": 4317.0, \"x\": 1715.0}, \"b1\": {\"y\": 4345.0, \"x\": 1715.0}}, \"171\": {\"to_node_id\": \"1576981\", \"from_node_id\": \"1576651\", \"b2\": {\"y\": 4320.660459763366, \"x\": 1715.0}, \"b1\": {\"y\": 4357.201532544553, \"x\": 1715.0}}, \"170\": {\"to_node_id\": \"1576983\", \"from_node_id\": \"1576982\", \"b2\": null, \"b1\": null}}, \"genes\": [{\"bigg_id\": \"b2296\", \"name\": \"ackA\"}, {\"bigg_id\": \"b3115\", \"name\": \"tdcD\"}, {\"bigg_id\": \"b1849\", \"name\": \"purT\"}], \"reversibility\": true, \"metabolites\": [{\"coefficient\": 1.0, \"bigg_id\": \"adp_c\"}, {\"coefficient\": -1.0, \"bigg_id\": \"ac_c\"}, {\"coefficient\": 1.0, \"bigg_id\": \"actp_c\"}, {\"coefficient\": -1.0, \"bigg_id\": \"atp_c\"}], \"label_x\": 1737.694091796875, \"label_y\": 4293.5615234375, \"gene_reaction_rule\": \"b3115 or b2296 or b1849\"}, \"1576710\": {\"name\": \"CO2 exchange\", \"bigg_id\": \"EX_co2_e\", \"segments\": {\"367\": {\"to_node_id\": \"1576871\", \"from_node_id\": \"1576544\", \"b2\": {\"y\": 4834.0, \"x\": 3621.0}, \"b1\": {\"y\": 4778.0, \"x\": 3621.0}}}, \"genes\": [], \"reversibility\": true, \"metabolites\": [{\"coefficient\": -1.0, \"bigg_id\": \"co2_e\"}], \"label_x\": 3631.0, \"label_y\": 4904.0, \"gene_reaction_rule\": \"\"}, \"1576760\": {\"name\": \"Ammonia exchange\", \"bigg_id\": \"EX_nh4_e\", \"segments\": {\"175\": {\"to_node_id\": \"1576985\", \"from_node_id\": \"1576526\", \"b2\": {\"y\": 4837.5, \"x\": 3990.0}, \"b1\": {\"y\": 4781.15, \"x\": 3989.3}}}, \"genes\": [], \"reversibility\": true, \"metabolites\": [{\"coefficient\": -1.0, \"bigg_id\": \"nh4_e\"}], \"label_x\": 4001.0, \"label_y\": 4908.0, \"gene_reaction_rule\": \"\"}, \"1576763\": {\"name\": \"Fumarate transport via proton symport  2 H \", \"bigg_id\": \"FUMt2_2\", \"segments\": {\"191\": {\"to_node_id\": \"1576659\", \"from_node_id\": \"1576992\", \"b2\": {\"y\": 1032.2015325445527, \"x\": 2840.0}, \"b1\": {\"y\": 995.6604597633658, \"x\": 2840.0}}, \"190\": {\"to_node_id\": \"1576991\", \"from_node_id\": \"1576658\", \"b2\": {\"y\": 714.3395402366342, \"x\": 2840.0}, \"b1\": {\"y\": 677.7984674554473, \"x\": 2840.0}}, \"192\": {\"to_node_id\": \"1576503\", \"from_node_id\": \"1576992\", \"b2\": {\"y\": 1950.0011597931211, \"x\": 2840.0}, \"b1\": {\"y\": 1271.0003479379363, \"x\": 2840.0}}, \"187\": {\"to_node_id\": \"1576993\", \"from_node_id\": \"1576991\", \"b2\": null, \"b1\": null}, \"188\": {\"to_node_id\": \"1576992\", \"from_node_id\": \"1576993\", \"b2\": null, \"b1\": null}, \"189\": {\"to_node_id\": \"1576991\", \"from_node_id\": \"1576657\", \"b2\": {\"y\": 718.0, \"x\": 2840.0}, \"b1\": {\"y\": 690.0, \"x\": 2840.0}}}, \"genes\": [{\"bigg_id\": \"b3528\", \"name\": \"dctA\"}], \"reversibility\": false, \"metabolites\": [{\"coefficient\": 1.0, \"bigg_id\": \"fum_c\"}, {\"coefficient\": 2.0, \"bigg_id\": \"h_c\"}, {\"coefficient\": -1.0, \"bigg_id\": \"fum_e\"}, {\"coefficient\": -2.0, \"bigg_id\": \"h_e\"}], \"label_x\": 2851.586669921875, \"label_y\": 845.8676147460938, \"gene_reaction_rule\": \"b3528\"}, \"1576762\": {\"name\": \"Phosphate exchange\", \"bigg_id\": \"EX_pi_e\", \"segments\": {\"185\": {\"to_node_id\": \"1576989\", \"from_node_id\": \"1576594\", \"b2\": {\"y\": 4909.82177734375, \"x\": 2880.0}, \"b1\": {\"y\": 4896.2666015625, \"x\": 2879.999755859375}}}, \"genes\": [], \"reversibility\": true, \"metabolites\": [{\"coefficient\": -1.0, \"bigg_id\": \"pi_e\"}], \"label_x\": 2902.694091796875, \"label_y\": 4926.21484375, \"gene_reaction_rule\": \"\"}, \"1576765\": {\"name\": \"D-glucose transport via PEP:Pyr PTS\", \"bigg_id\": \"GLCpts\", \"segments\": {\"201\": {\"to_node_id\": \"1576998\", \"from_node_id\": \"1576662\", \"b2\": {\"y\": 830.8607140720374, \"x\": 1056.2982974892807}, \"b1\": {\"y\": 817.6128620109578, \"x\": 962.100078544998}}, \"200\": {\"to_node_id\": \"1576999\", \"from_node_id\": \"1576997\", \"b2\": null, \"b1\": null}, \"203\": {\"to_node_id\": \"1576663\", \"from_node_id\": \"1576999\", \"b2\": {\"y\": 1091.99109457335, \"x\": 1162.89990234375}, \"b1\": {\"y\": 1155.6497636747395, \"x\": 1056.5867919921875}}, \"202\": {\"to_node_id\": \"1576998\", \"from_node_id\": \"1576647\", \"b2\": {\"y\": 852.0646158583277, \"x\": 1054.6540059434642}, \"b1\": {\"y\": 841.218336226978, \"x\": 1054.4691636917553}}, \"199\": {\"to_node_id\": \"1576997\", \"from_node_id\": \"1576998\", \"b2\": null, \"b1\": null}, \"204\": {\"to_node_id\": \"1576524\", \"from_node_id\": \"1576999\", \"b2\": {\"y\": 1159.3526000976562, \"x\": 1055.0}, \"b1\": {\"y\": 1156.4998046875, \"x\": 1056.5867919921875}}}, \"genes\": [{\"bigg_id\": \"b1621\", \"name\": \"malX\"}, {\"bigg_id\": \"b2416\", \"name\": \"ptsI\"}, {\"bigg_id\": \"b1817\", \"name\": \"manX\"}, {\"bigg_id\": \"b1101\", \"name\": \"ptsG\"}, {\"bigg_id\": \"b1818\", \"name\": \"manY\"}, {\"bigg_id\": \"b1819\", \"name\": \"manZ\"}, {\"bigg_id\": \"b2415\", \"name\": \"ptsH\"}, {\"bigg_id\": \"b2417\", \"name\": \"crr\"}], \"reversibility\": false, \"metabolites\": [{\"coefficient\": -1.0, \"bigg_id\": \"pep_c\"}, {\"coefficient\": 1.0, \"bigg_id\": \"pyr_c\"}, {\"coefficient\": -1.0, \"bigg_id\": \"glc__D_e\"}, {\"coefficient\": 1.0, \"bigg_id\": \"g6p_c\"}], \"label_x\": 1074.520263671875, \"label_y\": 929.0499877929688, \"gene_reaction_rule\": \"(b2417 and b1101 and b2415 and b2416) or (b1817 and b1818 and b1819 and b2415 and b2416) or (b2417 and b1621 and b2415 and b2416)\"}, \"1576764\": {\"name\": \"Acetate reversible transport via proton symport\", \"bigg_id\": \"ACt2r\", \"segments\": {\"198\": {\"to_node_id\": \"1576661\", \"from_node_id\": \"1576996\", \"b2\": {\"y\": 4430.253057299197, \"x\": 1719.76025390625}, \"b1\": {\"y\": 4485.835145705384, \"x\": 1715.0}}, \"195\": {\"to_node_id\": \"1576994\", \"from_node_id\": \"1576627\", \"b2\": {\"y\": 4760.0, \"x\": 1715.0}, \"b1\": {\"y\": 4779.13232421875, \"x\": 1716.5867919921875}}, \"194\": {\"to_node_id\": \"1576996\", \"from_node_id\": \"1576995\", \"b2\": null, \"b1\": null}, \"197\": {\"to_node_id\": \"1576652\", \"from_node_id\": \"1576996\", \"b2\": {\"y\": 4450.38818359375, \"x\": 1715.0}, \"b1\": {\"y\": 4489.49560546875, \"x\": 1715.0}}, \"196\": {\"to_node_id\": \"1576994\", \"from_node_id\": \"1576660\", \"b2\": {\"y\": 4760.660459763366, \"x\": 1715.0}, \"b1\": {\"y\": 4787.680536450803, \"x\": 1715.0}}, \"193\": {\"to_node_id\": \"1576995\", \"from_node_id\": \"1576994\", \"b2\": null, \"b1\": null}}, \"genes\": [], \"reversibility\": true, \"metabolites\": [{\"coefficient\": -1.0, \"bigg_id\": \"h_e\"}, {\"coefficient\": 1.0, \"bigg_id\": \"h_c\"}, {\"coefficient\": -1.0, \"bigg_id\": \"ac_e\"}, {\"coefficient\": 1.0, \"bigg_id\": \"ac_c\"}], \"label_x\": 1740.8675537109375, \"label_y\": 4638.470703125, \"gene_reaction_rule\": \"\"}, \"1576766\": {\"name\": \"Succinate transport out via proton antiport\", \"bigg_id\": \"SUCCt3\", \"segments\": {\"205\": {\"to_node_id\": \"1577000\", \"from_node_id\": \"1577002\", \"b2\": null, \"b1\": null}, \"207\": {\"to_node_id\": \"1577002\", \"from_node_id\": \"1576664\", \"b2\": {\"y\": 2844.388427734375, \"x\": 4392.512762612581}, \"b1\": {\"y\": 2928.186767578125, \"x\": 4395.992900114855}}, \"210\": {\"to_node_id\": \"1576665\", \"from_node_id\": \"1577001\", \"b2\": {\"y\": 2757.366943359375, \"x\": 4896.373608481642}, \"b1\": {\"y\": 2844.388427734375, \"x\": 4895.4172094976175}}, \"206\": {\"to_node_id\": \"1577001\", \"from_node_id\": \"1577000\", \"b2\": null, \"b1\": null}, \"209\": {\"to_node_id\": \"1576531\", \"from_node_id\": \"1577001\", \"b2\": {\"y\": 2846.0, \"x\": 4852.764726786234}, \"b1\": {\"y\": 2844.388427734375, \"x\": 4830.28303131712}}, \"208\": {\"to_node_id\": \"1577002\", \"from_node_id\": \"1576533\", \"b2\": {\"y\": 2846.0, \"x\": 4388.970989302984}, \"b1\": {\"y\": 2846.0, \"x\": 3989.9032976766134}}}, \"genes\": [], \"reversibility\": false, \"metabolites\": [{\"coefficient\": -1.0, \"bigg_id\": \"succ_c\"}, {\"coefficient\": 1.0, \"bigg_id\": \"succ_e\"}, {\"coefficient\": 1.0, \"bigg_id\": \"h_c\"}, {\"coefficient\": -1.0, \"bigg_id\": \"h_e\"}], \"label_x\": 4451.38818359375, \"label_y\": 2819.884765625, \"gene_reaction_rule\": \"\"}, \"1576769\": {\"name\": \"Glyceraldehyde-3-phosphate dehydrogenase\", \"bigg_id\": \"GAPD\", \"segments\": {\"217\": {\"to_node_id\": \"1577008\", \"from_node_id\": \"1577006\", \"b2\": null, \"b1\": null}, \"218\": {\"to_node_id\": \"1577007\", \"from_node_id\": \"1577008\", \"b2\": null, \"b1\": null}, \"219\": {\"to_node_id\": \"1577006\", \"from_node_id\": \"1576575\", \"b2\": {\"y\": 2322.5, \"x\": 1055.0}, \"b1\": {\"y\": 2270.0, \"x\": 1055.0}}, \"224\": {\"to_node_id\": \"1576672\", \"from_node_id\": \"1577007\", \"b2\": {\"y\": 2482.4341649025255, \"x\": 1055.0}, \"b1\": {\"y\": 2449.230249470758, \"x\": 1055.0}}, \"223\": {\"to_node_id\": \"1576671\", \"from_node_id\": \"1577007\", \"b2\": {\"y\": 2495.2079728939616, \"x\": 1055.0}, \"b1\": {\"y\": 2453.0623918681886, \"x\": 1055.0}}, \"222\": {\"to_node_id\": \"1576487\", \"from_node_id\": \"1577007\", \"b2\": {\"y\": 2500.0, \"x\": 1055.0}, \"b1\": {\"y\": 2454.5, \"x\": 1055.0}}, \"221\": {\"to_node_id\": \"1577006\", \"from_node_id\": \"1576670\", \"b2\": {\"y\": 2330.769750529242, \"x\": 1055.0}, \"b1\": {\"y\": 2297.5658350974745, \"x\": 1055.0}}, \"220\": {\"to_node_id\": \"1577006\", \"from_node_id\": \"1576669\", \"b2\": {\"y\": 2326.9376081318114, \"x\": 1055.0}, \"b1\": {\"y\": 2284.7920271060384, \"x\": 1055.0}}}, \"genes\": [{\"bigg_id\": \"b1779\", \"name\": \"gapA\"}], \"reversibility\": true, \"metabolites\": [{\"coefficient\": 1.0, \"bigg_id\": \"13dpg_c\"}, {\"coefficient\": -1.0, \"bigg_id\": \"g3p_c\"}, {\"coefficient\": 1.0, \"bigg_id\": \"nadh_c\"}, {\"coefficient\": 1.0, \"bigg_id\": \"h_c\"}, {\"coefficient\": -1.0, \"bigg_id\": \"nad_c\"}, {\"coefficient\": -1.0, \"bigg_id\": \"pi_c\"}], \"label_x\": 1065.0, \"label_y\": 2385.0, \"gene_reaction_rule\": \"b1779\"}, \"1576768\": {\"name\": \"6-phosphogluconolactonase\", \"bigg_id\": \"PGL\", \"segments\": {\"216\": {\"to_node_id\": \"1576490\", \"from_node_id\": \"1577004\", \"b2\": {\"y\": 1265.0, \"x\": 1742.0}, \"b1\": {\"y\": 1265.0, \"x\": 1682.5}}, \"214\": {\"to_node_id\": \"1577005\", \"from_node_id\": \"1576667\", \"b2\": {\"y\": 1265.0, \"x\": 1600.6197527491188}, \"b1\": {\"y\": 1265.0, \"x\": 1562.3991758303962}}, \"215\": {\"to_node_id\": \"1576668\", \"from_node_id\": \"1577004\", \"b2\": {\"y\": 1265.0, \"x\": 1711.6008241696038}, \"b1\": {\"y\": 1265.0, \"x\": 1673.3802472508812}}, \"212\": {\"to_node_id\": \"1577004\", \"from_node_id\": \"1577003\", \"b2\": null, \"b1\": null}, \"213\": {\"to_node_id\": \"1577005\", \"from_node_id\": \"1576626\", \"b2\": {\"y\": 1265.0, \"x\": 1600.5}, \"b1\": {\"y\": 1265.0, \"x\": 1562.0}}, \"211\": {\"to_node_id\": \"1577003\", \"from_node_id\": \"1577005\", \"b2\": null, \"b1\": null}}, \"genes\": [{\"bigg_id\": \"b0767\", \"name\": \"pgl\"}], \"reversibility\": false, \"metabolites\": [{\"coefficient\": -1.0, \"bigg_id\": \"6pgl_c\"}, {\"coefficient\": 1.0, \"bigg_id\": \"h_c\"}, {\"coefficient\": -1.0, \"bigg_id\": \"h2o_c\"}, {\"coefficient\": 1.0, \"bigg_id\": \"6pgc_c\"}], \"label_x\": 1599.3970947265625, \"label_y\": 1312.1234130859375, \"gene_reaction_rule\": \"b0767\"}, \"1576699\": {\"name\": \"Pyruvate dehydrogenase\", \"bigg_id\": \"PDH\", \"segments\": {\"331\": {\"to_node_id\": \"1576514\", \"from_node_id\": \"1576851\", \"b2\": {\"y\": 3945.0, \"x\": 1635.0}, \"b1\": {\"y\": 3945.0, \"x\": 1579.0}}, \"330\": {\"to_node_id\": \"1576513\", \"from_node_id\": \"1576851\", \"b2\": {\"y\": 3945.0, \"x\": 1606.478150704935}, \"b1\": {\"y\": 3945.0, \"x\": 1570.4434452114806}}, \"332\": {\"to_node_id\": \"1576515\", \"from_node_id\": \"1576851\", \"b2\": {\"y\": 3945.0, \"x\": 1613.309518948453}, \"b1\": {\"y\": 3945.0, \"x\": 1572.492855684536}}, \"326\": {\"to_node_id\": \"1576851\", \"from_node_id\": \"1576850\", \"b2\": null, \"b1\": null}, \"327\": {\"to_node_id\": \"1576849\", \"from_node_id\": \"1576510\", \"b2\": {\"y\": 3945.0, \"x\": 1413.3472975166192}, \"b1\": {\"y\": 3945.0, \"x\": 1374.4909917220637}}, \"325\": {\"to_node_id\": \"1576850\", \"from_node_id\": \"1576849\", \"b2\": null, \"b1\": null}, \"328\": {\"to_node_id\": \"1576849\", \"from_node_id\": \"1576511\", \"b2\": {\"y\": 3945.0, \"x\": 1373.75}, \"b1\": {\"y\": 3945.0, \"x\": 1242.5}}, \"329\": {\"to_node_id\": \"1576849\", \"from_node_id\": \"1576512\", \"b2\": {\"y\": 3945.0, \"x\": 1411.736306507171}, \"b1\": {\"y\": 3945.0, \"x\": 1369.1210216905704}}}, \"genes\": [{\"bigg_id\": \"b0114\", \"name\": \"aceE\"}, {\"bigg_id\": \"b0115\", \"name\": \"aceF\"}, {\"bigg_id\": \"b0116\", \"name\": \"lpd\"}], \"reversibility\": false, \"metabolites\": [{\"coefficient\": 1.0, \"bigg_id\": \"nadh_c\"}, {\"coefficient\": -1.0, \"bigg_id\": \"coa_c\"}, {\"coefficient\": -1.0, \"bigg_id\": \"pyr_c\"}, {\"coefficient\": 1.0, \"bigg_id\": \"accoa_c\"}, {\"coefficient\": -1.0, \"bigg_id\": \"nad_c\"}, {\"coefficient\": 1.0, \"bigg_id\": \"co2_c\"}], \"label_x\": 1417.72802734375, \"label_y\": 3920.71923828125, \"gene_reaction_rule\": \"b0114 and b0115 and b0116\"}, \"1576698\": {\"name\": \"Isocitrate dehydrogenase (NADP)\", \"bigg_id\": \"ICDHyr\", \"segments\": {\"319\": {\"to_node_id\": \"1576848\", \"from_node_id\": \"1576846\", \"b2\": null, \"b1\": null}, \"318\": {\"to_node_id\": \"1576846\", \"from_node_id\": \"1576847\", \"b2\": null, \"b1\": null}, \"322\": {\"to_node_id\": \"1576507\", \"from_node_id\": \"1576848\", \"b2\": {\"y\": 3735.4876397766343, \"x\": 3702.9108389651055}, \"b1\": {\"y\": 3767.3462919329904, \"x\": 3674.9732516895315}}, \"323\": {\"to_node_id\": \"1576508\", \"from_node_id\": \"1576848\", \"b2\": {\"y\": 3749.7955576929353, \"x\": 3690.36389556158}, \"b1\": {\"y\": 3771.6386673078805, \"x\": 3671.209168668474}}, \"320\": {\"to_node_id\": \"1576847\", \"from_node_id\": \"1576505\", \"b2\": {\"y\": 3933.673891941737, \"x\": 3498.9695345126847}, \"b1\": {\"y\": 3958.5796398057905, \"x\": 3468.565115042282}}, \"321\": {\"to_node_id\": \"1576847\", \"from_node_id\": \"1576506\", \"b2\": {\"y\": 3936.593890513596, \"x\": 3495.4048609314546}, \"b1\": {\"y\": 3968.312968378653, \"x\": 3456.6828697715146}}, \"324\": {\"to_node_id\": \"1576509\", \"from_node_id\": \"1576848\", \"b2\": {\"y\": 3715.2337610392046, \"x\": 3720.671932627159}, \"b1\": {\"y\": 3761.2701283117613, \"x\": 3680.3015797881476}}}, \"genes\": [{\"bigg_id\": \"b1136\", \"name\": \"icd\"}], \"reversibility\": true, \"metabolites\": [{\"coefficient\": 1.0, \"bigg_id\": \"nadph_c\"}, {\"coefficient\": 1.0, \"bigg_id\": \"akg_c\"}, {\"coefficient\": 1.0, \"bigg_id\": \"co2_c\"}, {\"coefficient\": -1.0, \"bigg_id\": \"nadp_c\"}, {\"coefficient\": -1.0, \"bigg_id\": \"icit_c\"}], \"label_x\": 3616.0, \"label_y\": 3836.0, \"gene_reaction_rule\": \"b1136\"}, \"1576695\": {\"name\": \"O2 transport  diffusion \", \"bigg_id\": \"O2t\", \"segments\": {\"304\": {\"to_node_id\": \"1576840\", \"from_node_id\": \"1576494\", \"b2\": {\"y\": 1660.0, \"x\": 4755.0}, \"b1\": {\"y\": 1660.0, \"x\": 4821.5}}, \"305\": {\"to_node_id\": \"1576495\", \"from_node_id\": \"1576840\", \"b2\": {\"y\": 1660.0, \"x\": 4495.0}, \"b1\": {\"y\": 1660.0, \"x\": 4610.5}}}, \"genes\": [{\"bigg_id\": \"s0001\", \"name\": \"None\"}], \"reversibility\": true, \"metabolites\": [{\"coefficient\": 1.0, \"bigg_id\": \"o2_c\"}, {\"coefficient\": -1.0, \"bigg_id\": \"o2_e\"}], \"label_x\": 4557.1943359375, \"label_y\": 1635.4964599609375, \"gene_reaction_rule\": \"s0001\"}, \"1576694\": {\"name\": \"Phosphogluconate dehydrogenase\", \"bigg_id\": \"GND\", \"segments\": {\"300\": {\"to_node_id\": \"1576838\", \"from_node_id\": \"1576490\", \"b2\": {\"y\": 1265.0, \"x\": 1920.5}, \"b1\": {\"y\": 1265.0, \"x\": 1882.0}}, \"301\": {\"to_node_id\": \"1576491\", \"from_node_id\": \"1576839\", \"b2\": {\"y\": 1265.0, \"x\": 2029.2015325445527}, \"b1\": {\"y\": 1265.0, \"x\": 1992.660459763366}}, \"302\": {\"to_node_id\": \"1576492\", \"from_node_id\": \"1576839\", \"b2\": {\"y\": 1265.0, \"x\": 2041.0312423743285}, \"b1\": {\"y\": 1265.0, \"x\": 1996.2093727122985}}, \"303\": {\"to_node_id\": \"1576493\", \"from_node_id\": \"1576839\", \"b2\": {\"y\": 1265.0, \"x\": 2066.0}, \"b1\": {\"y\": 1265.0, \"x\": 2003.7}}, \"298\": {\"to_node_id\": \"1576839\", \"from_node_id\": \"1576837\", \"b2\": null, \"b1\": null}, \"299\": {\"to_node_id\": \"1576838\", \"from_node_id\": \"1576489\", \"b2\": {\"y\": 1265.0, \"x\": 1921.339540236634}, \"b1\": {\"y\": 1265.0, \"x\": 1884.7984674554473}}, \"297\": {\"to_node_id\": \"1576837\", \"from_node_id\": \"1576838\", \"b2\": null, \"b1\": null}}, \"genes\": [{\"bigg_id\": \"b2029\", \"name\": \"gnd\"}], \"reversibility\": false, \"metabolites\": [{\"coefficient\": 1.0, \"bigg_id\": \"ru5p__D_c\"}, {\"coefficient\": 1.0, \"bigg_id\": \"nadph_c\"}, {\"coefficient\": 1.0, \"bigg_id\": \"co2_c\"}, {\"coefficient\": -1.0, \"bigg_id\": \"nadp_c\"}, {\"coefficient\": -1.0, \"bigg_id\": \"6pgc_c\"}], \"label_x\": 1930.5045166015625, \"label_y\": 1313.710205078125, \"gene_reaction_rule\": \"b2029\"}, \"1576697\": {\"name\": \"Fumarase\", \"bigg_id\": \"FUM\", \"segments\": {\"317\": {\"to_node_id\": \"1576844\", \"from_node_id\": \"1576503\", \"b2\": {\"y\": 3003.8745504813855, \"x\": 2741.433228320378}, \"b1\": {\"y\": 2961.5818349379524, \"x\": 2775.110761067927}}, \"316\": {\"to_node_id\": \"1576844\", \"from_node_id\": \"1576502\", \"b2\": {\"y\": 3010.0650991921693, \"x\": 2736.5037173099395}, \"b1\": {\"y\": 2982.216997307231, \"x\": 2758.679057699798}}, \"315\": {\"to_node_id\": \"1576504\", \"from_node_id\": \"1576845\", \"b2\": {\"y\": 3134.0, \"x\": 2652.5}, \"b1\": {\"y\": 3093.4, \"x\": 2674.55}}, \"314\": {\"to_node_id\": \"1576845\", \"from_node_id\": \"1576844\", \"b2\": null, \"b1\": null}}, \"genes\": [{\"bigg_id\": \"b4122\", \"name\": \"fumB\"}, {\"bigg_id\": \"b1611\", \"name\": \"fumC\"}, {\"bigg_id\": \"b1612\", \"name\": \"fumA\"}], \"reversibility\": true, \"metabolites\": [{\"coefficient\": -1.0, \"bigg_id\": \"fum_c\"}, {\"coefficient\": -1.0, \"bigg_id\": \"h2o_c\"}, {\"coefficient\": 1.0, \"bigg_id\": \"mal__L_c\"}], \"label_x\": 2759.057373046875, \"label_y\": 3066.0, \"gene_reaction_rule\": \"b1612 or b4122 or b1611\"}, \"1576696\": {\"name\": \"NAD P  transhydrogenase\", \"bigg_id\": \"THD2\", \"segments\": {\"308\": {\"to_node_id\": \"1576842\", \"from_node_id\": \"1576496\", \"b2\": {\"y\": 724.5066228070302, \"x\": 3510.0}, \"b1\": {\"y\": 580.5856339661426, \"x\": 3331.1220703125}}, \"309\": {\"to_node_id\": \"1576842\", \"from_node_id\": \"1576497\", \"b2\": {\"y\": 750.137689584216, \"x\": 3510.0}, \"b1\": {\"y\": 654.7419446101471, \"x\": 3418.143798828125}}, \"313\": {\"to_node_id\": \"1576501\", \"from_node_id\": \"1576843\", \"b2\": {\"y\": 1081.817596989458, \"x\": 3624.41748046875}, \"b1\": {\"y\": 1038.7769502394156, \"x\": 3506.777099609375}}, \"312\": {\"to_node_id\": \"1576500\", \"from_node_id\": \"1576843\", \"b2\": {\"y\": 1078.144282674624, \"x\": 3740.4462890625}, \"b1\": {\"y\": 1061.6865465211372, \"x\": 3508.388671875}}, \"311\": {\"to_node_id\": \"1576499\", \"from_node_id\": \"1576843\", \"b2\": {\"y\": 995.287841796875, \"x\": 3510.0}, \"b1\": {\"y\": 921.2841796875, \"x\": 3510.0}}, \"310\": {\"to_node_id\": \"1576842\", \"from_node_id\": \"1576498\", \"b2\": {\"y\": 777.5, \"x\": 3510.0}, \"b1\": {\"y\": 725.0, \"x\": 3510.0}}, \"306\": {\"to_node_id\": \"1576841\", \"from_node_id\": \"1576842\", \"b2\": null, \"b1\": null}, \"307\": {\"to_node_id\": \"1576843\", \"from_node_id\": \"1576841\", \"b2\": null, \"b1\": null}}, \"genes\": [{\"bigg_id\": \"b1602\", \"name\": \"pntB\"}, {\"bigg_id\": \"b1603\", \"name\": \"pntA\"}], \"reversibility\": false, \"metabolites\": [{\"coefficient\": -2.0, \"bigg_id\": \"h_e\"}, {\"coefficient\": -1.0, \"bigg_id\": \"nadp_c\"}, {\"coefficient\": -1.0, \"bigg_id\": \"nadh_c\"}, {\"coefficient\": 1.0, \"bigg_id\": \"nadph_c\"}, {\"coefficient\": 2.0, \"bigg_id\": \"h_c\"}, {\"coefficient\": 1.0, \"bigg_id\": \"nad_c\"}], \"label_x\": 3532.891845703125, \"label_y\": 872.8489990234375, \"gene_reaction_rule\": \"b1602 and b1603\"}, \"1576693\": {\"name\": \"Phosphoglycerate kinase\", \"bigg_id\": \"PGK\", \"segments\": {\"296\": {\"to_node_id\": \"1576488\", \"from_node_id\": \"1576834\", \"b2\": {\"y\": 2617.5658350974745, \"x\": 1055.0}, \"b1\": {\"y\": 2650.769750529242, \"x\": 1055.0}}, \"294\": {\"to_node_id\": \"1576835\", \"from_node_id\": \"1576486\", \"b2\": {\"y\": 2790.0, \"x\": 1055.0}, \"b1\": {\"y\": 2825.0, \"x\": 1055.0}}, \"295\": {\"to_node_id\": \"1576487\", \"from_node_id\": \"1576834\", \"b2\": {\"y\": 2615.0, \"x\": 1055.0}, \"b1\": {\"y\": 2650.0, \"x\": 1055.0}}, \"292\": {\"to_node_id\": \"1576834\", \"from_node_id\": \"1576836\", \"b2\": null, \"b1\": null}, \"293\": {\"to_node_id\": \"1576835\", \"from_node_id\": \"1576485\", \"b2\": {\"y\": 2789.230249470758, \"x\": 1055.0}, \"b1\": {\"y\": 2822.4341649025255, \"x\": 1055.0}}, \"291\": {\"to_node_id\": \"1576836\", \"from_node_id\": \"1576835\", \"b2\": null, \"b1\": null}}, \"genes\": [{\"bigg_id\": \"b2926\", \"name\": \"pgk\"}], \"reversibility\": true, \"metabolites\": [{\"coefficient\": -1.0, \"bigg_id\": \"3pg_c\"}, {\"coefficient\": 1.0, \"bigg_id\": \"13dpg_c\"}, {\"coefficient\": -1.0, \"bigg_id\": \"atp_c\"}, {\"coefficient\": 1.0, \"bigg_id\": \"adp_c\"}], \"label_x\": 1065.0, \"label_y\": 2715.0, \"gene_reaction_rule\": \"b2926\"}, \"1576776\": {\"name\": \"Malic enzyme (NADP)\", \"bigg_id\": \"ME2\", \"segments\": {\"270\": {\"to_node_id\": \"1576692\", \"from_node_id\": \"1577027\", \"b2\": {\"y\": 3439.4108823397055, \"x\": 2161.178235320589}, \"b1\": {\"y\": 3418.8232647019117, \"x\": 2202.3534705961765}}, \"267\": {\"to_node_id\": \"1577028\", \"from_node_id\": \"1576504\", \"b2\": {\"y\": 3332.720745600581, \"x\": 2355.4654239990323}, \"b1\": {\"y\": 3269.069152001936, \"x\": 2461.551413330107}}, \"266\": {\"to_node_id\": \"1577028\", \"from_node_id\": \"1576690\", \"b2\": {\"y\": 3350.7069760509485, \"x\": 2325.4883732484195}, \"b1\": {\"y\": 3329.0232535031614, \"x\": 2361.6279108280646}}, \"265\": {\"to_node_id\": \"1577027\", \"from_node_id\": \"1577026\", \"b2\": null, \"b1\": null}, \"264\": {\"to_node_id\": \"1577026\", \"from_node_id\": \"1577028\", \"b2\": null, \"b1\": null}, \"269\": {\"to_node_id\": \"1576511\", \"from_node_id\": \"1577027\", \"b2\": {\"y\": 3895.002675936253, \"x\": 1164.309223322806}, \"b1\": {\"y\": 3495.997238327751, \"x\": 2048.005523344498}}, \"268\": {\"to_node_id\": \"1576691\", \"from_node_id\": \"1577027\", \"b2\": {\"y\": 3434.0831891575845, \"x\": 2171.8336216848306}, \"b1\": {\"y\": 3417.2249567472754, \"x\": 2205.550086505449}}}, \"genes\": [{\"bigg_id\": \"b2463\", \"name\": \"maeB\"}], \"reversibility\": false, \"metabolites\": [{\"coefficient\": 1.0, \"bigg_id\": \"pyr_c\"}, {\"coefficient\": -1.0, \"bigg_id\": \"mal__L_c\"}, {\"coefficient\": 1.0, \"bigg_id\": \"co2_c\"}, {\"coefficient\": -1.0, \"bigg_id\": \"nadp_c\"}, {\"coefficient\": 1.0, \"bigg_id\": \"nadph_c\"}], \"label_x\": 2281.107177734375, \"label_y\": 3432.36328125, \"gene_reaction_rule\": \"b2463\"}, \"1576777\": {\"name\": \"Formate exchange\", \"bigg_id\": \"EX_for_e\", \"segments\": {\"271\": {\"to_node_id\": \"1577030\", \"from_node_id\": \"1576666\", \"b2\": {\"y\": 4884.95458984375, \"x\": 1460.0}, \"b1\": {\"y\": 4885.96044921875, \"x\": 1461.5867919921875}}}, \"genes\": [], \"reversibility\": false, \"metabolites\": [{\"coefficient\": -1.0, \"bigg_id\": \"for_e\"}], \"label_x\": 1476.3470458984375, \"label_y\": 4913.4130859375, \"gene_reaction_rule\": \"\"}, \"1576774\": {\"name\": \"Citrate synthase\", \"bigg_id\": \"CS\", \"segments\": {\"252\": {\"to_node_id\": \"1577020\", \"from_node_id\": \"1576514\", \"b2\": {\"y\": 3745.4027250468985, \"x\": 2627.479742988546}, \"b1\": {\"y\": 3679.773731927161, \"x\": 1727.7705707040077}}, \"253\": {\"to_node_id\": \"1577020\", \"from_node_id\": \"1576684\", \"b2\": {\"y\": 3823.2954829227556, \"x\": 2728.8970628128327}, \"b1\": {\"y\": 3791.3182764091857, \"x\": 2693.656876042776}}, \"250\": {\"to_node_id\": \"1577022\", \"from_node_id\": \"1577020\", \"b2\": null, \"b1\": null}, \"251\": {\"to_node_id\": \"1577021\", \"from_node_id\": \"1577022\", \"b2\": null, \"b1\": null}, \"256\": {\"to_node_id\": \"1576686\", \"from_node_id\": \"1577021\", \"b2\": {\"y\": 3971.425553937104, \"x\": 2910.1210395424487}, \"b1\": {\"y\": 3934.0276661811313, \"x\": 2861.0363118627347}}, \"257\": {\"to_node_id\": \"1576687\", \"from_node_id\": \"1577021\", \"b2\": {\"y\": 3980.7262047116856, \"x\": 2922.328143684087}, \"b1\": {\"y\": 3936.817861413506, \"x\": 2864.698443105226}}, \"254\": {\"to_node_id\": \"1577020\", \"from_node_id\": \"1576521\", \"b2\": {\"y\": 3822.7470798256522, \"x\": 2728.292700216025}, \"b1\": {\"y\": 3789.4902660855073, \"x\": 2691.642334053416}}, \"255\": {\"to_node_id\": \"1576685\", \"from_node_id\": \"1577021\", \"b2\": {\"y\": 3962.7252091426644, \"x\": 2898.7018369997472}, \"b1\": {\"y\": 3931.4175627427994, \"x\": 2857.610551099924}}}, \"genes\": [{\"bigg_id\": \"b0720\", \"name\": \"gltA\"}], \"reversibility\": false, \"metabolites\": [{\"coefficient\": 1.0, \"bigg_id\": \"coa_c\"}, {\"coefficient\": -1.0, \"bigg_id\": \"oaa_c\"}, {\"coefficient\": 1.0, \"bigg_id\": \"h_c\"}, {\"coefficient\": 1.0, \"bigg_id\": \"cit_c\"}, {\"coefficient\": -1.0, \"bigg_id\": \"accoa_c\"}, {\"coefficient\": -1.0, \"bigg_id\": \"h2o_c\"}], \"label_x\": 2808.0, \"label_y\": 3876.0, \"gene_reaction_rule\": \"b0720\"}, \"1576775\": {\"name\": \"Pyruvate transport in via proton symport\", \"bigg_id\": \"PYRt2\", \"segments\": {\"260\": {\"to_node_id\": \"1577023\", \"from_node_id\": \"1576688\", \"b2\": {\"y\": 3945.0, \"x\": 359.3395402366342}, \"b1\": {\"y\": 3945.0, \"x\": 322.7984674554473}}, \"261\": {\"to_node_id\": \"1577023\", \"from_node_id\": \"1576557\", \"b2\": {\"y\": 3945.0, \"x\": 360.0}, \"b1\": {\"y\": 3945.0, \"x\": 325.0}}, \"263\": {\"to_node_id\": \"1576689\", \"from_node_id\": \"1577024\", \"b2\": {\"y\": 3945.0, \"x\": 697.2015325445527}, \"b1\": {\"y\": 3945.0, \"x\": 660.6604597633658}}, \"262\": {\"to_node_id\": \"1576511\", \"from_node_id\": \"1577024\", \"b2\": {\"y\": 3945.0, \"x\": 850.0}, \"b1\": {\"y\": 3945.0, \"x\": 706.5}}, \"258\": {\"to_node_id\": \"1577025\", \"from_node_id\": \"1577023\", \"b2\": null, \"b1\": null}, \"259\": {\"to_node_id\": \"1577024\", \"from_node_id\": \"1577025\", \"b2\": null, \"b1\": null}}, \"genes\": [], \"reversibility\": true, \"metabolites\": [{\"coefficient\": 1.0, \"bigg_id\": \"pyr_c\"}, {\"coefficient\": 1.0, \"bigg_id\": \"h_c\"}, {\"coefficient\": -1.0, \"bigg_id\": \"pyr_e\"}, {\"coefficient\": -1.0, \"bigg_id\": \"h_e\"}], \"label_x\": 462.6368408203125, \"label_y\": 3908.02490234375, \"gene_reaction_rule\": \"\"}, \"1576772\": {\"name\": \"Glutamate dehydrogenase (NADP)\", \"bigg_id\": \"GLUDy\", \"segments\": {\"238\": {\"to_node_id\": \"1576677\", \"from_node_id\": \"1577014\", \"b2\": {\"y\": 3632.0, \"x\": 4021.2725815852687}, \"b1\": {\"y\": 3632.0, \"x\": 4060.9817744755806}}, \"240\": {\"to_node_id\": \"1576509\", \"from_node_id\": \"1577014\", \"b2\": {\"y\": 3632.0, \"x\": 3911.98117576612}, \"b1\": {\"y\": 3632.0, \"x\": 4028.194352729836}}, \"241\": {\"to_node_id\": \"1576679\", \"from_node_id\": \"1577014\", \"b2\": {\"y\": 3632.0, \"x\": 4036.853918777118}, \"b1\": {\"y\": 3632.0, \"x\": 4065.6561756331353}}, \"239\": {\"to_node_id\": \"1576678\", \"from_node_id\": \"1577014\", \"b2\": {\"y\": 3632.0, \"x\": 4000.5855310681522}, \"b1\": {\"y\": 3632.0, \"x\": 4054.775659320446}}, \"234\": {\"to_node_id\": \"1577014\", \"from_node_id\": \"1577015\", \"b2\": null, \"b1\": null}, \"235\": {\"to_node_id\": \"1577016\", \"from_node_id\": \"1576675\", \"b2\": {\"y\": 3632.0, \"x\": 4133.6977705423415}, \"b1\": {\"y\": 3632.0, \"x\": 4170.325901807804}}, \"236\": {\"to_node_id\": \"1577016\", \"from_node_id\": \"1576554\", \"b2\": {\"y\": 3632.0, \"x\": 4137.5}, \"b1\": {\"y\": 3632.0, \"x\": 4183.0}}, \"237\": {\"to_node_id\": \"1577016\", \"from_node_id\": \"1576676\", \"b2\": {\"y\": 3632.0, \"x\": 4129.669190203266}, \"b1\": {\"y\": 3632.0, \"x\": 4156.897300677553}}, \"233\": {\"to_node_id\": \"1577015\", \"from_node_id\": \"1577016\", \"b2\": null, \"b1\": null}}, \"genes\": [{\"bigg_id\": \"b1761\", \"name\": \"gdhA\"}], \"reversibility\": true, \"metabolites\": [{\"coefficient\": -1.0, \"bigg_id\": \"glu__L_c\"}, {\"coefficient\": -1.0, \"bigg_id\": \"nadp_c\"}, {\"coefficient\": 1.0, \"bigg_id\": \"nh4_c\"}, {\"coefficient\": 1.0, \"bigg_id\": \"h_c\"}, {\"coefficient\": 1.0, \"bigg_id\": \"nadph_c\"}, {\"coefficient\": 1.0, \"bigg_id\": \"akg_c\"}, {\"coefficient\": -1.0, \"bigg_id\": \"h2o_c\"}], \"label_x\": 4025.81298828125, \"label_y\": 3671.95703125, \"gene_reaction_rule\": \"b1761\"}, \"1576773\": {\"name\": \"ATP synthase (four protons for one ATP)\", \"bigg_id\": \"ATPS4r\", \"segments\": {\"245\": {\"to_node_id\": \"1577017\", \"from_node_id\": \"1576681\", \"b2\": {\"y\": 1150.0, \"x\": 4746.487950057818}, \"b1\": {\"y\": 1332.100830078125, \"x\": 4877.134963734394}}, \"244\": {\"to_node_id\": \"1577017\", \"from_node_id\": \"1576680\", \"b2\": {\"y\": 1150.0, \"x\": 4729.0}, \"b1\": {\"y\": 1150.0, \"x\": 4785.0}}, \"247\": {\"to_node_id\": \"1576682\", \"from_node_id\": \"1577018\", \"b2\": {\"y\": 1150.0, \"x\": 4520.0}, \"b1\": {\"y\": 1148.3885498046875, \"x\": 4558.046875}}, \"246\": {\"to_node_id\": \"1577017\", \"from_node_id\": \"1576536\", \"b2\": {\"y\": 1150.0, \"x\": 4796.204440681362}, \"b1\": {\"y\": 1523.8707275390625, \"x\": 4965.504060083706}}, \"243\": {\"to_node_id\": \"1577018\", \"from_node_id\": \"1577019\", \"b2\": null, \"b1\": null}, \"242\": {\"to_node_id\": \"1577019\", \"from_node_id\": \"1577017\", \"b2\": null, \"b1\": null}, \"249\": {\"to_node_id\": \"1576534\", \"from_node_id\": \"1577018\", \"b2\": {\"y\": 1043.64013671875, \"x\": 4324.116846450839}, \"b1\": {\"y\": 1148.3885498046875, \"x\": 4366.332368388376}}, \"248\": {\"to_node_id\": \"1576683\", \"from_node_id\": \"1577018\", \"b2\": {\"y\": 1150.0, \"x\": 4542.7265625}, \"b1\": {\"y\": 1148.388427734375, \"x\": 4575.66162109375}}}, \"genes\": [{\"bigg_id\": \"b3731\", \"name\": \"atpC\"}, {\"bigg_id\": \"b3738\", \"name\": \"atpB\"}, {\"bigg_id\": \"b3733\", \"name\": \"atpG\"}, {\"bigg_id\": \"b3739\", \"name\": \"atpI\"}, {\"bigg_id\": \"b3734\", \"name\": \"atpA\"}, {\"bigg_id\": \"b3736\", \"name\": \"atpF\"}, {\"bigg_id\": \"b3737\", \"name\": \"atpE\"}, {\"bigg_id\": \"b3735\", \"name\": \"atpH\"}, {\"bigg_id\": \"b3732\", \"name\": \"atpD\"}], \"reversibility\": true, \"metabolites\": [{\"coefficient\": -4.0, \"bigg_id\": \"h_e\"}, {\"coefficient\": 1.0, \"bigg_id\": \"atp_c\"}, {\"coefficient\": 3.0, \"bigg_id\": \"h_c\"}, {\"coefficient\": -1.0, \"bigg_id\": \"adp_c\"}, {\"coefficient\": -1.0, \"bigg_id\": \"pi_c\"}, {\"coefficient\": 1.0, \"bigg_id\": \"h2o_c\"}], \"label_x\": 4558.97119140625, \"label_y\": 1122.273193359375, \"gene_reaction_rule\": \"((b3736 and b3737 and b3738) and (b3731 and b3732 and b3733 and b3734 and b3735)) or ((b3736 and b3737 and b3738) and (b3731 and b3732 and b3733 and b3734 and b3735) and b3739)\"}, \"1576770\": {\"name\": \"Fumarate exchange\", \"bigg_id\": \"EX_fum_e\", \"segments\": {\"225\": {\"to_node_id\": \"1577009\", \"from_node_id\": \"1576657\", \"b2\": {\"y\": 560.0, \"x\": 2840.0}, \"b1\": {\"y\": 623.0, \"x\": 2840.0}}}, \"genes\": [], \"reversibility\": false, \"metabolites\": [{\"coefficient\": -1.0, \"bigg_id\": \"fum_e\"}], \"label_x\": 2915.057373046875, \"label_y\": 529.8175659179688, \"gene_reaction_rule\": \"\"}, \"1576771\": {\"name\": \"Succinate transport via proton symport  2 H \", \"bigg_id\": \"SUCCt2_2\", \"segments\": {\"229\": {\"to_node_id\": \"1577013\", \"from_node_id\": \"1576673\", \"b2\": {\"y\": 3027.0, \"x\": 4806.816653826392}, \"b1\": {\"y\": 3027.0, \"x\": 4832.0555127546395}}, \"228\": {\"to_node_id\": \"1577012\", \"from_node_id\": \"1577011\", \"b2\": null, \"b1\": null}, \"227\": {\"to_node_id\": \"1577011\", \"from_node_id\": \"1577013\", \"b2\": null, \"b1\": null}, \"230\": {\"to_node_id\": \"1577013\", \"from_node_id\": \"1576531\", \"b2\": {\"y\": 3027.0, \"x\": 4826.039349194016}, \"b1\": {\"y\": 3027.0, \"x\": 4896.1311639800515}}, \"231\": {\"to_node_id\": \"1576533\", \"from_node_id\": \"1577012\", \"b2\": {\"y\": 3027.0, \"x\": 3972.294403079054}, \"b1\": {\"y\": 3027.0, \"x\": 4366.8883209237165}}, \"232\": {\"to_node_id\": \"1576674\", \"from_node_id\": \"1577012\", \"b2\": {\"y\": 3027.0, \"x\": 4486.0}, \"b1\": {\"y\": 3027.0, \"x\": 4521.0}}}, \"genes\": [{\"bigg_id\": \"b3528\", \"name\": \"dctA\"}], \"reversibility\": false, \"metabolites\": [{\"coefficient\": 1.0, \"bigg_id\": \"succ_c\"}, {\"coefficient\": -1.0, \"bigg_id\": \"succ_e\"}, {\"coefficient\": 2.0, \"bigg_id\": \"h_c\"}, {\"coefficient\": -2.0, \"bigg_id\": \"h_e\"}], \"label_x\": 4501.95703125, \"label_y\": 2997.661865234375, \"gene_reaction_rule\": \"b3528\"}, \"1576708\": {\"name\": \"L-Glutamine exchange\", \"bigg_id\": \"EX_gln__L_e\", \"segments\": {\"365\": {\"to_node_id\": \"1576868\", \"from_node_id\": \"1576537\", \"b2\": {\"y\": 4158.0, \"x\": 4951.0}, \"b1\": {\"y\": 4158.0, \"x\": 4902.7}}}, \"genes\": [], \"reversibility\": false, \"metabolites\": [{\"coefficient\": -1.0, \"bigg_id\": \"gln__L_e\"}], \"label_x\": 4933.3095703125, \"label_y\": 4131.884765625, \"gene_reaction_rule\": \"\"}, \"1576703\": {\"name\": \"Ammonia reversible transport\", \"bigg_id\": \"NH4t\", \"segments\": {\"347\": {\"to_node_id\": \"1576858\", \"from_node_id\": \"1576526\", \"b2\": {\"y\": 4677.5, \"x\": 3989.0}, \"b1\": {\"y\": 4733.15, \"x\": 3989.0}}, \"348\": {\"to_node_id\": \"1576527\", \"from_node_id\": \"1576858\", \"b2\": {\"y\": 4519.5, \"x\": 3989.0}, \"b1\": {\"y\": 4574.45, \"x\": 3989.0}}}, \"genes\": [{\"bigg_id\": \"b0451\", \"name\": \"amtB\"}, {\"bigg_id\": \"s0001\", \"name\": \"None\"}], \"reversibility\": true, \"metabolites\": [{\"coefficient\": -1.0, \"bigg_id\": \"nh4_e\"}, {\"coefficient\": 1.0, \"bigg_id\": \"nh4_c\"}], \"label_x\": 3999.0, \"label_y\": 4588.0, \"gene_reaction_rule\": \"s0001 or b0451\"}, \"1576702\": {\"name\": \"Glucose-6-phosphate isomerase\", \"bigg_id\": \"PGI\", \"segments\": {\"345\": {\"to_node_id\": \"1576857\", \"from_node_id\": \"1576524\", \"b2\": {\"y\": 1330.0, \"x\": 1055.0}, \"b1\": {\"y\": 1284.5, \"x\": 1055.0}}, \"346\": {\"to_node_id\": \"1576525\", \"from_node_id\": \"1576857\", \"b2\": {\"y\": 1470.0, \"x\": 1055.0}, \"b1\": {\"y\": 1417.5, \"x\": 1055.0}}}, \"genes\": [{\"bigg_id\": \"b4025\", \"name\": \"pgi\"}], \"reversibility\": true, \"metabolites\": [{\"coefficient\": -1.0, \"bigg_id\": \"g6p_c\"}, {\"coefficient\": 1.0, \"bigg_id\": \"f6p_c\"}], \"label_x\": 1065.0, \"label_y\": 1385.0, \"gene_reaction_rule\": \"b4025\"}, \"1576701\": {\"name\": \"Enolase\", \"bigg_id\": \"ENO\", \"segments\": {\"344\": {\"to_node_id\": \"1576523\", \"from_node_id\": \"1576855\", \"b2\": {\"y\": 3319.0832691319597, \"x\": 1055.0}, \"b1\": {\"y\": 3281.224980739588, \"x\": 1055.0}}, \"341\": {\"to_node_id\": \"1576856\", \"from_node_id\": \"1576522\", \"b2\": {\"y\": 3175.0, \"x\": 1055.0}, \"b1\": {\"y\": 3173.322021484375, \"x\": 1055.0}}, \"342\": {\"to_node_id\": \"1576855\", \"from_node_id\": \"1576856\", \"b2\": null, \"b1\": null}, \"343\": {\"to_node_id\": \"1576517\", \"from_node_id\": \"1576855\", \"b2\": {\"y\": 3320.0, \"x\": 1055.0}, \"b1\": {\"y\": 3281.5, \"x\": 1055.0}}}, \"genes\": [{\"bigg_id\": \"b2779\", \"name\": \"eno\"}], \"reversibility\": true, \"metabolites\": [{\"coefficient\": 1.0, \"bigg_id\": \"pep_c\"}, {\"coefficient\": 1.0, \"bigg_id\": \"h2o_c\"}, {\"coefficient\": -1.0, \"bigg_id\": \"2pg_c\"}], \"label_x\": 1065.0, \"label_y\": 3215.0, \"gene_reaction_rule\": \"b2779\"}, \"1576700\": {\"name\": \"Phosphoenolpyruvate carboxylase\", \"bigg_id\": \"PPC\", \"segments\": {\"339\": {\"to_node_id\": \"1576520\", \"from_node_id\": \"1576853\", \"b2\": {\"y\": 3552.157197214914, \"x\": 1572.3763206054002}, \"b1\": {\"y\": 3528.947159164474, \"x\": 1516.81289618162}}, \"338\": {\"to_node_id\": \"1576519\", \"from_node_id\": \"1576853\", \"b2\": {\"y\": 3543.994528732819, \"x\": 1552.8353869664456}, \"b1\": {\"y\": 3526.498358619846, \"x\": 1510.9506160899336}}, \"335\": {\"to_node_id\": \"1576854\", \"from_node_id\": \"1576516\", \"b2\": {\"y\": 3452.2308899862983, \"x\": 1334.4013835391315}, \"b1\": {\"y\": 3438.769633287661, \"x\": 1302.6712784637714}}, \"334\": {\"to_node_id\": \"1576853\", \"from_node_id\": \"1576852\", \"b2\": null, \"b1\": null}, \"337\": {\"to_node_id\": \"1576854\", \"from_node_id\": \"1576518\", \"b2\": {\"y\": 3447.322871456709, \"x\": 1322.8324827193853}, \"b1\": {\"y\": 3422.409571522363, \"x\": 1264.1082757312843}}, \"336\": {\"to_node_id\": \"1576854\", \"from_node_id\": \"1576517\", \"b2\": {\"y\": 3440.1599283734054, \"x\": 1305.9484025944557}, \"b1\": {\"y\": 3398.5330945780183, \"x\": 1207.828008648186}}, \"333\": {\"to_node_id\": \"1576852\", \"from_node_id\": \"1576854\", \"b2\": null, \"b1\": null}, \"340\": {\"to_node_id\": \"1576521\", \"from_node_id\": \"1576853\", \"b2\": {\"y\": 3691.624192938869, \"x\": 2580.289220436279}, \"b1\": {\"y\": 3708.0419942097856, \"x\": 1966.279649431665}}}, \"genes\": [{\"bigg_id\": \"b3956\", \"name\": \"ppc\"}], \"reversibility\": false, \"metabolites\": [{\"coefficient\": -1.0, \"bigg_id\": \"h2o_c\"}, {\"coefficient\": 1.0, \"bigg_id\": \"oaa_c\"}, {\"coefficient\": 1.0, \"bigg_id\": \"h_c\"}, {\"coefficient\": -1.0, \"bigg_id\": \"pep_c\"}, {\"coefficient\": 1.0, \"bigg_id\": \"pi_c\"}, {\"coefficient\": -1.0, \"bigg_id\": \"co2_c\"}], \"label_x\": 1490.0008544921875, \"label_y\": 3479.666748046875, \"gene_reaction_rule\": \"b3956\"}, \"1576707\": {\"name\": \"Adenylate kinase\", \"bigg_id\": \"ADK1\", \"segments\": {\"364\": {\"to_node_id\": \"1576867\", \"from_node_id\": \"1576535\", \"b2\": {\"y\": 1177.1034937162894, \"x\": 4145.0}, \"b1\": {\"y\": 1123.6783123876312, \"x\": 4145.0}}, \"362\": {\"to_node_id\": \"1576536\", \"from_node_id\": \"1576866\", \"b2\": {\"y\": 1441.4029541015625, \"x\": 4146.15869140625}, \"b1\": {\"y\": 1352.2913818359375, \"x\": 4145.83056640625}}, \"363\": {\"to_node_id\": \"1576867\", \"from_node_id\": \"1576534\", \"b2\": {\"y\": 1173.8036262051405, \"x\": 4145.0}, \"b1\": {\"y\": 1112.6787540171351, \"x\": 4145.0}}, \"361\": {\"to_node_id\": \"1576866\", \"from_node_id\": \"1576867\", \"b2\": null, \"b1\": null}}, \"genes\": [{\"bigg_id\": \"b0474\", \"name\": \"adk\"}], \"reversibility\": true, \"metabolites\": [{\"coefficient\": -1.0, \"bigg_id\": \"amp_c\"}, {\"coefficient\": -1.0, \"bigg_id\": \"atp_c\"}, {\"coefficient\": 2.0, \"bigg_id\": \"adp_c\"}], \"label_x\": 3997.07177734375, \"label_y\": 1251.6114501953125, \"gene_reaction_rule\": \"b0474\"}, \"1576706\": {\"name\": \"Isocitrate lyase\", \"bigg_id\": \"ICL\", \"segments\": {\"357\": {\"to_node_id\": \"1576865\", \"from_node_id\": \"1576505\", \"b2\": {\"y\": 3916.5, \"x\": 3415.0}, \"b1\": {\"y\": 3958.15, \"x\": 3413.6}}, \"360\": {\"to_node_id\": \"1576533\", \"from_node_id\": \"1576864\", \"b2\": {\"y\": 3316.4974972260998, \"x\": 3417.0}, \"b1\": {\"y\": 3631.14924916783, \"x\": 3417.0}}, \"359\": {\"to_node_id\": \"1576532\", \"from_node_id\": \"1576864\", \"b2\": {\"y\": 3612.2266277927156, \"x\": 3417.0}, \"b1\": {\"y\": 3719.8679883378145, \"x\": 3417.0}}, \"358\": {\"to_node_id\": \"1576864\", \"from_node_id\": \"1576865\", \"b2\": null, \"b1\": null}}, \"genes\": [{\"bigg_id\": \"b4015\", \"name\": \"aceA\"}], \"reversibility\": false, \"metabolites\": [{\"coefficient\": 1.0, \"bigg_id\": \"succ_c\"}, {\"coefficient\": 1.0, \"bigg_id\": \"glx_c\"}, {\"coefficient\": -1.0, \"bigg_id\": \"icit_c\"}], \"label_x\": 3427.0, \"label_y\": 3847.0, \"gene_reaction_rule\": \"b4015\"}, \"1576705\": {\"name\": \"Succinate exchange\", \"bigg_id\": \"EX_succ_e\", \"segments\": {\"355\": {\"to_node_id\": \"1576863\", \"from_node_id\": \"1576531\", \"b2\": {\"y\": 2880.0, \"x\": 4978.5}, \"b1\": {\"y\": 2880.0, \"x\": 4945.95}}}, \"genes\": [], \"reversibility\": false, \"metabolites\": [{\"coefficient\": -1.0, \"bigg_id\": \"succ_e\"}], \"label_x\": 4968.927734375, \"label_y\": 2845.8271484375, \"gene_reaction_rule\": \"\"}, \"1576704\": {\"name\": \"Fructose-bisphosphatase\", \"bigg_id\": \"FBP\", \"segments\": {\"354\": {\"to_node_id\": \"1576530\", \"from_node_id\": \"1576860\", \"b2\": {\"y\": 1600.9687576256715, \"x\": 835.0}, \"b1\": {\"y\": 1645.7906272877015, \"x\": 835.0}}, \"353\": {\"to_node_id\": \"1576525\", \"from_node_id\": \"1576860\", \"b2\": {\"y\": 1539.7003591385833, \"x\": 835.0}, \"b1\": {\"y\": 1627.410107741575, \"x\": 835.0}}, \"352\": {\"to_node_id\": \"1576861\", \"from_node_id\": \"1576529\", \"b2\": {\"y\": 1805.8044115262064, \"x\": 835.0}, \"b1\": {\"y\": 1901.0147050873545, \"x\": 835.0}}, \"351\": {\"to_node_id\": \"1576861\", \"from_node_id\": \"1576528\", \"b2\": {\"y\": 1782.1026313764871, \"x\": 835.0}, \"b1\": {\"y\": 1822.0087712549569, \"x\": 835.0}}, \"350\": {\"to_node_id\": \"1576860\", \"from_node_id\": \"1576859\", \"b2\": null, \"b1\": null}, \"349\": {\"to_node_id\": \"1576859\", \"from_node_id\": \"1576861\", \"b2\": null, \"b1\": null}}, \"genes\": [{\"bigg_id\": \"b4232\", \"name\": \"fbp\"}, {\"bigg_id\": \"b3925\", \"name\": \"glpX\"}], \"reversibility\": false, \"metabolites\": [{\"coefficient\": -1.0, \"bigg_id\": \"fdp_c\"}, {\"coefficient\": -1.0, \"bigg_id\": \"h2o_c\"}, {\"coefficient\": 1.0, \"bigg_id\": \"pi_c\"}, {\"coefficient\": 1.0, \"bigg_id\": \"f6p_c\"}], \"label_x\": 751.3809814453125, \"label_y\": 1733.561767578125, \"gene_reaction_rule\": \"b3925 or b4232\"}, \"1577548\": {\"name\": \"Aconitase (half-reaction A, Citrate hydro-lyase)\", \"bigg_id\": \"ACONTa\", \"segments\": {\"511\": {\"to_node_id\": \"1576685\", \"from_node_id\": \"1577099\", \"b2\": {\"y\": 4010.3555557486548, \"x\": 3025.1432055426353}, \"b1\": {\"y\": 4012.0956406322803, \"x\": 3025.7810749583687}}, \"507\": {\"to_node_id\": \"1577100\", \"from_node_id\": \"1577099\", \"b2\": null, \"b1\": null}, \"510\": {\"to_node_id\": \"1577103\", \"from_node_id\": \"1577101\", \"b2\": {\"y\": 4045.94073519232, \"x\": 3126.6630443215304}, \"b1\": {\"y\": 4044.2013827305695, \"x\": 3108.646756937047}}, \"508\": {\"to_node_id\": \"1577100\", \"from_node_id\": \"1577101\", \"b2\": null, \"b1\": null}, \"509\": {\"to_node_id\": \"1577102\", \"from_node_id\": \"1577101\", \"b2\": {\"y\": 3993.9154608910203, \"x\": 3112.4765239553985}, \"b1\": {\"y\": 4044.558477078102, \"x\": 3125.4142208172407}}}, \"genes\": [{\"bigg_id\": \"b0118\", \"name\": \"acnB\"}, {\"bigg_id\": \"b1276\", \"name\": \"acnA\"}], \"reversibility\": true, \"metabolites\": [{\"coefficient\": -1.0, \"bigg_id\": \"cit_c\"}, {\"coefficient\": 1.0, \"bigg_id\": \"h2o_c\"}, {\"coefficient\": 1.0, \"bigg_id\": \"acon_C_c\"}], \"label_x\": 2982.991259697708, \"label_y\": 4088.6436288689247, \"gene_reaction_rule\": \"b0118 or b1276\"}, \"1577549\": {\"name\": \"Aconitase (half-reaction B, Isocitrate hydro-lyase)\", \"bigg_id\": \"ACONTb\", \"segments\": {\"513\": {\"to_node_id\": \"1577105\", \"from_node_id\": \"1577106\", \"b2\": null, \"b1\": null}, \"512\": {\"to_node_id\": \"1577105\", \"from_node_id\": \"1577104\", \"b2\": null, \"b1\": null}, \"515\": {\"to_node_id\": \"1576505\", \"from_node_id\": \"1577106\", \"b2\": {\"y\": 4013.1918298584474, \"x\": 3345.4226198631072}, \"b1\": {\"y\": 4014.8024620364417, \"x\": 3344.105236291347}}, \"514\": {\"to_node_id\": \"1577102\", \"from_node_id\": \"1577104\", \"b2\": {\"y\": 3991.5491179659602, \"x\": 3266.0226278968735}, \"b1\": {\"y\": 4044.360816430351, \"x\": 3261.354277099013}}, \"516\": {\"to_node_id\": \"1577103\", \"from_node_id\": \"1577104\", \"b2\": {\"y\": 4046.222560627323, \"x\": 3260.813883986344}, \"b1\": {\"y\": 4046.056264386829, \"x\": 3262.862957011229}}}, \"genes\": [{\"bigg_id\": \"b1276\", \"name\": \"acnA\"}, {\"bigg_id\": \"b0118\", \"name\": \"acnB\"}], \"reversibility\": true, \"metabolites\": [{\"coefficient\": 1.0, \"bigg_id\": \"icit_c\"}, {\"coefficient\": -1.0, \"bigg_id\": \"h2o_c\"}, {\"coefficient\": -1.0, \"bigg_id\": \"acon_C_c\"}], \"label_x\": 3291.833217745038, \"label_y\": 4081.35343547726, \"gene_reaction_rule\": \"b0118 or b1276\"}, \"1577546\": {\"name\": \"D lactate transport via proton symport\", \"bigg_id\": \"D_LACt2\", \"segments\": {\"476\": {\"to_node_id\": \"1577068\", \"from_node_id\": \"1577067\", \"b2\": null, \"b1\": null}, \"477\": {\"to_node_id\": \"1577068\", \"from_node_id\": \"1577069\", \"b2\": null, \"b1\": null}, \"478\": {\"to_node_id\": \"1576556\", \"from_node_id\": \"1577067\", \"b2\": {\"y\": 4736.89501953125, \"x\": 1054.9998779296875}, \"b1\": {\"y\": 4692.98193359375, \"x\": 1055.0}}, \"479\": {\"to_node_id\": \"1577071\", \"from_node_id\": \"1577067\", \"b2\": {\"y\": 4715.98193359375, \"x\": 1076.0}, \"b1\": {\"y\": 4696.98193359375, \"x\": 1055.0}}, \"481\": {\"to_node_id\": \"1577072\", \"from_node_id\": \"1577069\", \"b2\": {\"y\": 4451.7353515625, \"x\": 1074.4132080078125}, \"b1\": {\"y\": 4470.7353515625, \"x\": 1053.4132080078125}}, \"480\": {\"to_node_id\": \"1576584\", \"from_node_id\": \"1577069\", \"b2\": {\"y\": 4413.36767578125, \"x\": 1055.0}, \"b1\": {\"y\": 4474.7353515625, \"x\": 1053.4132080078125}}}, \"genes\": [{\"bigg_id\": \"b3603\", \"name\": \"lldP\"}, {\"bigg_id\": \"b2975\", \"name\": \"glcA\"}], \"reversibility\": true, \"metabolites\": [{\"coefficient\": -1.0, \"bigg_id\": \"lac__D_e\"}, {\"coefficient\": 1.0, \"bigg_id\": \"h_c\"}, {\"coefficient\": 1.0, \"bigg_id\": \"lac__D_c\"}, {\"coefficient\": -1.0, \"bigg_id\": \"h_e\"}], \"label_x\": 1078.65283203125, \"label_y\": 4609.72607421875, \"gene_reaction_rule\": \"b2975 or b3603\"}, \"1576711\": {\"name\": \"Transaldolase\", \"bigg_id\": \"TALA\", \"segments\": {\"369\": {\"to_node_id\": \"1576872\", \"from_node_id\": \"1576873\", \"b2\": null, \"b1\": null}, \"371\": {\"to_node_id\": \"1576873\", \"from_node_id\": \"1576545\", \"b2\": {\"y\": 1856.1727017464573, \"x\": 2173.815906732547}, \"b1\": {\"y\": 1892.1518443631908, \"x\": 2283.184776999114}}, \"370\": {\"to_node_id\": \"1576874\", \"from_node_id\": \"1576872\", \"b2\": null, \"b1\": null}, \"373\": {\"to_node_id\": \"1576547\", \"from_node_id\": \"1576874\", \"b2\": {\"y\": 2171.7496092324754, \"x\": 2178.0}, \"b1\": {\"y\": 2076.976957965055, \"x\": 2178.0}}, \"372\": {\"to_node_id\": \"1576873\", \"from_node_id\": \"1576546\", \"b2\": {\"y\": 1856.1728238167698, \"x\": 2175.402576654422}, \"b1\": {\"y\": 1890.5651744413158, \"x\": 2064.2112662569266}}, \"374\": {\"to_node_id\": \"1576548\", \"from_node_id\": \"1576874\", \"b2\": {\"y\": 2170.2455578331073, \"x\": 2178.000244140625}, \"b1\": {\"y\": 2077.4778177405574, \"x\": 2178.0}}}, \"genes\": [{\"bigg_id\": \"b2464\", \"name\": \"talA\"}, {\"bigg_id\": \"b0008\", \"name\": \"talB\"}], \"reversibility\": true, \"metabolites\": [{\"coefficient\": -1.0, \"bigg_id\": \"s7p_c\"}, {\"coefficient\": -1.0, \"bigg_id\": \"g3p_c\"}, {\"coefficient\": 1.0, \"bigg_id\": \"f6p_c\"}, {\"coefficient\": 1.0, \"bigg_id\": \"e4p_c\"}], \"label_x\": 2197.5205078125, \"label_y\": 2008.8013916015625, \"gene_reaction_rule\": \"b2464 or b0008\"}, \"1576712\": {\"name\": \"Pyruvate kinase\", \"bigg_id\": \"PYK\", \"segments\": {\"380\": {\"to_node_id\": \"1576511\", \"from_node_id\": \"1576877\", \"b2\": {\"y\": 3845.0, \"x\": 1055.0}, \"b1\": {\"y\": 3775.0, \"x\": 1055.0}}, \"381\": {\"to_node_id\": \"1576551\", \"from_node_id\": \"1576877\", \"b2\": {\"y\": 3802.008771254957, \"x\": 1055.0}, \"b1\": {\"y\": 3762.102631376487, \"x\": 1055.0}}, \"379\": {\"to_node_id\": \"1576875\", \"from_node_id\": \"1576517\", \"b2\": {\"y\": 3613.0, \"x\": 1055.0}, \"b1\": {\"y\": 3515.0, \"x\": 1055.0}}, \"378\": {\"to_node_id\": \"1576875\", \"from_node_id\": \"1576550\", \"b2\": {\"y\": 3634.8195639293895, \"x\": 1055.0}, \"b1\": {\"y\": 3587.7318797646312, \"x\": 1055.0}}, \"375\": {\"to_node_id\": \"1576876\", \"from_node_id\": \"1576875\", \"b2\": null, \"b1\": null}, \"377\": {\"to_node_id\": \"1576875\", \"from_node_id\": \"1576549\", \"b2\": {\"y\": 3640.769750529242, \"x\": 1055.0}, \"b1\": {\"y\": 3607.5658350974745, \"x\": 1055.0}}, \"376\": {\"to_node_id\": \"1576877\", \"from_node_id\": \"1576876\", \"b2\": null, \"b1\": null}}, \"genes\": [{\"bigg_id\": \"b1854\", \"name\": \"pykA\"}, {\"bigg_id\": \"b1676\", \"name\": \"pykF\"}], \"reversibility\": false, \"metabolites\": [{\"coefficient\": -1.0, \"bigg_id\": \"pep_c\"}, {\"coefficient\": -1.0, \"bigg_id\": \"adp_c\"}, {\"coefficient\": 1.0, \"bigg_id\": \"pyr_c\"}, {\"coefficient\": 1.0, \"bigg_id\": \"atp_c\"}, {\"coefficient\": -1.0, \"bigg_id\": \"h_c\"}], \"label_x\": 1065.0, \"label_y\": 3695.0, \"gene_reaction_rule\": \"b1854 or b1676\"}, \"1576713\": {\"name\": \"L glutamate transport via proton symport  reversible\", \"bigg_id\": \"GLUt2r\", \"segments\": {\"382\": {\"to_node_id\": \"1576878\", \"from_node_id\": \"1576880\", \"b2\": null, \"b1\": null}, \"383\": {\"to_node_id\": \"1576879\", \"from_node_id\": \"1576878\", \"b2\": null, \"b1\": null}, \"384\": {\"to_node_id\": \"1576880\", \"from_node_id\": \"1576552\", \"b2\": {\"y\": 3635.0, \"x\": 4794.600721137178}, \"b1\": {\"y\": 3635.0, \"x\": 4831.002403790594}}, \"385\": {\"to_node_id\": \"1576880\", \"from_node_id\": \"1576553\", \"b2\": {\"y\": 3635.0, \"x\": 4791.314625451064}, \"b1\": {\"y\": 3635.0, \"x\": 4820.0487515035475}}, \"386\": {\"to_node_id\": \"1576554\", \"from_node_id\": \"1576879\", \"b2\": {\"y\": 3635.0, \"x\": 4394.492321020364}, \"b1\": {\"y\": 3635.0, \"x\": 4497.047696306109}}, \"387\": {\"to_node_id\": \"1576555\", \"from_node_id\": \"1576879\", \"b2\": {\"y\": 3635.0, \"x\": 4499.835695074495}, \"b1\": {\"y\": 3635.0, \"x\": 4528.650708522348}}}, \"genes\": [{\"bigg_id\": \"b4077\", \"name\": \"gltP\"}], \"reversibility\": true, \"metabolites\": [{\"coefficient\": 1.0, \"bigg_id\": \"glu__L_c\"}, {\"coefficient\": 1.0, \"bigg_id\": \"h_c\"}, {\"coefficient\": -1.0, \"bigg_id\": \"glu__L_e\"}, {\"coefficient\": -1.0, \"bigg_id\": \"h_e\"}], \"label_x\": 4655.0, \"label_y\": 3625.0, \"gene_reaction_rule\": \"b4077\"}, \"1576714\": {\"name\": \"D-lactate exchange\", \"bigg_id\": \"EX_lac__D_e\", \"segments\": {\"388\": {\"to_node_id\": \"1576881\", \"from_node_id\": \"1576556\", \"b2\": {\"y\": 4880.0, \"x\": 1055.0}, \"b1\": {\"y\": 4861.19384765625, \"x\": 1055.0}}}, \"genes\": [], \"reversibility\": false, \"metabolites\": [{\"coefficient\": -1.0, \"bigg_id\": \"lac__D_e\"}], \"label_x\": 1065.0, \"label_y\": 4915.0, \"gene_reaction_rule\": \"\"}, \"1576715\": {\"name\": \"Pyruvate exchange\", \"bigg_id\": \"EX_pyr_e\", \"segments\": {\"390\": {\"to_node_id\": \"1576884\", \"from_node_id\": \"1576557\", \"b2\": {\"y\": 3945.0, \"x\": 215.0}, \"b1\": {\"y\": 3945.0, \"x\": 257.0}}}, \"genes\": [], \"reversibility\": false, \"metabolites\": [{\"coefficient\": -1.0, \"bigg_id\": \"pyr_e\"}], \"label_x\": 96.76921081542969, \"label_y\": 3904.851318359375, \"gene_reaction_rule\": \"\"}, \"1576716\": {\"name\": \"Ribulose 5-phosphate 3-epimerase\", \"bigg_id\": \"RPE\", \"segments\": {\"393\": {\"to_node_id\": \"1576558\", \"from_node_id\": \"1576885\", \"b2\": {\"y\": 1485.0, \"x\": 1995.0}, \"b1\": {\"y\": 1436.0, \"x\": 2030.0}}, \"392\": {\"to_node_id\": \"1576885\", \"from_node_id\": \"1576493\", \"b2\": {\"y\": 1340.0, \"x\": 2100.0}, \"b1\": {\"y\": 1287.5, \"x\": 2138.5}}}, \"genes\": [{\"bigg_id\": \"b4301\", \"name\": \"sgcE\"}, {\"bigg_id\": \"b3386\", \"name\": \"rpe\"}], \"reversibility\": true, \"metabolites\": [{\"coefficient\": 1.0, \"bigg_id\": \"xu5p__D_c\"}, {\"coefficient\": -1.0, \"bigg_id\": \"ru5p__D_c\"}], \"label_x\": 1937.57958984375, \"label_y\": 1422.4544677734375, \"gene_reaction_rule\": \"b3386 or b4301\"}, \"1576717\": {\"name\": \"H+ exchange\", \"bigg_id\": \"EX_h_e\", \"segments\": {\"394\": {\"to_node_id\": \"1576887\", \"from_node_id\": \"1576559\", \"b2\": {\"y\": 2229.5, \"x\": 4918.0}, \"b1\": {\"y\": 2229.15, \"x\": 4870.4}}}, \"genes\": [], \"reversibility\": true, \"metabolites\": [{\"coefficient\": -1.0, \"bigg_id\": \"h_e\"}], \"label_x\": 4920.2587890625, \"label_y\": 2195.827392578125, \"gene_reaction_rule\": \"\"}, \"1576761\": {\"name\": \"Glutamate synthase (NADPH)\", \"bigg_id\": \"GLUSy\", \"segments\": {\"184\": {\"to_node_id\": \"1576554\", \"from_node_id\": \"1576987\", \"b2\": {\"y\": 3721.4298613416263, \"x\": 4116.0}, \"b1\": {\"y\": 3810.0289584024877, \"x\": 4116.0}}, \"182\": {\"to_node_id\": \"1576986\", \"from_node_id\": \"1576655\", \"b2\": {\"y\": 3907.2123007471773, \"x\": 4116.0}, \"b1\": {\"y\": 3952.041002490592, \"x\": 4116.0}}, \"183\": {\"to_node_id\": \"1576656\", \"from_node_id\": \"1576987\", \"b2\": {\"y\": 3790.445677833893, \"x\": 4116.0}, \"b1\": {\"y\": 3830.733703350168, \"x\": 4116.0}}, \"180\": {\"to_node_id\": \"1576986\", \"from_node_id\": \"1576654\", \"b2\": {\"y\": 3902.6240384299276, \"x\": 4116.0}, \"b1\": {\"y\": 3936.7467947664254, \"x\": 4116.0}}, \"181\": {\"to_node_id\": \"1576986\", \"from_node_id\": \"1576578\", \"b2\": {\"y\": 3924.538472874492, \"x\": 4116.0}, \"b1\": {\"y\": 4009.7949095816407, \"x\": 4116.0}}, \"179\": {\"to_node_id\": \"1576986\", \"from_node_id\": \"1576509\", \"b2\": {\"y\": 4155.746259618145, \"x\": 4119.22314453125}, \"b1\": {\"y\": 4145.014875810485, \"x\": 3943.568359375}}, \"178\": {\"to_node_id\": \"1576987\", \"from_node_id\": \"1576988\", \"b2\": null, \"b1\": null}, \"177\": {\"to_node_id\": \"1576988\", \"from_node_id\": \"1576986\", \"b2\": null, \"b1\": null}}, \"genes\": [{\"bigg_id\": \"b3212\", \"name\": \"gltB\"}, {\"bigg_id\": \"b3213\", \"name\": \"gltD\"}], \"reversibility\": false, \"metabolites\": [{\"coefficient\": 2.0, \"bigg_id\": \"glu__L_c\"}, {\"coefficient\": 1.0, \"bigg_id\": \"nadp_c\"}, {\"coefficient\": -1.0, \"bigg_id\": \"h_c\"}, {\"coefficient\": -1.0, \"bigg_id\": \"nadph_c\"}, {\"coefficient\": -1.0, \"bigg_id\": \"gln__L_c\"}, {\"coefficient\": -1.0, \"bigg_id\": \"akg_c\"}], \"label_x\": 3984.18701171875, \"label_y\": 3851.553955078125, \"gene_reaction_rule\": \"b3212 and b3213\"}, \"1577490\": {\"name\": \"Acetaldehyde dehydrogenase (acetylating)\", \"bigg_id\": \"ACALD\", \"segments\": {\"280\": {\"to_node_id\": \"1576812\", \"from_node_id\": \"1577033\", \"b2\": {\"y\": 3945.0, \"x\": 1918.1029079843004}, \"b1\": {\"y\": 3945.0, \"x\": 1961.4308723952902}}, \"273\": {\"to_node_id\": \"1577032\", \"from_node_id\": \"1577031\", \"b2\": null, \"b1\": null}, \"274\": {\"to_node_id\": \"1577033\", \"from_node_id\": \"1577032\", \"b2\": null, \"b1\": null}, \"275\": {\"to_node_id\": \"1577031\", \"from_node_id\": \"1576817\", \"b2\": {\"y\": 3945.0, \"x\": 2065.5}, \"b1\": {\"y\": 3945.0, \"x\": 2125.0}}, \"276\": {\"to_node_id\": \"1577031\", \"from_node_id\": \"1576825\", \"b2\": {\"y\": 3945.0, \"x\": 2058.56912760471}, \"b1\": {\"y\": 3945.0, \"x\": 2101.8970920157}}, \"277\": {\"to_node_id\": \"1577031\", \"from_node_id\": \"1576828\", \"b2\": {\"y\": 3945.0, \"x\": 2053.52081728299}, \"b1\": {\"y\": 3945.0, \"x\": 2085.0693909433}}, \"278\": {\"to_node_id\": \"1576514\", \"from_node_id\": \"1577033\", \"b2\": {\"y\": 3945.0, \"x\": 1847.5}, \"b1\": {\"y\": 3945.0, \"x\": 1940.25}}, \"279\": {\"to_node_id\": \"1576832\", \"from_node_id\": \"1577033\", \"b2\": {\"y\": 3945.0, \"x\": 1934.9306090567002}, \"b1\": {\"y\": 3945.0, \"x\": 1966.47918271701}}}, \"genes\": [{\"bigg_id\": \"b1241\", \"name\": \"adhE\"}, {\"bigg_id\": \"b0351\", \"name\": \"mhpF\"}], \"reversibility\": true, \"metabolites\": [{\"coefficient\": 1.0, \"bigg_id\": \"nadh_c\"}, {\"coefficient\": -1.0, \"bigg_id\": \"coa_c\"}, {\"coefficient\": -1.0, \"bigg_id\": \"acald_c\"}, {\"coefficient\": 1.0, \"bigg_id\": \"h_c\"}, {\"coefficient\": -1.0, \"bigg_id\": \"nad_c\"}, {\"coefficient\": 1.0, \"bigg_id\": \"accoa_c\"}], \"label_x\": 1939.0750732421875, \"label_y\": 3998.470458984375, \"gene_reaction_rule\": \"b0351 or b1241\"}, \"1577497\": {\"name\": \"Acetaldehyde reversible transport\", \"bigg_id\": \"ACALDt\", \"segments\": {\"281\": {\"to_node_id\": \"1577034\", \"from_node_id\": \"1576815\", \"b2\": {\"y\": 4707.0, \"x\": 2210.0}, \"b1\": {\"y\": 4796.55283203125, \"x\": 2210.0}}, \"282\": {\"to_node_id\": \"1576817\", \"from_node_id\": \"1577034\", \"b2\": {\"y\": 4257.5, \"x\": 2210.0}, \"b1\": {\"y\": 4476.25, \"x\": 2210.0}}}, \"genes\": [{\"bigg_id\": \"s0001\", \"name\": \"None\"}], \"reversibility\": true, \"metabolites\": [{\"coefficient\": 1.0, \"bigg_id\": \"acald_c\"}, {\"coefficient\": -1.0, \"bigg_id\": \"acald_e\"}], \"label_x\": 2248.561767578125, \"label_y\": 4579.041015625, \"gene_reaction_rule\": \"s0001\"}, \"1577498\": {\"name\": \"Acetaldehyde exchange\", \"bigg_id\": \"EX_acald_e\", \"segments\": {\"283\": {\"to_node_id\": \"1577035\", \"from_node_id\": \"1576815\", \"b2\": {\"y\": 4894.0, \"x\": 2210.5}, \"b1\": {\"y\": 4889.1484375, \"x\": 2210.15}}}, \"genes\": [], \"reversibility\": false, \"metabolites\": [{\"coefficient\": -1.0, \"bigg_id\": \"acald_e\"}], \"label_x\": 2227.346923828125, \"label_y\": 4922.892578125, \"gene_reaction_rule\": \"\"}, \"1576724\": {\"name\": \"Glutamine synthetase\", \"bigg_id\": \"GLNS\", \"segments\": {\"424\": {\"to_node_id\": \"1576578\", \"from_node_id\": \"1576899\", \"b2\": {\"y\": 4007.2677048056653, \"x\": 4364.0}, \"b1\": {\"y\": 3924.4803114416995, \"x\": 4364.0}}, \"421\": {\"to_node_id\": \"1576901\", \"from_node_id\": \"1576554\", \"b2\": {\"y\": 3812.091159595566, \"x\": 4364.0}, \"b1\": {\"y\": 3725.970531985219, \"x\": 4364.0}}, \"420\": {\"to_node_id\": \"1576899\", \"from_node_id\": \"1576900\", \"b2\": null, \"b1\": null}, \"423\": {\"to_node_id\": \"1576901\", \"from_node_id\": \"1576577\", \"b2\": {\"y\": 3835.8273009599397, \"x\": 4364.0}, \"b1\": {\"y\": 3805.0910031997996, \"x\": 4364.0}}, \"422\": {\"to_node_id\": \"1576901\", \"from_node_id\": \"1576576\", \"b2\": {\"y\": 3830.8679841164862, \"x\": 4364.0}, \"b1\": {\"y\": 3788.5599470549537, \"x\": 4364.0}}, \"425\": {\"to_node_id\": \"1576579\", \"from_node_id\": \"1576899\", \"b2\": {\"y\": 3936.762432936357, \"x\": 4364.0}, \"b1\": {\"y\": 3903.3287298809073, \"x\": 4364.0}}, \"419\": {\"to_node_id\": \"1576900\", \"from_node_id\": \"1576901\", \"b2\": null, \"b1\": null}, \"427\": {\"to_node_id\": \"1576581\", \"from_node_id\": \"1576899\", \"b2\": {\"y\": 3978.617241644675, \"x\": 4364.0}, \"b1\": {\"y\": 3915.8851724934025, \"x\": 4364.0}}, \"426\": {\"to_node_id\": \"1576580\", \"from_node_id\": \"1576899\", \"b2\": {\"y\": 3956.314560089181, \"x\": 4364.0}, \"b1\": {\"y\": 3909.1943680267545, \"x\": 4364.0}}}, \"genes\": [{\"bigg_id\": \"b3870\", \"name\": \"glnA\"}, {\"bigg_id\": \"b1297\", \"name\": \"puuA\"}], \"reversibility\": false, \"metabolites\": [{\"coefficient\": -1.0, \"bigg_id\": \"glu__L_c\"}, {\"coefficient\": -1.0, \"bigg_id\": \"atp_c\"}, {\"coefficient\": -1.0, \"bigg_id\": \"nh4_c\"}, {\"coefficient\": 1.0, \"bigg_id\": \"h_c\"}, {\"coefficient\": 1.0, \"bigg_id\": \"adp_c\"}, {\"coefficient\": 1.0, \"bigg_id\": \"pi_c\"}, {\"coefficient\": 1.0, \"bigg_id\": \"gln__L_c\"}], \"label_x\": 4377.22314453125, \"label_y\": 3875.114990234375, \"gene_reaction_rule\": \"b3870 or b1297\"}, \"1576727\": {\"name\": \"2-Oxogluterate dehydrogenase\", \"bigg_id\": \"AKGDH\", \"segments\": {\"443\": {\"to_node_id\": \"1576908\", \"from_node_id\": \"1576585\", \"b2\": {\"y\": 3494.907757737772, \"x\": 3779.4266247023934}, \"b1\": {\"y\": 3529.6925257925727, \"x\": 3778.088749007978}}, \"442\": {\"to_node_id\": \"1576908\", \"from_node_id\": \"1576509\", \"b2\": {\"y\": 3502.6153909632244, \"x\": 3779.130177270645}, \"b1\": {\"y\": 3555.384636544082, \"x\": 3777.1005909021505}}, \"441\": {\"to_node_id\": \"1576910\", \"from_node_id\": \"1576909\", \"b2\": null, \"b1\": null}, \"440\": {\"to_node_id\": \"1576909\", \"from_node_id\": \"1576908\", \"b2\": null, \"b1\": null}, \"447\": {\"to_node_id\": \"1576588\", \"from_node_id\": \"1576910\", \"b2\": {\"y\": 3276.99346892041, \"x\": 3770.846587256151}, \"b1\": {\"y\": 3314.098040676123, \"x\": 3774.453976176845}}, \"446\": {\"to_node_id\": \"1576587\", \"from_node_id\": \"1576910\", \"b2\": {\"y\": 3277.236984619066, \"x\": 3770.8702623935205}, \"b1\": {\"y\": 3314.1710953857196, \"x\": 3774.4610787180563}}, \"445\": {\"to_node_id\": \"1576570\", \"from_node_id\": \"1576910\", \"b2\": {\"y\": 3259.378766045427, \"x\": 3769.134046698861}, \"b1\": {\"y\": 3308.813629813628, \"x\": 3773.940214009658}}, \"444\": {\"to_node_id\": \"1576908\", \"from_node_id\": \"1576586\", \"b2\": {\"y\": 3498.5402671676266, \"x\": 3779.2869128012453}, \"b1\": {\"y\": 3541.8008905587553, \"x\": 3777.623042670817}}}, \"genes\": [{\"bigg_id\": \"b0116\", \"name\": \"lpd\"}, {\"bigg_id\": \"b0726\", \"name\": \"sucA\"}, {\"bigg_id\": \"b0727\", \"name\": \"sucB\"}], \"reversibility\": false, \"metabolites\": [{\"coefficient\": 1.0, \"bigg_id\": \"nadh_c\"}, {\"coefficient\": -1.0, \"bigg_id\": \"coa_c\"}, {\"coefficient\": -1.0, \"bigg_id\": \"nad_c\"}, {\"coefficient\": 1.0, \"bigg_id\": \"co2_c\"}, {\"coefficient\": 1.0, \"bigg_id\": \"succoa_c\"}, {\"coefficient\": -1.0, \"bigg_id\": \"akg_c\"}], \"label_x\": 3793.0, \"label_y\": 3392.0, \"gene_reaction_rule\": \"b0116 and b0726 and b0727\"}, \"1576726\": {\"name\": \"NAD transhydrogenase\", \"bigg_id\": \"NADTRHD\", \"segments\": {\"438\": {\"to_node_id\": \"1576496\", \"from_node_id\": \"1576905\", \"b2\": {\"y\": 1270.0, \"x\": 3400.0}, \"b1\": {\"y\": 1270.0, \"x\": 3449.0}}, \"439\": {\"to_node_id\": \"1576497\", \"from_node_id\": \"1576905\", \"b2\": {\"y\": 1270.0, \"x\": 3418.3388104489154}, \"b1\": {\"y\": 1270.0, \"x\": 3446.2829175487373}}, \"436\": {\"to_node_id\": \"1576906\", \"from_node_id\": \"1576501\", \"b2\": {\"y\": 1270.0, \"x\": 3592.9455878111676}, \"b1\": {\"y\": 1270.0001220703125, \"x\": 3627.146913797642}}, \"437\": {\"to_node_id\": \"1576906\", \"from_node_id\": \"1576500\", \"b2\": {\"y\": 1270.0, \"x\": 3595.5}, \"b1\": {\"y\": 1270.0, \"x\": 3655.0}}, \"434\": {\"to_node_id\": \"1576907\", \"from_node_id\": \"1576906\", \"b2\": null, \"b1\": null}, \"435\": {\"to_node_id\": \"1576905\", \"from_node_id\": \"1576907\", \"b2\": null, \"b1\": null}}, \"genes\": [{\"bigg_id\": \"b1602\", \"name\": \"pntB\"}, {\"bigg_id\": \"b3962\", \"name\": \"sthA\"}, {\"bigg_id\": \"b1603\", \"name\": \"pntA\"}], \"reversibility\": false, \"metabolites\": [{\"coefficient\": 1.0, \"bigg_id\": \"nadh_c\"}, {\"coefficient\": 1.0, \"bigg_id\": \"nadp_c\"}, {\"coefficient\": -1.0, \"bigg_id\": \"nad_c\"}, {\"coefficient\": -1.0, \"bigg_id\": \"nadph_c\"}], \"label_x\": 3478.431396484375, \"label_y\": 1319.6259765625, \"gene_reaction_rule\": \"b3962 or (b1602 and b1603)\"}, \"1576721\": {\"name\": \"Phosphofructokinase\", \"bigg_id\": \"PFK\", \"segments\": {\"407\": {\"to_node_id\": \"1576893\", \"from_node_id\": \"1576572\", \"b2\": {\"y\": 1674.9065411518764, \"x\": 1055.0}, \"b1\": {\"y\": 1639.6884705062548, \"x\": 1055.0}}, \"406\": {\"to_node_id\": \"1576893\", \"from_node_id\": \"1576525\", \"b2\": {\"y\": 1668.25, \"x\": 1055.0}, \"b1\": {\"y\": 1617.5, \"x\": 1055.0}}, \"405\": {\"to_node_id\": \"1576892\", \"from_node_id\": \"1576891\", \"b2\": null, \"b1\": null}, \"404\": {\"to_node_id\": \"1576891\", \"from_node_id\": \"1576893\", \"b2\": null, \"b1\": null}, \"410\": {\"to_node_id\": \"1576574\", \"from_node_id\": \"1576892\", \"b2\": {\"y\": 1835.2079728939614, \"x\": 1055.0}, \"b1\": {\"y\": 1793.0623918681883, \"x\": 1055.0}}, \"409\": {\"to_node_id\": \"1576529\", \"from_node_id\": \"1576892\", \"b2\": {\"y\": 1850.0, \"x\": 1055.0}, \"b1\": {\"y\": 1797.5, \"x\": 1055.0}}, \"408\": {\"to_node_id\": \"1576573\", \"from_node_id\": \"1576892\", \"b2\": {\"y\": 1822.4341649025257, \"x\": 1055.0}, \"b1\": {\"y\": 1789.2302494707578, \"x\": 1055.0}}}, \"genes\": [{\"bigg_id\": \"b1723\", \"name\": \"pfkB\"}, {\"bigg_id\": \"b3916\", \"name\": \"pfkA\"}], \"reversibility\": false, \"metabolites\": [{\"coefficient\": 1.0, \"bigg_id\": \"h_c\"}, {\"coefficient\": 1.0, \"bigg_id\": \"adp_c\"}, {\"coefficient\": -1.0, \"bigg_id\": \"f6p_c\"}, {\"coefficient\": -1.0, \"bigg_id\": \"atp_c\"}, {\"coefficient\": 1.0, \"bigg_id\": \"fdp_c\"}], \"label_x\": 1065.0, \"label_y\": 1725.0, \"gene_reaction_rule\": \"b3916 or b1723\"}, \"1576720\": {\"name\": \"Succinyl-CoA synthetase (ADP-forming)\", \"bigg_id\": \"SUCOAS\", \"segments\": {\"397\": {\"to_node_id\": \"1576890\", \"from_node_id\": \"1576888\", \"b2\": null, \"b1\": null}, \"396\": {\"to_node_id\": \"1576888\", \"from_node_id\": \"1576889\", \"b2\": null, \"b1\": null}, \"401\": {\"to_node_id\": \"1576569\", \"from_node_id\": \"1576890\", \"b2\": {\"y\": 3112.853617863234, \"x\": 3706.5785261677484}, \"b1\": {\"y\": 3077.95608535897, \"x\": 3678.1735578503244}}, \"400\": {\"to_node_id\": \"1576889\", \"from_node_id\": \"1576533\", \"b2\": {\"y\": 2954.5162418879845, \"x\": 3567.004509117803}, \"b1\": {\"y\": 2904.387472959949, \"x\": 3518.015030392677}}, \"403\": {\"to_node_id\": \"1576571\", \"from_node_id\": \"1576890\", \"b2\": {\"y\": 3107.574578569538, \"x\": 3702.2816337193913}, \"b1\": {\"y\": 3076.3723735708613, \"x\": 3676.8844901158172}}, \"399\": {\"to_node_id\": \"1576889\", \"from_node_id\": \"1576568\", \"b2\": {\"y\": 2964.923830429043, \"x\": 3577.1755615556553}, \"b1\": {\"y\": 2939.079434763476, \"x\": 3551.9185385188516}}, \"398\": {\"to_node_id\": \"1576889\", \"from_node_id\": \"1576567\", \"b2\": {\"y\": 2962.1615434463, \"x\": 3574.4760538225205}, \"b1\": {\"y\": 2929.871811487667, \"x\": 3542.920179408402}}, \"402\": {\"to_node_id\": \"1576570\", \"from_node_id\": \"1576890\", \"b2\": {\"y\": 3120.815793594307, \"x\": 3713.059366879087}, \"b1\": {\"y\": 3080.344738078292, \"x\": 3680.117810063726}}}, \"genes\": [{\"bigg_id\": \"b0729\", \"name\": \"sucD\"}, {\"bigg_id\": \"b0728\", \"name\": \"sucC\"}], \"reversibility\": true, \"metabolites\": [{\"coefficient\": -1.0, \"bigg_id\": \"coa_c\"}, {\"coefficient\": 1.0, \"bigg_id\": \"adp_c\"}, {\"coefficient\": -1.0, \"bigg_id\": \"succ_c\"}, {\"coefficient\": -1.0, \"bigg_id\": \"atp_c\"}, {\"coefficient\": 1.0, \"bigg_id\": \"succoa_c\"}, {\"coefficient\": 1.0, \"bigg_id\": \"pi_c\"}], \"label_x\": 3641.0, \"label_y\": 3010.0, \"gene_reaction_rule\": \"b0728 and b0729\"}, \"1576723\": {\"name\": \"Transketolase\", \"bigg_id\": \"TKT2\", \"segments\": {\"414\": {\"to_node_id\": \"1576898\", \"from_node_id\": \"1576896\", \"b2\": null, \"b1\": null}, \"415\": {\"to_node_id\": \"1576897\", \"from_node_id\": \"1576547\", \"b2\": {\"y\": 1735.0, \"x\": 1772.8736958157247}, \"b1\": {\"y\": 1735.0, \"x\": 1954.5789860524153}}, \"416\": {\"to_node_id\": \"1576897\", \"from_node_id\": \"1576558\", \"b2\": {\"y\": 1735.0, \"x\": 1741.208765402248}, \"b1\": {\"y\": 1735.0, \"x\": 1849.0292180074937}}, \"417\": {\"to_node_id\": \"1576525\", \"from_node_id\": \"1576898\", \"b2\": {\"y\": 1587.43115234375, \"x\": 1280.4546812716637}, \"b1\": {\"y\": 1741.3470458984375, \"x\": 1235.776382408843}}, \"413\": {\"to_node_id\": \"1576896\", \"from_node_id\": \"1576897\", \"b2\": null, \"b1\": null}, \"418\": {\"to_node_id\": \"1576575\", \"from_node_id\": \"1576898\", \"b2\": {\"y\": 1735.0, \"x\": 1312.7516245895065}, \"b1\": {\"y\": 1735.0, \"x\": 1318.2979239002893}}}, \"genes\": [{\"bigg_id\": \"b2465\", \"name\": \"tktB\"}, {\"bigg_id\": \"b2935\", \"name\": \"tktA\"}], \"reversibility\": true, \"metabolites\": [{\"coefficient\": -1.0, \"bigg_id\": \"xu5p__D_c\"}, {\"coefficient\": -1.0, \"bigg_id\": \"e4p_c\"}, {\"coefficient\": 1.0, \"bigg_id\": \"g3p_c\"}, {\"coefficient\": 1.0, \"bigg_id\": \"f6p_c\"}], \"label_x\": 1520.71923828125, \"label_y\": 1702.785400390625, \"gene_reaction_rule\": \"b2935 or b2465\"}, \"1576722\": {\"name\": \"L-Glutamate exchange\", \"bigg_id\": \"EX_glu__L_e\", \"segments\": {\"411\": {\"to_node_id\": \"1576895\", \"from_node_id\": \"1576552\", \"b2\": {\"y\": 3635.0, \"x\": 4949.0}, \"b1\": {\"y\": 3634.3, \"x\": 4902.8}}}, \"genes\": [], \"reversibility\": false, \"metabolites\": [{\"coefficient\": -1.0, \"bigg_id\": \"glu__L_e\"}], \"label_x\": 4936.36669921875, \"label_y\": 3680.79150390625, \"gene_reaction_rule\": \"\"}, \"1576729\": {\"name\": \"O2 exchange\", \"bigg_id\": \"EX_o2_e\", \"segments\": {\"454\": {\"to_node_id\": \"1576914\", \"from_node_id\": \"1576494\", \"b2\": {\"y\": 1660.0, \"x\": 4910.0}, \"b1\": {\"y\": 1660.0, \"x\": 4868.0}}}, \"genes\": [], \"reversibility\": true, \"metabolites\": [{\"coefficient\": -1.0, \"bigg_id\": \"o2_e\"}], \"label_x\": 4894.58984375, \"label_y\": 1633.8848876953125, \"gene_reaction_rule\": \"\"}, \"1576728\": {\"name\": \"Pyruvate formate lyase\", \"bigg_id\": \"PFL\", \"segments\": {\"449\": {\"to_node_id\": \"1576913\", \"from_node_id\": \"1576911\", \"b2\": null, \"b1\": null}, \"448\": {\"to_node_id\": \"1576911\", \"from_node_id\": \"1576912\", \"b2\": null, \"b1\": null}, \"450\": {\"to_node_id\": \"1576912\", \"from_node_id\": \"1576589\", \"b2\": {\"y\": 3995.0, \"x\": 1239.5565547885194}, \"b1\": {\"y\": 3995.0, \"x\": 1203.521849295065}}, \"451\": {\"to_node_id\": \"1576912\", \"from_node_id\": \"1576511\", \"b2\": {\"y\": 3995.0, \"x\": 1224.0767078078675}, \"b1\": {\"y\": 3995.0, \"x\": 1151.9223593595584}}, \"452\": {\"to_node_id\": \"1576514\", \"from_node_id\": \"1576913\", \"b2\": {\"y\": 3995.0, \"x\": 1567.0690632574556}, \"b1\": {\"y\": 3995.0, \"x\": 1460.6207189772367}}, \"453\": {\"to_node_id\": \"1576590\", \"from_node_id\": \"1576913\", \"b2\": {\"y\": 3995.0, \"x\": 1469.8292804986534}, \"b1\": {\"y\": 3995.0, \"x\": 1431.4487841495961}}}, \"genes\": [{\"bigg_id\": \"b3114\", \"name\": \"tdcE\"}, {\"bigg_id\": \"b3951\", \"name\": \"pflD\"}, {\"bigg_id\": \"b3952\", \"name\": \"pflC\"}, {\"bigg_id\": \"b0903\", \"name\": \"pflB\"}, {\"bigg_id\": \"b0902\", \"name\": \"pflA\"}, {\"bigg_id\": \"b2579\", \"name\": \"grcA\"}], \"reversibility\": false, \"metabolites\": [{\"coefficient\": -1.0, \"bigg_id\": \"pyr_c\"}, {\"coefficient\": -1.0, \"bigg_id\": \"coa_c\"}, {\"coefficient\": 1.0, \"bigg_id\": \"accoa_c\"}, {\"coefficient\": 1.0, \"bigg_id\": \"for_c\"}], \"label_x\": 1310.09130859375, \"label_y\": 4046.8837890625, \"gene_reaction_rule\": \"((b0902 and b0903) and b2579) or (b0902 and b0903) or (b0902 and b3114) or (b3951 and b3952)\"}, \"1577532\": {\"name\": \"Malate transport via proton symport  2 H \", \"bigg_id\": \"MALt2_2\", \"segments\": {\"33\": {\"to_node_id\": \"1577056\", \"from_node_id\": \"1576831\", \"b2\": {\"y\": 720.0576036932963, \"x\": 2610.0}, \"b1\": {\"y\": 682.8586789776543, \"x\": 2610.0}}, \"32\": {\"to_node_id\": \"1577058\", \"from_node_id\": \"1577057\", \"b2\": null, \"b1\": null}, \"31\": {\"to_node_id\": \"1577057\", \"from_node_id\": \"1577056\", \"b2\": null, \"b1\": null}, \"36\": {\"to_node_id\": \"1576504\", \"from_node_id\": \"1577058\", \"b2\": {\"y\": 2086.013675322326, \"x\": 2610.0}, \"b1\": {\"y\": 1311.8041025966977, \"x\": 2610.0}}, \"35\": {\"to_node_id\": \"1576810\", \"from_node_id\": \"1577058\", \"b2\": {\"y\": 1032.2015325445527, \"x\": 2610.0}, \"b1\": {\"y\": 995.6604597633658, \"x\": 2610.0}}, \"34\": {\"to_node_id\": \"1577056\", \"from_node_id\": \"1576816\", \"b2\": {\"y\": 723.1, \"x\": 2610.0}, \"b1\": {\"y\": 693.0, \"x\": 2610.0}}}, \"genes\": [{\"bigg_id\": \"b3528\", \"name\": \"dctA\"}], \"reversibility\": false, \"metabolites\": [{\"coefficient\": 1.0, \"bigg_id\": \"mal__L_c\"}, {\"coefficient\": 2.0, \"bigg_id\": \"h_c\"}, {\"coefficient\": -1.0, \"bigg_id\": \"mal__L_e\"}, {\"coefficient\": -2.0, \"bigg_id\": \"h_e\"}], \"label_x\": 2623.173583984375, \"label_y\": 844.3793334960938, \"gene_reaction_rule\": \"b3528\"}, \"1577537\": {\"name\": \"L-Malate exchange\", \"bigg_id\": \"EX_mal__L_e\", \"segments\": {\"37\": {\"to_node_id\": \"1577059\", \"from_node_id\": \"1576816\", \"b2\": {\"y\": 560.0, \"x\": 2610.0}, \"b1\": {\"y\": 623.0, \"x\": 2610.0}}}, \"genes\": [], \"reversibility\": false, \"metabolites\": [{\"coefficient\": -1.0, \"bigg_id\": \"mal__L_e\"}], \"label_x\": 2356.597412109375, \"label_y\": 513.949951171875, \"gene_reaction_rule\": \"\"}, \"1576732\": {\"name\": \"2 oxoglutarate reversible transport via symport\", \"bigg_id\": \"AKGt2r\", \"segments\": {\"469\": {\"to_node_id\": \"1576924\", \"from_node_id\": \"1576923\", \"b2\": null, \"b1\": null}, \"472\": {\"to_node_id\": \"1576923\", \"from_node_id\": \"1576599\", \"b2\": {\"y\": 3228.0, \"x\": 4807.306616216525}, \"b1\": {\"y\": 3228.0, \"x\": 4843.0220540550845}}, \"473\": {\"to_node_id\": \"1576509\", \"from_node_id\": \"1576922\", \"b2\": {\"y\": 3228.0, \"x\": 4074.584218822}, \"b1\": {\"y\": 3228.0, \"x\": 4373.7752656466}}, \"470\": {\"to_node_id\": \"1576922\", \"from_node_id\": \"1576924\", \"b2\": null, \"b1\": null}, \"471\": {\"to_node_id\": \"1576923\", \"from_node_id\": \"1576598\", \"b2\": {\"y\": 3228.0, \"x\": 4811.5}, \"b1\": {\"y\": 3228.0, \"x\": 4857.0}}, \"474\": {\"to_node_id\": \"1576600\", \"from_node_id\": \"1576922\", \"b2\": {\"y\": 3228.0, \"x\": 4449.798467455447}, \"b1\": {\"y\": 3228.0, \"x\": 4486.339540236634}}}, \"genes\": [{\"bigg_id\": \"b2587\", \"name\": \"kgtP\"}], \"reversibility\": true, \"metabolites\": [{\"coefficient\": -1.0, \"bigg_id\": \"h_e\"}, {\"coefficient\": 1.0, \"bigg_id\": \"akg_c\"}, {\"coefficient\": -1.0, \"bigg_id\": \"akg_e\"}, {\"coefficient\": 1.0, \"bigg_id\": \"h_c\"}], \"label_x\": 4594.6474609375, \"label_y\": 3197.05029296875, \"gene_reaction_rule\": \"b2587\"}, \"1576733\": {\"name\": \"Fructose-bisphosphate aldolase\", \"bigg_id\": \"FBA\", \"segments\": {\"55\": {\"to_node_id\": \"1576601\", \"from_node_id\": \"1576925\", \"b2\": {\"y\": 2081.141357421875, \"x\": 929.645751953125}, \"b1\": {\"y\": 2082.5, \"x\": 1055.0}}, \"54\": {\"to_node_id\": \"1576575\", \"from_node_id\": \"1576925\", \"b2\": {\"y\": 2120.0, \"x\": 1055.0}, \"b1\": {\"y\": 2067.5, \"x\": 1055.0}}, \"53\": {\"to_node_id\": \"1576925\", \"from_node_id\": \"1576926\", \"b2\": null, \"b1\": null}, \"475\": {\"to_node_id\": \"1576926\", \"from_node_id\": \"1576529\", \"b2\": {\"y\": 1974.28076171875, \"x\": 1055.0}, \"b1\": {\"y\": 1970.4088134765625, \"x\": 1055.0}}}, \"genes\": [{\"bigg_id\": \"b2097\", \"name\": \"fbaB\"}, {\"bigg_id\": \"b2925\", \"name\": \"fbaA\"}, {\"bigg_id\": \"b1773\", \"name\": \"ydjI\"}], \"reversibility\": true, \"metabolites\": [{\"coefficient\": 1.0, \"bigg_id\": \"dhap_c\"}, {\"coefficient\": 1.0, \"bigg_id\": \"g3p_c\"}, {\"coefficient\": -1.0, \"bigg_id\": \"fdp_c\"}], \"label_x\": 969.7942504882812, \"label_y\": 2031.01611328125, \"gene_reaction_rule\": \"b2097 or b1773 or b2925\"}, \"1576730\": {\"name\": \"Phosphoenolpyruvate carboxykinase\", \"bigg_id\": \"PPCK\", \"segments\": {\"458\": {\"to_node_id\": \"1576917\", \"from_node_id\": \"1576591\", \"b2\": {\"y\": 3557.6148705803193, \"x\": 1495.4573041787805}, \"b1\": {\"y\": 3566.049568601064, \"x\": 1519.8576805959353}}, \"459\": {\"to_node_id\": \"1576917\", \"from_node_id\": \"1576521\", \"b2\": {\"y\": 3678.777694102544, \"x\": 1757.8986662821364}, \"b1\": {\"y\": 3758.886258987647, \"x\": 2521.6033016696215}}, \"461\": {\"to_node_id\": \"1576593\", \"from_node_id\": \"1576918\", \"b2\": {\"y\": 3483.931701701515, \"x\": 1277.7951051045454}, \"b1\": {\"y\": 3497.2795105104547, \"x\": 1317.8385315313635}}, \"460\": {\"to_node_id\": \"1576592\", \"from_node_id\": \"1576918\", \"b2\": {\"y\": 3492.675272400688, \"x\": 1304.0258172020633}, \"b1\": {\"y\": 3499.9025817202064, \"x\": 1325.707745160619}}, \"456\": {\"to_node_id\": \"1576916\", \"from_node_id\": \"1576917\", \"b2\": null, \"b1\": null}, \"457\": {\"to_node_id\": \"1576918\", \"from_node_id\": \"1576916\", \"b2\": null, \"b1\": null}, \"462\": {\"to_node_id\": \"1576517\", \"from_node_id\": \"1576918\", \"b2\": {\"y\": 3454.321462634956, \"x\": 1188.9643879048676}, \"b1\": {\"y\": 3488.3964387904866, \"x\": 1291.1893163714603}}}, \"genes\": [{\"bigg_id\": \"b3403\", \"name\": \"pck\"}], \"reversibility\": false, \"metabolites\": [{\"coefficient\": 1.0, \"bigg_id\": \"pep_c\"}, {\"coefficient\": -1.0, \"bigg_id\": \"atp_c\"}, {\"coefficient\": -1.0, \"bigg_id\": \"oaa_c\"}, {\"coefficient\": 1.0, \"bigg_id\": \"co2_c\"}, {\"coefficient\": 1.0, \"bigg_id\": \"adp_c\"}], \"label_x\": 1377.3328857421875, \"label_y\": 3600.33447265625, \"gene_reaction_rule\": \"b3403\"}, \"1576731\": {\"name\": \"Phosphate reversible transport via symport\", \"bigg_id\": \"PIt2r\", \"segments\": {\"468\": {\"to_node_id\": \"1576597\", \"from_node_id\": \"1576919\", \"b2\": {\"y\": 4475.0, \"x\": 2880.0}, \"b1\": {\"y\": 4506.5, \"x\": 2880.0}}, \"465\": {\"to_node_id\": \"1576921\", \"from_node_id\": \"1576594\", \"b2\": {\"y\": 4742.1, \"x\": 2880.0}, \"b1\": {\"y\": 4782.0, \"x\": 2880.0}}, \"464\": {\"to_node_id\": \"1576919\", \"from_node_id\": \"1576920\", \"b2\": null, \"b1\": null}, \"467\": {\"to_node_id\": \"1576596\", \"from_node_id\": \"1576919\", \"b2\": {\"y\": 4464.789040942943, \"x\": 2880.0}, \"b1\": {\"y\": 4503.436712282883, \"x\": 2880.0}}, \"466\": {\"to_node_id\": \"1576921\", \"from_node_id\": \"1576595\", \"b2\": {\"y\": 4740.280870394058, \"x\": 2880.0}, \"b1\": {\"y\": 4775.936234646861, \"x\": 2880.0}}, \"463\": {\"to_node_id\": \"1576920\", \"from_node_id\": \"1576921\", \"b2\": null, \"b1\": null}}, \"genes\": [{\"bigg_id\": \"b3493\", \"name\": \"pitA\"}, {\"bigg_id\": \"b2987\", \"name\": \"pitB\"}], \"reversibility\": true, \"metabolites\": [{\"coefficient\": -1.0, \"bigg_id\": \"h_e\"}, {\"coefficient\": 1.0, \"bigg_id\": \"h_c\"}, {\"coefficient\": 1.0, \"bigg_id\": \"pi_c\"}, {\"coefficient\": -1.0, \"bigg_id\": \"pi_e\"}], \"label_x\": 2916.97509765625, \"label_y\": 4649.33837890625, \"gene_reaction_rule\": \"b2987 or b3493\"}, \"1576736\": {\"name\": \"Ribose-5-phosphate isomerase\", \"bigg_id\": \"RPI\", \"segments\": {\"66\": {\"to_node_id\": \"1576931\", \"from_node_id\": \"1576605\", \"b2\": {\"y\": 1490.0, \"x\": 2362.0}, \"b1\": {\"y\": 1535.5, \"x\": 2401.9}}, \"67\": {\"to_node_id\": \"1576493\", \"from_node_id\": \"1576931\", \"b2\": {\"y\": 1345.0, \"x\": 2230.0}, \"b1\": {\"y\": 1401.0, \"x\": 2282.5}}}, \"genes\": [{\"bigg_id\": \"b2914\", \"name\": \"rpiA\"}, {\"bigg_id\": \"b4090\", \"name\": \"rpiB\"}], \"reversibility\": true, \"metabolites\": [{\"coefficient\": 1.0, \"bigg_id\": \"ru5p__D_c\"}, {\"coefficient\": -1.0, \"bigg_id\": \"r5p_c\"}], \"label_x\": 2315.0, \"label_y\": 1415.0, \"gene_reaction_rule\": \"b2914 or b4090\"}, \"1576737\": {\"name\": \"Malate synthase\", \"bigg_id\": \"MALS\", \"segments\": {\"75\": {\"to_node_id\": \"1576504\", \"from_node_id\": \"1576932\", \"b2\": {\"y\": 3264.9901959981144, \"x\": 2733.0283686781227}, \"b1\": {\"y\": 3318.197058799434, \"x\": 2810.0085106034367}}, \"74\": {\"to_node_id\": \"1576609\", \"from_node_id\": \"1576932\", \"b2\": {\"y\": 3288.6581354094164, \"x\": 2767.2713448476666}, \"b1\": {\"y\": 3325.297440622825, \"x\": 2820.2814034543}}, \"73\": {\"to_node_id\": \"1576608\", \"from_node_id\": \"1576932\", \"b2\": {\"y\": 3305.691868266011, \"x\": 2791.915894512527}, \"b1\": {\"y\": 3330.4075604798036, \"x\": 2827.674768353758}}, \"72\": {\"to_node_id\": \"1576933\", \"from_node_id\": \"1576607\", \"b2\": {\"y\": 3460.23788356471, \"x\": 3016.1884971205427}, \"b1\": {\"y\": 3495.7929452157005, \"x\": 3067.961657068476}}, \"71\": {\"to_node_id\": \"1576933\", \"from_node_id\": \"1576606\", \"b2\": {\"y\": 3455.108224908018, \"x\": 3008.7189941643073}, \"b1\": {\"y\": 3478.694083026728, \"x\": 3043.063313881025}}, \"70\": {\"to_node_id\": \"1576933\", \"from_node_id\": \"1576532\", \"b2\": {\"y\": 3464.029731004742, \"x\": 3021.7099591823435}, \"b1\": {\"y\": 3508.4324366824735, \"x\": 3086.3665306078124}}, \"68\": {\"to_node_id\": \"1576934\", \"from_node_id\": \"1576933\", \"b2\": null, \"b1\": null}, \"69\": {\"to_node_id\": \"1576932\", \"from_node_id\": \"1576934\", \"b2\": null, \"b1\": null}}, \"genes\": [{\"bigg_id\": \"b2976\", \"name\": \"glcB\"}, {\"bigg_id\": \"b4014\", \"name\": \"aceB\"}], \"reversibility\": false, \"metabolites\": [{\"coefficient\": 1.0, \"bigg_id\": \"coa_c\"}, {\"coefficient\": 1.0, \"bigg_id\": \"h_c\"}, {\"coefficient\": 1.0, \"bigg_id\": \"mal__L_c\"}, {\"coefficient\": -1.0, \"bigg_id\": \"accoa_c\"}, {\"coefficient\": -1.0, \"bigg_id\": \"h2o_c\"}, {\"coefficient\": -1.0, \"bigg_id\": \"glx_c\"}], \"label_x\": 2921.0, \"label_y\": 3378.0, \"gene_reaction_rule\": \"b4014 or b2976\"}, \"1576734\": {\"name\": \"Triose-phosphate isomerase\", \"bigg_id\": \"TPI\", \"segments\": {\"57\": {\"to_node_id\": \"1576575\", \"from_node_id\": \"1576927\", \"b2\": {\"y\": 2195.0, \"x\": 1005.0}, \"b1\": {\"y\": 2195.0, \"x\": 970.0}}, \"56\": {\"to_node_id\": \"1576927\", \"from_node_id\": \"1576601\", \"b2\": {\"y\": 2195.0, \"x\": 911.3470458984375}, \"b1\": {\"y\": 2195.0, \"x\": 911.255859375}}}, \"genes\": [{\"bigg_id\": \"b3919\", \"name\": \"tpiA\"}], \"reversibility\": true, \"metabolites\": [{\"coefficient\": -1.0, \"bigg_id\": \"dhap_c\"}, {\"coefficient\": 1.0, \"bigg_id\": \"g3p_c\"}], \"label_x\": 936.438232421875, \"label_y\": 2245.297119140625, \"gene_reaction_rule\": \"b3919\"}, \"1576735\": {\"name\": \"Cytochrome oxidase bd (ubiquinol-8: 2 protons)\", \"bigg_id\": \"CYTBD\", \"segments\": {\"59\": {\"to_node_id\": \"1576929\", \"from_node_id\": \"1576928\", \"b2\": null, \"b1\": null}, \"58\": {\"to_node_id\": \"1576928\", \"from_node_id\": \"1576930\", \"b2\": null, \"b1\": null}, \"60\": {\"to_node_id\": \"1576930\", \"from_node_id\": \"1576602\", \"b2\": {\"y\": 1900.0, \"x\": 4595.5}, \"b1\": {\"y\": 1895.1654052734375, \"x\": 4416.69775390625}}, \"61\": {\"to_node_id\": \"1576930\", \"from_node_id\": \"1576495\", \"b2\": {\"y\": 1900.0, \"x\": 4572.371881863104}, \"b1\": {\"y\": 1900.0, \"x\": 4437.906272877015}}, \"62\": {\"to_node_id\": \"1576930\", \"from_node_id\": \"1576542\", \"b2\": {\"y\": 1900.0, \"x\": 4581.906341374356}, \"b1\": {\"y\": 1890.3310546875, \"x\": 4368.162902237436}}, \"63\": {\"to_node_id\": \"1576539\", \"from_node_id\": \"1576929\", \"b2\": {\"y\": 1903.22314453125, \"x\": 4842.38515985191}, \"b1\": {\"y\": 1900.0, \"x\": 4715.894014752448}}, \"64\": {\"to_node_id\": \"1576603\", \"from_node_id\": \"1576929\", \"b2\": {\"y\": 1900.0, \"x\": 4775.0}, \"b1\": {\"y\": 1900.0, \"x\": 4715.5}}, \"65\": {\"to_node_id\": \"1576604\", \"from_node_id\": \"1576929\", \"b2\": {\"y\": 1758.1868896484375, \"x\": 4884.545828600423}, \"b1\": {\"y\": 1901.611572265625, \"x\": 4821.203885298877}}}, \"genes\": [{\"bigg_id\": \"b0978\", \"name\": \"cbdA\"}, {\"bigg_id\": \"b0734\", \"name\": \"cydB\"}, {\"bigg_id\": \"b0979\", \"name\": \"cbdB\"}, {\"bigg_id\": \"b0733\", \"name\": \"cydA\"}], \"reversibility\": false, \"metabolites\": [{\"coefficient\": -0.5, \"bigg_id\": \"o2_c\"}, {\"coefficient\": 1.0, \"bigg_id\": \"q8_c\"}, {\"coefficient\": 2.0, \"bigg_id\": \"h_e\"}, {\"coefficient\": -1.0, \"bigg_id\": \"q8h2_c\"}, {\"coefficient\": -2.0, \"bigg_id\": \"h_c\"}, {\"coefficient\": 1.0, \"bigg_id\": \"h2o_c\"}], \"label_x\": 4560.4169921875, \"label_y\": 1954.46044921875, \"gene_reaction_rule\": \"(b0978 and b0979) or (b0733 and b0734)\"}, \"1576739\": {\"name\": \"Phosphotransacetylase\", \"bigg_id\": \"PTAr\", \"segments\": {\"77\": {\"to_node_id\": \"1576936\", \"from_node_id\": \"1576937\", \"b2\": null, \"b1\": null}, \"76\": {\"to_node_id\": \"1576937\", \"from_node_id\": \"1576935\", \"b2\": null, \"b1\": null}, \"80\": {\"to_node_id\": \"1576613\", \"from_node_id\": \"1576936\", \"b2\": {\"y\": 4140.0, \"x\": 1715.0}, \"b1\": {\"y\": 4115.5, \"x\": 1715.0}}, \"81\": {\"to_node_id\": \"1576614\", \"from_node_id\": \"1576936\", \"b2\": {\"y\": 4157.201532544553, \"x\": 1715.0}, \"b1\": {\"y\": 4120.660459763366, \"x\": 1715.0}}, \"79\": {\"to_node_id\": \"1576935\", \"from_node_id\": \"1576612\", \"b2\": {\"y\": 4049.339540236634, \"x\": 1715.0}, \"b1\": {\"y\": 4012.7984674554473, \"x\": 1715.0}}, \"78\": {\"to_node_id\": \"1576935\", \"from_node_id\": \"1576514\", \"b2\": {\"y\": 4047.0, \"x\": 1715.0}, \"b1\": {\"y\": 4005.0, \"x\": 1715.0}}}, \"genes\": [{\"bigg_id\": \"b2297\", \"name\": \"pta\"}, {\"bigg_id\": \"b2458\", \"name\": \"eutD\"}], \"reversibility\": true, \"metabolites\": [{\"coefficient\": -1.0, \"bigg_id\": \"accoa_c\"}, {\"coefficient\": 1.0, \"bigg_id\": \"actp_c\"}, {\"coefficient\": -1.0, \"bigg_id\": \"pi_c\"}, {\"coefficient\": 1.0, \"bigg_id\": \"coa_c\"}], \"label_x\": 1725.0, \"label_y\": 4075.0, \"gene_reaction_rule\": \"b2297 or b2458\"}, \"1577529\": {\"name\": \"D-Fructose exchange\", \"bigg_id\": \"EX_fru_e\", \"segments\": {\"29\": {\"to_node_id\": \"1577054\", \"from_node_id\": \"1576826\", \"b2\": {\"y\": 1360.0, \"x\": 241.0}, \"b1\": {\"y\": 1360.0, \"x\": 282.3}}}, \"genes\": [], \"reversibility\": false, \"metabolites\": [{\"coefficient\": -1.0, \"bigg_id\": \"fru_e\"}], \"label_x\": 125.35597229003906, \"label_y\": 1321.438232421875, \"gene_reaction_rule\": \"\"}, \"1577520\": {\"name\": \"Fumarate reductase\", \"bigg_id\": \"FRD7\", \"segments\": {\"20\": {\"to_node_id\": \"1577048\", \"from_node_id\": \"1576830\", \"b2\": {\"y\": 2600.0, \"x\": 3057.152680682408}, \"b1\": {\"y\": 2600.0, \"x\": 3003.842268941361}}, \"21\": {\"to_node_id\": \"1576814\", \"from_node_id\": \"1577050\", \"b2\": {\"y\": 2600.0, \"x\": 3213.824115301167}, \"b1\": {\"y\": 2600.0, \"x\": 3162.14723459035}}, \"22\": {\"to_node_id\": \"1576533\", \"from_node_id\": \"1577050\", \"b2\": {\"y\": 2600.0, \"x\": 3333.4483135103533}, \"b1\": {\"y\": 2600.0, \"x\": 3198.034494053106}}, \"19\": {\"to_node_id\": \"1577048\", \"from_node_id\": \"1576503\", \"b2\": {\"y\": 2600.0, \"x\": 3020.2689151278832}, \"b1\": {\"y\": 2600.0, \"x\": 2880.896383759611}}, \"18\": {\"to_node_id\": \"1577050\", \"from_node_id\": \"1577049\", \"b2\": null, \"b1\": null}, \"17\": {\"to_node_id\": \"1577049\", \"from_node_id\": \"1577048\", \"b2\": null, \"b1\": null}}, \"genes\": [{\"bigg_id\": \"b4152\", \"name\": \"frdC\"}, {\"bigg_id\": \"b4151\", \"name\": \"frdD\"}, {\"bigg_id\": \"b4154\", \"name\": \"frdA\"}, {\"bigg_id\": \"b4153\", \"name\": \"frdB\"}], \"reversibility\": false, \"metabolites\": [{\"coefficient\": 1.0, \"bigg_id\": \"succ_c\"}, {\"coefficient\": -1.0, \"bigg_id\": \"fum_c\"}, {\"coefficient\": 1.0, \"bigg_id\": \"q8_c\"}, {\"coefficient\": -1.0, \"bigg_id\": \"q8h2_c\"}], \"label_x\": 3078.744384765625, \"label_y\": 2572.54541015625, \"gene_reaction_rule\": \"b4151 and b4152 and b4153 and b4154\"}, \"1577524\": {\"name\": \"Fructose transport via PEPPyr PTS  f6p generating \", \"bigg_id\": \"FRUpts2\", \"segments\": {\"24\": {\"to_node_id\": \"1577053\", \"from_node_id\": \"1577052\", \"b2\": null, \"b1\": null}, \"25\": {\"to_node_id\": \"1577051\", \"from_node_id\": \"1576826\", \"b2\": {\"y\": 1361.5867919921875, \"x\": 526.550048828125}, \"b1\": {\"y\": 1360.0, \"x\": 465.0}}, \"26\": {\"to_node_id\": \"1577051\", \"from_node_id\": \"1576819\", \"b2\": {\"y\": 1360.0, \"x\": 396.1378949970459}, \"b1\": {\"y\": 1452.0322265625, \"x\": 400.008457770101}}, \"27\": {\"to_node_id\": \"1576525\", \"from_node_id\": \"1577053\", \"b2\": {\"y\": 1361.586669921875, \"x\": 917.1118252292455}, \"b1\": {\"y\": 1363.1734619140625, \"x\": 860.370260215258}}, \"23\": {\"to_node_id\": \"1577052\", \"from_node_id\": \"1577051\", \"b2\": null, \"b1\": null}, \"28\": {\"to_node_id\": \"1576821\", \"from_node_id\": \"1577053\", \"b2\": {\"y\": 1240.992919921875, \"x\": 861.106575008484}, \"b1\": {\"y\": 1364.76025390625, \"x\": 861.4990623462952}}}, \"genes\": [{\"bigg_id\": \"b1819\", \"name\": \"manZ\"}, {\"bigg_id\": \"b1817\", \"name\": \"manX\"}, {\"bigg_id\": \"b2415\", \"name\": \"ptsH\"}, {\"bigg_id\": \"b2416\", \"name\": \"ptsI\"}, {\"bigg_id\": \"b1818\", \"name\": \"manY\"}], \"reversibility\": false, \"metabolites\": [{\"coefficient\": -1.0, \"bigg_id\": \"pep_c\"}, {\"coefficient\": 1.0, \"bigg_id\": \"f6p_c\"}, {\"coefficient\": -1.0, \"bigg_id\": \"fru_e\"}, {\"coefficient\": 1.0, \"bigg_id\": \"pyr_c\"}], \"label_x\": 456.41497802734375, \"label_y\": 1327.7852783203125, \"gene_reaction_rule\": \"b1817 and b1818 and b1819 and b2415 and b2416\"}}, \"nodes\": {\"1576509\": {\"node_is_primary\": true, \"name\": \"2-Oxoglutarate\", \"label_x\": 3669.712158203125, \"node_type\": \"metabolite\", \"y\": 3627.0, \"x\": 3746.0, \"bigg_id\": \"akg_c\", \"label_y\": 3611.942626953125}, \"1576508\": {\"node_is_primary\": false, \"name\": \"CO2\", \"label_x\": 3539.820068359375, \"node_type\": \"metabolite\", \"y\": 3710.0, \"x\": 3620.0, \"bigg_id\": \"co2_c\", \"label_y\": 3711.611572265625}, \"1576501\": {\"node_is_primary\": true, \"name\": \"Nicotinamide adenine dinucleotide\", \"label_x\": 3556.820068359375, \"node_type\": \"metabolite\", \"y\": 1147.3958740234375, \"x\": 3625.7841796875, \"bigg_id\": \"nad_c\", \"label_y\": 1187.06494140625}, \"1576500\": {\"node_is_primary\": true, \"name\": \"Nicotinamide adenine dinucleotide phosphate - reduced\", \"label_x\": 3740.0, \"node_type\": \"metabolite\", \"y\": 1270.0, \"x\": 3740.0, \"bigg_id\": \"nadph_c\", \"label_y\": 1310.0}, \"1576503\": {\"node_is_primary\": true, \"name\": \"Fumarate\", \"label_x\": 2867.189453125, \"node_type\": \"metabolite\", \"y\": 2920.0, \"x\": 2843.0, \"bigg_id\": \"fum_c\", \"label_y\": 2939.602783203125}, \"1576502\": {\"node_is_primary\": false, \"name\": \"H2O\", \"label_x\": 2693.4130859375, \"node_type\": \"metabolite\", \"y\": 2921.0, \"x\": 2715.0, \"bigg_id\": \"h2o_c\", \"label_y\": 2896.71923828125}, \"1576505\": {\"node_is_primary\": true, \"name\": \"Isocitrate\", \"label_x\": 3344.32373046875, \"node_type\": \"metabolite\", \"y\": 3976.0, \"x\": 3413.0, \"bigg_id\": \"icit_c\", \"label_y\": 3949.222900390625}, \"1576504\": {\"node_is_primary\": true, \"name\": \"L-Malate\", \"label_x\": 2506.83544921875, \"node_type\": \"metabolite\", \"y\": 3192.0, \"x\": 2621.0, \"bigg_id\": \"mal__L_c\", \"label_y\": 3174.826416015625}, \"1576507\": {\"node_is_primary\": false, \"name\": \"Nicotinamide adenine dinucleotide phosphate - reduced\", \"label_x\": 3557.6474609375, \"node_type\": \"metabolite\", \"y\": 3660.0, \"x\": 3659.0, \"bigg_id\": \"nadph_c\", \"label_y\": 3655.388427734375}, \"1576506\": {\"node_is_primary\": false, \"name\": \"Nicotinamide adenine dinucleotide phosphate\", \"label_x\": 3495.0, \"node_type\": \"metabolite\", \"y\": 4065.0, \"x\": 3495.0, \"bigg_id\": \"nadp_c\", \"label_y\": 4098.0}, \"1576992\": {\"y\": 980.0, \"x\": 2840.0, \"node_type\": \"multimarker\"}, \"1576868\": {\"y\": 4158.0, \"x\": 5020.0, \"node_type\": \"midmarker\"}, \"1576993\": {\"y\": 840.0, \"x\": 2840.0, \"node_type\": \"midmarker\"}, \"1576863\": {\"y\": 2880.0, \"x\": 5025.0, \"node_type\": \"midmarker\"}, \"1576860\": {\"y\": 1665.0, \"x\": 835.0, \"node_type\": \"multimarker\"}, \"1576861\": {\"y\": 1765.0, \"x\": 835.0, \"node_type\": \"multimarker\"}, \"1576866\": {\"y\": 1260.0, \"x\": 4145.0, \"node_type\": \"midmarker\"}, \"1576867\": {\"y\": 1200.0, \"x\": 4145.0, \"node_type\": \"multimarker\"}, \"1576864\": {\"y\": 3766.0, \"x\": 3417.0, \"node_type\": \"multimarker\"}, \"1576865\": {\"y\": 3857.0, \"x\": 3417.0, \"node_type\": \"midmarker\"}, \"1576490\": {\"node_is_primary\": true, \"name\": \"6-Phospho-D-gluconate\", \"label_x\": 1800.0250244140625, \"node_type\": \"metabolite\", \"y\": 1265.0, \"x\": 1827.0, \"bigg_id\": \"6pgc_c\", \"label_y\": 1235.0}, \"1576996\": {\"y\": 4501.49560546875, \"x\": 1715.0, \"node_type\": \"multimarker\"}, \"1576997\": {\"y\": 1008.8675537109375, \"x\": 1056.5865478515625, \"node_type\": \"midmarker\"}, \"1576994\": {\"y\": 4745.0, \"x\": 1715.0, \"node_type\": \"multimarker\"}, \"1576995\": {\"y\": 4585.0, \"x\": 1715.0, \"node_type\": \"midmarker\"}, \"1576615\": {\"node_is_primary\": false, \"name\": \"ATP\", \"label_x\": 4552.7265625, \"node_type\": \"metabolite\", \"y\": 4258.0, \"x\": 4535.0, \"bigg_id\": \"atp_c\", \"label_y\": 4269.94287109375}, \"1576614\": {\"node_is_primary\": false, \"name\": \"Coenzyme A\", \"label_x\": 1835.0, \"node_type\": \"metabolite\", \"y\": 4135.0, \"x\": 1815.0, \"bigg_id\": \"coa_c\", \"label_y\": 4135.0}, \"1576617\": {\"node_is_primary\": false, \"name\": \"Phosphate\", \"label_x\": 4268.884765625, \"node_type\": \"metabolite\", \"y\": 4258.0, \"x\": 4285.0, \"bigg_id\": \"pi_c\", \"label_y\": 4287.6689453125}, \"1576616\": {\"node_is_primary\": false, \"name\": \"H2O\", \"label_x\": 4481.77685546875, \"node_type\": \"metabolite\", \"y\": 4258.0, \"x\": 4485.0, \"bigg_id\": \"h2o_c\", \"label_y\": 4287.6689453125}, \"1576613\": {\"node_is_primary\": true, \"name\": \"Acetyl phosphate\", \"label_x\": 1745.0, \"node_type\": \"metabolite\", \"y\": 4175.0, \"x\": 1715.0, \"bigg_id\": \"actp_c\", \"label_y\": 4175.0}, \"1576612\": {\"node_is_primary\": false, \"name\": \"Phosphate\", \"label_x\": 1835.0, \"node_type\": \"metabolite\", \"y\": 4035.0, \"x\": 1815.0, \"bigg_id\": \"pi_c\", \"label_y\": 4035.0}, \"1576619\": {\"node_is_primary\": false, \"name\": \"H+\", \"label_x\": 4331.77734375, \"node_type\": \"metabolite\", \"y\": 4258.0, \"x\": 4335.0, \"bigg_id\": \"h_c\", \"label_y\": 4286.0576171875}, \"1576618\": {\"node_is_primary\": false, \"name\": \"ADP\", \"label_x\": 4381.77685546875, \"node_type\": \"metabolite\", \"y\": 4258.0, \"x\": 4385.0, \"bigg_id\": \"adp_c\", \"label_y\": 4290.89208984375}, \"1576598\": {\"node_is_primary\": true, \"name\": \"2-Oxoglutarate\", \"label_x\": 4922.0, \"node_type\": \"metabolite\", \"y\": 3228.0, \"x\": 4922.0, \"bigg_id\": \"akg_e\", \"label_y\": 3268.0}, \"1576599\": {\"node_is_primary\": false, \"name\": \"H+\", \"label_x\": 4861.39599609375, \"node_type\": \"metabolite\", \"y\": 3321.0, \"x\": 4834.0, \"bigg_id\": \"h_e\", \"label_y\": 3334.553955078125}, \"1576596\": {\"node_is_primary\": false, \"name\": \"H+\", \"label_x\": 2754.13232421875, \"node_type\": \"metabolite\", \"y\": 4452.0, \"x\": 2793.0, \"bigg_id\": \"h_c\", \"label_y\": 4426.61181640625}, \"1576597\": {\"node_is_primary\": true, \"name\": \"Phosphate\", \"label_x\": 2921.0, \"node_type\": \"metabolite\", \"y\": 4430.0, \"x\": 2880.0, \"bigg_id\": \"pi_c\", \"label_y\": 4428.0}, \"1576594\": {\"node_is_primary\": true, \"name\": \"Phosphate\", \"label_x\": 2910.0, \"node_type\": \"metabolite\", \"y\": 4839.0, \"x\": 2880.0, \"bigg_id\": \"pi_e\", \"label_y\": 4839.0}, \"1576595\": {\"node_is_primary\": false, \"name\": \"H+\", \"label_x\": 2733.83544921875, \"node_type\": \"metabolite\", \"y\": 4778.0, \"x\": 2793.0, \"bigg_id\": \"h_e\", \"label_y\": 4763.8515625}, \"1576592\": {\"node_is_primary\": false, \"name\": \"ADP\", \"label_x\": 1285.0, \"node_type\": \"metabolite\", \"y\": 3545.0, \"x\": 1285.0, \"bigg_id\": \"adp_c\", \"label_y\": 3575.0}, \"1576593\": {\"node_is_primary\": false, \"name\": \"CO2\", \"label_x\": 1215.0, \"node_type\": \"metabolite\", \"y\": 3515.0, \"x\": 1215.0, \"bigg_id\": \"co2_c\", \"label_y\": 3535.0}, \"1576590\": {\"node_is_primary\": true, \"name\": \"Formate\", \"label_x\": 1495.230712890625, \"node_type\": \"metabolite\", \"y\": 4095.0, \"x\": 1460.0, \"bigg_id\": \"for_c\", \"label_y\": 4083.958984375}, \"1576591\": {\"node_is_primary\": false, \"name\": \"ATP\", \"label_x\": 1525.0, \"node_type\": \"metabolite\", \"y\": 3625.0, \"x\": 1505.0, \"bigg_id\": \"atp_c\", \"label_y\": 3625.0}, \"1576819\": {\"node_is_primary\": false, \"name\": \"Phosphoenolpyruvate\", \"label_x\": 554.497314453125, \"node_type\": \"metabolite\", \"y\": 1448.4132080078125, \"x\": 565.6046142578125, \"bigg_id\": \"pep_c\", \"label_y\": 1479.5206298828125}, \"1576817\": {\"node_is_primary\": true, \"name\": \"Acetaldehyde\", \"label_x\": 2210.0, \"node_type\": \"metabolite\", \"y\": 3945.0, \"x\": 2210.0, \"bigg_id\": \"acald_c\", \"label_y\": 3905.0}, \"1576816\": {\"node_is_primary\": true, \"name\": \"L-Malate\", \"label_x\": 2640.0, \"node_type\": \"metabolite\", \"y\": 650.0, \"x\": 2610.0, \"bigg_id\": \"mal__L_e\", \"label_y\": 630.0}, \"1576815\": {\"node_is_primary\": true, \"name\": \"Acetaldehyde\", \"label_x\": 2240.0, \"node_type\": \"metabolite\", \"y\": 4837.65283203125, \"x\": 2210.0, \"bigg_id\": \"acald_e\", \"label_y\": 4837.65283203125}, \"1576814\": {\"node_is_primary\": false, \"name\": \"Ubiquinone-8\", \"label_x\": 3228.082275390625, \"node_type\": \"metabolite\", \"y\": 2730.0, \"x\": 3210.0, \"bigg_id\": \"q8_c\", \"label_y\": 2736.34716796875}, \"1576813\": {\"node_is_primary\": false, \"name\": \"H+\", \"label_x\": 2406.0, \"node_type\": \"metabolite\", \"y\": 3980.0, \"x\": 2392.0, \"bigg_id\": \"h_c\", \"label_y\": 3965.0}, \"1576812\": {\"node_is_primary\": false, \"name\": \"Nicotinamide adenine dinucleotide - reduced\", \"label_x\": 1868.892578125, \"node_type\": \"metabolite\", \"y\": 3860.0, \"x\": 1890.0, \"bigg_id\": \"nadh_c\", \"label_y\": 3840.810302734375}, \"1576811\": {\"node_is_primary\": false, \"name\": \"H+\", \"label_x\": 1245.23974609375, \"node_type\": \"metabolite\", \"y\": 4440.0, \"x\": 1270.0, \"bigg_id\": \"h_c\", \"label_y\": 4424.13232421875}, \"1576810\": {\"node_is_primary\": false, \"name\": \"H+\", \"label_x\": 2473.50439453125, \"node_type\": \"metabolite\", \"y\": 1010.0, \"x\": 2510.0, \"bigg_id\": \"h_c\", \"label_y\": 1043.1734619140625}, \"1576692\": {\"node_is_primary\": false, \"name\": \"Nicotinamide adenine dinucleotide phosphate - reduced\", \"label_x\": 2220.0, \"node_type\": \"metabolite\", \"y\": 3540.0, \"x\": 2200.0, \"bigg_id\": \"nadph_c\", \"label_y\": 3550.0}, \"1577106\": {\"y\": 4020.0757924471372, \"x\": 3331.3033751186185, \"node_type\": \"multimarker\"}, \"1577104\": {\"y\": 4035.7165277261324, \"x\": 3294.488060371458, \"node_type\": \"multimarker\"}, \"1577105\": {\"y\": 4027.896160086635, \"x\": 3312.895717745038, \"node_type\": \"midmarker\"}, \"1577069\": {\"y\": 4506.7353515625, \"x\": 1053.4132080078125, \"node_type\": \"multimarker\"}, \"1577068\": {\"y\": 4583.8583984375, \"x\": 1055.0, \"node_type\": \"midmarker\"}, \"1577100\": {\"y\": 4030.8645761345497, \"x\": 3074.275683525833, \"node_type\": \"midmarker\"}, \"1577101\": {\"y\": 4038.0833974815746, \"x\": 3092.9274560517806, \"node_type\": \"multimarker\"}, \"1577065\": {\"y\": 2819.0, \"x\": 3129.0, \"node_type\": \"midmarker\"}, \"1577064\": {\"y\": 2817.0, \"x\": 3180.0, \"node_type\": \"multimarker\"}, \"1577067\": {\"y\": 4660.98193359375, \"x\": 1055.0, \"node_type\": \"multimarker\"}, \"1577066\": {\"y\": 2826.0, \"x\": 3078.0, \"node_type\": \"multimarker\"}, \"1577061\": {\"y\": 2570.0, \"x\": 4630.0, \"node_type\": \"multimarker\"}, \"1577063\": {\"y\": 2570.0, \"x\": 4710.0, \"node_type\": \"multimarker\"}, \"1577062\": {\"y\": 2570.0, \"x\": 4670.0, \"node_type\": \"midmarker\"}, \"1576884\": {\"y\": 3945.0, \"x\": 155.0, \"node_type\": \"midmarker\"}, \"1576885\": {\"y\": 1415.0, \"x\": 2045.0, \"node_type\": \"midmarker\"}, \"1576929\": {\"y\": 1900.0, \"x\": 4690.0, \"node_type\": \"multimarker\"}, \"1576887\": {\"y\": 2230.0, \"x\": 4986.0, \"node_type\": \"midmarker\"}, \"1576880\": {\"y\": 3635.0, \"x\": 4779.0, \"node_type\": \"multimarker\"}, \"1576881\": {\"y\": 4925.0, \"x\": 1055.0, \"node_type\": \"midmarker\"}, \"1576923\": {\"y\": 3228.0, \"x\": 4792.0, \"node_type\": \"multimarker\"}, \"1576922\": {\"y\": 3228.0, \"x\": 4502.0, \"node_type\": \"multimarker\"}, \"1576921\": {\"y\": 4725.0, \"x\": 2880.0, \"node_type\": \"multimarker\"}, \"1576920\": {\"y\": 4580.0, \"x\": 2880.0, \"node_type\": \"midmarker\"}, \"1576927\": {\"y\": 2195.0, \"x\": 955.0, \"node_type\": \"midmarker\"}, \"1576926\": {\"y\": 1995.0, \"x\": 1055.0, \"node_type\": \"midmarker\"}, \"1576925\": {\"y\": 2045.0, \"x\": 1055.0, \"node_type\": \"multimarker\"}, \"1576924\": {\"y\": 3228.0, \"x\": 4662.0, \"node_type\": \"midmarker\"}, \"1576491\": {\"node_is_primary\": false, \"name\": \"CO2\", \"label_x\": 2007.0, \"node_type\": \"metabolite\", \"y\": 1165.0, \"x\": 2007.0, \"bigg_id\": \"co2_c\", \"label_y\": 1145.0}, \"1577087\": {\"node_is_primary\": false, \"name\": \"Coenzyme A\", \"label_x\": 5175.48828125, \"node_type\": \"metabolite\", \"y\": 4931.947265625, \"x\": 5208.85205078125, \"bigg_id\": \"coa_c\", \"label_y\": 4975.3330078125}, \"1577086\": {\"node_is_primary\": false, \"name\": \"Nicotinamide adenine dinucleotide\", \"label_x\": 4860.95166015625, \"node_type\": \"metabolite\", \"y\": 4529.25048828125, \"x\": 4893.27099609375, \"bigg_id\": \"nad_c\", \"label_y\": 4501.22509765625}, \"1577085\": {\"node_is_primary\": false, \"name\": \"Pyruvate\", \"label_x\": 4962.07666015625, \"node_type\": \"metabolite\", \"y\": 4509.18115234375, \"x\": 4988.05859375, \"bigg_id\": \"pyr_c\", \"label_y\": 4488.5498046875}, \"1577084\": {\"node_is_primary\": false, \"name\": \"D-Fructose 6-phosphate\", \"label_x\": 5052.6396484375, \"node_type\": \"metabolite\", \"y\": 4498.61865234375, \"x\": 5087.0712890625, \"bigg_id\": \"f6p_c\", \"label_y\": 4477.9873046875}, \"1577083\": {\"node_is_primary\": false, \"name\": \"ATP\", \"label_x\": 5152.708984375, \"node_type\": \"metabolite\", \"y\": 4488.05615234375, \"x\": 5183.9716796875, \"bigg_id\": \"atp_c\", \"label_y\": 4461.08740234375}, \"1577082\": {\"node_is_primary\": false, \"name\": \"Alpha-D-Ribose 5-phosphate\", \"label_x\": 5390.7685546875, \"node_type\": \"metabolite\", \"y\": 4418.7158203125, \"x\": 5403.0185546875, \"bigg_id\": \"r5p_c\", \"label_y\": 4391.7470703125}, \"1577081\": {\"node_is_primary\": false, \"name\": \"H+\", \"label_x\": 5204.56640625, \"node_type\": \"metabolite\", \"y\": 4994.3544921875, \"x\": 5262.95361328125, \"bigg_id\": \"h_c\", \"label_y\": 5025.4677734375}, \"1577080\": {\"node_is_primary\": false, \"name\": \"D-Erythrose 4-phosphate\", \"label_x\": 5442.19677734375, \"node_type\": \"metabolite\", \"y\": 4466.33544921875, \"x\": 5437.546875, \"bigg_id\": \"e4p_c\", \"label_y\": 4450.9853515625}, \"1576851\": {\"y\": 3945.0, \"x\": 1555.0, \"node_type\": \"multimarker\"}, \"1577089\": {\"node_is_primary\": false, \"name\": \"D-Glucose 6-phosphate\", \"label_x\": 4679.8271484375, \"node_type\": \"metabolite\", \"y\": 4559.88134765625, \"x\": 4700.52734375, \"bigg_id\": \"g6p_c\", \"label_y\": 4537.1376953125}, \"1577088\": {\"node_is_primary\": false, \"name\": \"Oxaloacetate\", \"label_x\": 4770.38916015625, \"node_type\": \"metabolite\", \"y\": 4544.03759765625, \"x\": 4783.69580078125, \"bigg_id\": \"oaa_c\", \"label_y\": 4522.349609375}, \"1576850\": {\"y\": 3945.0, \"x\": 1495.0, \"node_type\": \"midmarker\"}, \"1576853\": {\"y\": 3519.0, \"x\": 1493.0, \"node_type\": \"multimarker\"}, \"1576852\": {\"y\": 3486.0, \"x\": 1414.0, \"node_type\": \"midmarker\"}, \"1576998\": {\"y\": 976.1735229492188, \"x\": 1057.0, \"node_type\": \"multimarker\"}, \"1576498\": {\"node_is_primary\": false, \"name\": \"H+\", \"label_x\": 3529.338134765625, \"node_type\": \"metabolite\", \"y\": 650.0, \"x\": 3510.0, \"bigg_id\": \"h_e\", \"label_y\": 639.6690673828125}, \"1576857\": {\"y\": 1395.0, \"x\": 1055.0, \"node_type\": \"midmarker\"}, \"1576856\": {\"y\": 3225.0, \"x\": 1055.0, \"node_type\": \"midmarker\"}, \"1576855\": {\"y\": 3265.0, \"x\": 1055.0, \"node_type\": \"multimarker\"}, \"1576854\": {\"y\": 3458.0, \"x\": 1348.0, \"node_type\": \"multimarker\"}, \"1576493\": {\"node_is_primary\": true, \"name\": \"D-Ribulose 5-phosphate\", \"label_x\": 2155.0, \"node_type\": \"metabolite\", \"y\": 1265.0, \"x\": 2155.0, \"bigg_id\": \"ru5p__D_c\", \"label_y\": 1235.0}, \"1576492\": {\"node_is_primary\": false, \"name\": \"Nicotinamide adenine dinucleotide phosphate - reduced\", \"label_x\": 2080.0, \"node_type\": \"metabolite\", \"y\": 1165.0, \"x\": 2057.0, \"bigg_id\": \"nadph_c\", \"label_y\": 1140.0}, \"1576859\": {\"y\": 1715.0, \"x\": 835.0, \"node_type\": \"midmarker\"}, \"1576858\": {\"y\": 4598.0, \"x\": 3989.0, \"node_type\": \"midmarker\"}, \"1576497\": {\"node_is_primary\": true, \"name\": \"Nicotinamide adenine dinucleotide - reduced\", \"label_x\": 3450.0, \"node_type\": \"metabolite\", \"y\": 1120.0, \"x\": 3420.0, \"bigg_id\": \"nadh_c\", \"label_y\": 1150.0}, \"1576496\": {\"node_is_primary\": true, \"name\": \"Nicotinamide adenine dinucleotide phosphate\", \"label_x\": 3330.0, \"node_type\": \"metabolite\", \"y\": 1270.0, \"x\": 3330.0, \"bigg_id\": \"nadp_c\", \"label_y\": 1310.0}, \"1576495\": {\"node_is_primary\": true, \"name\": \"O2\", \"label_x\": 4259.09326171875, \"node_type\": \"metabolite\", \"y\": 1660.0, \"x\": 4330.0, \"bigg_id\": \"o2_c\", \"label_y\": 1677.4388427734375}, \"1576494\": {\"node_is_primary\": true, \"name\": \"O2\", \"label_x\": 4840.3310546875, \"node_type\": \"metabolite\", \"y\": 1660.0, \"x\": 4850.0, \"bigg_id\": \"o2_e\", \"label_y\": 1702.89208984375}, \"1576549\": {\"node_is_primary\": false, \"name\": \"H+\", \"label_x\": 911.677978515625, \"node_type\": \"metabolite\", \"y\": 3625.0, \"x\": 965.0, \"bigg_id\": \"h_c\", \"label_y\": 3612.305908203125}, \"1576548\": {\"node_is_primary\": true, \"name\": \"D-Fructose 6-phosphate\", \"label_x\": 2367.636962890625, \"node_type\": \"metabolite\", \"y\": 2186.826416015625, \"x\": 2362.636962890625, \"bigg_id\": \"f6p_c\", \"label_y\": 2216.826416015625}, \"1576545\": {\"node_is_primary\": true, \"name\": \"Glyceraldehyde 3-phosphate\", \"label_x\": 2375.091552734375, \"node_type\": \"metabolite\", \"y\": 1865.0, \"x\": 2358.984130859375, \"bigg_id\": \"g3p_c\", \"label_y\": 1898.4132080078125}, \"1576544\": {\"node_is_primary\": true, \"name\": \"CO2\", \"label_x\": 3651.0, \"node_type\": \"metabolite\", \"y\": 4754.0, \"x\": 3621.0, \"bigg_id\": \"co2_e\", \"label_y\": 4754.0}, \"1576547\": {\"node_is_primary\": true, \"name\": \"D-Erythrose 4-phosphate\", \"label_x\": 1922.7852783203125, \"node_type\": \"metabolite\", \"y\": 2190.0, \"x\": 1945.0, \"bigg_id\": \"e4p_c\", \"label_y\": 2242.214599609375}, \"1576546\": {\"node_is_primary\": true, \"name\": \"Sedoheptulose 7-phosphate\", \"label_x\": 1955.8675537109375, \"node_type\": \"metabolite\", \"y\": 1865.0, \"x\": 1983.082275390625, \"bigg_id\": \"s7p_c\", \"label_y\": 1814.314697265625}, \"1576542\": {\"node_is_primary\": true, \"name\": \"Ubiquinol-8\", \"label_x\": 4411.00048828125, \"node_type\": \"metabolite\", \"y\": 2210.3310546875, \"x\": 4508.47509765625, \"bigg_id\": \"q8h2_c\", \"label_y\": 2217.395751953125}, \"1577102\": {\"node_is_primary\": false, \"name\": \"H2O\", \"label_x\": 3189.1795476587818, \"node_type\": \"metabolite\", \"y\": 3976.144484067998, \"x\": 3188.1170476587818, \"bigg_id\": \"h2o_c\", \"label_y\": 3930.712355161748}, \"1576648\": {\"node_is_primary\": false, \"name\": \"H+\", \"label_x\": 2620.0, \"node_type\": \"metabolite\", \"y\": 4760.0, \"x\": 2600.0, \"bigg_id\": \"h_e\", \"label_y\": 4760.0}, \"1576649\": {\"node_is_primary\": true, \"name\": \"Ethanol\", \"label_x\": 2530.0, \"node_type\": \"metabolite\", \"y\": 4830.0, \"x\": 2500.0, \"bigg_id\": \"etoh_e\", \"label_y\": 4830.0}, \"1576646\": {\"node_is_primary\": false, \"name\": \"Phosphate\", \"label_x\": 684.8515014648438, \"node_type\": \"metabolite\", \"y\": 3425.0, \"x\": 735.0, \"bigg_id\": \"pi_c\", \"label_y\": 3409.13232421875}, \"1576647\": {\"node_is_primary\": true, \"name\": \"D-Glucose\", \"label_x\": 1085.066162109375, \"node_type\": \"metabolite\", \"y\": 705.0, \"x\": 1055.066162109375, \"bigg_id\": \"glc__D_e\", \"label_y\": 705.0}, \"1576644\": {\"node_is_primary\": false, \"name\": \"H+\", \"label_x\": 672.1574096679688, \"node_type\": \"metabolite\", \"y\": 3475.0, \"x\": 735.0, \"bigg_id\": \"h_c\", \"label_y\": 3478.173583984375}, \"1576645\": {\"node_is_primary\": false, \"name\": \"AMP\", \"label_x\": 640.4221801757812, \"node_type\": \"metabolite\", \"y\": 3525.0, \"x\": 735.0, \"bigg_id\": \"amp_c\", \"label_y\": 3545.6279296875}, \"1576642\": {\"node_is_primary\": false, \"name\": \"ATP\", \"label_x\": 670.5706176757812, \"node_type\": \"metabolite\", \"y\": 3855.0, \"x\": 735.0, \"bigg_id\": \"atp_c\", \"label_y\": 3840.71923828125}, \"1576643\": {\"node_is_primary\": false, \"name\": \"H2O\", \"label_x\": 681.677978515625, \"node_type\": \"metabolite\", \"y\": 3805.0, \"x\": 735.0, \"bigg_id\": \"h2o_c\", \"label_y\": 3787.545654296875}, \"1576640\": {\"node_is_primary\": true, \"name\": \"H2O\", \"label_x\": 3287.0, \"node_type\": \"metabolite\", \"y\": 4434.0, \"x\": 3257.0, \"bigg_id\": \"h2o_c\", \"label_y\": 4434.0}, \"1576641\": {\"node_is_primary\": true, \"name\": \"CO2\", \"label_x\": 3651.0, \"node_type\": \"metabolite\", \"y\": 4434.0, \"x\": 3621.0, \"bigg_id\": \"co2_c\", \"label_y\": 4434.0}, \"1577103\": {\"node_is_primary\": true, \"name\": \"Cis-Aconitate\", \"label_x\": 3156.1556150985407, \"node_type\": \"metabolite\", \"y\": 4053.2845721909744, \"x\": 3197.4642088485407, \"bigg_id\": \"acon_C_c\", \"label_y\": 4098.026271409724}, \"1576991\": {\"y\": 730.0, \"x\": 2840.0, \"node_type\": \"multimarker\"}, \"1577034\": {\"y\": 4570.0, \"x\": 2210.0, \"node_type\": \"midmarker\"}, \"1577035\": {\"y\": 4944.0, \"x\": 2211.0, \"node_type\": \"midmarker\"}, \"1577032\": {\"y\": 3945.0, \"x\": 2010.0, \"node_type\": \"midmarker\"}, \"1577033\": {\"y\": 3945.0, \"x\": 1980.0, \"node_type\": \"multimarker\"}, \"1577030\": {\"y\": 4925.0, \"x\": 1460.0, \"node_type\": \"midmarker\"}, \"1577031\": {\"y\": 3945.0, \"x\": 2040.0, \"node_type\": \"multimarker\"}, \"1576974\": {\"y\": 543.4132690429688, \"x\": 1056.6529541015625, \"node_type\": \"midmarker\"}, \"1576975\": {\"y\": 4430.0, \"x\": 2500.0, \"node_type\": \"multimarker\"}, \"1576976\": {\"y\": 4550.0, \"x\": 2500.0, \"node_type\": \"midmarker\"}, \"1576977\": {\"y\": 4730.0, \"x\": 2500.0, \"node_type\": \"multimarker\"}, \"1576970\": {\"y\": 3805.0, \"x\": 835.0, \"node_type\": \"multimarker\"}, \"1576971\": {\"y\": 3525.0, \"x\": 835.0, \"node_type\": \"multimarker\"}, \"1576972\": {\"y\": 3645.0, \"x\": 835.0, \"node_type\": \"midmarker\"}, \"1576978\": {\"y\": 2995.0, \"x\": 1055.0, \"node_type\": \"midmarker\"}, \"1576989\": {\"y\": 4925.107421875, \"x\": 2880.0, \"node_type\": \"midmarker\"}, \"1576602\": {\"node_is_primary\": false, \"name\": \"H+\", \"label_x\": 4234.01416015625, \"node_type\": \"metabolite\", \"y\": 1895.1654052734375, \"x\": 4301.69775390625, \"bigg_id\": \"h_c\", \"label_y\": 1903.8848876953125}, \"1576603\": {\"node_is_primary\": false, \"name\": \"H+\", \"label_x\": 4858.38818359375, \"node_type\": \"metabolite\", \"y\": 1900.0, \"x\": 4860.0, \"bigg_id\": \"h_e\", \"label_y\": 1950.6187744140625}, \"1576600\": {\"node_is_primary\": false, \"name\": \"H+\", \"label_x\": 4490.337890625, \"node_type\": \"metabolite\", \"y\": 3328.0, \"x\": 4472.0, \"bigg_id\": \"h_c\", \"label_y\": 3342.330810546875}, \"1576601\": {\"node_is_primary\": true, \"name\": \"Dihydroxyacetone phosphate\", \"label_x\": 739.3148193359375, \"node_type\": \"metabolite\", \"y\": 2195.0, \"x\": 855.0, \"bigg_id\": \"dhap_c\", \"label_y\": 2179.132568359375}, \"1576606\": {\"node_is_primary\": false, \"name\": \"Acetyl-CoA\", \"label_x\": 3125.0, \"node_type\": \"metabolite\", \"y\": 3402.0, \"x\": 3105.0, \"bigg_id\": \"accoa_c\", \"label_y\": 3402.0}, \"1576607\": {\"node_is_primary\": false, \"name\": \"H2O\", \"label_x\": 3190.0, \"node_type\": \"metabolite\", \"y\": 3480.0, \"x\": 3170.0, \"bigg_id\": \"h2o_c\", \"label_y\": 3480.0}, \"1576604\": {\"node_is_primary\": false, \"name\": \"H2O\", \"label_x\": 4452.77001953125, \"node_type\": \"metabolite\", \"y\": 1760.9495849609375, \"x\": 4439.09375, \"bigg_id\": \"h2o_c\", \"label_y\": 1736.77685546875}, \"1576605\": {\"node_is_primary\": true, \"name\": \"Alpha-D-Ribose 5-phosphate\", \"label_x\": 2418.413330078125, \"node_type\": \"metabolite\", \"y\": 1555.0, \"x\": 2419.0, \"bigg_id\": \"r5p_c\", \"label_y\": 1601.1072998046875}, \"1576608\": {\"node_is_primary\": false, \"name\": \"H+\", \"label_x\": 2891.0, \"node_type\": \"metabolite\", \"y\": 3220.0, \"x\": 2871.0, \"bigg_id\": \"h_c\", \"label_y\": 3220.0}, \"1576609\": {\"node_is_primary\": false, \"name\": \"Coenzyme A\", \"label_x\": 2800.0, \"node_type\": \"metabolite\", \"y\": 3168.0, \"x\": 2780.0, \"bigg_id\": \"coa_c\", \"label_y\": 3168.0}, \"1576808\": {\"node_is_primary\": false, \"name\": \"H+\", \"label_x\": 4874.1728515625, \"node_type\": \"metabolite\", \"y\": 2570.0, \"x\": 4850.0, \"bigg_id\": \"h_e\", \"label_y\": 2601.280517578125}, \"1576809\": {\"node_is_primary\": true, \"name\": \"Nicotinamide adenine dinucleotide\", \"label_x\": 4356.72412109375, \"node_type\": \"metabolite\", \"y\": 2646.77685546875, \"x\": 4449.00732421875, \"bigg_id\": \"nad_c\", \"label_y\": 2646.95849609375}, \"1576516\": {\"node_is_primary\": false, \"name\": \"H2O\", \"label_x\": 1315.0, \"node_type\": \"metabolite\", \"y\": 3375.0, \"x\": 1295.0, \"bigg_id\": \"h2o_c\", \"label_y\": 3375.0}, \"1576517\": {\"node_is_primary\": true, \"name\": \"Phosphoenolpyruvate\", \"label_x\": 1085.0, \"node_type\": \"metabolite\", \"y\": 3375.0, \"x\": 1055.0, \"bigg_id\": \"pep_c\", \"label_y\": 3355.0}, \"1576514\": {\"node_is_primary\": true, \"name\": \"Acetyl-CoA\", \"label_x\": 1695.0, \"node_type\": \"metabolite\", \"y\": 3945.0, \"x\": 1715.0, \"bigg_id\": \"accoa_c\", \"label_y\": 3965.0}, \"1576515\": {\"node_is_primary\": false, \"name\": \"Nicotinamide adenine dinucleotide - reduced\", \"label_x\": 1647.545654296875, \"node_type\": \"metabolite\", \"y\": 3885.0, \"x\": 1655.0, \"bigg_id\": \"nadh_c\", \"label_y\": 3855.4794921875}, \"1576512\": {\"node_is_primary\": false, \"name\": \"Coenzyme A\", \"label_x\": 1287.066162109375, \"node_type\": \"metabolite\", \"y\": 3905.0, \"x\": 1315.0, \"bigg_id\": \"coa_c\", \"label_y\": 3887.545654296875}, \"1576513\": {\"node_is_primary\": false, \"name\": \"CO2\", \"label_x\": 1595.0, \"node_type\": \"metabolite\", \"y\": 3855.0, \"x\": 1605.0, \"bigg_id\": \"co2_c\", \"label_y\": 3835.0}, \"1576510\": {\"node_is_primary\": false, \"name\": \"Nicotinamide adenine dinucleotide\", \"label_x\": 1394.189697265625, \"node_type\": \"metabolite\", \"y\": 3855.0, \"x\": 1365.0, \"bigg_id\": \"nad_c\", \"label_y\": 3851.826416015625}, \"1576511\": {\"node_is_primary\": true, \"name\": \"Pyruvate\", \"label_x\": 1025.0, \"node_type\": \"metabolite\", \"y\": 3945.0, \"x\": 1055.0, \"bigg_id\": \"pyr_c\", \"label_y\": 3965.0}, \"1576982\": {\"y\": 4275.0, \"x\": 1715.0, \"node_type\": \"midmarker\"}, \"1576691\": {\"node_is_primary\": false, \"name\": \"CO2\", \"label_x\": 2280.0, \"node_type\": \"metabolite\", \"y\": 3510.0, \"x\": 2260.0, \"bigg_id\": \"co2_c\", \"label_y\": 3510.0}, \"1576690\": {\"node_is_primary\": false, \"name\": \"Nicotinamide adenine dinucleotide phosphate\", \"label_x\": 2450.0, \"node_type\": \"metabolite\", \"y\": 3370.0, \"x\": 2430.0, \"bigg_id\": \"nadp_c\", \"label_y\": 3370.0}, \"1576518\": {\"node_is_primary\": false, \"name\": \"CO2\", \"label_x\": 1215.0, \"node_type\": \"metabolite\", \"y\": 3345.0, \"x\": 1205.0, \"bigg_id\": \"co2_c\", \"label_y\": 3325.0}, \"1576519\": {\"node_is_primary\": false, \"name\": \"H+\", \"label_x\": 1635.0, \"node_type\": \"metabolite\", \"y\": 3475.0, \"x\": 1615.0, \"bigg_id\": \"h_c\", \"label_y\": 3475.0}, \"1577078\": {\"node_is_primary\": false, \"name\": \"L-Glutamate\", \"label_x\": 5555.015625, \"node_type\": \"metabolite\", \"y\": 4651.92236328125, \"x\": 5534.521484375, \"bigg_id\": \"glu__L_c\", \"label_y\": 4645.02197265625}, \"1577079\": {\"node_is_primary\": false, \"name\": \"Glyceraldehyde 3-phosphate\", \"label_x\": 5534.87109375, \"node_type\": \"metabolite\", \"y\": 4517.58447265625, \"x\": 5512.26513671875, \"bigg_id\": \"g3p_c\", \"label_y\": 4508.57177734375}, \"1577072\": {\"node_is_primary\": false, \"name\": \"H+\", \"label_x\": 1123.4132080078125, \"node_type\": \"metabolite\", \"y\": 4416.7353515625, \"x\": 1093.4132080078125, \"bigg_id\": \"h_c\", \"label_y\": 4426.7353515625}, \"1577073\": {\"node_is_primary\": false, \"name\": \"H2O\", \"label_x\": 5539.50146484375, \"node_type\": \"metabolite\", \"y\": 4574.02490234375, \"x\": 5527.4580078125, \"bigg_id\": \"h2o_c\", \"label_y\": 4562.89990234375}, \"1577071\": {\"node_is_primary\": false, \"name\": \"H+\", \"label_x\": 1125.0, \"node_type\": \"metabolite\", \"y\": 4750.98193359375, \"x\": 1095.0, \"bigg_id\": \"h_e\", \"label_y\": 4760.98193359375}, \"1577076\": {\"y\": 4757.48193359375, \"x\": 5334.0517578125, \"node_type\": \"multimarker\"}, \"1577077\": {\"node_is_primary\": false, \"name\": \"ADP\", \"label_x\": 5529.1103515625, \"node_type\": \"metabolite\", \"y\": 4924.5068359375, \"x\": 5503.33544921875, \"bigg_id\": \"adp_c\", \"label_y\": 4931.337890625}, \"1577074\": {\"y\": 4717.48193359375, \"x\": 5334.0517578125, \"node_type\": \"multimarker\"}, \"1577075\": {\"y\": 4737.48193359375, \"x\": 5334.0517578125, \"node_type\": \"midmarker\"}, \"1576677\": {\"node_is_primary\": false, \"name\": \"Nicotinamide adenine dinucleotide phosphate - reduced\", \"label_x\": 3935.431640625, \"node_type\": \"metabolite\", \"y\": 3558.0, \"x\": 3992.0, \"bigg_id\": \"nadph_c\", \"label_y\": 3532.22314453125}, \"1576676\": {\"node_is_primary\": false, \"name\": \"Nicotinamide adenine dinucleotide phosphate\", \"label_x\": 4142.0, \"node_type\": \"metabolite\", \"y\": 3558.0, \"x\": 4142.0, \"bigg_id\": \"nadp_c\", \"label_y\": 3528.0}, \"1576675\": {\"node_is_primary\": false, \"name\": \"H2O\", \"label_x\": 4210.0, \"node_type\": \"metabolite\", \"y\": 3558.0, \"x\": 4192.0, \"bigg_id\": \"h2o_c\", \"label_y\": 3530.0}, \"1576674\": {\"node_is_primary\": false, \"name\": \"H+\", \"label_x\": 4456.0, \"node_type\": \"metabolite\", \"y\": 3087.0, \"x\": 4456.0, \"bigg_id\": \"h_c\", \"label_y\": 3109.0}, \"1576673\": {\"node_is_primary\": false, \"name\": \"H+\", \"label_x\": 4836.0, \"node_type\": \"metabolite\", \"y\": 3087.0, \"x\": 4836.0, \"bigg_id\": \"h_e\", \"label_y\": 3115.0}, \"1576672\": {\"node_is_primary\": false, \"name\": \"H+\", \"label_x\": 1169.0, \"node_type\": \"metabolite\", \"y\": 2465.0, \"x\": 1145.0, \"bigg_id\": \"h_c\", \"label_y\": 2465.0}, \"1576671\": {\"node_is_primary\": false, \"name\": \"Nicotinamide adenine dinucleotide - reduced\", \"label_x\": 1165.0, \"node_type\": \"metabolite\", \"y\": 2515.0, \"x\": 1145.0, \"bigg_id\": \"nadh_c\", \"label_y\": 2515.0}, \"1576670\": {\"node_is_primary\": false, \"name\": \"Phosphate\", \"label_x\": 1165.0, \"node_type\": \"metabolite\", \"y\": 2315.0, \"x\": 1145.0, \"bigg_id\": \"pi_c\", \"label_y\": 2315.0}, \"1576679\": {\"node_is_primary\": false, \"name\": \"H+\", \"label_x\": 4050.0, \"node_type\": \"metabolite\", \"y\": 3558.0, \"x\": 4042.0, \"bigg_id\": \"h_c\", \"label_y\": 3530.0}, \"1576678\": {\"node_is_primary\": false, \"name\": \"Ammonium\", \"label_x\": 3856.820068359375, \"node_type\": \"metabolite\", \"y\": 3558.0, \"x\": 3942.0, \"bigg_id\": \"nh4_c\", \"label_y\": 3573.222900390625}, \"1576938\": {\"y\": 4158.0, \"x\": 4415.0, \"node_type\": \"multimarker\"}, \"1576939\": {\"y\": 4158.0, \"x\": 4435.0, \"node_type\": \"midmarker\"}, \"1576930\": {\"y\": 1900.0, \"x\": 4630.0, \"node_type\": \"multimarker\"}, \"1576931\": {\"y\": 1425.0, \"x\": 2305.0, \"node_type\": \"midmarker\"}, \"1576932\": {\"y\": 3341.0, \"x\": 2843.0, \"node_type\": \"multimarker\"}, \"1576933\": {\"y\": 3445.0, \"x\": 2994.0, \"node_type\": \"multimarker\"}, \"1576934\": {\"y\": 3388.0, \"x\": 2911.0, \"node_type\": \"midmarker\"}, \"1576935\": {\"y\": 4065.0, \"x\": 1715.0, \"node_type\": \"multimarker\"}, \"1576936\": {\"y\": 4105.0, \"x\": 1715.0, \"node_type\": \"multimarker\"}, \"1576937\": {\"y\": 4085.0, \"x\": 1715.0, \"node_type\": \"midmarker\"}, \"1577009\": {\"y\": 470.0, \"x\": 2840.0, \"node_type\": \"midmarker\"}, \"1577008\": {\"y\": 2395.0, \"x\": 1055.0, \"node_type\": \"midmarker\"}, \"1577007\": {\"y\": 2435.0, \"x\": 1055.0, \"node_type\": \"multimarker\"}, \"1577006\": {\"y\": 2345.0, \"x\": 1055.0, \"node_type\": \"multimarker\"}, \"1577005\": {\"y\": 1265.0, \"x\": 1617.0, \"node_type\": \"multimarker\"}, \"1577004\": {\"y\": 1265.0, \"x\": 1657.0, \"node_type\": \"multimarker\"}, \"1577003\": {\"y\": 1265.0, \"x\": 1637.0, \"node_type\": \"midmarker\"}, \"1577002\": {\"y\": 2846.0, \"x\": 4560.0, \"node_type\": \"multimarker\"}, \"1577001\": {\"y\": 2846.0, \"x\": 4770.0, \"node_type\": \"multimarker\"}, \"1577000\": {\"y\": 2846.0, \"x\": 4667.0, \"node_type\": \"midmarker\"}, \"1577094\": {\"node_is_primary\": false, \"name\": \"Phosphoenolpyruvate\", \"label_x\": 4379.6201171875, \"node_type\": \"metabolite\", \"y\": 4629.59423828125, \"x\": 4414.0517578125, \"bigg_id\": \"pep_c\", \"label_y\": 4607.90673828125}, \"1577095\": {\"node_is_primary\": false, \"name\": \"L-Glutamine\", \"label_x\": 4253.14453125, \"node_type\": \"metabolite\", \"y\": 4650.7197265625, \"x\": 4332.9951171875, \"bigg_id\": \"gln__L_c\", \"label_y\": 4627.97607421875}, \"1577096\": {\"node_is_primary\": false, \"name\": \"Nicotinamide adenine dinucleotide phosphate\", \"label_x\": 4968.08447265625, \"node_type\": \"metabolite\", \"y\": 4864.818359375, \"x\": 5028.71435546875, \"bigg_id\": \"nadp_c\", \"label_y\": 4902.36181640625}, \"1577097\": {\"node_is_primary\": false, \"name\": \"Nicotinamide adenine dinucleotide phosphate - reduced\", \"label_x\": 4203.775390625, \"node_type\": \"metabolite\", \"y\": 4682.4072265625, \"x\": 4267.78271484375, \"bigg_id\": \"nadph_c\", \"label_y\": 4664.94482421875}, \"1577090\": {\"node_is_primary\": false, \"name\": \"Nicotinamide adenine dinucleotide - reduced\", \"label_x\": 5078.88623046875, \"node_type\": \"metabolite\", \"y\": 4897.1259765625, \"x\": 5134.0517578125, \"bigg_id\": \"nadh_c\", \"label_y\": 4936.322265625}, \"1577091\": {\"node_is_primary\": false, \"name\": \"2-Oxoglutarate\", \"label_x\": 5497.31591796875, \"node_type\": \"metabolite\", \"y\": 4979.51025390625, \"x\": 5481.046875, \"bigg_id\": \"akg_c\", \"label_y\": 5004.2978515625}, \"1577092\": {\"node_is_primary\": false, \"name\": \"Acetyl-CoA\", \"label_x\": 4556.52001953125, \"node_type\": \"metabolite\", \"y\": 4576.78173828125, \"x\": 4601.51416015625, \"bigg_id\": \"accoa_c\", \"label_y\": 4549.81298828125}, \"1577093\": {\"node_is_primary\": false, \"name\": \"3-Phospho-D-glycerate\", \"label_x\": 4459.6201171875, \"node_type\": \"metabolite\", \"y\": 4602.1318359375, \"x\": 4508.83935546875, \"bigg_id\": \"3pg_c\", \"label_y\": 4576.21923828125}, \"1577098\": {\"node_is_primary\": false, \"name\": \"Phosphate\", \"label_x\": 4884.8583984375, \"node_type\": \"metabolite\", \"y\": 4831.37548828125, \"x\": 4933.43505859375, \"bigg_id\": \"pi_c\", \"label_y\": 4859.1142578125}, \"1577099\": {\"y\": 4023.6457547875243, \"x\": 3055.6239109998846, \"node_type\": \"multimarker\"}, \"1576529\": {\"node_is_primary\": true, \"name\": \"D-Fructose 1,6-bisphosphate\", \"label_x\": 1096.404296875, \"node_type\": \"metabolite\", \"y\": 1925.0, \"x\": 1055.0, \"bigg_id\": \"fdp_c\", \"label_y\": 1928.173583984375}, \"1576528\": {\"node_is_primary\": false, \"name\": \"H2O\", \"label_x\": 672.9427490234375, \"node_type\": \"metabolite\", \"y\": 1855.0, \"x\": 765.0, \"bigg_id\": \"h2o_c\", \"label_y\": 1861.3470458984375}, \"1576527\": {\"node_is_primary\": true, \"name\": \"Ammonium\", \"label_x\": 4019.0, \"node_type\": \"metabolite\", \"y\": 4441.0, \"x\": 3989.0, \"bigg_id\": \"nh4_c\", \"label_y\": 4441.0}, \"1576526\": {\"node_is_primary\": true, \"name\": \"Ammonium\", \"label_x\": 4019.0, \"node_type\": \"metabolite\", \"y\": 4757.0, \"x\": 3989.0, \"bigg_id\": \"nh4_e\", \"label_y\": 4757.0}, \"1576525\": {\"node_is_primary\": true, \"name\": \"D-Fructose 6-phosphate\", \"label_x\": 1075.0, \"node_type\": \"metabolite\", \"y\": 1545.0, \"x\": 1055.0, \"bigg_id\": \"f6p_c\", \"label_y\": 1525.0}, \"1576524\": {\"node_is_primary\": true, \"name\": \"D-Glucose 6-phosphate\", \"label_x\": 1075.0, \"node_type\": \"metabolite\", \"y\": 1265.0, \"x\": 1055.0, \"bigg_id\": \"g6p_c\", \"label_y\": 1245.0}, \"1576523\": {\"node_is_primary\": false, \"name\": \"H2O\", \"label_x\": 886.289794921875, \"node_type\": \"metabolite\", \"y\": 3325.0, \"x\": 965.0, \"bigg_id\": \"h2o_c\", \"label_y\": 3307.958740234375}, \"1576522\": {\"node_is_primary\": true, \"name\": \"D-Glycerate 2-phosphate\", \"label_x\": 1093.0, \"node_type\": \"metabolite\", \"y\": 3125.0, \"x\": 1055.0, \"bigg_id\": \"2pg_c\", \"label_y\": 3125.0}, \"1576521\": {\"node_is_primary\": true, \"name\": \"Oxaloacetate\", \"label_x\": 2692.0, \"node_type\": \"metabolite\", \"y\": 3724.0, \"x\": 2659.0, \"bigg_id\": \"oaa_c\", \"label_y\": 3724.0}, \"1576520\": {\"node_is_primary\": false, \"name\": \"Phosphate\", \"label_x\": 1685.0, \"node_type\": \"metabolite\", \"y\": 3515.0, \"x\": 1665.0, \"bigg_id\": \"pi_c\", \"label_y\": 3515.0}, \"1576488\": {\"node_is_primary\": false, \"name\": \"ADP\", \"label_x\": 1165.0, \"node_type\": \"metabolite\", \"y\": 2635.0, \"x\": 1145.0, \"bigg_id\": \"adp_c\", \"label_y\": 2635.0}, \"1576841\": {\"y\": 820.0, \"x\": 3510.0, \"node_type\": \"midmarker\"}, \"1576842\": {\"y\": 800.0, \"x\": 3510.0, \"node_type\": \"multimarker\"}, \"1576843\": {\"y\": 870.0, \"x\": 3510.0, \"node_type\": \"multimarker\"}, \"1576844\": {\"y\": 3022.0, \"x\": 2727.0, \"node_type\": \"multimarker\"}, \"1576845\": {\"y\": 3076.0, \"x\": 2684.0, \"node_type\": \"midmarker\"}, \"1576846\": {\"y\": 3846.0, \"x\": 3606.0, \"node_type\": \"midmarker\"}, \"1576847\": {\"y\": 3923.0, \"x\": 3512.0, \"node_type\": \"multimarker\"}, \"1576848\": {\"y\": 3781.0, \"x\": 3663.0, \"node_type\": \"multimarker\"}, \"1576849\": {\"y\": 3945.0, \"x\": 1430.0, \"node_type\": \"multimarker\"}, \"1576485\": {\"node_is_primary\": false, \"name\": \"ATP\", \"label_x\": 1165.0, \"node_type\": \"metabolite\", \"y\": 2805.0, \"x\": 1145.0, \"bigg_id\": \"atp_c\", \"label_y\": 2805.0}, \"1576486\": {\"node_is_primary\": true, \"name\": \"3-Phospho-D-glycerate\", \"label_x\": 1085.0, \"node_type\": \"metabolite\", \"y\": 2875.0, \"x\": 1055.0, \"bigg_id\": \"3pg_c\", \"label_y\": 2875.0}, \"1576487\": {\"node_is_primary\": true, \"name\": \"3-Phospho-D-glyceroyl phosphate\", \"label_x\": 1085.0, \"node_type\": \"metabolite\", \"y\": 2565.0, \"x\": 1055.0, \"bigg_id\": \"13dpg_c\", \"label_y\": 2565.0}, \"1576558\": {\"node_is_primary\": true, \"name\": \"D-Xylulose 5-phosphate\", \"label_x\": 1944.76025390625, \"node_type\": \"metabolite\", \"y\": 1555.0, \"x\": 1945.0, \"bigg_id\": \"xu5p__D_c\", \"label_y\": 1599.5205078125}, \"1576559\": {\"node_is_primary\": true, \"name\": \"H+\", \"label_x\": 4867.7265625, \"node_type\": \"metabolite\", \"y\": 2229.0, \"x\": 4850.0, \"bigg_id\": \"h_e\", \"label_y\": 2273.503662109375}, \"1576552\": {\"node_is_primary\": true, \"name\": \"L-Glutamate\", \"label_x\": 4883.0, \"node_type\": \"metabolite\", \"y\": 3634.0, \"x\": 4883.0, \"bigg_id\": \"glu__L_e\", \"label_y\": 3604.0}, \"1576553\": {\"node_is_primary\": false, \"name\": \"H+\", \"label_x\": 4857.23046875, \"node_type\": \"metabolite\", \"y\": 3703.0, \"x\": 4825.0, \"bigg_id\": \"h_e\", \"label_y\": 3723.0}, \"1576550\": {\"node_is_primary\": false, \"name\": \"ADP\", \"label_x\": 903.744140625, \"node_type\": \"metabolite\", \"y\": 3555.0, \"x\": 965.0, \"bigg_id\": \"adp_c\", \"label_y\": 3528.02490234375}, \"1576551\": {\"node_is_primary\": false, \"name\": \"ATP\", \"label_x\": 929.1323852539062, \"node_type\": \"metabolite\", \"y\": 3815.0, \"x\": 965.0, \"bigg_id\": \"atp_c\", \"label_y\": 3794.372314453125}, \"1576556\": {\"node_is_primary\": true, \"name\": \"D-Lactate\", \"label_x\": 1088.470458984375, \"node_type\": \"metabolite\", \"y\": 4835.0, \"x\": 1055.0, \"bigg_id\": \"lac__D_e\", \"label_y\": 4857.21484375}, \"1576557\": {\"node_is_primary\": true, \"name\": \"Pyruvate\", \"label_x\": 249.61181640625, \"node_type\": \"metabolite\", \"y\": 3945.0, \"x\": 275.0, \"bigg_id\": \"pyr_e\", \"label_y\": 3994.041015625}, \"1576554\": {\"node_is_primary\": true, \"name\": \"L-Glutamate\", \"label_x\": 4221.2158203125, \"node_type\": \"metabolite\", \"y\": 3632.0, \"x\": 4248.0, \"bigg_id\": \"glu__L_c\", \"label_y\": 3601.0}, \"1576555\": {\"node_is_primary\": false, \"name\": \"H+\", \"label_x\": 4503.1796875, \"node_type\": \"metabolite\", \"y\": 3688.0, \"x\": 4478.0, \"bigg_id\": \"h_c\", \"label_y\": 3696.834716796875}, \"1576639\": {\"node_is_primary\": true, \"name\": \"H2O\", \"label_x\": 3287.0, \"node_type\": \"metabolite\", \"y\": 4754.0, \"x\": 3257.0, \"bigg_id\": \"h2o_e\", \"label_y\": 4754.0}, \"1576638\": {\"node_is_primary\": false, \"name\": \"H+\", \"label_x\": 2692.0, \"node_type\": \"metabolite\", \"y\": 3510.0, \"x\": 2660.0, \"bigg_id\": \"h_c\", \"label_y\": 3510.0}, \"1576633\": {\"node_is_primary\": false, \"name\": \"Nicotinamide adenine dinucleotide\", \"label_x\": 935.0, \"node_type\": \"metabolite\", \"y\": 4255.0, \"x\": 955.0, \"bigg_id\": \"nad_c\", \"label_y\": 4255.0}, \"1576632\": {\"node_is_primary\": false, \"name\": \"H+\", \"label_x\": 4305.0, \"node_type\": \"metabolite\", \"y\": 1380.0, \"x\": 4285.0, \"bigg_id\": \"h_c\", \"label_y\": 1380.0}, \"1576631\": {\"node_is_primary\": false, \"name\": \"Phosphate\", \"label_x\": 4305.0, \"node_type\": \"metabolite\", \"y\": 1450.0, \"x\": 4285.0, \"bigg_id\": \"pi_c\", \"label_y\": 1450.0}, \"1576630\": {\"node_is_primary\": false, \"name\": \"H2O\", \"label_x\": 4295.0, \"node_type\": \"metabolite\", \"y\": 1140.0, \"x\": 4275.0, \"bigg_id\": \"h2o_c\", \"label_y\": 1140.0}, \"1576637\": {\"node_is_primary\": false, \"name\": \"Nicotinamide adenine dinucleotide - reduced\", \"label_x\": 2710.0, \"node_type\": \"metabolite\", \"y\": 3585.0, \"x\": 2680.0, \"bigg_id\": \"nadh_c\", \"label_y\": 3590.0}, \"1576636\": {\"node_is_primary\": false, \"name\": \"Nicotinamide adenine dinucleotide\", \"label_x\": 2690.0, \"node_type\": \"metabolite\", \"y\": 3310.0, \"x\": 2670.0, \"bigg_id\": \"nad_c\", \"label_y\": 3320.0}, \"1576635\": {\"node_is_primary\": false, \"name\": \"H+\", \"label_x\": 935.0, \"node_type\": \"metabolite\", \"y\": 4095.0, \"x\": 955.0, \"bigg_id\": \"h_c\", \"label_y\": 4095.0}, \"1576634\": {\"node_is_primary\": false, \"name\": \"Nicotinamide adenine dinucleotide - reduced\", \"label_x\": 935.0, \"node_type\": \"metabolite\", \"y\": 4045.0, \"x\": 955.0, \"bigg_id\": \"nadh_c\", \"label_y\": 4045.0}, \"1577043\": {\"y\": 4071.0, \"x\": 2342.0, \"node_type\": \"multimarker\"}, \"1577042\": {\"y\": 4086.0, \"x\": 2356.0, \"node_type\": \"midmarker\"}, \"1577041\": {\"y\": 4100.0, \"x\": 2371.0, \"node_type\": \"multimarker\"}, \"1577047\": {\"y\": 4432.0, \"x\": 1460.0, \"node_type\": \"midmarker\"}, \"1577046\": {\"y\": 4470.0, \"x\": 1360.0, \"node_type\": \"multimarker\"}, \"1577045\": {\"y\": 4600.0, \"x\": 1360.0, \"node_type\": \"midmarker\"}, \"1577044\": {\"y\": 4730.0, \"x\": 1360.0, \"node_type\": \"multimarker\"}, \"1577049\": {\"y\": 2600.0, \"x\": 3110.0, \"node_type\": \"midmarker\"}, \"1577048\": {\"y\": 2600.0, \"x\": 3080.0, \"node_type\": \"multimarker\"}, \"1576941\": {\"y\": 3330.0, \"x\": 2310.0, \"node_type\": \"multimarker\"}, \"1576940\": {\"y\": 4158.0, \"x\": 4455.0, \"node_type\": \"multimarker\"}, \"1576943\": {\"y\": 3390.0, \"x\": 2190.0, \"node_type\": \"multimarker\"}, \"1576942\": {\"y\": 3360.0, \"x\": 2250.0, \"node_type\": \"midmarker\"}, \"1576945\": {\"y\": 1265.0, \"x\": 1307.0, \"node_type\": \"midmarker\"}, \"1576944\": {\"y\": 1265.0, \"x\": 1327.0, \"node_type\": \"multimarker\"}, \"1576947\": {\"y\": 4935.0, \"x\": 1715.0, \"node_type\": \"midmarker\"}, \"1576946\": {\"y\": 1265.0, \"x\": 1287.0, \"node_type\": \"multimarker\"}, \"1576949\": {\"y\": 3815.0, \"x\": 4247.0, \"node_type\": \"multimarker\"}, \"1576628\": {\"node_is_primary\": false, \"name\": \"H2O\", \"label_x\": 4175.82763671875, \"node_type\": \"metabolite\", \"y\": 3940.0, \"x\": 4201.0, \"bigg_id\": \"h2o_c\", \"label_y\": 3972.89208984375}, \"1576629\": {\"node_is_primary\": false, \"name\": \"Ammonium\", \"label_x\": 4160.99267578125, \"node_type\": \"metabolite\", \"y\": 3762.0, \"x\": 4193.0, \"bigg_id\": \"nh4_c\", \"label_y\": 3793.22314453125}, \"1576888\": {\"y\": 3020.0, \"x\": 3631.0, \"node_type\": \"midmarker\"}, \"1576889\": {\"y\": 2976.0, \"x\": 3588.0, \"node_type\": \"multimarker\"}, \"1576983\": {\"y\": 4255.0, \"x\": 1715.0, \"node_type\": \"multimarker\"}, \"1576620\": {\"node_is_primary\": false, \"name\": \"Nicotinamide adenine dinucleotide\", \"label_x\": 2380.0, \"node_type\": \"metabolite\", \"y\": 3220.0, \"x\": 2360.0, \"bigg_id\": \"nad_c\", \"label_y\": 3220.0}, \"1576621\": {\"node_is_primary\": false, \"name\": \"CO2\", \"label_x\": 1979.703125, \"node_type\": \"metabolite\", \"y\": 3420.0, \"x\": 2060.0, \"bigg_id\": \"co2_c\", \"label_y\": 3415.23974609375}, \"1576839\": {\"y\": 1265.0, \"x\": 1977.0, \"node_type\": \"multimarker\"}, \"1576838\": {\"y\": 1265.0, \"x\": 1937.0, \"node_type\": \"multimarker\"}, \"1576831\": {\"node_is_primary\": false, \"name\": \"H+\", \"label_x\": 2460.1826171875, \"node_type\": \"metabolite\", \"y\": 700.0, \"x\": 2510.0, \"bigg_id\": \"h_e\", \"label_y\": 722.5455932617188}, \"1576830\": {\"node_is_primary\": false, \"name\": \"Ubiquinol-8\", \"label_x\": 3041.5869140625, \"node_type\": \"metabolite\", \"y\": 2740.0, \"x\": 3020.0, \"bigg_id\": \"q8h2_c\", \"label_y\": 2740.0}, \"1576833\": {\"node_is_primary\": false, \"name\": \"H+\", \"label_x\": 1228.8927001953125, \"node_type\": \"metabolite\", \"y\": 4770.0, \"x\": 1270.0, \"bigg_id\": \"h_e\", \"label_y\": 4750.95849609375}, \"1576832\": {\"node_is_primary\": false, \"name\": \"H+\", \"label_x\": 1950.0, \"node_type\": \"metabolite\", \"y\": 3860.0, \"x\": 1950.0, \"bigg_id\": \"h_c\", \"label_y\": 3840.0}, \"1576835\": {\"y\": 2775.0, \"x\": 1055.0, \"node_type\": \"multimarker\"}, \"1576834\": {\"y\": 2665.0, \"x\": 1055.0, \"node_type\": \"multimarker\"}, \"1576837\": {\"y\": 1265.0, \"x\": 1957.0, \"node_type\": \"midmarker\"}, \"1576836\": {\"y\": 2725.0, \"x\": 1055.0, \"node_type\": \"midmarker\"}, \"1576688\": {\"node_is_primary\": false, \"name\": \"H+\", \"label_x\": 351.3470764160156, \"node_type\": \"metabolite\", \"y\": 4045.0, \"x\": 345.0, \"bigg_id\": \"h_e\", \"label_y\": 4072.933837890625}, \"1576689\": {\"node_is_primary\": false, \"name\": \"H+\", \"label_x\": 675.0, \"node_type\": \"metabolite\", \"y\": 4045.0, \"x\": 675.0, \"bigg_id\": \"h_c\", \"label_y\": 4077.694091796875}, \"1576567\": {\"node_is_primary\": false, \"name\": \"Coenzyme A\", \"label_x\": 3448.892578125, \"node_type\": \"metabolite\", \"y\": 2960.0, \"x\": 3460.0, \"bigg_id\": \"coa_c\", \"label_y\": 2991.107421875}, \"1576682\": {\"node_is_primary\": false, \"name\": \"H+\", \"label_x\": 4398.884765625, \"node_type\": \"metabolite\", \"y\": 1150.0, \"x\": 4415.0, \"bigg_id\": \"h_c\", \"label_y\": 1187.7266845703125}, \"1576683\": {\"node_is_primary\": false, \"name\": \"H2O\", \"label_x\": 4482.7265625, \"node_type\": \"metabolite\", \"y\": 1030.0, \"x\": 4482.7265625, \"bigg_id\": \"h2o_c\", \"label_y\": 1010.0}, \"1576680\": {\"node_is_primary\": false, \"name\": \"H+\", \"label_x\": 4865.0, \"node_type\": \"metabolite\", \"y\": 1150.0, \"x\": 4865.0, \"bigg_id\": \"h_e\", \"label_y\": 1180.0}, \"1576568\": {\"node_is_primary\": false, \"name\": \"ATP\", \"label_x\": 3496.826416015625, \"node_type\": \"metabolite\", \"y\": 3030.0, \"x\": 3500.0, \"bigg_id\": \"atp_c\", \"label_y\": 3062.694091796875}, \"1576686\": {\"node_is_primary\": false, \"name\": \"Coenzyme A\", \"label_x\": 2786.826416015625, \"node_type\": \"metabolite\", \"y\": 4091.0, \"x\": 2806.0, \"bigg_id\": \"coa_c\", \"label_y\": 4132.21484375}, \"1576687\": {\"node_is_primary\": false, \"name\": \"H+\", \"label_x\": 2899.041015625, \"node_type\": \"metabolite\", \"y\": 4117.0, \"x\": 2897.0, \"bigg_id\": \"h_c\", \"label_y\": 4155.8671875}, \"1576684\": {\"node_is_primary\": false, \"name\": \"H2O\", \"label_x\": 2599.520751953125, \"node_type\": \"metabolite\", \"y\": 3860.0, \"x\": 2610.0, \"bigg_id\": \"h2o_c\", \"label_y\": 3890.1484375}, \"1576685\": {\"node_is_primary\": true, \"name\": \"Citrate\", \"label_x\": 2972.653076171875, \"node_type\": \"metabolite\", \"y\": 3986.0, \"x\": 2971.0, \"bigg_id\": \"cit_c\", \"label_y\": 3943.1826171875}, \"1576664\": {\"node_is_primary\": false, \"name\": \"H+\", \"label_x\": 4818.7197265625, \"node_type\": \"metabolite\", \"y\": 2921.942138671875, \"x\": 4791.7197265625, \"bigg_id\": \"h_e\", \"label_y\": 2921.942138671875}, \"1576665\": {\"node_is_primary\": false, \"name\": \"H+\", \"label_x\": 4389.423828125, \"node_type\": \"metabolite\", \"y\": 2763.553955078125, \"x\": 4461.380859375, \"bigg_id\": \"h_c\", \"label_y\": 2763.9423828125}, \"1576666\": {\"node_is_primary\": true, \"name\": \"Formate\", \"label_x\": 1500.0, \"node_type\": \"metabolite\", \"y\": 4843.322265625, \"x\": 1460.0, \"bigg_id\": \"for_e\", \"label_y\": 4843.322265625}, \"1576667\": {\"node_is_primary\": false, \"name\": \"H2O\", \"label_x\": 1587.0, \"node_type\": \"metabolite\", \"y\": 1160.0, \"x\": 1587.0, \"bigg_id\": \"h2o_c\", \"label_y\": 1140.0}, \"1576660\": {\"node_is_primary\": false, \"name\": \"H+\", \"label_x\": 1835.0, \"node_type\": \"metabolite\", \"y\": 4775.0, \"x\": 1815.0, \"bigg_id\": \"h_e\", \"label_y\": 4775.0}, \"1576661\": {\"node_is_primary\": false, \"name\": \"H+\", \"label_x\": 1839.76025390625, \"node_type\": \"metabolite\", \"y\": 4452.45458984375, \"x\": 1819.76025390625, \"bigg_id\": \"h_c\", \"label_y\": 4452.45458984375}, \"1576662\": {\"node_is_primary\": false, \"name\": \"Phosphoenolpyruvate\", \"label_x\": 877.8765258789062, \"node_type\": \"metabolite\", \"y\": 974.4060668945312, \"x\": 957.694091796875, \"bigg_id\": \"pep_c\", \"label_y\": 976.9517211914062}, \"1576663\": {\"node_is_primary\": false, \"name\": \"Pyruvate\", \"label_x\": 1193.082275390625, \"node_type\": \"metabolite\", \"y\": 972.8192138671875, \"x\": 1161.3470458984375, \"bigg_id\": \"pyr_c\", \"label_y\": 986.47216796875}, \"1576668\": {\"node_is_primary\": false, \"name\": \"H+\", \"label_x\": 1687.0, \"node_type\": \"metabolite\", \"y\": 1160.0, \"x\": 1687.0, \"bigg_id\": \"h_c\", \"label_y\": 1140.0}, \"1576669\": {\"node_is_primary\": false, \"name\": \"Nicotinamide adenine dinucleotide\", \"label_x\": 1165.0, \"node_type\": \"metabolite\", \"y\": 2265.0, \"x\": 1145.0, \"bigg_id\": \"nad_c\", \"label_y\": 2265.0}, \"1576905\": {\"y\": 1270.0, \"x\": 3470.0, \"node_type\": \"multimarker\"}, \"1576907\": {\"y\": 1270.0, \"x\": 3520.0, \"node_type\": \"midmarker\"}, \"1576906\": {\"y\": 1270.0, \"x\": 3570.0, \"node_type\": \"multimarker\"}, \"1576901\": {\"y\": 3849.0, \"x\": 4364.0, \"node_type\": \"multimarker\"}, \"1576900\": {\"y\": 3869.0, \"x\": 4364.0, \"node_type\": \"midmarker\"}, \"1576909\": {\"y\": 3402.0, \"x\": 3783.0, \"node_type\": \"midmarker\"}, \"1576908\": {\"y\": 3480.0, \"x\": 3780.0, \"node_type\": \"multimarker\"}, \"1577018\": {\"y\": 1150.0, \"x\": 4625.0, \"node_type\": \"multimarker\"}, \"1577019\": {\"y\": 1150.0, \"x\": 4665.0, \"node_type\": \"midmarker\"}, \"1577014\": {\"y\": 3632.0, \"x\": 4078.0, \"node_type\": \"multimarker\"}, \"1577015\": {\"y\": 3632.0, \"x\": 4098.0, \"node_type\": \"midmarker\"}, \"1577016\": {\"y\": 3632.0, \"x\": 4118.0, \"node_type\": \"multimarker\"}, \"1577017\": {\"y\": 1150.0, \"x\": 4705.0, \"node_type\": \"multimarker\"}, \"1577011\": {\"y\": 3027.0, \"x\": 4666.0, \"node_type\": \"midmarker\"}, \"1577012\": {\"y\": 3027.0, \"x\": 4536.0, \"node_type\": \"multimarker\"}, \"1577013\": {\"y\": 3027.0, \"x\": 4796.0, \"node_type\": \"multimarker\"}, \"1576840\": {\"y\": 1660.0, \"x\": 4660.0, \"node_type\": \"midmarker\"}, \"1576489\": {\"node_is_primary\": false, \"name\": \"Nicotinamide adenine dinucleotide phosphate\", \"label_x\": 1907.0, \"node_type\": \"metabolite\", \"y\": 1165.0, \"x\": 1907.0, \"bigg_id\": \"nadp_c\", \"label_y\": 1145.0}, \"1576539\": {\"node_is_primary\": true, \"name\": \"Ubiquinone-8\", \"label_x\": 4686.61181640625, \"node_type\": \"metabolite\", \"y\": 2215.0361328125, \"x\": 4758.67626953125, \"bigg_id\": \"q8_c\", \"label_y\": 2192.47509765625}, \"1576534\": {\"node_is_primary\": true, \"name\": \"ATP\", \"label_x\": 4215.0, \"node_type\": \"metabolite\", \"y\": 1040.0, \"x\": 4215.0, \"bigg_id\": \"atp_c\", \"label_y\": 1010.0}, \"1576535\": {\"node_is_primary\": true, \"name\": \"AMP\", \"label_x\": 4033.388427734375, \"node_type\": \"metabolite\", \"y\": 1070.0, \"x\": 4065.0, \"bigg_id\": \"amp_c\", \"label_y\": 1030.661865234375}, \"1576536\": {\"node_is_primary\": true, \"name\": \"ADP\", \"label_x\": 4196.611328125, \"node_type\": \"metabolite\", \"y\": 1510.0, \"x\": 4215.0, \"bigg_id\": \"adp_c\", \"label_y\": 1556.1151123046875}, \"1576537\": {\"node_is_primary\": true, \"name\": \"L-Glutamine\", \"label_x\": 4851.38134765625, \"node_type\": \"metabolite\", \"y\": 4158.0, \"x\": 4882.0, \"bigg_id\": \"gln__L_e\", \"label_y\": 4199.2802734375}, \"1576530\": {\"node_is_primary\": false, \"name\": \"Phosphate\", \"label_x\": 686.744140625, \"node_type\": \"metabolite\", \"y\": 1565.0, \"x\": 755.0, \"bigg_id\": \"pi_c\", \"label_y\": 1563.4132080078125}, \"1576531\": {\"node_is_primary\": true, \"name\": \"Succinate\", \"label_x\": 4950.4462890625, \"node_type\": \"metabolite\", \"y\": 2880.0, \"x\": 4932.0, \"bigg_id\": \"succ_e\", \"label_y\": 2915.280517578125}, \"1576532\": {\"node_is_primary\": true, \"name\": \"Glyoxylate\", \"label_x\": 3211.3271484375, \"node_type\": \"metabolite\", \"y\": 3570.0, \"x\": 3180.0, \"bigg_id\": \"glx_c\", \"label_y\": 3543.267578125}, \"1576533\": {\"node_is_primary\": true, \"name\": \"Succinate\", \"label_x\": 3439.01611328125, \"node_type\": \"metabolite\", \"y\": 2867.0, \"x\": 3420.0, \"bigg_id\": \"succ_c\", \"label_y\": 2838.810302734375}, \"1576879\": {\"y\": 3635.0, \"x\": 4541.0, \"node_type\": \"multimarker\"}, \"1576878\": {\"y\": 3635.0, \"x\": 4645.0, \"node_type\": \"midmarker\"}, \"1576875\": {\"y\": 3655.0, \"x\": 1055.0, \"node_type\": \"multimarker\"}, \"1576874\": {\"y\": 2035.0, \"x\": 2178.0, \"node_type\": \"multimarker\"}, \"1576877\": {\"y\": 3745.0, \"x\": 1055.0, \"node_type\": \"multimarker\"}, \"1576876\": {\"y\": 3705.0, \"x\": 1055.0, \"node_type\": \"midmarker\"}, \"1576871\": {\"y\": 4914.0, \"x\": 3621.0, \"node_type\": \"midmarker\"}, \"1576569\": {\"node_is_primary\": false, \"name\": \"Phosphate\", \"label_x\": 3814.0, \"node_type\": \"metabolite\", \"y\": 3051.0, \"x\": 3794.0, \"bigg_id\": \"pi_c\", \"label_y\": 3051.0}, \"1576873\": {\"y\": 1955.0, \"x\": 2175.0, \"node_type\": \"multimarker\"}, \"1576872\": {\"y\": 1995.0, \"x\": 2178.0, \"node_type\": \"midmarker\"}, \"1576681\": {\"node_is_primary\": false, \"name\": \"Phosphate\", \"label_x\": 4459.546875, \"node_type\": \"metabolite\", \"y\": 1330.0, \"x\": 4495.0, \"bigg_id\": \"pi_c\", \"label_y\": 1293.5970458984375}, \"1576581\": {\"node_is_primary\": false, \"name\": \"Phosphate\", \"label_x\": 4454.0, \"node_type\": \"metabolite\", \"y\": 4054.0, \"x\": 4434.0, \"bigg_id\": \"pi_c\", \"label_y\": 4054.0}, \"1576580\": {\"node_is_primary\": false, \"name\": \"H+\", \"label_x\": 4454.0, \"node_type\": \"metabolite\", \"y\": 4004.0, \"x\": 4434.0, \"bigg_id\": \"h_c\", \"label_y\": 4004.0}, \"1576585\": {\"node_is_primary\": false, \"name\": \"Coenzyme A\", \"label_x\": 3628.99267578125, \"node_type\": \"metabolite\", \"y\": 3506.0, \"x\": 3684.0, \"bigg_id\": \"coa_c\", \"label_y\": 3483.05029296875}, \"1576584\": {\"node_is_primary\": true, \"name\": \"D-Lactate\", \"label_x\": 1089.0, \"node_type\": \"metabolite\", \"y\": 4345.0, \"x\": 1055.0, \"bigg_id\": \"lac__D_c\", \"label_y\": 4349.0}, \"1576587\": {\"node_is_primary\": false, \"name\": \"CO2\", \"label_x\": 3898.0, \"node_type\": \"metabolite\", \"y\": 3285.0, \"x\": 3872.0, \"bigg_id\": \"co2_c\", \"label_y\": 3285.0}, \"1576586\": {\"node_is_primary\": false, \"name\": \"Nicotinamide adenine dinucleotide\", \"label_x\": 3606.208740234375, \"node_type\": \"metabolite\", \"y\": 3558.0, \"x\": 3684.0, \"bigg_id\": \"nad_c\", \"label_y\": 3539.885009765625}, \"1576589\": {\"node_is_primary\": false, \"name\": \"Coenzyme A\", \"label_x\": 1165.0, \"node_type\": \"metabolite\", \"y\": 4045.0, \"x\": 1165.0, \"bigg_id\": \"coa_c\", \"label_y\": 4065.0}, \"1576588\": {\"node_is_primary\": false, \"name\": \"Nicotinamide adenine dinucleotide - reduced\", \"label_x\": 3846.0, \"node_type\": \"metabolite\", \"y\": 3233.0, \"x\": 3820.0, \"bigg_id\": \"nadh_c\", \"label_y\": 3233.0}, \"1576622\": {\"node_is_primary\": false, \"name\": \"Nicotinamide adenine dinucleotide - reduced\", \"label_x\": 1994.9427490234375, \"node_type\": \"metabolite\", \"y\": 3370.0, \"x\": 2080.0, \"bigg_id\": \"nadh_c\", \"label_y\": 3350.958740234375}, \"1576623\": {\"node_is_primary\": false, \"name\": \"Nicotinamide adenine dinucleotide phosphate\", \"label_x\": 1257.0, \"node_type\": \"metabolite\", \"y\": 1160.0, \"x\": 1257.0, \"bigg_id\": \"nadp_c\", \"label_y\": 1140.0}, \"1576624\": {\"node_is_primary\": false, \"name\": \"Nicotinamide adenine dinucleotide phosphate - reduced\", \"label_x\": 1430.0, \"node_type\": \"metabolite\", \"y\": 1160.0, \"x\": 1407.0, \"bigg_id\": \"nadph_c\", \"label_y\": 1140.0}, \"1576625\": {\"node_is_primary\": false, \"name\": \"H+\", \"label_x\": 1357.0, \"node_type\": \"metabolite\", \"y\": 1160.0, \"x\": 1357.0, \"bigg_id\": \"h_c\", \"label_y\": 1140.0}, \"1576626\": {\"node_is_primary\": true, \"name\": \"6-phospho-D-glucono-1,5-lactone\", \"label_x\": 1507.0, \"node_type\": \"metabolite\", \"y\": 1265.0, \"x\": 1507.0, \"bigg_id\": \"6pgl_c\", \"label_y\": 1235.0}, \"1576627\": {\"node_is_primary\": true, \"name\": \"Acetate\", \"label_x\": 1759.0985107421875, \"node_type\": \"metabolite\", \"y\": 4845.0, \"x\": 1715.0, \"bigg_id\": \"ac_e\", \"label_y\": 4848.173828125}, \"1577050\": {\"y\": 2600.0, \"x\": 3140.0, \"node_type\": \"multimarker\"}, \"1577051\": {\"y\": 1361.5867919921875, \"x\": 576.050048828125, \"node_type\": \"multimarker\"}, \"1577052\": {\"y\": 1361.586669921875, \"x\": 640.0, \"node_type\": \"midmarker\"}, \"1577053\": {\"y\": 1361.586669921875, \"x\": 704.5778198242188, \"node_type\": \"multimarker\"}, \"1577054\": {\"y\": 1360.0, \"x\": 182.0, \"node_type\": \"midmarker\"}, \"1577056\": {\"y\": 736.0, \"x\": 2610.0, \"node_type\": \"multimarker\"}, \"1577057\": {\"y\": 756.0, \"x\": 2610.0, \"node_type\": \"midmarker\"}, \"1577058\": {\"y\": 980.0, \"x\": 2610.0, \"node_type\": \"multimarker\"}, \"1577059\": {\"y\": 470.0, \"x\": 2610.0, \"node_type\": \"midmarker\"}, \"1576897\": {\"y\": 1735.0, \"x\": 1695.0, \"node_type\": \"multimarker\"}, \"1576896\": {\"y\": 1735.0, \"x\": 1525.0, \"node_type\": \"midmarker\"}, \"1576895\": {\"y\": 3636.0, \"x\": 5015.0, \"node_type\": \"midmarker\"}, \"1576893\": {\"y\": 1690.0, \"x\": 1055.0, \"node_type\": \"multimarker\"}, \"1576892\": {\"y\": 1775.0, \"x\": 1055.0, \"node_type\": \"multimarker\"}, \"1576891\": {\"y\": 1735.0, \"x\": 1055.0, \"node_type\": \"midmarker\"}, \"1576890\": {\"y\": 3063.0, \"x\": 3666.0, \"node_type\": \"multimarker\"}, \"1576956\": {\"y\": 4225.0, \"x\": 1055.0, \"node_type\": \"multimarker\"}, \"1576957\": {\"y\": 4175.0, \"x\": 1055.0, \"node_type\": \"midmarker\"}, \"1576954\": {\"y\": 1350.0, \"x\": 4215.0, \"node_type\": \"multimarker\"}, \"1576955\": {\"y\": 4125.0, \"x\": 1055.0, \"node_type\": \"multimarker\"}, \"1576952\": {\"y\": 1200.0, \"x\": 4215.0, \"node_type\": \"multimarker\"}, \"1576953\": {\"y\": 1260.0, \"x\": 4215.0, \"node_type\": \"midmarker\"}, \"1576899\": {\"y\": 3889.0, \"x\": 4364.0, \"node_type\": \"multimarker\"}, \"1576898\": {\"y\": 1735.0, \"x\": 1405.0, \"node_type\": \"multimarker\"}, \"1576958\": {\"y\": 3456.0, \"x\": 2578.0, \"node_type\": \"multimarker\"}, \"1576959\": {\"y\": 3404.0, \"x\": 2577.0, \"node_type\": \"midmarker\"}, \"1576950\": {\"y\": 3877.0, \"x\": 4247.0, \"node_type\": \"multimarker\"}, \"1576951\": {\"y\": 3857.0, \"x\": 4247.0, \"node_type\": \"midmarker\"}, \"1576826\": {\"node_is_primary\": true, \"name\": \"D-Fructose\", \"label_x\": 284.1323547363281, \"node_type\": \"metabolite\", \"y\": 1360.0, \"x\": 300.0, \"bigg_id\": \"fru_e\", \"label_y\": 1405.8675537109375}, \"1576827\": {\"node_is_primary\": true, \"name\": \"Nicotinamide adenine dinucleotide - reduced\", \"label_x\": 4322.0859375, \"node_type\": \"metabolite\", \"y\": 2478.91357421875, \"x\": 4417.8271484375, \"bigg_id\": \"nadh_c\", \"label_y\": 2462.79833984375}, \"1576824\": {\"node_is_primary\": false, \"name\": \"Nicotinamide adenine dinucleotide - reduced\", \"label_x\": 2347.0, \"node_type\": \"metabolite\", \"y\": 3935.0, \"x\": 2333.0, \"bigg_id\": \"nadh_c\", \"label_y\": 3921.0}, \"1576825\": {\"node_is_primary\": false, \"name\": \"Coenzyme A\", \"label_x\": 2140.0, \"node_type\": \"metabolite\", \"y\": 3860.0, \"x\": 2130.0, \"bigg_id\": \"coa_c\", \"label_y\": 3840.0}, \"1576822\": {\"node_is_primary\": false, \"name\": \"Nicotinamide adenine dinucleotide\", \"label_x\": 2496.0, \"node_type\": \"metabolite\", \"y\": 4065.0, \"x\": 2482.0, \"bigg_id\": \"nad_c\", \"label_y\": 4051.0}, \"1576988\": {\"y\": 3868.0, \"x\": 4116.0, \"node_type\": \"midmarker\"}, \"1576820\": {\"node_is_primary\": false, \"name\": \"H+\", \"label_x\": 4273.546875, \"node_type\": \"metabolite\", \"y\": 2570.0, \"x\": 4310.0, \"bigg_id\": \"h_c\", \"label_y\": 2604.6689453125}, \"1576821\": {\"node_is_primary\": false, \"name\": \"Pyruvate\", \"label_x\": 692.5455932617188, \"node_type\": \"metabolite\", \"y\": 1237.785400390625, \"x\": 714.76025390625, \"bigg_id\": \"pyr_c\", \"label_y\": 1207.785400390625}, \"1576985\": {\"y\": 4918.0, \"x\": 3991.0, \"node_type\": \"midmarker\"}, \"1576987\": {\"y\": 3848.0, \"x\": 4116.0, \"node_type\": \"multimarker\"}, \"1576986\": {\"y\": 3888.0, \"x\": 4116.0, \"node_type\": \"multimarker\"}, \"1576981\": {\"y\": 4305.0, \"x\": 1715.0, \"node_type\": \"multimarker\"}, \"1576980\": {\"y\": 4937.93359375, \"x\": 2500.0, \"node_type\": \"midmarker\"}, \"1576828\": {\"node_is_primary\": false, \"name\": \"Nicotinamide adenine dinucleotide\", \"label_x\": 2070.0, \"node_type\": \"metabolite\", \"y\": 3860.0, \"x\": 2070.0, \"bigg_id\": \"nad_c\", \"label_y\": 3840.0}, \"1576829\": {\"node_is_primary\": true, \"name\": \"Ethanol\", \"label_x\": 2522.0, \"node_type\": \"metabolite\", \"y\": 4228.0, \"x\": 2501.0, \"bigg_id\": \"etoh_c\", \"label_y\": 4206.0}, \"1576570\": {\"node_is_primary\": true, \"name\": \"Succinyl-CoA\", \"label_x\": 3772.230712890625, \"node_type\": \"metabolite\", \"y\": 3193.0, \"x\": 3739.0, \"bigg_id\": \"succoa_c\", \"label_y\": 3193.479248046875}, \"1576571\": {\"node_is_primary\": false, \"name\": \"ADP\", \"label_x\": 3788.0, \"node_type\": \"metabolite\", \"y\": 3116.0, \"x\": 3768.0, \"bigg_id\": \"adp_c\", \"label_y\": 3126.0}, \"1576572\": {\"node_is_primary\": false, \"name\": \"ATP\", \"label_x\": 1165.0, \"node_type\": \"metabolite\", \"y\": 1645.0, \"x\": 1145.0, \"bigg_id\": \"atp_c\", \"label_y\": 1645.0}, \"1576573\": {\"node_is_primary\": false, \"name\": \"ADP\", \"label_x\": 1165.0, \"node_type\": \"metabolite\", \"y\": 1805.0, \"x\": 1145.0, \"bigg_id\": \"adp_c\", \"label_y\": 1805.0}, \"1576574\": {\"node_is_primary\": false, \"name\": \"H+\", \"label_x\": 1165.0, \"node_type\": \"metabolite\", \"y\": 1855.0, \"x\": 1145.0, \"bigg_id\": \"h_c\", \"label_y\": 1855.0}, \"1576575\": {\"node_is_primary\": true, \"name\": \"Glyceraldehyde 3-phosphate\", \"label_x\": 1085.0, \"node_type\": \"metabolite\", \"y\": 2195.0, \"x\": 1055.0, \"bigg_id\": \"g3p_c\", \"label_y\": 2195.0}, \"1576576\": {\"node_is_primary\": false, \"name\": \"ATP\", \"label_x\": 4474.0, \"node_type\": \"metabolite\", \"y\": 3755.0, \"x\": 4440.0, \"bigg_id\": \"atp_c\", \"label_y\": 3753.0}, \"1576577\": {\"node_is_primary\": false, \"name\": \"Ammonium\", \"label_x\": 4477.0, \"node_type\": \"metabolite\", \"y\": 3805.0, \"x\": 4440.0, \"bigg_id\": \"nh4_c\", \"label_y\": 3811.0}, \"1576578\": {\"node_is_primary\": true, \"name\": \"L-Glutamine\", \"label_x\": 4245.0, \"node_type\": \"metabolite\", \"y\": 4094.0, \"x\": 4246.0, \"bigg_id\": \"gln__L_c\", \"label_y\": 4130.0}, \"1576579\": {\"node_is_primary\": false, \"name\": \"ADP\", \"label_x\": 4454.0, \"node_type\": \"metabolite\", \"y\": 3954.0, \"x\": 4434.0, \"bigg_id\": \"adp_c\", \"label_y\": 3954.0}, \"1576928\": {\"y\": 1900.0, \"x\": 4660.0, \"node_type\": \"midmarker\"}, \"1576651\": {\"node_is_primary\": false, \"name\": \"ATP\", \"label_x\": 1835.0, \"node_type\": \"metabolite\", \"y\": 4335.0, \"x\": 1815.0, \"bigg_id\": \"atp_c\", \"label_y\": 4335.0}, \"1576650\": {\"node_is_primary\": false, \"name\": \"H+\", \"label_x\": 2620.0, \"node_type\": \"metabolite\", \"y\": 4400.0, \"x\": 2600.0, \"bigg_id\": \"h_c\", \"label_y\": 4400.0}, \"1576653\": {\"node_is_primary\": false, \"name\": \"ADP\", \"label_x\": 1835.0, \"node_type\": \"metabolite\", \"y\": 4225.0, \"x\": 1815.0, \"bigg_id\": \"adp_c\", \"label_y\": 4225.0}, \"1576652\": {\"node_is_primary\": true, \"name\": \"Acetate\", \"label_x\": 1745.0, \"node_type\": \"metabolite\", \"y\": 4385.0, \"x\": 1715.0, \"bigg_id\": \"ac_c\", \"label_y\": 4385.0}, \"1576655\": {\"node_is_primary\": false, \"name\": \"H+\", \"label_x\": 4002.0, \"node_type\": \"metabolite\", \"y\": 3982.0, \"x\": 4029.0, \"bigg_id\": \"h_c\", \"label_y\": 3986.0}, \"1576654\": {\"node_is_primary\": false, \"name\": \"Nicotinamide adenine dinucleotide phosphate - reduced\", \"label_x\": 3993.9423828125, \"node_type\": \"metabolite\", \"y\": 3932.0, \"x\": 4029.0, \"bigg_id\": \"nadph_c\", \"label_y\": 3909.05029296875}, \"1576657\": {\"node_is_primary\": true, \"name\": \"Fumarate\", \"label_x\": 2879.817626953125, \"node_type\": \"metabolite\", \"y\": 650.0, \"x\": 2840.0, \"bigg_id\": \"fum_e\", \"label_y\": 635.0911865234375}, \"1576656\": {\"node_is_primary\": false, \"name\": \"Nicotinamide adenine dinucleotide phosphate\", \"label_x\": 3957.985595703125, \"node_type\": \"metabolite\", \"y\": 3759.0, \"x\": 4043.0, \"bigg_id\": \"nadp_c\", \"label_y\": 3736.215576171875}, \"1576659\": {\"node_is_primary\": false, \"name\": \"H+\", \"label_x\": 2954.28076171875, \"node_type\": \"metabolite\", \"y\": 1010.0, \"x\": 2940.0, \"bigg_id\": \"h_c\", \"label_y\": 1038.4132080078125}, \"1576658\": {\"node_is_primary\": false, \"name\": \"H+\", \"label_x\": 2962.214599609375, \"node_type\": \"metabolite\", \"y\": 700.0, \"x\": 2940.0, \"bigg_id\": \"h_e\", \"label_y\": 718.4132080078125}, \"1576912\": {\"y\": 3995.0, \"x\": 1255.0, \"node_type\": \"multimarker\"}, \"1576913\": {\"y\": 3995.0, \"x\": 1415.0, \"node_type\": \"multimarker\"}, \"1576910\": {\"y\": 3330.0, \"x\": 3776.0, \"node_type\": \"multimarker\"}, \"1576911\": {\"y\": 3995.0, \"x\": 1335.0, \"node_type\": \"midmarker\"}, \"1576916\": {\"y\": 3526.0, \"x\": 1404.0, \"node_type\": \"midmarker\"}, \"1576917\": {\"y\": 3554.0, \"x\": 1485.0, \"node_type\": \"multimarker\"}, \"1576914\": {\"y\": 1660.0, \"x\": 4970.0, \"node_type\": \"midmarker\"}, \"1576918\": {\"y\": 3503.0, \"x\": 1335.0, \"node_type\": \"multimarker\"}, \"1576919\": {\"y\": 4520.0, \"x\": 2880.0, \"node_type\": \"multimarker\"}, \"1577028\": {\"y\": 3360.0, \"x\": 2310.0, \"node_type\": \"multimarker\"}, \"1577021\": {\"y\": 3918.0, \"x\": 2840.0, \"node_type\": \"multimarker\"}, \"1577020\": {\"y\": 3837.0, \"x\": 2744.0, \"node_type\": \"multimarker\"}, \"1577023\": {\"y\": 3945.0, \"x\": 375.0, \"node_type\": \"multimarker\"}, \"1577022\": {\"y\": 3886.0, \"x\": 2798.0, \"node_type\": \"midmarker\"}, \"1577025\": {\"y\": 3945.0, \"x\": 505.0, \"node_type\": \"midmarker\"}, \"1577024\": {\"y\": 3945.0, \"x\": 645.0, \"node_type\": \"multimarker\"}, \"1577027\": {\"y\": 3410.0, \"x\": 2220.0, \"node_type\": \"multimarker\"}, \"1577026\": {\"y\": 3390.0, \"x\": 2260.0, \"node_type\": \"midmarker\"}, \"1576967\": {\"y\": 4604.0, \"x\": 3621.0, \"node_type\": \"midmarker\"}, \"1576966\": {\"y\": 1735.0, \"x\": 2175.0, \"node_type\": \"multimarker\"}, \"1576965\": {\"y\": 1695.0, \"x\": 2175.0, \"node_type\": \"midmarker\"}, \"1576964\": {\"y\": 1645.0, \"x\": 2175.0, \"node_type\": \"multimarker\"}, \"1576962\": {\"y\": 4924.0, \"x\": 3257.0, \"node_type\": \"midmarker\"}, \"1576961\": {\"y\": 4614.0, \"x\": 3257.0, \"node_type\": \"midmarker\"}, \"1576960\": {\"y\": 3341.0, \"x\": 2582.0, \"node_type\": \"multimarker\"}, \"1576969\": {\"y\": 3228.0, \"x\": 5032.0, \"node_type\": \"midmarker\"}, \"1576499\": {\"node_is_primary\": false, \"name\": \"H+\", \"label_x\": 3522.892333984375, \"node_type\": \"metabolite\", \"y\": 1080.287841796875, \"x\": 3510.0, \"bigg_id\": \"h_c\", \"label_y\": 1099.0072021484375}, \"1576999\": {\"y\": 1041.710205078125, \"x\": 1056.5867919921875, \"node_type\": \"multimarker\"}}, \"canvas\": {\"y\": 314.36893920898433, \"x\": 7.857062530517567, \"height\": 4860.457037353515, \"width\": 5894.515691375733}, \"text_labels\": {}}]'),\n",
       "               model_data: JSON.parse('null'),\n",
       "               static_site_index: JSON.parse('null'),\n",
       "           };\n",
       "       }\n",
       "   })();\n",
       "  </script>\n"
      ],
      "text/plain": [
       "<IPython.core.display.HTML object>"
      ]
     },
     "execution_count": 22,
     "metadata": {},
     "output_type": "execute_result"
    }
   ],
   "source": [
    "import escher\n",
    "\n",
    "escher_builder = escher.Builder(\n",
    "    map_name='e_coli_core.Core metabolism', # map that matches our model\n",
    "    reaction_scale=[{'type': 'min', 'color': '#0000ff', 'size': 10}, # make active fluxes more visible\n",
    "               {'type': 'mean', 'color': '#551a8b', 'size': 20},\n",
    "               {'type': 'max', 'color': '#ff0000', 'size': 40}],\n",
    "\n",
    "    hide_secondary_metabolites = True,\n",
    "    reaction_data = efm_list[0], # provides flux values from the first EFM \n",
    "    \n",
    ")\n",
    "escher_builder.display_in_notebook(js_source='web')"
   ]
  },
  {
   "cell_type": "markdown",
   "metadata": {},
   "source": [
    "### Representing multiple EFMs as trees\n",
    "\n",
    "Additionally, we can also display EFMs as ordered trees where each path from the root to a leaf is a single EFM. This allows us to observe patterns among large sets of EFMs to identify common mechanisms between them\n",
    "\n",
    "The *tree_analysis* module contains some functions to achieve this. Please note that this functionality is still highly experimental"
   ]
  },
  {
   "cell_type": "code",
   "execution_count": 23,
   "metadata": {},
   "outputs": [],
   "source": [
    "from cobamp.utilities.tree_analysis import *"
   ]
  },
  {
   "cell_type": "markdown",
   "metadata": {},
   "source": [
    "The function below provides an example workflow to organize EFMs (or MCSs) as trees\n",
    "\n",
    "Firstly, the root node is created and the tree is populated with the EFMs. This procedure is performed by iteratively adding one node representing the most common reaction within a the set of EFMs. Each of these nodes is then recursively populated using the subset of EFMs containing reactions from the nodes above it.\n",
    "\n",
    "The tree is then compressed by merging linear sequences of nodes into a single node whose value is a list of reactions. This list is then converted to a concatenated string for easier reading.\n",
    "\n",
    "If needed, very large nodes can be ignored, with their value set to an arbitrary value. Additionally the tree can be pruned below a supplied depth value, replacing all nodes below it by the relative frequency of each reaction in the set of EFMs represented under these new leaves."
   ]
  },
  {
   "cell_type": "code",
   "execution_count": 24,
   "metadata": {},
   "outputs": [],
   "source": [
    "def generate_efm_results_tree(efm_sets, ignore_greater_than=10, pruning_level=6, merge_dupes=False):\n",
    "    root = Tree('ROOT')\n",
    "    # fill the tree with EFMs\n",
    "    fill_tree(root, efm_sets)\n",
    "    # compress sequences of nodes with only 1 inward and 1 outward edge\n",
    "    compress_linear_paths(root) \n",
    "    if ignore_greater_than:\n",
    "        ignore_compressed_nodes_by_size(root, ignore_greater_than) # if a node has too many fluxes, ignore it\n",
    "        \n",
    "    # apply a function to all nodes in this example, the node value \n",
    "    # is converted to a string if it is currently a list of strings\n",
    "    # this is the case of compressed nodes\n",
    "    apply_fx_to_all_node_values(root, lambda x: ' + '.join(sorted(x)) if isinstance(x, list) else x if x is not None else \"None\")\n",
    "    \n",
    "    # if the tree is too deep, a depth value can be specified\n",
    "    # so the tree is cut past that point\n",
    "    # the leaf that replaces it will specify the relative\n",
    "    # frequency of the reactions in all EFMs represented by it\n",
    "    if pruning_level:\n",
    "        probabilistic_tree_prune(root, target_level=pruning_level, cut_leaves=False, name_separator='+')\n",
    "    \n",
    "    # compress the tree again\n",
    "    compress_linear_paths(root)\n",
    "    \n",
    "    # merge duplicate nodes. this effectively replaces all\n",
    "    # objects of the same value with a single object\n",
    "    if merge_dupes:\n",
    "        merge_duplicate_nodes(root)\n",
    "    return root"
   ]
  },
  {
   "cell_type": "markdown",
   "metadata": {},
   "source": [
    "The tree is then generated using this function, returning the populated *tree* object"
   ]
  },
  {
   "cell_type": "code",
   "execution_count": 25,
   "metadata": {},
   "outputs": [],
   "source": [
    "tree = generate_efm_results_tree(\n",
    "    efm_sets=efm_list, # list of elementary modes (list[dict[str,float]])\n",
    "    ignore_greater_than=None, # ignore nodes with more than *ignore_greater_than* elements\n",
    "    pruning_level=None, # prune tree from the nodes past depth=*pruning_level*\n",
    "    merge_dupes=False # do not merge duplicate nodes\n",
    ")"
   ]
  },
  {
   "cell_type": "markdown",
   "metadata": {},
   "source": [
    "A simple print function is supplied to quickly view the tree."
   ]
  },
  {
   "cell_type": "code",
   "execution_count": 26,
   "metadata": {},
   "outputs": [
    {
     "name": "stdout",
     "output_type": "stream",
     "text": [
      "|-- ACONTa + ACONTb + AKGDH + BIOMASS_Ecoli_core_w_GAM + CO2t + CS + CYTBD + ENO + EX_co2_e + EX_h2o_e + EX_h_e + EX_nh4_e + EX_o2_e + EX_pi_e + FBA + GAPD + GLCpts + GLNS + H2Ot + ICDHyr + NADH16 + NH4t + O2t + PDH + PFK + PGI + PGK + PGM + PIt2r + PPC + PYK + ROOT + RPE + RPI + SUCCt3 + SUCOAS + TALA + TKT1 + TKT2 + TPI(None)\n",
      "|\t|-- ATPS4r(13)\n",
      "|\t|\t|-- GLUSy(7)\n",
      "|\t|\t|\t|-- GLUN(1)\n",
      "|\t|\t|\t|-- THD2(1)\n",
      "|\t|\t|\t|-- GLUDy(1)\n",
      "|\t|\t|\t|-- FBP(1)\n",
      "|\t|\t|\t|-- SUCCt2_2(1)\n",
      "|\t|\t|\t|-- PPCK(1)\n",
      "|\t|\t|\t|-- ATPM(1)\n",
      "|\t|\t|-- GLUDy(6)\n",
      "|\t|\t|\t|-- GLUN(1)\n",
      "|\t|\t|\t|-- SUCCt2_2(1)\n",
      "|\t|\t|\t|-- FBP(1)\n",
      "|\t|\t|\t|-- THD2(1)\n",
      "|\t|\t|\t|-- PPCK(1)\n",
      "|\t|\t|\t|-- ATPM(1)\n",
      "|\t|-- NADTRHD(4)\n",
      "|\t|\t|-- GLUDy(2)\n",
      "|\t|\t|\t|-- THD2(1)\n",
      "|\t|\t|\t|-- SUCCt2_2(1)\n",
      "|\t|\t|-- GLUSy(2)\n",
      "|\t|\t|\t|-- THD2(1)\n",
      "|\t|\t|\t|-- SUCCt2_2(1)\n"
     ]
    }
   ],
   "source": [
    "print(pretty_print_tree(tree))"
   ]
  },
  {
   "cell_type": "markdown",
   "metadata": {},
   "source": [
    "Another way to draw this would be to used the NetworkX (https://networkx.github.io/) with GraphViz (https://www.graphviz.org/) installed."
   ]
  },
  {
   "cell_type": "code",
   "execution_count": 27,
   "metadata": {
    "scrolled": false
   },
   "outputs": [
    {
     "name": "stdout",
     "output_type": "stream",
     "text": [
      "NetworkX recognizes this as a tree? True\n"
     ]
    },
    {
     "data": {
      "image/png": "[encoded data removed]",
      "text/plain": [
       "<Figure size 1440x720 with 1 Axes>"
      ]
     },
     "metadata": {
      "needs_background": "light"
     },
     "output_type": "display_data"
    }
   ],
   "source": [
    "tree = generate_efm_results_tree(\n",
    "    efm_sets=efm_list, # list of elementary modes (list[dict[str,float]])\n",
    "    ignore_greater_than=None, # ignore nodes with more than *ignore_greater_than* elements\n",
    "    pruning_level=None, # prune tree from the nodes past depth=*pruning_level*\n",
    "    merge_dupes=True # do not merge duplicate nodes\n",
    ")\n",
    "\n",
    "old_value = tree.value # save the old value of the root node\n",
    "tree.value = \"Glycolysis + TCA\" # change the root node value to a shorter string\n",
    "\n",
    "import networkx as nx\n",
    "import matplotlib.pyplot as plt\n",
    "\n",
    "G = nx.DiGraph() # define a new networkx Graph object\n",
    "populate_nx_graph(tree, G, unique_nodes=True) # populate it with data from the Tree object\n",
    "\n",
    "print('NetworkX recognizes this as a tree?',nx.is_tree(G))\n",
    "\n",
    "pos = nx.nx_pydot.graphviz_layout(G) # generate the graphviz layout\n",
    "\n",
    "# create a figure and plot the nodes, edges and labels\n",
    "plt.figure(figsize=(20,10))\n",
    "nx.draw_networkx_nodes(G, pos, node_size=10)\n",
    "nx.draw_networkx_edges(G, pos, alpha=0.5, arrowsize=10)\n",
    "nx.draw_networkx_labels(G, pos, font_size=18, font_color='red')\n",
    "\n",
    "plt.show()"
   ]
  },
  {
   "cell_type": "markdown",
   "metadata": {},
   "source": [
    "### Frequency analysis of multiple sets of EFMs\n",
    "\n",
    "Heatmaps can be used as graphical representations of matrices. If multiple sets of EFMs are enumerated using different conditions, they can be compared in terms of the frequency at which their active reactions are displayed. *cobamp* provides a simple analysis function to generate a *pandas* dataframe containing reaction frequencies for one or more sets of EFMs.\n",
    "\n",
    "A dictionary mapping a group identifier (as string) and a set of reaction indices from the EFMs is required as input.\n",
    "\n",
    "Firstly, the heatmap and frequency dataframe generating functions must be imported as shown below"
   ]
  },
  {
   "cell_type": "code",
   "execution_count": 28,
   "metadata": {},
   "outputs": [],
   "source": [
    "from cobamp.utilities.plotting import display_heatmap\n",
    "from cobamp.utilities.frequency_analysis import get_frequency_dataframe"
   ]
  },
  {
   "cell_type": "markdown",
   "metadata": {},
   "source": [
    "As an example, one can try to enumerate the 50 smallest EFMs for consuming glucose and producing a wide array of interesting compounds as well as ensuring cell growth through the production of biomass. In this test case, we will try to get at least 50 EFMs to produce:\n",
    "* Succinate (succ_e)\n",
    "* D-Lactate (lac__D_e)\n",
    "* Glutamine (gln__L_e)\n",
    "* Glutamate (glu__L_e)\n",
    "* Ethanol (etoh_e)\n",
    "\n",
    "Some functions should be defined to achieve this specific purpose. First, we can generalize the EFM enumerators that were previously used to accept any product. The function *get_efm_enumerator_for_product(**model**, **product**)* returns an EFM enumerator for the **model** while forcing **product** to be secreted."
   ]
  },
  {
   "cell_type": "code",
   "execution_count": 29,
   "metadata": {},
   "outputs": [],
   "source": [
    "def get_efm_enumerator_for_product(model, product):\n",
    "    ksefm = KShortestEFMEnumeratorWrapper(\n",
    "        model=model,\n",
    "        non_consumed=[],\n",
    "        consumed=['glc__D_e'],\n",
    "        produced=['biomass_c', product],\n",
    "        algorithm_type=KShortestEFMEnumeratorWrapper.ALGORITHM_TYPE_POPULATE,\n",
    "        stop_criteria=100\n",
    "    )\n",
    "    \n",
    "    return ksefm.get_enumerator()"
   ]
  },
  {
   "cell_type": "markdown",
   "metadata": {},
   "source": [
    "Another function can also be created to obtain at least 50 EFMs and convert them to sets of reactions. This function, *get_production_efms(**model**, **product**)*, calls the function defined above to obtain the enumerator and enumerates EFM up to size 100 but stops if 50 EFMs have been added."
   ]
  },
  {
   "cell_type": "code",
   "execution_count": 30,
   "metadata": {},
   "outputs": [],
   "source": [
    "def get_production_efms(model, product):\n",
    "    enumerator = get_efm_enumerator_for_product(model, product)\n",
    "    efm_list = []\n",
    "    stopped = False\n",
    "    \n",
    "    while len(efm_list) < 50 and not stopped:\n",
    "        try:\n",
    "            efm_list += next(enumerator)\n",
    "        except StopIteration as si:\n",
    "            stopped = True\n",
    "            print('Stopping criteria reached!')\n",
    "            \n",
    "    return [set(efm.keys()) for efm in efm_list]"
   ]
  },
  {
   "cell_type": "markdown",
   "metadata": {},
   "source": [
    "Finally, we can define the desired products and enumerate the EFMs for each. A dictionary mapping products and EFMs is the preferred format for storing and analysing these EFMs."
   ]
  },
  {
   "cell_type": "code",
   "execution_count": 31,
   "metadata": {},
   "outputs": [
    {
     "name": "stdout",
     "output_type": "stream",
     "text": [
      "Starting size 1\n",
      "Starting size 2\n",
      "Starting size 3\n",
      "Starting size 4\n",
      "Starting size 5\n",
      "Starting size 6\n",
      "Starting size 7\n",
      "Starting size 8\n",
      "Starting size 9\n",
      "Starting size 10\n",
      "Starting size 11\n",
      "Starting size 12\n",
      "Starting size 13\n",
      "Starting size 14\n",
      "Starting size 15\n",
      "Starting size 16\n",
      "Starting size 17\n",
      "Starting size 18\n",
      "Starting size 19\n",
      "Starting size 20\n",
      "Starting size 21\n",
      "Starting size 22\n",
      "Starting size 23\n",
      "Starting size 24\n",
      "Starting size 25\n",
      "Starting size 26\n",
      "Starting size 27\n",
      "Starting size 28\n",
      "Starting size 29\n",
      "Starting size 30\n",
      "Starting size 31\n",
      "Starting size 32\n",
      "Starting size 33\n",
      "Starting size 34\n",
      "Starting size 35\n",
      "Starting size 36\n",
      "Starting size 37\n",
      "Starting size 38\n",
      "Starting size 39\n",
      "Starting size 40\n",
      "Starting size 41\n",
      "Starting size 42\n",
      "Starting size 43\n",
      "Starting size 1\n",
      "Starting size 2\n",
      "Starting size 3\n",
      "Starting size 4\n",
      "Starting size 5\n",
      "Starting size 6\n",
      "Starting size 7\n",
      "Starting size 8\n",
      "Starting size 9\n",
      "Starting size 10\n",
      "Starting size 11\n",
      "Starting size 12\n",
      "Starting size 13\n",
      "Starting size 14\n",
      "Starting size 15\n",
      "Starting size 16\n",
      "Starting size 17\n",
      "Starting size 18\n",
      "Starting size 19\n",
      "Starting size 20\n",
      "Starting size 21\n",
      "Starting size 22\n",
      "Starting size 23\n",
      "Starting size 24\n",
      "Starting size 25\n",
      "Starting size 26\n",
      "Starting size 27\n",
      "Starting size 28\n",
      "Starting size 29\n",
      "Starting size 30\n",
      "Starting size 31\n",
      "Starting size 32\n",
      "Starting size 33\n",
      "Starting size 34\n",
      "Starting size 35\n",
      "Starting size 36\n",
      "Starting size 37\n",
      "Starting size 38\n",
      "Starting size 39\n",
      "Starting size 40\n",
      "Starting size 41\n",
      "Starting size 42\n",
      "Starting size 43\n",
      "Starting size 1\n",
      "Starting size 2\n",
      "Starting size 3\n",
      "Starting size 4\n",
      "Starting size 5\n",
      "Starting size 6\n",
      "Starting size 7\n",
      "Starting size 8\n",
      "Starting size 9\n",
      "Starting size 10\n",
      "Starting size 11\n",
      "Starting size 12\n",
      "Starting size 13\n",
      "Starting size 14\n",
      "Starting size 15\n",
      "Starting size 16\n",
      "Starting size 17\n",
      "Starting size 18\n",
      "Starting size 19\n",
      "Starting size 20\n",
      "Starting size 21\n",
      "Starting size 22\n",
      "Starting size 23\n",
      "Starting size 24\n",
      "Starting size 25\n",
      "Starting size 26\n",
      "Starting size 27\n",
      "Starting size 28\n",
      "Starting size 29\n",
      "Starting size 30\n",
      "Starting size 31\n",
      "Starting size 32\n",
      "Starting size 33\n",
      "Starting size 34\n",
      "Starting size 35\n",
      "Starting size 36\n",
      "Starting size 37\n",
      "Starting size 38\n",
      "Starting size 39\n",
      "Starting size 40\n",
      "Starting size 41\n",
      "Starting size 42\n",
      "Starting size 43\n",
      "Starting size 44\n",
      "Starting size 45\n",
      "Starting size 46\n",
      "Starting size 47\n",
      "Starting size 48\n",
      "Starting size 49\n",
      "Starting size 50\n",
      "Starting size 51\n",
      "Starting size 52\n",
      "Starting size 53\n",
      "Starting size 54\n",
      "Starting size 55\n",
      "Starting size 56\n",
      "Starting size 57\n",
      "Starting size 58\n",
      "Starting size 59\n",
      "Starting size 60\n",
      "Starting size 61\n",
      "Starting size 62\n",
      "Starting size 63\n",
      "Starting size 64\n",
      "Starting size 65\n",
      "Starting size 66\n",
      "Starting size 67\n",
      "Starting size 68\n",
      "Starting size 69\n",
      "Starting size 70\n",
      "Starting size 71\n",
      "Starting size 72\n",
      "Starting size 73\n",
      "Starting size 74\n",
      "Starting size 75\n",
      "Starting size 76\n",
      "Starting size 77\n",
      "Starting size 78\n",
      "Starting size 79\n",
      "Starting size 80\n",
      "Starting size 81\n",
      "Starting size 82\n",
      "Starting size 83\n",
      "Starting size 84\n",
      "Starting size 85\n",
      "Starting size 86\n",
      "Starting size 87\n",
      "Starting size 88\n",
      "Starting size 89\n",
      "Starting size 90\n",
      "Starting size 91\n",
      "Starting size 92\n",
      "Starting size 93\n",
      "Starting size 94\n",
      "Starting size 95\n",
      "Starting size 96\n",
      "Starting size 97\n",
      "Starting size 98\n",
      "Starting size 99\n",
      "Starting size 100\n",
      "Stopping criteria reached!\n",
      "Starting size 1\n",
      "Starting size 2\n",
      "Starting size 3\n",
      "Starting size 4\n",
      "Starting size 5\n",
      "Starting size 6\n",
      "Starting size 7\n",
      "Starting size 8\n",
      "Starting size 9\n",
      "Starting size 10\n",
      "Starting size 11\n",
      "Starting size 12\n",
      "Starting size 13\n",
      "Starting size 14\n",
      "Starting size 15\n",
      "Starting size 16\n",
      "Starting size 17\n",
      "Starting size 18\n",
      "Starting size 19\n",
      "Starting size 20\n",
      "Starting size 21\n",
      "Starting size 22\n",
      "Starting size 23\n",
      "Starting size 24\n",
      "Starting size 25\n",
      "Starting size 26\n",
      "Starting size 27\n",
      "Starting size 28\n",
      "Starting size 29\n",
      "Starting size 30\n",
      "Starting size 31\n",
      "Starting size 32\n",
      "Starting size 33\n",
      "Starting size 34\n",
      "Starting size 35\n",
      "Starting size 36\n",
      "Starting size 37\n",
      "Starting size 38\n",
      "Starting size 39\n",
      "Starting size 40\n",
      "Starting size 41\n",
      "Starting size 42\n",
      "Starting size 43\n",
      "Starting size 1\n",
      "Starting size 2\n",
      "Starting size 3\n",
      "Starting size 4\n",
      "Starting size 5\n",
      "Starting size 6\n",
      "Starting size 7\n",
      "Starting size 8\n",
      "Starting size 9\n",
      "Starting size 10\n",
      "Starting size 11\n",
      "Starting size 12\n",
      "Starting size 13\n",
      "Starting size 14\n",
      "Starting size 15\n",
      "Starting size 16\n",
      "Starting size 17\n",
      "Starting size 18\n",
      "Starting size 19\n",
      "Starting size 20\n",
      "Starting size 21\n",
      "Starting size 22\n",
      "Starting size 23\n",
      "Starting size 24\n",
      "Starting size 25\n",
      "Starting size 26\n",
      "Starting size 27\n",
      "Starting size 28\n",
      "Starting size 29\n",
      "Starting size 30\n",
      "Starting size 31\n",
      "Starting size 32\n",
      "Starting size 33\n",
      "Starting size 34\n",
      "Starting size 35\n",
      "Starting size 36\n",
      "Starting size 37\n",
      "Starting size 38\n",
      "Starting size 39\n",
      "Starting size 40\n",
      "Starting size 41\n",
      "Starting size 42\n",
      "Starting size 43\n",
      "Starting size 44\n"
     ]
    }
   ],
   "source": [
    "products = ['succ_e','lac__D_e','gln__L_e','glu__L_e','etoh_e']\n",
    "\n",
    "production_efms = {product:get_production_efms(model_biomass, product) for product in products}"
   ]
  },
  {
   "cell_type": "markdown",
   "metadata": {},
   "source": [
    "The enumerated EFMs for each product can be summarized in terms on reaction frequencies for each product. The function *get_frequency_dataframe(**efm_groups**)* from the *frequency_analysis* submodule accepts the dictionaries created above and generates a dataframe. Further preprocessing using other methods can enhance this analysis."
   ]
  },
  {
   "cell_type": "code",
   "execution_count": 32,
   "metadata": {
    "scrolled": true
   },
   "outputs": [
    {
     "data": {
      "text/html": [
       "<div>\n",
       "<style scoped>\n",
       "    .dataframe tbody tr th:only-of-type {\n",
       "        vertical-align: middle;\n",
       "    }\n",
       "\n",
       "    .dataframe tbody tr th {\n",
       "        vertical-align: top;\n",
       "    }\n",
       "\n",
       "    .dataframe thead th {\n",
       "        text-align: right;\n",
       "    }\n",
       "</style>\n",
       "<table border=\"1\" class=\"dataframe\">\n",
       "  <thead>\n",
       "    <tr style=\"text-align: right;\">\n",
       "      <th></th>\n",
       "      <th>etoh_e</th>\n",
       "      <th>glu__L_e</th>\n",
       "      <th>lac__D_e</th>\n",
       "      <th>succ_e</th>\n",
       "    </tr>\n",
       "  </thead>\n",
       "  <tbody>\n",
       "    <tr>\n",
       "      <th>ACALD</th>\n",
       "      <td>100.000000</td>\n",
       "      <td>3.448276</td>\n",
       "      <td>1.481481</td>\n",
       "      <td>0.000000</td>\n",
       "    </tr>\n",
       "    <tr>\n",
       "      <th>ACALDt</th>\n",
       "      <td>0.523560</td>\n",
       "      <td>3.448276</td>\n",
       "      <td>1.481481</td>\n",
       "      <td>0.000000</td>\n",
       "    </tr>\n",
       "    <tr>\n",
       "      <th>ACONTa</th>\n",
       "      <td>100.000000</td>\n",
       "      <td>100.000000</td>\n",
       "      <td>100.000000</td>\n",
       "      <td>100.000000</td>\n",
       "    </tr>\n",
       "    <tr>\n",
       "      <th>ACONTb</th>\n",
       "      <td>100.000000</td>\n",
       "      <td>100.000000</td>\n",
       "      <td>100.000000</td>\n",
       "      <td>100.000000</td>\n",
       "    </tr>\n",
       "    <tr>\n",
       "      <th>ADK1</th>\n",
       "      <td>6.806283</td>\n",
       "      <td>29.655172</td>\n",
       "      <td>9.629630</td>\n",
       "      <td>6.060606</td>\n",
       "    </tr>\n",
       "    <tr>\n",
       "      <th>AKGDH</th>\n",
       "      <td>0.000000</td>\n",
       "      <td>0.689655</td>\n",
       "      <td>0.000000</td>\n",
       "      <td>36.363636</td>\n",
       "    </tr>\n",
       "    <tr>\n",
       "      <th>AKGt2r</th>\n",
       "      <td>13.612565</td>\n",
       "      <td>25.517241</td>\n",
       "      <td>28.148148</td>\n",
       "      <td>0.000000</td>\n",
       "    </tr>\n",
       "    <tr>\n",
       "      <th>ALCD2x</th>\n",
       "      <td>100.000000</td>\n",
       "      <td>0.000000</td>\n",
       "      <td>0.000000</td>\n",
       "      <td>0.000000</td>\n",
       "    </tr>\n",
       "    <tr>\n",
       "      <th>ATPM</th>\n",
       "      <td>7.329843</td>\n",
       "      <td>6.206897</td>\n",
       "      <td>4.444444</td>\n",
       "      <td>7.272727</td>\n",
       "    </tr>\n",
       "    <tr>\n",
       "      <th>ATPS4r</th>\n",
       "      <td>49.214660</td>\n",
       "      <td>64.827586</td>\n",
       "      <td>56.296296</td>\n",
       "      <td>63.030303</td>\n",
       "    </tr>\n",
       "    <tr>\n",
       "      <th>BIOMASS_Ecoli_core_w_GAM</th>\n",
       "      <td>100.000000</td>\n",
       "      <td>100.000000</td>\n",
       "      <td>100.000000</td>\n",
       "      <td>100.000000</td>\n",
       "    </tr>\n",
       "    <tr>\n",
       "      <th>CO2t</th>\n",
       "      <td>73.821990</td>\n",
       "      <td>100.000000</td>\n",
       "      <td>100.000000</td>\n",
       "      <td>80.000000</td>\n",
       "    </tr>\n",
       "    <tr>\n",
       "      <th>CS</th>\n",
       "      <td>100.000000</td>\n",
       "      <td>100.000000</td>\n",
       "      <td>100.000000</td>\n",
       "      <td>100.000000</td>\n",
       "    </tr>\n",
       "    <tr>\n",
       "      <th>CYTBD</th>\n",
       "      <td>57.591623</td>\n",
       "      <td>100.000000</td>\n",
       "      <td>92.592593</td>\n",
       "      <td>91.515152</td>\n",
       "    </tr>\n",
       "    <tr>\n",
       "      <th>D_LACt2</th>\n",
       "      <td>1.047120</td>\n",
       "      <td>11.724138</td>\n",
       "      <td>100.000000</td>\n",
       "      <td>6.060606</td>\n",
       "    </tr>\n",
       "    <tr>\n",
       "      <th>ENO</th>\n",
       "      <td>100.000000</td>\n",
       "      <td>100.000000</td>\n",
       "      <td>100.000000</td>\n",
       "      <td>100.000000</td>\n",
       "    </tr>\n",
       "    <tr>\n",
       "      <th>ETOHt2r</th>\n",
       "      <td>100.000000</td>\n",
       "      <td>0.000000</td>\n",
       "      <td>0.000000</td>\n",
       "      <td>0.000000</td>\n",
       "    </tr>\n",
       "    <tr>\n",
       "      <th>EX_acald_e</th>\n",
       "      <td>0.523560</td>\n",
       "      <td>3.448276</td>\n",
       "      <td>1.481481</td>\n",
       "      <td>0.000000</td>\n",
       "    </tr>\n",
       "    <tr>\n",
       "      <th>EX_akg_e</th>\n",
       "      <td>13.612565</td>\n",
       "      <td>25.517241</td>\n",
       "      <td>28.148148</td>\n",
       "      <td>0.000000</td>\n",
       "    </tr>\n",
       "    <tr>\n",
       "      <th>EX_co2_e</th>\n",
       "      <td>73.821990</td>\n",
       "      <td>100.000000</td>\n",
       "      <td>100.000000</td>\n",
       "      <td>80.000000</td>\n",
       "    </tr>\n",
       "    <tr>\n",
       "      <th>EX_glu__L_e</th>\n",
       "      <td>2.617801</td>\n",
       "      <td>0.000000</td>\n",
       "      <td>12.592593</td>\n",
       "      <td>0.606061</td>\n",
       "    </tr>\n",
       "    <tr>\n",
       "      <th>EX_h2o_e</th>\n",
       "      <td>100.000000</td>\n",
       "      <td>100.000000</td>\n",
       "      <td>100.000000</td>\n",
       "      <td>100.000000</td>\n",
       "    </tr>\n",
       "    <tr>\n",
       "      <th>EX_h_e</th>\n",
       "      <td>100.000000</td>\n",
       "      <td>100.000000</td>\n",
       "      <td>100.000000</td>\n",
       "      <td>100.000000</td>\n",
       "    </tr>\n",
       "    <tr>\n",
       "      <th>EX_lac__D_e</th>\n",
       "      <td>1.047120</td>\n",
       "      <td>11.724138</td>\n",
       "      <td>0.000000</td>\n",
       "      <td>6.060606</td>\n",
       "    </tr>\n",
       "    <tr>\n",
       "      <th>EX_nh4_e</th>\n",
       "      <td>100.000000</td>\n",
       "      <td>100.000000</td>\n",
       "      <td>100.000000</td>\n",
       "      <td>100.000000</td>\n",
       "    </tr>\n",
       "    <tr>\n",
       "      <th>EX_o2_e</th>\n",
       "      <td>57.591623</td>\n",
       "      <td>100.000000</td>\n",
       "      <td>92.592593</td>\n",
       "      <td>91.515152</td>\n",
       "    </tr>\n",
       "    <tr>\n",
       "      <th>EX_pi_e</th>\n",
       "      <td>100.000000</td>\n",
       "      <td>100.000000</td>\n",
       "      <td>100.000000</td>\n",
       "      <td>100.000000</td>\n",
       "    </tr>\n",
       "    <tr>\n",
       "      <th>EX_pyr_e</th>\n",
       "      <td>26.701571</td>\n",
       "      <td>20.689655</td>\n",
       "      <td>9.629630</td>\n",
       "      <td>23.636364</td>\n",
       "    </tr>\n",
       "    <tr>\n",
       "      <th>EX_succ_e</th>\n",
       "      <td>42.408377</td>\n",
       "      <td>0.689655</td>\n",
       "      <td>7.407407</td>\n",
       "      <td>0.000000</td>\n",
       "    </tr>\n",
       "    <tr>\n",
       "      <th>FBA</th>\n",
       "      <td>93.193717</td>\n",
       "      <td>85.517241</td>\n",
       "      <td>90.370370</td>\n",
       "      <td>97.575758</td>\n",
       "    </tr>\n",
       "    <tr>\n",
       "      <th>...</th>\n",
       "      <td>...</td>\n",
       "      <td>...</td>\n",
       "      <td>...</td>\n",
       "      <td>...</td>\n",
       "    </tr>\n",
       "    <tr>\n",
       "      <th>MALS</th>\n",
       "      <td>0.000000</td>\n",
       "      <td>0.000000</td>\n",
       "      <td>0.000000</td>\n",
       "      <td>35.151515</td>\n",
       "    </tr>\n",
       "    <tr>\n",
       "      <th>MDH</th>\n",
       "      <td>62.303665</td>\n",
       "      <td>40.689655</td>\n",
       "      <td>45.185185</td>\n",
       "      <td>69.090909</td>\n",
       "    </tr>\n",
       "    <tr>\n",
       "      <th>ME1</th>\n",
       "      <td>21.465969</td>\n",
       "      <td>15.172414</td>\n",
       "      <td>19.259259</td>\n",
       "      <td>27.272727</td>\n",
       "    </tr>\n",
       "    <tr>\n",
       "      <th>ME2</th>\n",
       "      <td>37.172775</td>\n",
       "      <td>26.896552</td>\n",
       "      <td>34.814815</td>\n",
       "      <td>52.121212</td>\n",
       "    </tr>\n",
       "    <tr>\n",
       "      <th>NADH16</th>\n",
       "      <td>100.000000</td>\n",
       "      <td>100.000000</td>\n",
       "      <td>100.000000</td>\n",
       "      <td>100.000000</td>\n",
       "    </tr>\n",
       "    <tr>\n",
       "      <th>NADTRHD</th>\n",
       "      <td>30.366492</td>\n",
       "      <td>35.172414</td>\n",
       "      <td>28.148148</td>\n",
       "      <td>24.242424</td>\n",
       "    </tr>\n",
       "    <tr>\n",
       "      <th>NH4t</th>\n",
       "      <td>100.000000</td>\n",
       "      <td>100.000000</td>\n",
       "      <td>100.000000</td>\n",
       "      <td>100.000000</td>\n",
       "    </tr>\n",
       "    <tr>\n",
       "      <th>O2t</th>\n",
       "      <td>57.591623</td>\n",
       "      <td>100.000000</td>\n",
       "      <td>92.592593</td>\n",
       "      <td>91.515152</td>\n",
       "    </tr>\n",
       "    <tr>\n",
       "      <th>PDH</th>\n",
       "      <td>100.000000</td>\n",
       "      <td>100.000000</td>\n",
       "      <td>100.000000</td>\n",
       "      <td>100.000000</td>\n",
       "    </tr>\n",
       "    <tr>\n",
       "      <th>PFK</th>\n",
       "      <td>93.193717</td>\n",
       "      <td>86.896552</td>\n",
       "      <td>90.370370</td>\n",
       "      <td>97.575758</td>\n",
       "    </tr>\n",
       "    <tr>\n",
       "      <th>PGI</th>\n",
       "      <td>97.905759</td>\n",
       "      <td>95.172414</td>\n",
       "      <td>97.037037</td>\n",
       "      <td>100.000000</td>\n",
       "    </tr>\n",
       "    <tr>\n",
       "      <th>PGK</th>\n",
       "      <td>100.000000</td>\n",
       "      <td>100.000000</td>\n",
       "      <td>100.000000</td>\n",
       "      <td>100.000000</td>\n",
       "    </tr>\n",
       "    <tr>\n",
       "      <th>PGL</th>\n",
       "      <td>34.031414</td>\n",
       "      <td>46.896552</td>\n",
       "      <td>49.629630</td>\n",
       "      <td>2.424242</td>\n",
       "    </tr>\n",
       "    <tr>\n",
       "      <th>PGM</th>\n",
       "      <td>100.000000</td>\n",
       "      <td>100.000000</td>\n",
       "      <td>100.000000</td>\n",
       "      <td>100.000000</td>\n",
       "    </tr>\n",
       "    <tr>\n",
       "      <th>PIt2r</th>\n",
       "      <td>100.000000</td>\n",
       "      <td>100.000000</td>\n",
       "      <td>100.000000</td>\n",
       "      <td>100.000000</td>\n",
       "    </tr>\n",
       "    <tr>\n",
       "      <th>PPC</th>\n",
       "      <td>100.000000</td>\n",
       "      <td>100.000000</td>\n",
       "      <td>100.000000</td>\n",
       "      <td>100.000000</td>\n",
       "    </tr>\n",
       "    <tr>\n",
       "      <th>PPCK</th>\n",
       "      <td>7.329843</td>\n",
       "      <td>6.206897</td>\n",
       "      <td>4.444444</td>\n",
       "      <td>7.272727</td>\n",
       "    </tr>\n",
       "    <tr>\n",
       "      <th>PPS</th>\n",
       "      <td>6.806283</td>\n",
       "      <td>29.655172</td>\n",
       "      <td>9.629630</td>\n",
       "      <td>6.060606</td>\n",
       "    </tr>\n",
       "    <tr>\n",
       "      <th>PYK</th>\n",
       "      <td>39.790576</td>\n",
       "      <td>22.068966</td>\n",
       "      <td>43.703704</td>\n",
       "      <td>40.606061</td>\n",
       "    </tr>\n",
       "    <tr>\n",
       "      <th>PYRt2</th>\n",
       "      <td>26.701571</td>\n",
       "      <td>20.689655</td>\n",
       "      <td>9.629630</td>\n",
       "      <td>23.636364</td>\n",
       "    </tr>\n",
       "    <tr>\n",
       "      <th>RPE</th>\n",
       "      <td>97.905759</td>\n",
       "      <td>95.862069</td>\n",
       "      <td>98.518519</td>\n",
       "      <td>100.000000</td>\n",
       "    </tr>\n",
       "    <tr>\n",
       "      <th>RPI</th>\n",
       "      <td>100.000000</td>\n",
       "      <td>100.000000</td>\n",
       "      <td>100.000000</td>\n",
       "      <td>100.000000</td>\n",
       "    </tr>\n",
       "    <tr>\n",
       "      <th>SUCCt2_2</th>\n",
       "      <td>18.848168</td>\n",
       "      <td>11.724138</td>\n",
       "      <td>2.962963</td>\n",
       "      <td>29.696970</td>\n",
       "    </tr>\n",
       "    <tr>\n",
       "      <th>SUCCt3</th>\n",
       "      <td>50.785340</td>\n",
       "      <td>11.724138</td>\n",
       "      <td>10.370370</td>\n",
       "      <td>100.000000</td>\n",
       "    </tr>\n",
       "    <tr>\n",
       "      <th>SUCOAS</th>\n",
       "      <td>0.000000</td>\n",
       "      <td>0.689655</td>\n",
       "      <td>0.000000</td>\n",
       "      <td>36.363636</td>\n",
       "    </tr>\n",
       "    <tr>\n",
       "      <th>TALA</th>\n",
       "      <td>82.198953</td>\n",
       "      <td>86.206897</td>\n",
       "      <td>71.851852</td>\n",
       "      <td>100.000000</td>\n",
       "    </tr>\n",
       "    <tr>\n",
       "      <th>THD2</th>\n",
       "      <td>51.832461</td>\n",
       "      <td>44.137931</td>\n",
       "      <td>42.222222</td>\n",
       "      <td>37.575758</td>\n",
       "    </tr>\n",
       "    <tr>\n",
       "      <th>TKT1</th>\n",
       "      <td>82.198953</td>\n",
       "      <td>86.206897</td>\n",
       "      <td>71.851852</td>\n",
       "      <td>100.000000</td>\n",
       "    </tr>\n",
       "    <tr>\n",
       "      <th>TKT2</th>\n",
       "      <td>97.905759</td>\n",
       "      <td>95.862069</td>\n",
       "      <td>98.518519</td>\n",
       "      <td>100.000000</td>\n",
       "    </tr>\n",
       "    <tr>\n",
       "      <th>TPI</th>\n",
       "      <td>93.193717</td>\n",
       "      <td>85.517241</td>\n",
       "      <td>90.370370</td>\n",
       "      <td>97.575758</td>\n",
       "    </tr>\n",
       "  </tbody>\n",
       "</table>\n",
       "<p>76 rows × 4 columns</p>\n",
       "</div>"
      ],
      "text/plain": [
       "                              etoh_e    glu__L_e    lac__D_e      succ_e\n",
       "ACALD                     100.000000    3.448276    1.481481    0.000000\n",
       "ACALDt                      0.523560    3.448276    1.481481    0.000000\n",
       "ACONTa                    100.000000  100.000000  100.000000  100.000000\n",
       "ACONTb                    100.000000  100.000000  100.000000  100.000000\n",
       "ADK1                        6.806283   29.655172    9.629630    6.060606\n",
       "AKGDH                       0.000000    0.689655    0.000000   36.363636\n",
       "AKGt2r                     13.612565   25.517241   28.148148    0.000000\n",
       "ALCD2x                    100.000000    0.000000    0.000000    0.000000\n",
       "ATPM                        7.329843    6.206897    4.444444    7.272727\n",
       "ATPS4r                     49.214660   64.827586   56.296296   63.030303\n",
       "BIOMASS_Ecoli_core_w_GAM  100.000000  100.000000  100.000000  100.000000\n",
       "CO2t                       73.821990  100.000000  100.000000   80.000000\n",
       "CS                        100.000000  100.000000  100.000000  100.000000\n",
       "CYTBD                      57.591623  100.000000   92.592593   91.515152\n",
       "D_LACt2                     1.047120   11.724138  100.000000    6.060606\n",
       "ENO                       100.000000  100.000000  100.000000  100.000000\n",
       "ETOHt2r                   100.000000    0.000000    0.000000    0.000000\n",
       "EX_acald_e                  0.523560    3.448276    1.481481    0.000000\n",
       "EX_akg_e                   13.612565   25.517241   28.148148    0.000000\n",
       "EX_co2_e                   73.821990  100.000000  100.000000   80.000000\n",
       "EX_glu__L_e                 2.617801    0.000000   12.592593    0.606061\n",
       "EX_h2o_e                  100.000000  100.000000  100.000000  100.000000\n",
       "EX_h_e                    100.000000  100.000000  100.000000  100.000000\n",
       "EX_lac__D_e                 1.047120   11.724138    0.000000    6.060606\n",
       "EX_nh4_e                  100.000000  100.000000  100.000000  100.000000\n",
       "EX_o2_e                    57.591623  100.000000   92.592593   91.515152\n",
       "EX_pi_e                   100.000000  100.000000  100.000000  100.000000\n",
       "EX_pyr_e                   26.701571   20.689655    9.629630   23.636364\n",
       "EX_succ_e                  42.408377    0.689655    7.407407    0.000000\n",
       "FBA                        93.193717   85.517241   90.370370   97.575758\n",
       "...                              ...         ...         ...         ...\n",
       "MALS                        0.000000    0.000000    0.000000   35.151515\n",
       "MDH                        62.303665   40.689655   45.185185   69.090909\n",
       "ME1                        21.465969   15.172414   19.259259   27.272727\n",
       "ME2                        37.172775   26.896552   34.814815   52.121212\n",
       "NADH16                    100.000000  100.000000  100.000000  100.000000\n",
       "NADTRHD                    30.366492   35.172414   28.148148   24.242424\n",
       "NH4t                      100.000000  100.000000  100.000000  100.000000\n",
       "O2t                        57.591623  100.000000   92.592593   91.515152\n",
       "PDH                       100.000000  100.000000  100.000000  100.000000\n",
       "PFK                        93.193717   86.896552   90.370370   97.575758\n",
       "PGI                        97.905759   95.172414   97.037037  100.000000\n",
       "PGK                       100.000000  100.000000  100.000000  100.000000\n",
       "PGL                        34.031414   46.896552   49.629630    2.424242\n",
       "PGM                       100.000000  100.000000  100.000000  100.000000\n",
       "PIt2r                     100.000000  100.000000  100.000000  100.000000\n",
       "PPC                       100.000000  100.000000  100.000000  100.000000\n",
       "PPCK                        7.329843    6.206897    4.444444    7.272727\n",
       "PPS                         6.806283   29.655172    9.629630    6.060606\n",
       "PYK                        39.790576   22.068966   43.703704   40.606061\n",
       "PYRt2                      26.701571   20.689655    9.629630   23.636364\n",
       "RPE                        97.905759   95.862069   98.518519  100.000000\n",
       "RPI                       100.000000  100.000000  100.000000  100.000000\n",
       "SUCCt2_2                   18.848168   11.724138    2.962963   29.696970\n",
       "SUCCt3                     50.785340   11.724138   10.370370  100.000000\n",
       "SUCOAS                      0.000000    0.689655    0.000000   36.363636\n",
       "TALA                       82.198953   86.206897   71.851852  100.000000\n",
       "THD2                       51.832461   44.137931   42.222222   37.575758\n",
       "TKT1                       82.198953   86.206897   71.851852  100.000000\n",
       "TKT2                       97.905759   95.862069   98.518519  100.000000\n",
       "TPI                        93.193717   85.517241   90.370370   97.575758\n",
       "\n",
       "[76 rows x 4 columns]"
      ]
     },
     "execution_count": 32,
     "metadata": {},
     "output_type": "execute_result"
    }
   ],
   "source": [
    "efm_df = get_frequency_dataframe(production_efms) # obtain the dataframe\n",
    "efm_df = efm_df.loc[:,~ efm_df.isna().all()].fillna(0).astype(int) # remove entirely null columns (with no EFMs)\n",
    "\n",
    "# convert absolute to relative frequency in percentage values\n",
    "efm_df = efm_df * 100 / [len(production_efms[col]) for col in efm_df.columns]\n",
    "efm_df"
   ]
  },
  {
   "cell_type": "markdown",
   "metadata": {},
   "source": [
    "For the purpose of this tutorial, we are only interested in the differences between EFMs for different products and thus, we will only consider rows (reactions) whose frequency is variable amongst products.\n",
    "\n",
    "In this example, we identify the 20 reactions with highest variance and subset the dataframe to be represented as a heatmap."
   ]
  },
  {
   "cell_type": "code",
   "execution_count": 33,
   "metadata": {},
   "outputs": [
    {
     "data": {
      "image/png": "[encoded data removed]",
      "text/plain": [
       "<Figure size 432x1080 with 2 Axes>"
      ]
     },
     "metadata": {
      "needs_background": "light"
     },
     "output_type": "display_data"
    }
   ],
   "source": [
    "variance = efm_df.T.apply(lambda x: x.var())\n",
    "high_variance = variance.sort_values(ascending= False).iloc[:20]\n",
    "display_heatmap(efm_df.loc[high_variance.index,:])"
   ]
  },
  {
   "cell_type": "markdown",
   "metadata": {},
   "source": [
    "## Constraint-based analysis of mutant phenotypes"
   ]
  },
  {
   "cell_type": "markdown",
   "metadata": {},
   "source": [
    "With MCSs stored as dictionaries, we can easily use COBRA to analyse these knockouts. In this snippet, a dictionary is created to store various simulation values (Flux Balance/Variability Analysis) obtained after applying the reaction knockouts suggested by the MCSs. These are:\n",
    "* *product_minimum* and *product_maximum* - Flux range for succinate production\n",
    "* *max_growth* - Maximum growth rate\n",
    "* *product_at_max_growth* - Predicted production rate at maximum growth\n",
    "* *glucose_consumption* - Glucose consumption rate at maximum growth"
   ]
  },
  {
   "cell_type": "code",
   "execution_count": 34,
   "metadata": {},
   "outputs": [],
   "source": [
    "def analyse(kos):\n",
    "    apply_kos(kos)\n",
    "    try:\n",
    "        # Flux Balance Analysis\n",
    "        sol = model.optimize()\n",
    "\n",
    "        biomass = sol.fluxes.BIOMASS_Ecoli_core_w_GAM\n",
    "        product = sol.fluxes.EX_succ_e\n",
    "        substrate = sol.fluxes.EX_glc__D_e\n",
    "        \n",
    "        # Flux Variability Analysis\n",
    "        fva = cobra.flux_analysis.variability.flux_variability_analysis(\n",
    "            model, reaction_list=['EX_succ_e']).loc['EX_succ_e',:]\n",
    "        \n",
    "        return {\n",
    "        'product_maximum': fva['maximum'],\n",
    "        'product_minimum': fva['minimum'],\n",
    "        'max_growth': biomass,\n",
    "        'product_at_max_growth':product,\n",
    "        'glucose_consumption': substrate\n",
    "        }\n",
    "    \n",
    "    except:\n",
    "        pass\n",
    "    finally:\n",
    "        # restore reaction bounds to their original state\n",
    "        # so the next iteration applies knockouts over them\n",
    "        restore_bounds()\n",
    "    return "
   ]
  },
  {
   "cell_type": "markdown",
   "metadata": {},
   "source": [
    "*pandas* can be used to store these values as a dataframe for easier manipulation and analysis "
   ]
  },
  {
   "cell_type": "code",
   "execution_count": 35,
   "metadata": {},
   "outputs": [
    {
     "name": "stderr",
     "output_type": "stream",
     "text": [
      "cobra/util/solver.py:408 \u001b[1;31mUserWarning\u001b[0m: solver status is 'infeasible'\n"
     ]
    }
   ],
   "source": [
    "import pandas as pd\n",
    "\n",
    "df = pd.DataFrame({frozenset(ko): analyse(ko) for ko in mcs}).T"
   ]
  },
  {
   "cell_type": "markdown",
   "metadata": {},
   "source": [
    "Solutions with null or very low growth, as well as solutions with very low production rates are filtered out. This way, only the best candidates are displayed"
   ]
  },
  {
   "cell_type": "code",
   "execution_count": 36,
   "metadata": {},
   "outputs": [
    {
     "data": {
      "text/html": [
       "<div>\n",
       "<style scoped>\n",
       "    .dataframe tbody tr th:only-of-type {\n",
       "        vertical-align: middle;\n",
       "    }\n",
       "\n",
       "    .dataframe tbody tr th {\n",
       "        vertical-align: top;\n",
       "    }\n",
       "\n",
       "    .dataframe thead th {\n",
       "        text-align: right;\n",
       "    }\n",
       "</style>\n",
       "<table border=\"1\" class=\"dataframe\">\n",
       "  <thead>\n",
       "    <tr style=\"text-align: right;\">\n",
       "      <th></th>\n",
       "      <th>glucose_consumption</th>\n",
       "      <th>max_growth</th>\n",
       "      <th>product_at_max_growth</th>\n",
       "      <th>product_maximum</th>\n",
       "      <th>product_minimum</th>\n",
       "    </tr>\n",
       "    <tr>\n",
       "      <th>knockouts</th>\n",
       "      <th></th>\n",
       "      <th></th>\n",
       "      <th></th>\n",
       "      <th></th>\n",
       "      <th></th>\n",
       "    </tr>\n",
       "  </thead>\n",
       "  <tbody>\n",
       "    <tr>\n",
       "      <th>(ADK1, D_LACt2, ACALD, CYTBD, EX_pyr_e)</th>\n",
       "      <td>-10</td>\n",
       "      <td>0.110886</td>\n",
       "      <td>9.09864</td>\n",
       "      <td>9.09864</td>\n",
       "      <td>9.09864</td>\n",
       "    </tr>\n",
       "    <tr>\n",
       "      <th>(PYRt2, D_LACt2, PPS, ACALD, CYTBD)</th>\n",
       "      <td>-10</td>\n",
       "      <td>0.110886</td>\n",
       "      <td>9.09864</td>\n",
       "      <td>9.09864</td>\n",
       "      <td>9.09864</td>\n",
       "    </tr>\n",
       "    <tr>\n",
       "      <th>(ADK1, EX_o2_e, PYRt2, D_LACt2, ACALD)</th>\n",
       "      <td>-10</td>\n",
       "      <td>0.110886</td>\n",
       "      <td>9.09864</td>\n",
       "      <td>9.09864</td>\n",
       "      <td>9.09864</td>\n",
       "    </tr>\n",
       "    <tr>\n",
       "      <th>(ADK1, EX_o2_e, PYRt2, LDH_D, ACALD)</th>\n",
       "      <td>-10</td>\n",
       "      <td>0.110886</td>\n",
       "      <td>9.09864</td>\n",
       "      <td>9.09864</td>\n",
       "      <td>9.09864</td>\n",
       "    </tr>\n",
       "    <tr>\n",
       "      <th>(ACALD, PYRt2, PPS, CYTBD, EX_lac__D_e)</th>\n",
       "      <td>-10</td>\n",
       "      <td>0.110886</td>\n",
       "      <td>9.09864</td>\n",
       "      <td>9.09864</td>\n",
       "      <td>9.09864</td>\n",
       "    </tr>\n",
       "    <tr>\n",
       "      <th>(PYRt2, PPS, LDH_D, O2t, ACALD)</th>\n",
       "      <td>-10</td>\n",
       "      <td>0.110886</td>\n",
       "      <td>9.09864</td>\n",
       "      <td>9.09864</td>\n",
       "      <td>9.09864</td>\n",
       "    </tr>\n",
       "    <tr>\n",
       "      <th>(EX_o2_e, EX_pyr_e, LDH_D, PPS, ACALD)</th>\n",
       "      <td>-10</td>\n",
       "      <td>0.110886</td>\n",
       "      <td>9.09864</td>\n",
       "      <td>9.09864</td>\n",
       "      <td>9.09864</td>\n",
       "    </tr>\n",
       "    <tr>\n",
       "      <th>(ADK1, EX_pyr_e, O2t, ACALD, EX_lac__D_e)</th>\n",
       "      <td>-10</td>\n",
       "      <td>0.110886</td>\n",
       "      <td>9.09864</td>\n",
       "      <td>9.09864</td>\n",
       "      <td>9.09864</td>\n",
       "    </tr>\n",
       "    <tr>\n",
       "      <th>(ADK1, PYRt2, LDH_D, ACALD, CYTBD)</th>\n",
       "      <td>-10</td>\n",
       "      <td>0.110886</td>\n",
       "      <td>9.09864</td>\n",
       "      <td>9.09864</td>\n",
       "      <td>9.09864</td>\n",
       "    </tr>\n",
       "    <tr>\n",
       "      <th>(ADK1, EX_pyr_e, LDH_D, ACALD, CYTBD)</th>\n",
       "      <td>-10</td>\n",
       "      <td>0.110886</td>\n",
       "      <td>9.09864</td>\n",
       "      <td>9.09864</td>\n",
       "      <td>9.09864</td>\n",
       "    </tr>\n",
       "    <tr>\n",
       "      <th>(ADK1, EX_o2_e, PYRt2, ACALD, EX_lac__D_e)</th>\n",
       "      <td>-10</td>\n",
       "      <td>0.110886</td>\n",
       "      <td>9.09864</td>\n",
       "      <td>9.09864</td>\n",
       "      <td>9.09864</td>\n",
       "    </tr>\n",
       "    <tr>\n",
       "      <th>(ADK1, D_LACt2, O2t, EX_pyr_e, ACALD)</th>\n",
       "      <td>-10</td>\n",
       "      <td>0.110886</td>\n",
       "      <td>9.09864</td>\n",
       "      <td>9.09864</td>\n",
       "      <td>9.09864</td>\n",
       "    </tr>\n",
       "    <tr>\n",
       "      <th>(EX_pyr_e, LDH_D, O2t, ACALD, PPS)</th>\n",
       "      <td>-10</td>\n",
       "      <td>0.110886</td>\n",
       "      <td>9.09864</td>\n",
       "      <td>9.09864</td>\n",
       "      <td>9.09864</td>\n",
       "    </tr>\n",
       "    <tr>\n",
       "      <th>(D_LACt2, EX_pyr_e, PPS, O2t, ACALD)</th>\n",
       "      <td>-10</td>\n",
       "      <td>0.110886</td>\n",
       "      <td>9.09864</td>\n",
       "      <td>9.09864</td>\n",
       "      <td>9.09864</td>\n",
       "    </tr>\n",
       "    <tr>\n",
       "      <th>(EX_pyr_e, O2t, PPS, ACALD, EX_lac__D_e)</th>\n",
       "      <td>-10</td>\n",
       "      <td>0.110886</td>\n",
       "      <td>9.09864</td>\n",
       "      <td>9.09864</td>\n",
       "      <td>9.09864</td>\n",
       "    </tr>\n",
       "    <tr>\n",
       "      <th>(PYRt2, O2t, PPS, ACALD, EX_lac__D_e)</th>\n",
       "      <td>-10</td>\n",
       "      <td>0.110886</td>\n",
       "      <td>9.09864</td>\n",
       "      <td>9.09864</td>\n",
       "      <td>9.09864</td>\n",
       "    </tr>\n",
       "    <tr>\n",
       "      <th>(ADK1, EX_o2_e, EX_pyr_e, ACALD, EX_lac__D_e)</th>\n",
       "      <td>-10</td>\n",
       "      <td>0.110886</td>\n",
       "      <td>9.09864</td>\n",
       "      <td>9.09864</td>\n",
       "      <td>9.09864</td>\n",
       "    </tr>\n",
       "    <tr>\n",
       "      <th>(D_LACt2, EX_pyr_e, PPS, ACALD, CYTBD)</th>\n",
       "      <td>-10</td>\n",
       "      <td>0.110886</td>\n",
       "      <td>9.09864</td>\n",
       "      <td>9.09864</td>\n",
       "      <td>9.09864</td>\n",
       "    </tr>\n",
       "    <tr>\n",
       "      <th>(EX_o2_e, PYRt2, LDH_D, PPS, ACALD)</th>\n",
       "      <td>-10</td>\n",
       "      <td>0.110886</td>\n",
       "      <td>9.09864</td>\n",
       "      <td>9.09864</td>\n",
       "      <td>9.09864</td>\n",
       "    </tr>\n",
       "  </tbody>\n",
       "</table>\n",
       "</div>"
      ],
      "text/plain": [
       "                                              glucose_consumption max_growth  \\\n",
       "knockouts                                                                      \n",
       "(ADK1, D_LACt2, ACALD, CYTBD, EX_pyr_e)                       -10   0.110886   \n",
       "(PYRt2, D_LACt2, PPS, ACALD, CYTBD)                           -10   0.110886   \n",
       "(ADK1, EX_o2_e, PYRt2, D_LACt2, ACALD)                        -10   0.110886   \n",
       "(ADK1, EX_o2_e, PYRt2, LDH_D, ACALD)                          -10   0.110886   \n",
       "(ACALD, PYRt2, PPS, CYTBD, EX_lac__D_e)                       -10   0.110886   \n",
       "(PYRt2, PPS, LDH_D, O2t, ACALD)                               -10   0.110886   \n",
       "(EX_o2_e, EX_pyr_e, LDH_D, PPS, ACALD)                        -10   0.110886   \n",
       "(ADK1, EX_pyr_e, O2t, ACALD, EX_lac__D_e)                     -10   0.110886   \n",
       "(ADK1, PYRt2, LDH_D, ACALD, CYTBD)                            -10   0.110886   \n",
       "(ADK1, EX_pyr_e, LDH_D, ACALD, CYTBD)                         -10   0.110886   \n",
       "(ADK1, EX_o2_e, PYRt2, ACALD, EX_lac__D_e)                    -10   0.110886   \n",
       "(ADK1, D_LACt2, O2t, EX_pyr_e, ACALD)                         -10   0.110886   \n",
       "(EX_pyr_e, LDH_D, O2t, ACALD, PPS)                            -10   0.110886   \n",
       "(D_LACt2, EX_pyr_e, PPS, O2t, ACALD)                          -10   0.110886   \n",
       "(EX_pyr_e, O2t, PPS, ACALD, EX_lac__D_e)                      -10   0.110886   \n",
       "(PYRt2, O2t, PPS, ACALD, EX_lac__D_e)                         -10   0.110886   \n",
       "(ADK1, EX_o2_e, EX_pyr_e, ACALD, EX_lac__D_e)                 -10   0.110886   \n",
       "(D_LACt2, EX_pyr_e, PPS, ACALD, CYTBD)                        -10   0.110886   \n",
       "(EX_o2_e, PYRt2, LDH_D, PPS, ACALD)                           -10   0.110886   \n",
       "\n",
       "                                              product_at_max_growth  \\\n",
       "knockouts                                                             \n",
       "(ADK1, D_LACt2, ACALD, CYTBD, EX_pyr_e)                     9.09864   \n",
       "(PYRt2, D_LACt2, PPS, ACALD, CYTBD)                         9.09864   \n",
       "(ADK1, EX_o2_e, PYRt2, D_LACt2, ACALD)                      9.09864   \n",
       "(ADK1, EX_o2_e, PYRt2, LDH_D, ACALD)                        9.09864   \n",
       "(ACALD, PYRt2, PPS, CYTBD, EX_lac__D_e)                     9.09864   \n",
       "(PYRt2, PPS, LDH_D, O2t, ACALD)                             9.09864   \n",
       "(EX_o2_e, EX_pyr_e, LDH_D, PPS, ACALD)                      9.09864   \n",
       "(ADK1, EX_pyr_e, O2t, ACALD, EX_lac__D_e)                   9.09864   \n",
       "(ADK1, PYRt2, LDH_D, ACALD, CYTBD)                          9.09864   \n",
       "(ADK1, EX_pyr_e, LDH_D, ACALD, CYTBD)                       9.09864   \n",
       "(ADK1, EX_o2_e, PYRt2, ACALD, EX_lac__D_e)                  9.09864   \n",
       "(ADK1, D_LACt2, O2t, EX_pyr_e, ACALD)                       9.09864   \n",
       "(EX_pyr_e, LDH_D, O2t, ACALD, PPS)                          9.09864   \n",
       "(D_LACt2, EX_pyr_e, PPS, O2t, ACALD)                        9.09864   \n",
       "(EX_pyr_e, O2t, PPS, ACALD, EX_lac__D_e)                    9.09864   \n",
       "(PYRt2, O2t, PPS, ACALD, EX_lac__D_e)                       9.09864   \n",
       "(ADK1, EX_o2_e, EX_pyr_e, ACALD, EX_lac__D_e)               9.09864   \n",
       "(D_LACt2, EX_pyr_e, PPS, ACALD, CYTBD)                      9.09864   \n",
       "(EX_o2_e, PYRt2, LDH_D, PPS, ACALD)                         9.09864   \n",
       "\n",
       "                                              product_maximum product_minimum  \n",
       "knockouts                                                                      \n",
       "(ADK1, D_LACt2, ACALD, CYTBD, EX_pyr_e)               9.09864         9.09864  \n",
       "(PYRt2, D_LACt2, PPS, ACALD, CYTBD)                   9.09864         9.09864  \n",
       "(ADK1, EX_o2_e, PYRt2, D_LACt2, ACALD)                9.09864         9.09864  \n",
       "(ADK1, EX_o2_e, PYRt2, LDH_D, ACALD)                  9.09864         9.09864  \n",
       "(ACALD, PYRt2, PPS, CYTBD, EX_lac__D_e)               9.09864         9.09864  \n",
       "(PYRt2, PPS, LDH_D, O2t, ACALD)                       9.09864         9.09864  \n",
       "(EX_o2_e, EX_pyr_e, LDH_D, PPS, ACALD)                9.09864         9.09864  \n",
       "(ADK1, EX_pyr_e, O2t, ACALD, EX_lac__D_e)             9.09864         9.09864  \n",
       "(ADK1, PYRt2, LDH_D, ACALD, CYTBD)                    9.09864         9.09864  \n",
       "(ADK1, EX_pyr_e, LDH_D, ACALD, CYTBD)                 9.09864         9.09864  \n",
       "(ADK1, EX_o2_e, PYRt2, ACALD, EX_lac__D_e)            9.09864         9.09864  \n",
       "(ADK1, D_LACt2, O2t, EX_pyr_e, ACALD)                 9.09864         9.09864  \n",
       "(EX_pyr_e, LDH_D, O2t, ACALD, PPS)                    9.09864         9.09864  \n",
       "(D_LACt2, EX_pyr_e, PPS, O2t, ACALD)                  9.09864         9.09864  \n",
       "(EX_pyr_e, O2t, PPS, ACALD, EX_lac__D_e)              9.09864         9.09864  \n",
       "(PYRt2, O2t, PPS, ACALD, EX_lac__D_e)                 9.09864         9.09864  \n",
       "(ADK1, EX_o2_e, EX_pyr_e, ACALD, EX_lac__D_e)         9.09864         9.09864  \n",
       "(D_LACt2, EX_pyr_e, PPS, ACALD, CYTBD)                9.09864         9.09864  \n",
       "(EX_o2_e, PYRt2, LDH_D, PPS, ACALD)                   9.09864         9.09864  "
      ]
     },
     "execution_count": 36,
     "metadata": {},
     "output_type": "execute_result"
    }
   ],
   "source": [
    "null_growth = df.max_growth.isnull() # growth is None - due to infeasibility\n",
    "zero_growth = df.max_growth <= 1e-10 # growth is too low (near 0)\n",
    "no_product = df.product_at_max_growth <= 1e-5 # no production at maximum biomass\n",
    "\n",
    "df.index.names = ['knockouts']\n",
    "\n",
    "df[~ (zero_growth | null_growth | no_product)].sort_values(by='max_growth', ascending=False).iloc[1:20,:]"
   ]
  }
 ],
 "metadata": {
  "kernelspec": {
   "display_name": "Python 3",
   "language": "python",
   "name": "python3"
  },
  "language_info": {
   "codemirror_mode": {
    "name": "ipython",
    "version": 3
   },
   "file_extension": ".py",
   "mimetype": "text/x-python",
   "name": "python",
   "nbconvert_exporter": "python",
   "pygments_lexer": "ipython3",
   "version": "3.5.6"
  }
 },
 "nbformat": 4,
 "nbformat_minor": 2
}
